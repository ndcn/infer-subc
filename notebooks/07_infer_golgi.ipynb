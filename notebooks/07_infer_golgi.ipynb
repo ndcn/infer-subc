{
 "cells": [
  {
   "attachments": {},
   "cell_type": "markdown",
   "metadata": {},
   "source": [
    "# Infer ***golgi*** - part 6️⃣\n",
    "\n",
    "--------------\n",
    "## OVERVIEW\n",
    "In notesbooks 4-9, we will go how each organelle is segmented. These segmentation workflows are completely independent of each other and can be run in any order. Additionally, the entire image will be processed in this notebook, irrespective of the single cells identified in notebooks 1-3. The cell mask will be applied to the organelle segmentation outputs before quantification (as outlined in [10_regionprops](./10_regionprops.ipynb)). \n",
    "\n",
    "This notebook goes through the workflow steps to segment the ***golgi*** -- one of the six organelles of interest.\n",
    "\n",
    "## OBJECTIVE: ✅ Infer sub-cellular component  ***golgi***  \n",
    "Segment the ***golgi*** from a single channel (membrane marker). This workflow was optimized for images of fluorescently tagged sialyltransferase1 (SiT1), a membrane protein. The Golgi has both the classical cisternae structure as well as small golgi derived vesciles, so we are utilizing two segmentation methods to idenfity the entire Golgi structure."
   ]
  },
  {
   "attachments": {},
   "cell_type": "markdown",
   "metadata": {},
   "source": [
    "\n",
    "## IMPORTS"
   ]
  },
  {
   "cell_type": "code",
   "execution_count": null,
   "metadata": {},
   "outputs": [],
   "source": [
    "# top level imports\n",
    "from pathlib import Path\n",
    "import os, sys\n",
    "from collections import defaultdict\n",
    "from typing import Optional\n",
    "\n",
    "import numpy as np\n",
    "\n",
    "from aicssegmentation.core.seg_dot import dot_2d_slice_by_slice_wrapper, dot_3d_wrapper\n",
    "from aicssegmentation.core.utils import topology_preserving_thinning\n",
    "from skimage.measure import label\n",
    "\n",
    "import napari\n",
    "\n",
    "### import local python functions in ../infer_subc\n",
    "sys.path.append(os.path.abspath((os.path.join(os.getcwd(), '..'))))\n",
    "\n",
    "\n",
    "from infer_subc.core.file_io import (read_czi_image,\n",
    "                                                                    read_ome_image,\n",
    "                                                                    export_inferred_organelle,\n",
    "                                                                    import_inferred_organelle,\n",
    "                                                                    list_image_files)\n",
    "\n",
    "from infer_subc.core.img import *\n",
    "from infer_subc.organelles import fixed_infer_cellmask_fromcomposite, fixed_infer_nuclei_fromlabel\n",
    "# NOTE:  these \"constants\" are only accurate for the testing MCZ dataset\n",
    "from infer_subc.constants import (TEST_IMG_N,\n",
    "                                                                    NUC_CH ,\n",
    "                                                                    LYSO_CH ,\n",
    "                                                                    MITO_CH ,\n",
    "                                                                    GOLGI_CH ,\n",
    "                                                                    PEROX_CH ,\n",
    "                                                                    ER_CH ,\n",
    "                                                                    LD_CH ,\n",
    "                                                                    RESIDUAL_CH )  \n",
    "\n",
    "LD_CH = 0\n",
    "NUC_CH = 1\n",
    "LYSO_CH = 2\n",
    "MITO_CH = 3\n",
    "GOLGI_CH = 4\n",
    "PEROX_CH = 5\n",
    "ER_CH = 6\n",
    "PM_CH = 7\n",
    "RESIDUAL_CH = 8\n",
    "TEST_IMG_N = 0\n",
    "\n",
    "\n",
    "%load_ext autoreload\n",
    "%autoreload 2\n"
   ]
  },
  {
   "attachments": {},
   "cell_type": "markdown",
   "metadata": {},
   "source": [
    "## Get and load Image for processing"
   ]
  },
  {
   "cell_type": "code",
   "execution_count": null,
   "metadata": {},
   "outputs": [],
   "source": [
    "test_img_n = TEST_IMG_N\n",
    "\n",
    "data_root_path = Path(os.path.expanduser(\"~\")) /  \"Documents/Python Scripts/Infer-subc-2D\"\n",
    "\n",
    "in_data_path = data_root_path / \"raw\"\n",
    "im_type = \".tiff\"\n",
    "\n",
    "img_file_list = list_image_files(in_data_path,im_type)\n",
    "test_img_name = img_file_list[test_img_n]\n",
    "\n",
    "out_data_path = data_root_path / \"out\"\n",
    "if not Path.exists(out_data_path):\n",
    "    Path.mkdir(out_data_path)\n",
    "    print(f\"making {out_data_path}\")"
   ]
  },
  {
   "cell_type": "code",
   "execution_count": null,
   "metadata": {},
   "outputs": [],
   "source": [
    "img_data,meta_dict = read_czi_image(test_img_name)\n",
    "\n",
    "channel_names = meta_dict['name']\n",
    "img = meta_dict['metadata']['aicsimage']\n",
    "scale = meta_dict['scale']\n",
    "channel_axis = meta_dict['channel_axis']"
   ]
  },
  {
   "attachments": {},
   "cell_type": "markdown",
   "metadata": {},
   "source": [
    "---------------------\n",
    "\n",
    "## infer ***golgi complex***\n",
    "\n",
    "## summary of steps \n",
    "\n",
    "➡️ INPUT\n",
    "- select single channel containing the lysosome marker (channel number = user input)\n",
    "\n",
    "PRE-PROCESSING\n",
    "- rescale image intensities: \n",
    "    - min=0, max=1\n",
    "- smooth image:\n",
    "    - median filter (media size = user input)\n",
    "    - gaussian filter (sigma = user input)\n",
    "\n",
    "CORE PROCESSING\n",
    "- apply MO thresholding method with topology preserved thinning function from the Allen Cell [aicssegmentation](https://github.com/AllenCell/aics-segmentation) package (threshold options; thinning amount = user input)\n",
    "- apply \"dot\" thresholding method (for small round objects) from the Allen Cell [aicssegmentation](https://github.com/AllenCell/aics-segmentation) package (size scale and threshold cutoff = user input)\n",
    "- combine the two segmentations with logical *OR*\n",
    "\n",
    "POST-PROCESSING\n",
    "- fill holes (hole size = user input)\n",
    "- remove small objects (object size = user input)\n",
    "\n",
    "OUTPUT  ➡️\n",
    "- label unique golgi objects based on connectivity\n",
    "- save labeled ***golgi*** (golgi, GL) as unsigned integer 16-bit tif files\n",
    "\n",
    "\n",
    "> Generally following the Allen Cell Segmenter procedure for segmentation of Golgi from the [sialyltransferase 1 (ST6GAL1)](https://www.allencell.org/cell-observations/category/golgi-apparatus) marker. Sourced from: this [script](https://github.com/AllenCell/aics-segmentation/blob/main/aicssegmentation/structure_wrapper/seg_st6gal1.py)."
   ]
  },
  {
   "attachments": {},
   "cell_type": "markdown",
   "metadata": {},
   "source": [
    "## EXTRACT prototype"
   ]
  },
  {
   "cell_type": "code",
   "execution_count": null,
   "metadata": {},
   "outputs": [],
   "source": [
    "###################\n",
    "# INPUT\n",
    "###################\n",
    "raw_golgi = select_channel_from_raw(img_data, GOLGI_CH)"
   ]
  },
  {
   "attachments": {},
   "cell_type": "markdown",
   "metadata": {},
   "source": [
    "## PRE-PROCESSING prototype\n"
   ]
  },
  {
   "cell_type": "code",
   "execution_count": null,
   "metadata": {},
   "outputs": [],
   "source": [
    "###################\n",
    "# PRE_PROCESSING\n",
    "###################\n",
    "median_sz = 4\n",
    "gauss_sig = 1.34\n",
    "\n",
    "struct_img =  scale_and_smooth(raw_golgi,\n",
    "                               median_size = median_sz, \n",
    "                               gauss_sigma = gauss_sig)"
   ]
  },
  {
   "attachments": {},
   "cell_type": "markdown",
   "metadata": {},
   "source": [
    "## CORE PROCESSING prototype"
   ]
  },
  {
   "cell_type": "code",
   "execution_count": null,
   "metadata": {},
   "outputs": [],
   "source": [
    "###################\n",
    "# CORE_PROCESSING\n",
    "###################\n",
    "################################\n",
    "# segment the majority of the golgi with this global and local thresholding method\n",
    "thresh_method = 'tri'\n",
    "cell_wise_min_area = 1200\n",
    "thresh_adj = 1\n",
    "\n",
    "bw = masked_object_thresh(struct_img, \n",
    "                          global_method=thresh_method, \n",
    "                          cutoff_size=cell_wise_min_area, \n",
    "                          local_adjust=thresh_adj)\n",
    "\n",
    "# thin segmentation with maintain a minimal required thickness\n",
    "thin_dist = 1\n",
    "thin_dist_preserve = 1.6\n",
    "\n",
    "bw_thin = topology_preserving_thinning(bw, thin_dist_preserve, thin_dist)\n",
    "\n",
    "# segment small round structures with this (golgi vesicles)\n",
    "dot_method = \"3D\"\n",
    "\n",
    "bw_extra = dot_filter_3(struct_img, 1.6, 0.02, 0, 0, 0, 0, dot_method)\n",
    "\n",
    "# combine the two segmentations together\n",
    "bw_combine = np.logical_or(bw_extra, bw_thin)"
   ]
  },
  {
   "attachments": {},
   "cell_type": "markdown",
   "metadata": {},
   "source": [
    "## POST-PROCESSING prototype"
   ]
  },
  {
   "cell_type": "code",
   "execution_count": null,
   "metadata": {},
   "outputs": [],
   "source": [
    "###################\n",
    "# POST_PROCESSING\n",
    "###################\n",
    "hole_min_width = 0\n",
    "hole_max_width = 1\n",
    "\n",
    "small_object_width = 3\n",
    "\n",
    "fill_filter_method = \"3D\"\n",
    "\n",
    "cleaned_img2 = fill_and_filter_linear_size(bw_combine, \n",
    "                                           hole_min=hole_min_width, \n",
    "                                           hole_max=hole_max_width, \n",
    "                                           min_size=small_object_width,\n",
    "                                           method=fill_filter_method)"
   ]
  },
  {
   "attachments": {},
   "cell_type": "markdown",
   "metadata": {},
   "source": [
    "## LABELING prototype"
   ]
  },
  {
   "cell_type": "code",
   "execution_count": null,
   "metadata": {},
   "outputs": [],
   "source": [
    "###################\n",
    "# LABELING\n",
    "###################\n",
    "golgi_labels = label_uint16(cleaned_img2)"
   ]
  },
  {
   "cell_type": "code",
   "execution_count": null,
   "metadata": {},
   "outputs": [],
   "source": [
    "golgi_labels.dtype"
   ]
  },
  {
   "attachments": {},
   "cell_type": "markdown",
   "metadata": {},
   "source": [
    "## Visualize with `napari`\n",
    "Visualize the first-pass segmentation and labeling with `napari`."
   ]
  },
  {
   "cell_type": "code",
   "execution_count": null,
   "metadata": {},
   "outputs": [],
   "source": [
    "viewer = napari.Viewer()"
   ]
  },
  {
   "cell_type": "code",
   "execution_count": null,
   "metadata": {},
   "outputs": [],
   "source": [
    "viewer.add_image(\n",
    "    struct_img)\n",
    "\n",
    "viewer.add_image(\n",
    "    cleaned_img2,\n",
    "    opacity=0.3,)\n",
    "\n",
    "viewer.add_labels(\n",
    "    golgi_labels,\n",
    "    opacity=0.3)"
   ]
  },
  {
   "attachments": {},
   "cell_type": "markdown",
   "metadata": {},
   "source": [
    "## SAVE inferred golgi to .tif file"
   ]
  },
  {
   "cell_type": "code",
   "execution_count": null,
   "metadata": {},
   "outputs": [
    {
     "ename": "",
     "evalue": "",
     "output_type": "error",
     "traceback": [
      "\u001b[1;31mThe Kernel crashed while executing code in the the current cell or a previous cell. Please review the code in the cell(s) to identify a possible cause of the failure. Click <a href='https://aka.ms/vscodeJupyterKernelCrash'>here</a> for more info. View Jupyter <a href='command:jupyter.viewOutput'>log</a> for further details."
     ]
    }
   ],
   "source": [
    "out_file_n = export_inferred_organelle(golgi_labels, \"golgi\", meta_dict, out_data_path)"
   ]
  },
  {
   "attachments": {},
   "cell_type": "markdown",
   "metadata": {},
   "source": [
    "----------\n",
    "## DEFINE `_infer_golgi` function\n",
    "\n",
    "Based on the _prototyping_ above define the function to infer the golgi.  \n",
    "\n",
    "> NOTE: these functions mainly serve for downstream prototyping in the notebooks. Each step above has an independent function that is implemented in the plugin for easy of use."
   ]
  },
  {
   "cell_type": "code",
   "execution_count": null,
   "metadata": {},
   "outputs": [],
   "source": [
    "##########################\n",
    "#  infer_golgi\n",
    "##########################\n",
    "def _infer_golgi(\n",
    "            in_img: np.ndarray,\n",
    "            golgi_ch: int,\n",
    "            median_sz: int,\n",
    "            gauss_sig: float,\n",
    "            mo_method: str,\n",
    "            mo_adjust: float,\n",
    "            mo_cutoff_size: int,\n",
    "            min_thickness: int,\n",
    "            thin_dist: int,\n",
    "            dot_scale_1: float,\n",
    "            dot_cut_1: float,\n",
    "            dot_scale_2: float,\n",
    "            dot_cut_2: float,\n",
    "            dot_scale_3: float,\n",
    "            dot_cut_3: float,\n",
    "            dot_method: str,\n",
    "            min_hole_w: int,\n",
    "            max_hole_w: int,\n",
    "            small_obj_w: int,\n",
    "            fill_filter_method: str\n",
    "        ) -> np.ndarray:\n",
    "\n",
    "    \"\"\"\n",
    "    Procedure to infer golgi from linearly unmixed input.\n",
    "\n",
    "   Parameters\n",
    "    ------------\n",
    "    in_img: \n",
    "        a 3d image containing all the channels\n",
    "    median_sz: \n",
    "        width of median filter for signal\n",
    "    mo_method: \n",
    "         which method to use for calculating global threshold. Options include:\n",
    "         \"triangle\" (or \"tri\"), \"median\" (or \"med\"), and \"ave_tri_med\" (or \"ave\").\n",
    "         \"ave\" refers the average of \"triangle\" threshold and \"mean\" threshold.\n",
    "    mo_adjust: \n",
    "        Masked Object threshold `local_adjust`\n",
    "    mo_cutoff_size: \n",
    "        Masked Object threshold `size_min`\n",
    "    min_thinkness: \n",
    "        Half of the minimum width you want to keep from being thinned.\n",
    "        For example, when the object width is smaller than 4, you don't\n",
    "        want to make this part even thinner (may break the thin object\n",
    "        and alter the topology), you can set this value as 2.\n",
    "    thin_dist: \n",
    "        the amount to thin (has to be an positive integer). The number of\n",
    "         pixels to be removed from outter boundary towards center.\n",
    "    dot_scale: \n",
    "        scales (log_sigma) for dot filter (1,2, and 3)\n",
    "    dot_cut: \n",
    "        threshold for dot filter thresholds (1,2,and 3)\n",
    "    small_obj_w: \n",
    "        minimu object size cutoff for nuclei post-processing\n",
    "    \n",
    "    Returns\n",
    "    -------------\n",
    "    golgi_object\n",
    "        mask defined extent of golgi object\n",
    "    \"\"\"\n",
    "\n",
    "    ###################\n",
    "    # EXTRACT\n",
    "    ###################    \n",
    "    golgi = select_channel_from_raw(in_img, golgi_ch)\n",
    "\n",
    "    ###################\n",
    "    # PRE_PROCESSING\n",
    "    ###################    \n",
    "    golgi =  scale_and_smooth(golgi,\n",
    "                              median_size = median_sz, \n",
    "                              gauss_sigma = gauss_sig)\n",
    "    ###################\n",
    "    # CORE_PROCESSING\n",
    "    ###################\n",
    "    bw = masked_object_thresh(golgi, global_method=mo_method, cutoff_size=mo_cutoff_size, local_adjust=mo_adjust)\n",
    "\n",
    "    bw_thin = topology_preserving_thinning(bw, min_thickness, thin_dist)\n",
    "\n",
    "    bw_extra = dot_filter_3(golgi, dot_scale_1, dot_cut_1, dot_scale_2, dot_cut_2, dot_scale_3, dot_cut_3, dot_method)\n",
    "\n",
    "    bw = np.logical_or(bw_extra, bw_thin)\n",
    "    ###################\n",
    "    # POST_PROCESSING\n",
    "    ###################\n",
    "    struct_obj = fill_and_filter_linear_size(bw, \n",
    "                                             hole_min=min_hole_w, \n",
    "                                             hole_max=max_hole_w, \n",
    "                                             min_size=small_obj_w,\n",
    "                                             method=fill_filter_method)\n",
    "\n",
    "    ###################\n",
    "    # LABELING\n",
    "    ###################\n",
    "    struct_obj1 = label_uint16(struct_obj)\n",
    "\n",
    "    return struct_obj1\n"
   ]
  },
  {
   "attachments": {},
   "cell_type": "markdown",
   "metadata": {},
   "source": [
    "## DEFINE `_fixed_infer_golgi` function\n"
   ]
  },
  {
   "cell_type": "code",
   "execution_count": null,
   "metadata": {},
   "outputs": [],
   "source": [
    "##########################\n",
    "#  fixed_infer_golgi\n",
    "##########################\n",
    "def _fixed_infer_golgi(in_img: np.ndarray ) -> np.ndarray:\n",
    "    \"\"\"\n",
    "    Procedure to infer golgi from linearly unmixed input.\n",
    "\n",
    "    Parameters\n",
    "    ------------\n",
    "    in_img: \n",
    "        a 3d image containing all the channels\n",
    "    Returns\n",
    "    -------------\n",
    "   golgi_object\n",
    "        mask defined extent of golgi object\n",
    "    \"\"\"\n",
    "\n",
    "    golgi_ch = 3\n",
    "    median_sz = 4\n",
    "    gauss_sig = 1.34\n",
    "    mo_method = 'tri'\n",
    "    mo_adjust = 1\n",
    "    mo_cutoff_size = 1200 \n",
    "    min_thickness = 1.6\n",
    "    thin_dist = 1\n",
    "    dot_scale_1 = 1.6\n",
    "    dot_cut_1 = 0.02\n",
    "    dot_scale_2 = 0\n",
    "    dot_cut_2 = 0\n",
    "    dot_scale_3 = 0\n",
    "    dot_cut_3 = 0\n",
    "    dot_method = '3D'\n",
    "    min_hole_w = 0\n",
    "    max_hole_w = 0\n",
    "    small_obj_w = 3\n",
    "    fill_filter_method = \"3D\"\n",
    "\n",
    "    return _infer_golgi(\n",
    "        in_img,\n",
    "        golgi_ch,\n",
    "        median_sz,\n",
    "        gauss_sig,\n",
    "        mo_method,\n",
    "        mo_adjust,\n",
    "        mo_cutoff_size,\n",
    "        min_thickness,\n",
    "        thin_dist,\n",
    "        dot_scale_1,\n",
    "        dot_cut_1,\n",
    "        dot_scale_2,\n",
    "        dot_cut_2,\n",
    "        dot_scale_3,\n",
    "        dot_cut_3,\n",
    "        dot_method,\n",
    "        min_hole_w,\n",
    "        max_hole_w,\n",
    "        small_obj_w,\n",
    "        fill_filter_method)"
   ]
  },
  {
   "attachments": {},
   "cell_type": "markdown",
   "metadata": {},
   "source": [
    "# TEST  `infer_golgi` function defined above"
   ]
  },
  {
   "cell_type": "code",
   "execution_count": null,
   "metadata": {},
   "outputs": [],
   "source": [
    "_golgi_object =  _fixed_infer_golgi(img_data) \n",
    "\n",
    "_golgi_object.dtype"
   ]
  },
  {
   "cell_type": "code",
   "execution_count": null,
   "metadata": {},
   "outputs": [],
   "source": [
    "np.all(golgi_labels == _golgi_object)"
   ]
  },
  {
   "attachments": {},
   "cell_type": "markdown",
   "metadata": {},
   "source": [
    "------------------\n",
    "\n",
    "# TEST `infer_golgi` exported functions\n",
    "\n",
    "The prototype _infer_golgi was copied to the [.organelles.golgi](../infer_subc/organelles/golgi.py) sub-module."
   ]
  },
  {
   "cell_type": "code",
   "execution_count": null,
   "metadata": {},
   "outputs": [],
   "source": [
    "from infer_subc.organelles import infer_golgi, fixed_infer_golgi\n",
    "\n",
    "golgi_object =  fixed_infer_golgi(img_data) "
   ]
  },
  {
   "cell_type": "code",
   "execution_count": null,
   "metadata": {},
   "outputs": [],
   "source": [
    "np.all(_golgi_object == golgi_object)"
   ]
  },
  {
   "attachments": {},
   "cell_type": "markdown",
   "metadata": {},
   "source": [
    "## Visualize  2\n"
   ]
  },
  {
   "cell_type": "code",
   "execution_count": null,
   "metadata": {},
   "outputs": [],
   "source": [
    "viewer.add_image(\n",
    "    _golgi_object,\n",
    "    opacity=0.3)\n",
    "\n",
    "viewer.add_labels(\n",
    "    golgi_object,\n",
    "    opacity=0.3)"
   ]
  },
  {
   "cell_type": "code",
   "execution_count": null,
   "metadata": {},
   "outputs": [],
   "source": [
    "from napari.utils.notebook_display import nbscreenshot\n",
    "\n",
    "nbscreenshot(viewer, canvas_only=True)"
   ]
  },
  {
   "cell_type": "code",
   "execution_count": null,
   "metadata": {},
   "outputs": [],
   "source": [
    "viewer.close()"
   ]
  },
  {
   "attachments": {},
   "cell_type": "markdown",
   "metadata": {},
   "source": [
    "-------------\n",
    "## SUMMARY\n",
    "\n",
    "The above details how the golgi body object is inferred.  \n",
    "\n",
    "### NEXT: INFER PEROXISOME\n",
    "\n",
    "proceed to [07_infer_perox.ipynb](./07_infer_perox.ipynb)\n"
   ]
  }
 ],
 "metadata": {
  "kernelspec": {
   "display_name": "Python 3.9.13 ('napariNEW')",
   "language": "python",
   "name": "python3"
  },
  "language_info": {
   "codemirror_mode": {
    "name": "ipython",
    "version": 3
   },
   "file_extension": ".py",
   "mimetype": "text/x-python",
   "name": "python",
   "nbconvert_exporter": "python",
   "pygments_lexer": "ipython3",
   "version": "3.10.13"
  },
  "orig_nbformat": 4,
  "vscode": {
   "interpreter": {
    "hash": "d6148ef1fb015fb20f0b6da2ea61c87c6b848bdf3dabb03087e5d5cd0c4607e9"
   }
  }
 },
 "nbformat": 4,
 "nbformat_minor": 2
}
