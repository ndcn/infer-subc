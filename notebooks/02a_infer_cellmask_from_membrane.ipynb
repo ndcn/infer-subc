{
 "cells": [
  {
   "attachments": {},
   "cell_type": "markdown",
   "metadata": {},
   "source": [
    "# Infer ***cell mask*** from a cell membrane marker - part 2️⃣\n",
    "\n",
    "--------------\n",
    "\n",
    "## OBJECTIVE:  \n",
    "### ✅ Infer sub-cellular component #2: ***cellmask*** in order to understand interactome \n",
    "\n",
    "The cell mask will be infered from the cell membrane marker. The fluorescently tagged membrane will be labeled and the inverse of the area will be used as the cellmask.\n",
    "\n",
    "Dependencies:\n",
    "\n",
    "Proper cell area inference is necessary for understanding the organelle interacome of the cell."
   ]
  },
  {
   "cell_type": "markdown",
   "metadata": {},
   "source": [
    "\n",
    "\n",
    "# IMPORTS"
   ]
  },
  {
   "cell_type": "code",
   "execution_count": 2,
   "metadata": {},
   "outputs": [],
   "source": [
    "# top level imports\n",
    "from pathlib import Path\n",
    "import os, sys\n",
    "from collections import defaultdict\n",
    "\n",
    "import numpy as np\n",
    "import scipy\n",
    "\n",
    "# TODO:  prune the imports.. this is the big set for almost all organelles\n",
    "# # function for core algorithm\n",
    "from scipy import ndimage as ndi\n",
    "import aicssegmentation\n",
    "from aicssegmentation.core.seg_dot import dot_3d_wrapper, dot_slice_by_slice, dot_2d_slice_by_slice_wrapper, dot_3d\n",
    "from aicssegmentation.core.pre_processing_utils import ( intensity_normalization, \n",
    "                                                         image_smoothing_gaussian_3d,  \n",
    "                                                         image_smoothing_gaussian_slice_by_slice )\n",
    "from aicssegmentation.core.utils import topology_preserving_thinning, size_filter\n",
    "from aicssegmentation.core.MO_threshold import MO\n",
    "from aicssegmentation.core.utils import hole_filling\n",
    "from aicssegmentation.core.vessel import filament_2d_wrapper, vesselnessSliceBySlice, vesselness3D\n",
    "from aicssegmentation.core.output_utils import   save_segmentation,  generate_segmentation_contour\n",
    "                                                 \n",
    "from skimage import filters\n",
    "from skimage.segmentation import watershed\n",
    "from skimage.feature import peak_local_max\n",
    "from skimage.morphology import remove_small_objects, binary_closing, ball , dilation, remove_small_holes   # function for post-processing (size filter)\n",
    "from skimage.measure import label\n",
    "\n",
    "# # package for io \n",
    "from aicsimageio import AICSImage\n",
    "\n",
    "import napari\n",
    "\n",
    "### import local python functions in ../infer_subc_2d\n",
    "sys.path.append(os.path.abspath((os.path.join(os.getcwd(), '..'))))\n",
    "\n",
    "from infer_subc_2d.core.file_io import (read_input_image, \n",
    "                                                                    list_image_files, \n",
    "                                                                    export_ome_tiff, \n",
    "                                                                    etree_to_dict, \n",
    "                                                                    save_parameters, \n",
    "                                                                    load_parameters, \n",
    "                                                                    export_ndarray, read_czi_image)\n",
    "from infer_subc_2d.core.img import *\n",
    "\n",
    "%load_ext autoreload\n",
    "%autoreload 2\n",
    "\n",
    "test_img_n = 5"
   ]
  },
  {
   "attachments": {},
   "cell_type": "markdown",
   "metadata": {},
   "source": [
    "# SETUP"
   ]
  },
  {
   "cell_type": "code",
   "execution_count": 3,
   "metadata": {},
   "outputs": [
    {
     "data": {
      "text/plain": [
       "['C:\\\\Users\\\\Shannon\\\\Documents\\\\Python Scripts\\\\Infer-subc-2D\\\\8 channel iN day21 deconv\\\\11292022_ZS_BR1_iNDay21_N01_Linear unmixing_0_cmle.ome.tiff',\n",
       " 'C:\\\\Users\\\\Shannon\\\\Documents\\\\Python Scripts\\\\Infer-subc-2D\\\\8 channel iN day21 deconv\\\\11292022_ZS_BR1_iNDay21_N02_Linear unmixing_0_cmle.ome.tiff',\n",
       " 'C:\\\\Users\\\\Shannon\\\\Documents\\\\Python Scripts\\\\Infer-subc-2D\\\\8 channel iN day21 deconv\\\\11292022_ZS_BR1_iNDay21_N03_Linear unmixing_0_cmle.ome.tiff',\n",
       " 'C:\\\\Users\\\\Shannon\\\\Documents\\\\Python Scripts\\\\Infer-subc-2D\\\\8 channel iN day21 deconv\\\\11292022_ZS_BR1_iNDay21_N04_Linear unmixing_0_cmle.ome.tiff',\n",
       " 'C:\\\\Users\\\\Shannon\\\\Documents\\\\Python Scripts\\\\Infer-subc-2D\\\\8 channel iN day21 deconv\\\\11292022_ZS_BR1_iNDay21_N05_Linear unmixing_0_cmle.ome.tiff']"
      ]
     },
     "execution_count": 3,
     "metadata": {},
     "output_type": "execute_result"
    }
   ],
   "source": [
    "# this will be the example for testing the pipeline below\n",
    "test_img_n = TEST_IMG_N\n",
    "\n",
    "# build the datapath\n",
    "# all the imaging data goes here.\n",
    "data_root_path = Path(os.path.expanduser(\"~\")) / \"Documents\\Python Scripts\\Infer-subc-2D\" \n",
    "\n",
    "# linearly unmixed \".czi\" files are here\n",
    "data_path = data_root_path / \"8 channel iN day21 deconv\"\n",
    "im_type = \".tiff\"\n",
    "\n",
    "# get the list of all files in \"raw\"\n",
    "img_file_list = list_image_files(data_path,im_type)\n",
    "# test_img_name = img_file_list[test_img_n]\n",
    "# test_img_name\n",
    "\n",
    "img_file_list"
   ]
  },
  {
   "cell_type": "code",
   "execution_count": 4,
   "metadata": {},
   "outputs": [
    {
     "name": "stderr",
     "output_type": "stream",
     "text": [
      "c:\\Users\\Shannon\\Anaconda3\\envs\\infer-subc-2D\\lib\\site-packages\\ome_types\\_convenience.py:105: FutureWarning: The default XML parser will be changing from 'xmlschema' to 'lxml' in version 0.4.0.  To silence this warning, please provide the `parser` argument, specifying either 'lxml' (to opt into the new behavior), or'xmlschema' (to retain the old behavior).\n",
      "  d = to_dict(os.fspath(xml), parser=parser, validate=validate)\n"
     ]
    }
   ],
   "source": [
    "#select one image\n",
    "test_img = img_file_list[0]\n",
    "\n",
    "# isolate image as an ndarray and metadata as a dictionary\n",
    "img_data, meta_dict = read_czi_image(test_img)\n",
    "\n",
    "# # get some top-level info about the RAW data\n",
    "channel_names = meta_dict['name']\n",
    "img = meta_dict['metadata']['aicsimage']\n",
    "scale = meta_dict['scale']\n",
    "channel_axis = meta_dict['channel_axis']\n",
    "huygens_meta = meta_dict['metadata']['raw_image_metadata']\n",
    "file_name = meta_dict['file_name'].split('\\\\')[-1][:-9]"
   ]
  },
  {
   "cell_type": "code",
   "execution_count": 5,
   "metadata": {},
   "outputs": [
    {
     "name": "stderr",
     "output_type": "stream",
     "text": [
      "WARNING: QWindowsWindow::setGeometry: Unable to set geometry 1090x687+1055-385 (frame: 1108x734+1046-423) on QWidgetWindow/\"_QtMainWindowClassWindow\" on \"\\\\.\\DISPLAY1\". Resulting geometry: 1020x921+1053-392 (frame: 1038x968+1044-430) margins: 9, 38, 9, 9 minimum size: 612x594 MINMAXINFO maxSize=0,0 maxpos=0,0 mintrack=630,641 maxtrack=0,0)\n",
      "29-Mar-23 16:58:27 - vispy    - WARNING  - QWindowsWindow::setGeometry: Unable to set geometry 1090x687+1055-385 (frame: 1108x734+1046-423) on QWidgetWindow/\"_QtMainWindowClassWindow\" on \"\\\\.\\DISPLAY1\". Resulting geometry: 1020x921+1053-392 (frame: 1038x968+1044-430) margins: 9, 38, 9, 9 minimum size: 612x594 MINMAXINFO maxSize=0,0 maxpos=0,0 mintrack=630,641 maxtrack=0,0)\n",
      "WARNING: QWindowsWindow::setGeometry: Unable to set geometry 1664x1032+1053-392 (frame: 1686x1088+1042-437) on QWidgetWindow/\"_QtMainWindowClassWindow\" on \"\\\\.\\DISPLAY2\". Resulting geometry: 1996x1239+1055-385 (frame: 2018x1295+1044-430) margins: 11, 45, 11, 11 minimum size: 612x593 MINMAXINFO maxSize=0,0 maxpos=0,0 mintrack=1246,1242 maxtrack=0,0)\n",
      "29-Mar-23 16:58:27 - vispy    - WARNING  - QWindowsWindow::setGeometry: Unable to set geometry 1664x1032+1053-392 (frame: 1686x1088+1042-437) on QWidgetWindow/\"_QtMainWindowClassWindow\" on \"\\\\.\\DISPLAY2\". Resulting geometry: 1996x1239+1055-385 (frame: 2018x1295+1044-430) margins: 11, 45, 11, 11 minimum size: 612x593 MINMAXINFO maxSize=0,0 maxpos=0,0 mintrack=1246,1242 maxtrack=0,0)\n"
     ]
    },
    {
     "data": {
      "text/plain": [
       "<Image layer 'img_data' at 0x169c7c82f70>"
      ]
     },
     "execution_count": 5,
     "metadata": {},
     "output_type": "execute_result"
    }
   ],
   "source": [
    "viewer = napari.Viewer()\n",
    "viewer.add_image(img_data, scale=scale)"
   ]
  },
  {
   "attachments": {},
   "cell_type": "markdown",
   "metadata": {},
   "source": [
    "----------------------------------------\n",
    "# infer ***cellmask***\n",
    "\n",
    "\n",
    "### Summary of steps:\n",
    "INPUT\n",
    "* Isolate the cell membrane marker - channel 7\n",
    "\n",
    "PRE-PROCESSING\n",
    "* Rescale image and smooth (if necessary).\n",
    "\n",
    "CORE PROCESSING \n",
    "* Segment the fluorescent cell membrane using vesselness3D() filter from aicssegmentation.core.vessel.py.\n",
    "\n",
    "POST PROCESSING\n",
    "* Filter out small objects and fill small holes (as necessary).\n",
    "* Invert the mask to get the cell area.\n",
    "\n",
    "OUTPUT\n",
    "* inferred ***cellmask*** object"
   ]
  },
  {
   "attachments": {},
   "cell_type": "markdown",
   "metadata": {},
   "source": [
    "### INPUT"
   ]
  },
  {
   "cell_type": "code",
   "execution_count": 6,
   "metadata": {},
   "outputs": [],
   "source": [
    "###################\n",
    "# INPUT\n",
    "###################\n",
    "raw_cellmem = img_data[7]"
   ]
  },
  {
   "cell_type": "code",
   "execution_count": 7,
   "metadata": {},
   "outputs": [
    {
     "data": {
      "text/plain": [
       "<Image layer 'raw_cellmem' at 0x169b5598df0>"
      ]
     },
     "execution_count": 7,
     "metadata": {},
     "output_type": "execute_result"
    }
   ],
   "source": [
    "viewer.add_image(raw_cellmem, scale=scale)"
   ]
  },
  {
   "attachments": {},
   "cell_type": "markdown",
   "metadata": {},
   "source": [
    "## PREPROCESSING"
   ]
  },
  {
   "cell_type": "code",
   "execution_count": 8,
   "metadata": {},
   "outputs": [
    {
     "data": {
      "text/plain": [
       "<Image layer 'struct_img_smooth' at 0x169b5598880>"
      ]
     },
     "execution_count": 8,
     "metadata": {},
     "output_type": "execute_result"
    }
   ],
   "source": [
    "###################\n",
    "# PREPROCESSING\n",
    "###################\n",
    "median_sz = 0\n",
    "gauss_sig = 0\n",
    "struct_img_smooth = scale_and_smooth(raw_cellmem, median_sz=median_sz, gauss_sig=gauss_sig)\n",
    "\n",
    "viewer.add_image(struct_img_smooth, scale=scale)"
   ]
  },
  {
   "cell_type": "code",
   "execution_count": 9,
   "metadata": {},
   "outputs": [
    {
     "data": {
      "text/plain": [
       "<Image layer 'bw' at 0x169b355bcd0>"
      ]
     },
     "execution_count": 9,
     "metadata": {},
     "output_type": "execute_result"
    }
   ],
   "source": [
    "###################\n",
    "# CORE\n",
    "###################\n",
    "siglist = [2.5]\n",
    "tau = 0.5\n",
    "cutoff = 0.0001\n",
    "bw = vesselness3D(struct_img_smooth, sigmas=siglist, tau=tau, cutoff=cutoff)\n",
    "\n",
    "viewer.add_image(bw, scale=scale, opacity=0.25, colormap='green')"
   ]
  },
  {
   "cell_type": "code",
   "execution_count": 13,
   "metadata": {},
   "outputs": [],
   "source": [
    "method = 'ave'\n",
    "MOcutoff = 50\n",
    "local_adjust = 0.05\n",
    "mask_test = MO(struct_img_smooth, global_thresh_method=method, object_minArea=MOcutoff, extra_criteria=True, local_adjust=local_adjust)"
   ]
  },
  {
   "cell_type": "code",
   "execution_count": 14,
   "metadata": {},
   "outputs": [
    {
     "data": {
      "text/plain": [
       "<Image layer 'mask_test' at 0x169a6ac07f0>"
      ]
     },
     "execution_count": 14,
     "metadata": {},
     "output_type": "execute_result"
    }
   ],
   "source": [
    "viewer.add_image(mask_test, scale=scale, opacity=0.25, colormap='bop orange')"
   ]
  },
  {
   "attachments": {},
   "cell_type": "markdown",
   "metadata": {},
   "source": [
    "SR stopped working on this because the membrane marker after deconvolution doesn't show up well enough to create a clear segmentation."
   ]
  },
  {
   "cell_type": "code",
   "execution_count": null,
   "metadata": {},
   "outputs": [],
   "source": []
  }
 ],
 "metadata": {
  "kernelspec": {
   "display_name": "Python 3 (ipykernel)",
   "language": "python",
   "name": "python3"
  },
  "language_info": {
   "codemirror_mode": {
    "name": "ipython",
    "version": 3
   },
   "file_extension": ".py",
   "mimetype": "text/x-python",
   "name": "python",
   "nbconvert_exporter": "python",
   "pygments_lexer": "ipython3",
   "version": "3.9.15"
  },
  "vscode": {
   "interpreter": {
    "hash": "d6148ef1fb015fb20f0b6da2ea61c87c6b848bdf3dabb03087e5d5cd0c4607e9"
   }
  }
 },
 "nbformat": 4,
 "nbformat_minor": 2
}
