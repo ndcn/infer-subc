{
 "cells": [
  {
   "cell_type": "markdown",
   "metadata": {},
   "source": [
    "# Infer ***nucleus***, ***cellmask***, and ***cytoplasm*** from a composite image of cytoplasmic organelles\n",
    "### Alternative workflow: ***\"B\"*** (an alternative workflow for images with only cytoplasmic organelles, NO **nuclei** or **cell membrane** makers, and more than one cell per field of view)\n",
    "--------------\n",
    "\n",
    "## OBJECTIVES\n",
    "### <input type=\"checkbox\"/> Infer sub-cellular component #1️: ***cytoplasm***\n",
    "Segment the ***cytoplasm*** of all cell in the image using a composite of multiple organelle markers combined. This mask should be specific to the cytoplasmic area, but will only be a semantic segmentation.\n",
    "\n",
    "> ###### **Biological relevance: The combination of organelle markers used to create the composite image for the cytoplasm segmentation is based on the assumption that the organelle labels used will \"fill up\" the entire cytoplasm (not including the nucleus). This is NOT the most accurate method to determine the cell area, but is required in the case where membrane and nuclei markers can not or are not included. This largely depends on the organelle labeles used and the cell type.**\n",
    "> ###### ***It is important to consider specifics of your system as the cell type and labeling method may differ from the example above.***\n",
    "\n",
    "\n",
    "### <input type=\"checkbox\"/> Infer sub-cellular component #2️: ***nucleus***\n",
    "Segment all ***nuclei*** from the inverse of the ***cytoplasm*** mask. Because the organelles used for the composite are cytoplasmic, the nuclei should remain \"empty\".\n",
    "\n",
    "\n",
    "### <input type=\"checkbox\"/> Infer sub-cellular component #3️: ***cellmask***\n",
    "Segment the ***cellmask*** by combining the ***cytoplasm*** and ***nucleus*** masks. To create an instance segmentation of the cellmask, the nuclei will be used as the seeds for the watershed operation. The cell with the highest combined fluorescence intensity will be considered the main cell for analysis and everything else will be discarded. The nuclei and cytoplasm associated to that cell will be selected by masking.\n",
    "\n",
    "> ###### 📝 **this workflow is optimized for images with multiple fluorescent cells in the field of view**"
   ]
  },
  {
   "cell_type": "markdown",
   "metadata": {},
   "source": [
    "---------\n",
    "## **masks_B workflow**\n",
    "### summary of steps\n",
    "\n",
    "➡️ **EXTRACTION**\n",
    "- **`STEP 1`** - Create composite image\n",
    "\n",
    "    - determine weight to apply to each channel of the intensity image (w# = user input)\n",
    "    - rescale summed image intensities (rescale = user input)\n",
    "\n",
    "**PRE-PROCESSING**\n",
    "- **`STEP 2`** - Rescale and smooth image\n",
    "\n",
    "    - rescale intensity of composite image (min=0, max=1)\n",
    "    - median filter (median size = user input)\n",
    "    - gaussian filter (sigma = user input)\n",
    "\n",
    "- **`STEP 3`** - Log transform + Scharr edge detection\n",
    "\n",
    "    - perform a log transformation on the image\n",
    "    - apply Scharr edge detection filter\n",
    "    - combine log image and Scharr edge filtered intensity image\n",
    " \n",
    "**CORE PROCESSING**\n",
    "- **`STEP 4`** - Semantic segmentation of the cytoplasm\n",
    "\n",
    "    - apply MO thresholding method from the Allen Cell [aicssegmentation](https://github.com/AllenCell/aics-segmentation) package (threshold options = user input)\n",
    "    - fill holes (hole size = user input)\n",
    "    - remove small objects (object size = user input)\n",
    "    - filter method = (method = user input)\n",
    "    \n",
    "- **`STEP 5`** - Segmentation of nuclei ‘seeds’ from cytoplasm\n",
    "\n",
    "    - binary opening of inverted aggregate cytoplasm mask (eroded -> dilated)\n",
    "    - fill nuclei in aggregate cytoplasm mask (hole size = user input)\n",
    "    - logical **XOR** of the cytoplasm and the filled in cytoplasm resulting in the nucleus and any artifacts from binary opening (erosion -> dilation)\n",
    "    - remove small objects (object size = user input)\n",
    "    \n",
    "- **`STEP 6`** - Combine nucleus masks and cytoplasm masks\n",
    "\n",
    "    - logical **OR** of the nucleus and cytoplasm\n",
    "    - fill gaps (hole size = user input)\n",
    "\n",
    "**POST-PROCESSING**\n",
    "- **`STEP 7`** - Label cells based on nuclei 'seeds'; isolate highest intensity\n",
    "\n",
    "    - perform a masked inverted watershed with the aggregate cellmask segmentation and the nuclei seeds\n",
    "    - select the label with the highest total intensity\n",
    "\n",
    "**POST-POST-PROCESSING**\n",
    "- **`STEP 8`** - Segmentation of single nucleus from cytoplasm; cell mask applied\n",
    "\n",
    "    - logical **AND** of the cellmask and aggregate cytoplasm mask\n",
    "    - invert cytoplasm mask and clear border (nucleus mask)\n",
    "    - fill holes (hole size = user input)\n",
    "    - remove small objects (object size = user input)\n",
    "\n",
    "**EXPORT** ➡️\n",
    "- **`STEP 9`** - Stack masks\n",
    "\n",
    "    - stack masks in order of nucleus, cellmask and cytoplasm mask"
   ]
  },
  {
   "cell_type": "markdown",
   "metadata": {},
   "source": [
    "---------\n",
    "## **IMPORTS**"
   ]
  },
  {
   "cell_type": "markdown",
   "metadata": {},
   "source": [
    "#### &#x1F3C3; **Run code; no user input required**\n",
    "\n",
    "&#x1F453; **FYI:** This code block loads all of the necessary python packages and functions you will need for this notebook. "
   ]
  },
  {
   "cell_type": "code",
   "execution_count": 5,
   "metadata": {},
   "outputs": [
    {
     "name": "stdout",
     "output_type": "stream",
     "text": [
      "The autoreload extension is already loaded. To reload it, use:\n",
      "  %reload_ext autoreload\n"
     ]
    }
   ],
   "source": [
    "from pathlib import Path\n",
    "import os\n",
    "from typing import Union\n",
    "\n",
    "import numpy as np\n",
    "import napari\n",
    "from napari.utils.notebook_display import nbscreenshot\n",
    "\n",
    "from skimage.segmentation import clear_border #watershed, \n",
    "from skimage.morphology import binary_opening#, remove_small_holes, binary_erosion   # function for post-processing (size filter)\n",
    "from skimage.measure import label\n",
    "\n",
    "from infer_subc.core.file_io import (read_czi_image,\n",
    "                                     export_inferred_organelle,\n",
    "                                     list_image_files,\n",
    "                                     sample_input)\n",
    "\n",
    "                                             \n",
    "from infer_subc.core.img import *\n",
    "from infer_subc.organelles import non_linear_cellmask_transform\n",
    "\n",
    "%load_ext autoreload\n",
    "%autoreload 2\n"
   ]
  },
  {
   "cell_type": "markdown",
   "metadata": {},
   "source": [
    "## **LOAD AND READ IN IMAGE FOR PROCESSING**"
   ]
  },
  {
   "cell_type": "markdown",
   "metadata": {},
   "source": [
    "#### &#x1F6D1; &#x270D; **User Input Required:**"
   ]
  },
  {
   "cell_type": "code",
   "execution_count": null,
   "metadata": {},
   "outputs": [],
   "source": [
    "### USER INPUT REQUIRED ###\n",
    "# If using the sample data, set cell_type to \"astrocyte\":\n",
    "# If not using the sample data, set cell_type to None\n",
    "sample_data_type = \"astrocyte\"\n",
    "\n",
    "# Specify which file you'd like to segment from the img_file_list\n",
    "test_img_n = 0\n",
    "\n",
    "# If you are not using the sample data, please edit \"USER SPECIFIED\" as necessary.\n",
    "## Define the path to the directory that contains the input image folder.\n",
    "data_root_path = Path(\"USER SPECIFIED\")\n",
    "\n",
    "# Specify the file type of your raw data that will be analyzed. Ex) \".czi\" or \".tiff\"\n",
    "im_type = \"USER SPECIFIED\"\n",
    "\n",
    "## Specify which subfolder that contains the input data and the input data file extension\n",
    "in_data_path = data_root_path / \"USER SPECIFIED\"\n",
    "\n",
    "## Specify the output folder to save the segmentation outputs if.\n",
    "## If its not already created, the code below will creat it for you\n",
    "out_data_path = data_root_path / \"USER SPECIFIED\""
   ]
  },
  {
   "cell_type": "markdown",
   "metadata": {},
   "source": [
    "#### &#x1F3C3; **Run code; no user input required**"
   ]
  },
  {
   "cell_type": "code",
   "execution_count": null,
   "metadata": {},
   "outputs": [],
   "source": [
    "# If sample_data_type is set to \"astrocyte\", then the sample data is used and the directories are set\n",
    "if sample_data_type != None:\n",
    "    data_root_path, im_type, in_data_path, out_data_path = sample_input(sample_data_type)"
   ]
  },
  {
   "cell_type": "code",
   "execution_count": 4,
   "metadata": {},
   "outputs": [],
   "source": [
    "if not Path.exists(out_data_path):\n",
    "    Path.mkdir(out_data_path)\n",
    "    print(f\"making {out_data_path}\")\n",
    "\n",
    "img_file_list = list_image_files(in_data_path,im_type)\n",
    "# pd.set_option('display.max_colwidth', None)\n",
    "# pd.DataFrame({\"Image Name\":img_file_list})"
   ]
  },
  {
   "cell_type": "code",
   "execution_count": 4,
   "metadata": {},
   "outputs": [],
   "source": [
    "test_img_name = img_file_list[test_img_n]\n",
    "\n",
    "img_data,meta_dict = read_czi_image(test_img_name)\n",
    "\n",
    "channel_names = meta_dict['name']\n",
    "img = meta_dict['metadata']['aicsimage']\n",
    "scale = meta_dict['scale']\n",
    "channel_axis = meta_dict['channel_axis']"
   ]
  },
  {
   "cell_type": "markdown",
   "metadata": {},
   "source": [
    "# ***EXTRACTION prototype - masks_B***\n"
   ]
  },
  {
   "cell_type": "markdown",
   "metadata": {},
   "source": [
    "## **`STEP 1` - Create composite image**"
   ]
  },
  {
   "cell_type": "markdown",
   "metadata": {},
   "source": [
    "- determine weight to apply to each channel of the intensity image (w# = user input)\n",
    "- rescale summed image intensities (rescale = user input)"
   ]
  },
  {
   "cell_type": "code",
   "execution_count": 5,
   "metadata": {},
   "outputs": [],
   "source": [
    "# Creating a composite image\n",
    "\n",
    "w0 = 2\n",
    "w1 = 2\n",
    "w2 = 3\n",
    "w3 = 1\n",
    "w4 = 4\n",
    "w5 = 2\n",
    "w6 = 0\n",
    "w7 = 0\n",
    "w8 = 0\n",
    "w9 = 0\n",
    "\n",
    "rescale = True\n",
    "\n",
    "struct_img_raw = make_aggregate(img_data,\n",
    "               weight_ch0= w0,\n",
    "               weight_ch1= w1,\n",
    "               weight_ch2= w2,\n",
    "               weight_ch3= w3,\n",
    "               weight_ch4= w4,\n",
    "               weight_ch5= w5,\n",
    "               weight_ch6= w6,\n",
    "               weight_ch7= w7,\n",
    "               weight_ch8= w8,\n",
    "               weight_ch9= w9,\n",
    "               rescale = rescale)\n",
    "\n",
    "# weights = [4,3,1,1,6,6]\n",
    "# struct_img_raw = weighted_aggregate(img_data, *weights)"
   ]
  },
  {
   "cell_type": "markdown",
   "metadata": {},
   "source": [
    "# ***PRE-PROCESSING prototype - masks_B***"
   ]
  },
  {
   "cell_type": "markdown",
   "metadata": {},
   "source": [
    "## **`STEP 2` - Rescale and smooth image**"
   ]
  },
  {
   "cell_type": "markdown",
   "metadata": {},
   "source": [
    "- rescale intensity of composite image (min=0, max=1)\n",
    "- median filter (median size = user input)\n",
    "- gaussian filter (sigma = user input)\n",
    "\n",
    "> **NOTE**: No smoothing was done here because these test images were already pre-processed."
   ]
  },
  {
   "cell_type": "code",
   "execution_count": 6,
   "metadata": {},
   "outputs": [],
   "source": [
    "med_filter_size = 0\n",
    "gaussian_smoothing_sigma = 0\n",
    "\n",
    "structure_img_smooth = scale_and_smooth(struct_img_raw,\n",
    "                                        median_size = med_filter_size, \n",
    "                                        gauss_sigma = gaussian_smoothing_sigma)"
   ]
  },
  {
   "cell_type": "markdown",
   "metadata": {},
   "source": [
    "## **`STEP 3` - Log transform + Scharr edge detection**"
   ]
  },
  {
   "cell_type": "markdown",
   "metadata": {},
   "source": [
    "- perform a log transformation on the image\n",
    "- apply Scharr edge detection filter\n",
    "- combine log image and Scharr edge filtered intensity image"
   ]
  },
  {
   "cell_type": "code",
   "execution_count": 7,
   "metadata": {},
   "outputs": [],
   "source": [
    "# log scale the image, apply the scharr edge detection filter to logged image, add the two images together\n",
    "composite_cytomask = non_linear_cellmask_transform(structure_img_smooth)"
   ]
  },
  {
   "cell_type": "markdown",
   "metadata": {},
   "source": [
    "# ***CORE-PROCESSING prototype - masks_B***"
   ]
  },
  {
   "cell_type": "markdown",
   "metadata": {},
   "source": [
    "## **`STEP 4` -  Semantic segmentation of the cytoplasm**"
   ]
  },
  {
   "cell_type": "markdown",
   "metadata": {},
   "source": [
    "- apply MO thresholding method from the Allen Cell [aicssegmentation](https://github.com/AllenCell/aics-segmentation) package (threshold options = user input)"
   ]
  },
  {
   "cell_type": "code",
   "execution_count": 8,
   "metadata": {},
   "outputs": [],
   "source": [
    "# threshold the composite image after\n",
    "# log/edge detection then use the MO filter function from aicssegmentation - this applies a global threshold, then a local threshold to produce a semantic segmentation\n",
    "thresh_method = 'med'\n",
    "cutoff_size =  200\n",
    "thresh_adj = 0.914286\n",
    "\n",
    "bw_cyto = masked_object_thresh(composite_cytomask, \n",
    "                          global_method=thresh_method, \n",
    "                          cutoff_size=cutoff_size, \n",
    "                          local_adjust=thresh_adj)"
   ]
  },
  {
   "cell_type": "markdown",
   "metadata": {},
   "source": [
    "- fill holes (hole size = user input)\n",
    "- remove small objects (object size = user input)\n",
    "- filter method = (method = user input)"
   ]
  },
  {
   "cell_type": "markdown",
   "metadata": {},
   "source": [
    "> ###### 📝 **the size parameters are by convention defined as one dimensional \"width\", so the inputs to the functions are _squared_ i.e. raised to the power of 2: `**2` for 2D analysis. For volumetric (3D) analysis this would be _cubed_: `**3`.**"
   ]
  },
  {
   "cell_type": "code",
   "execution_count": 9,
   "metadata": {},
   "outputs": [],
   "source": [
    "hole_min_width = 0\n",
    "hole_max_width = 50\n",
    "\n",
    "small_object_width = 50\n",
    "\n",
    "fill_filter_method = \"slice_by_slice\"\n",
    "\n",
    "cleaned_cyto = fill_and_filter_linear_size(bw_cyto, \n",
    "                                           hole_min=hole_min_width, \n",
    "                                           hole_max=hole_max_width, \n",
    "                                           min_size= small_object_width,\n",
    "                                           method=fill_filter_method)"
   ]
  },
  {
   "cell_type": "markdown",
   "metadata": {},
   "source": [
    "###### This cell ensures the cytoplasm mask is a boolean"
   ]
  },
  {
   "cell_type": "code",
   "execution_count": 10,
   "metadata": {},
   "outputs": [],
   "source": [
    "# cytoplasm_mask = label_bool_as_uint16(cleaned_cyto)\n",
    "\n",
    "cytoplasm_multiple = cleaned_cyto.astype(bool)"
   ]
  },
  {
   "cell_type": "markdown",
   "metadata": {},
   "source": [
    "Define `_segment_cytoplasm_area` function"
   ]
  },
  {
   "cell_type": "code",
   "execution_count": 11,
   "metadata": {},
   "outputs": [],
   "source": [
    "def _segment_cytoplasm_area(in_img: np.ndarray, \n",
    "                           MO_method: str,\n",
    "                           MO_cutoff: int,\n",
    "                           MO_adjust: float,\n",
    "                           holefill_min: int,\n",
    "                           holefill_max: int,\n",
    "                           obj_min_size: int,\n",
    "                           fill_filter_method: str):\n",
    "    \"\"\" \n",
    "    Function for segmenting the cytoplasmic area from a fluorescent image\n",
    "\n",
    "    Parameters:\n",
    "    ----------\n",
    "    in_img: np.ndarray, \n",
    "        fluorescence image (single channel, ZYX array) of the cytoplasm to get segmented\n",
    "    MO_method: str,\n",
    "        masked object threshold method; options: 'med', 'tri', 'ave'\n",
    "    MO_cutoff: int,\n",
    "        object cutoff size for the MO threshold method\n",
    "    MO_adjust: float,\n",
    "        adjustment value for the MO threshold method\n",
    "    holefill_min: int,\n",
    "        smallest sized hole to fill in the final mask\n",
    "    holefill_max: int,\n",
    "        largest sized hole to fill in the final mask\n",
    "    obj_min_size: int,\n",
    "        size of the smallest object to be included in the mask; small objects are removed\n",
    "    fill_filter_method: str\n",
    "        fill holes and remove small objects in '3D' or 'slice_by_slice'\n",
    "\n",
    "\n",
    "    \"\"\"\n",
    "    # create cytoplasm mask\n",
    "    bw_cyto = masked_object_thresh(in_img, \n",
    "                            global_method=MO_method, \n",
    "                            cutoff_size=MO_cutoff, \n",
    "                            local_adjust=MO_adjust)\n",
    "    \n",
    "    # fill holes and filter small objects from the raw mask\n",
    "    cleaned_cyto = fill_and_filter_linear_size(bw_cyto, \n",
    "                                            hole_min=holefill_min, \n",
    "                                            hole_max=holefill_max, \n",
    "                                            min_size= obj_min_size,\n",
    "                                            method=fill_filter_method)\n",
    "    \n",
    "    # create a boolean mask\n",
    "    cyto_semantic_seg = cleaned_cyto.astype(bool)\n",
    "\n",
    "    return cyto_semantic_seg"
   ]
  },
  {
   "cell_type": "markdown",
   "metadata": {},
   "source": [
    "Run `_segment_cytoplasm_area` function"
   ]
  },
  {
   "cell_type": "code",
   "execution_count": 12,
   "metadata": {},
   "outputs": [],
   "source": [
    "thresh_method = 'med'\n",
    "cutoff_size =  200\n",
    "thresh_adj = 0.914286\n",
    "hole_min_width = 0\n",
    "hole_max_width = 50\n",
    "\n",
    "small_object_width = 50\n",
    "\n",
    "fill_filter_method = \"slice_by_slice\"\n",
    "\n",
    "test_cyto_masks = _segment_cytoplasm_area(composite_cytomask,\n",
    "                                          MO_method=thresh_method,\n",
    "                                          MO_cutoff=cutoff_size,\n",
    "                                          MO_adjust=thresh_adj,\n",
    "                                          holefill_max=hole_max_width,\n",
    "                                          holefill_min=hole_min_width,\n",
    "                                          obj_min_size=small_object_width,\n",
    "                                          fill_filter_method=fill_filter_method)\n",
    "\n",
    "# np.array_equal(test_cyto_masks, cytoplasm_multiple)"
   ]
  },
  {
   "cell_type": "markdown",
   "metadata": {},
   "source": [
    "## **`STEP 5` - Segmentation of nuclei ‘seeds’ from cytoplasm**"
   ]
  },
  {
   "cell_type": "markdown",
   "metadata": {},
   "source": [
    "- binary opening of inverted aggregate cytoplasm mask (erosion -> dilation)"
   ]
  },
  {
   "cell_type": "code",
   "execution_count": 13,
   "metadata": {},
   "outputs": [],
   "source": [
    "cytoplasm_inverse = 1 - test_cyto_masks\n",
    "\n",
    "cytoplasm_inv_opened = binary_opening(cytoplasm_inverse, footprint=np.ones([3,3,3]))"
   ]
  },
  {
   "cell_type": "markdown",
   "metadata": {},
   "source": [
    "- fill nuclei in aggregate cytoplasm mask (hole size = user input)\n",
    "- logical **XOR** of the cytoplasm and the filled in cytoplasm resulting in the nucleus and any artifacts from binary opening"
   ]
  },
  {
   "cell_type": "code",
   "execution_count": 14,
   "metadata": {},
   "outputs": [],
   "source": [
    "max_nuc_width = 350\n",
    "\n",
    "nuc_removed = fill_and_filter_linear_size(cytoplasm_inv_opened, \n",
    "                                          hole_max=0, \n",
    "                                          hole_min=0, \n",
    "                                          min_size=max_nuc_width, \n",
    "                                          method='3D')\n",
    "\n",
    "nuc_objs = np.logical_xor(cytoplasm_inv_opened, nuc_removed)"
   ]
  },
  {
   "cell_type": "markdown",
   "metadata": {},
   "source": [
    "- remove small objects (object size = user input)"
   ]
  },
  {
   "cell_type": "code",
   "execution_count": 15,
   "metadata": {},
   "outputs": [],
   "source": [
    "hole_max = 0\n",
    "hole_min = 0\n",
    "min_size = 15\n",
    "\n",
    "nuc_cleaned = fill_and_filter_linear_size(nuc_objs, \n",
    "                                          hole_max=hole_max, \n",
    "                                          hole_min=hole_min, \n",
    "                                          min_size=min_size, \n",
    "                                          method='3D')"
   ]
  },
  {
   "cell_type": "markdown",
   "metadata": {},
   "source": [
    "###### Create labels for the nuclei seeds that will be used during the watershedding algorithm"
   ]
  },
  {
   "cell_type": "code",
   "execution_count": 16,
   "metadata": {},
   "outputs": [],
   "source": [
    "# create instance segmentation based on connectivity\n",
    "nuc_labels = label(nuc_cleaned).astype(np.uint16)"
   ]
  },
  {
   "cell_type": "markdown",
   "metadata": {},
   "source": [
    "Define `_segment_nuclei_seeds` function"
   ]
  },
  {
   "cell_type": "code",
   "execution_count": 17,
   "metadata": {},
   "outputs": [],
   "source": [
    "def _segment_nuclei_seeds(cyto_seg: np.ndarray,\n",
    "                          max_nuclei_width: int,\n",
    "                          filter_small_objs: int):\n",
    "    \"\"\" \n",
    "    \n",
    "    \n",
    "    \"\"\"\n",
    "    # create the inverse of the cytoplasm and increase likelihood for object separation with binary opening\n",
    "    cytoplasm_inverse = 1 - cyto_seg\n",
    "    cytoplasm_inv_opened = binary_opening(cytoplasm_inverse, footprint=np.ones([3,3,3]))\n",
    "\n",
    "    # isolate the nuclei objects that fill be used as seeds for watershed\n",
    "    # these aren't exactly the inverse of the cytoplasm because of the binary opening\n",
    "    nuc_removed = fill_and_filter_linear_size(cytoplasm_inv_opened, \n",
    "                                            hole_max=0, \n",
    "                                            hole_min=0, \n",
    "                                            min_size=max_nuclei_width, \n",
    "                                            method='3D')\n",
    "\n",
    "    nuc_objs = np.logical_xor(cytoplasm_inv_opened, nuc_removed)\n",
    "\n",
    "    # remove an small debris leftover that aren't the correct size for nuclei\n",
    "    nuc_cleaned = fill_and_filter_linear_size(nuc_objs, \n",
    "                                            hole_max=0, \n",
    "                                            hole_min=0, \n",
    "                                            min_size=filter_small_objs, \n",
    "                                            method='3D')\n",
    "    \n",
    "\n",
    "    return label(nuc_cleaned).astype(np.uint16)"
   ]
  },
  {
   "cell_type": "markdown",
   "metadata": {},
   "source": [
    "Run `_segment_nuclei_seeds` function"
   ]
  },
  {
   "cell_type": "code",
   "execution_count": 18,
   "metadata": {},
   "outputs": [
    {
     "data": {
      "text/plain": [
       "False"
      ]
     },
     "execution_count": 18,
     "metadata": {},
     "output_type": "execute_result"
    }
   ],
   "source": [
    "test_nuc_labels = _segment_nuclei_seeds(test_cyto_masks, max_nuclei_width=350, filter_small_objs=10)\n",
    "\n",
    "np.array_equal(nuc_labels, test_nuc_labels)"
   ]
  },
  {
   "cell_type": "markdown",
   "metadata": {},
   "source": [
    "## **`STEP 6` - Combine nucleus masks and cytoplasm masks**"
   ]
  },
  {
   "cell_type": "markdown",
   "metadata": {},
   "source": [
    "- logical **OR** of the nucleus and cytoplasm"
   ]
  },
  {
   "cell_type": "code",
   "execution_count": 19,
   "metadata": {},
   "outputs": [],
   "source": [
    "cells = np.logical_or(test_nuc_labels, test_cyto_masks)"
   ]
  },
  {
   "cell_type": "markdown",
   "metadata": {},
   "source": [
    "- fill gaps (hole size = user input)"
   ]
  },
  {
   "cell_type": "code",
   "execution_count": 20,
   "metadata": {},
   "outputs": [],
   "source": [
    "cell_multiple = fill_and_filter_linear_size(cells, \n",
    "                                            hole_min=0,\n",
    "                                            hole_max=20,\n",
    "                                            min_size=0,\n",
    "                                            method='3D')"
   ]
  },
  {
   "cell_type": "markdown",
   "metadata": {},
   "source": [
    "Define `_combine_cytoplasm_and_nuclei` function"
   ]
  },
  {
   "cell_type": "code",
   "execution_count": 21,
   "metadata": {},
   "outputs": [],
   "source": [
    "def _combine_cytoplasm_and_nuclei(cyto_seg: np.ndarray,\n",
    "                                  nuc_seg: np.ndarray,\n",
    "                                  fillhole_max: int):\n",
    "    \"\"\"\n",
    "    Function to combine the the cytoplasm and nuclei segmentations to produce the entire cell mask.\n",
    "\n",
    "    Parameters:\n",
    "    ----------\n",
    "    cyto_seg: np.ndarray,\n",
    "        image containing the cytoplasm segmentation\n",
    "    nuc_seg: np.ndarray,\n",
    "        image containing the nuclei segmentation\n",
    "    fillhole_max: int\n",
    "        size of the gaps between the nuclei and cytoplasm (usually small)\n",
    "    \"\"\" \n",
    "    \n",
    "    cells = np.logical_or(cyto_seg.astype(bool), nuc_seg.astype(bool))\n",
    "\n",
    "    cell_multiple = fill_and_filter_linear_size(cells, \n",
    "                                                hole_min=0,\n",
    "                                                hole_max=fillhole_max,\n",
    "                                                min_size=0,\n",
    "                                                method='3D')\n",
    "    \n",
    "    cell_area = cell_multiple.astype(bool)\n",
    "\n",
    "    return cell_area"
   ]
  },
  {
   "cell_type": "markdown",
   "metadata": {},
   "source": [
    "Run `_combine_cytoplasm_and_nuclei` function"
   ]
  },
  {
   "cell_type": "code",
   "execution_count": 22,
   "metadata": {},
   "outputs": [
    {
     "data": {
      "text/plain": [
       "True"
      ]
     },
     "execution_count": 22,
     "metadata": {},
     "output_type": "execute_result"
    }
   ],
   "source": [
    "test_cell_area = _combine_cytoplasm_and_nuclei(test_cyto_masks, test_nuc_labels, 20)\n",
    "\n",
    "np.array_equal(cell_multiple, test_cell_area)"
   ]
  },
  {
   "cell_type": "markdown",
   "metadata": {},
   "source": [
    "# ***POST-PROCESSING prototype - masks_B***"
   ]
  },
  {
   "cell_type": "markdown",
   "metadata": {},
   "source": [
    "## **`STEP 7` - Label cells based on nuclei 'seeds'; isolate highest intensity**"
   ]
  },
  {
   "cell_type": "markdown",
   "metadata": {},
   "source": [
    "- perform a masked inverted watershed with the aggregate cellmask segmentation and the nuclei seeds"
   ]
  },
  {
   "cell_type": "code",
   "execution_count": 23,
   "metadata": {},
   "outputs": [],
   "source": [
    "cell_labels = masked_inverted_watershed(test_cell_area, markers=nuc_labels, mask=test_cell_area, method='3D')"
   ]
  },
  {
   "cell_type": "markdown",
   "metadata": {},
   "source": [
    "- select the label with the highest total intensity (collect labels)"
   ]
  },
  {
   "cell_type": "code",
   "execution_count": 24,
   "metadata": {},
   "outputs": [
    {
     "data": {
      "text/plain": [
       "array([1])"
      ]
     },
     "execution_count": 24,
     "metadata": {},
     "output_type": "execute_result"
    }
   ],
   "source": [
    "# determine the brightest cell\n",
    "target_labels = None\n",
    "labels_in = cell_labels\n",
    "\n",
    "if target_labels is None:\n",
    "    all_labels = np.unique(cell_labels)[1:]\n",
    "else:\n",
    "    all_labels = np.unique(target_labels)[1:]\n",
    "\n",
    "all_labels\n",
    "\n",
    "# # determine the largest cell\n",
    "# cell_IDs = np.unique(cell_labels)[1:]\n",
    "\n",
    "# dict = {}\n",
    "# for obj in cell_IDs:\n",
    "#     pxlcnt = np.sum(cell_labels==obj)\n",
    "#     dict[obj] = pxlcnt\n",
    "\n",
    "# largest_ID = max(dict, key=dict.get)\n",
    "# largest_cell = cell_labels == largest_ID\n",
    "\n",
    "# largest_ID, dict"
   ]
  },
  {
   "cell_type": "markdown",
   "metadata": {},
   "source": [
    "- select the label with the highest total intensity (create composites from normalized channels)"
   ]
  },
  {
   "cell_type": "code",
   "execution_count": 25,
   "metadata": {},
   "outputs": [
    {
     "data": {
      "text/plain": [
       "(1.0, (6, 18, 1688, 1688), (18, 1688, 1688))"
      ]
     },
     "execution_count": 25,
     "metadata": {},
     "output_type": "execute_result"
    }
   ],
   "source": [
    "# create a composite from each intensity channel after they have been min-max normalized\n",
    "norm_channels = [(min_max_intensity_normalization(img_data[c])) for c in range(len(img_data))]\n",
    "normed_signal = np.stack(norm_channels, axis=0)\n",
    "\n",
    "normed_composite = normed_signal.sum(axis=0)\n",
    "\n",
    "np.max(normed_signal), normed_signal.shape, normed_composite.shape"
   ]
  },
  {
   "cell_type": "markdown",
   "metadata": {},
   "source": [
    "- select the label with the highest total intensity (select cell with highest intensity)"
   ]
  },
  {
   "cell_type": "code",
   "execution_count": 26,
   "metadata": {},
   "outputs": [],
   "source": [
    "# find the cell mask that has the highest intensity\n",
    "total_signal = [normed_composite[labels_in == label].sum() for label in all_labels]\n",
    "\n",
    "keep_label = all_labels[np.argmax(total_signal)]\n",
    "\n",
    "good_cell = cell_labels == keep_label"
   ]
  },
  {
   "cell_type": "markdown",
   "metadata": {},
   "source": [
    "Define `_select_highest_intensity_cell` function"
   ]
  },
  {
   "cell_type": "code",
   "execution_count": 27,
   "metadata": {},
   "outputs": [],
   "source": [
    "def _select_highest_intensity_cell(raw_image: np.ndarray,\n",
    "                                   cell_seg: np.ndarray,\n",
    "                                   nuc_seg: np.ndarray):\n",
    "    \"\"\" \n",
    "    Create an instance segmentation of the cell area using a watershed operation based on nuclei seeds.\n",
    "    Then, select the cell with the highest combined organelle intensity.\n",
    "\n",
    "    Parameters:\n",
    "    ----------\n",
    "    raw_image: np.ndarray,\n",
    "        gray scale 3D multi-channel numpy array (CZYX)\n",
    "    cell_seg: np.ndarray,\n",
    "        binary cell segmentation with multiple cells in the FOV\n",
    "    nuc_seg: np.ndarray,\n",
    "        labeled nuclei segmentation with each nuclei having a different ID number (e.g., the result of the skimage label() function)\n",
    "    labels_to_consider: Union(list, None)\n",
    "        a list of labels that should be considered when determining the highest intensity. Default is None which utilizes all possible labels in the cell image\n",
    "        \n",
    "    Output\n",
    "    ----------\n",
    "    good_cell: np.ndarray  \n",
    "        a binary image of the single cell with the highest total fluorescence intensity\n",
    "    \"\"\"\n",
    "    # instance segmentation of cell area with watershed function\n",
    "    cell_labels = masked_inverted_watershed(cell_seg, markers=nuc_seg, mask=cell_seg, method='3D')\n",
    "\n",
    "    # create composite of all fluorescence channels after min-max normalization\n",
    "    norm_channels = [(min_max_intensity_normalization(raw_image[c])) for c in range(len(raw_image))]\n",
    "    normed_signal = np.stack(norm_channels, axis=0)\n",
    "    normed_composite = normed_signal.sum(axis=0)\n",
    "\n",
    "    # list of cell IDs to measure intensity of\n",
    "    all_labels = np.unique(cell_labels)[1:]\n",
    "\n",
    "    # measure total intensity in each cell from the ID list\n",
    "    total_signal = [normed_composite[cell_labels == label].sum() for label in all_labels]\n",
    "\n",
    "    # select the cell with the highest total intensity\n",
    "    keep_label = all_labels[np.argmax(total_signal)]\n",
    "    good_cell = cell_labels == keep_label\n",
    "\n",
    "    return good_cell"
   ]
  },
  {
   "cell_type": "markdown",
   "metadata": {},
   "source": [
    "Run `_select_highest_intensity_cell` function"
   ]
  },
  {
   "cell_type": "code",
   "execution_count": 28,
   "metadata": {},
   "outputs": [
    {
     "data": {
      "text/plain": [
       "False"
      ]
     },
     "execution_count": 28,
     "metadata": {},
     "output_type": "execute_result"
    }
   ],
   "source": [
    "test_good_cell = _select_highest_intensity_cell(img_data, test_cell_area, test_nuc_labels)\n",
    "\n",
    "np.array_equal(good_cell, test_good_cell)"
   ]
  },
  {
   "cell_type": "markdown",
   "metadata": {},
   "source": [
    "# ***POST-POST-PROCESSING prototype - masks_B***"
   ]
  },
  {
   "cell_type": "markdown",
   "metadata": {},
   "source": [
    "## **`STEP 8` - Segmentation of single nucleus from cytoplasm; cell mask applied**"
   ]
  },
  {
   "cell_type": "markdown",
   "metadata": {},
   "source": [
    "- logical **AND** of the cellmask and aggregate cytoplasm mask"
   ]
  },
  {
   "cell_type": "code",
   "execution_count": 29,
   "metadata": {},
   "outputs": [],
   "source": [
    "good_cyto = apply_mask(test_cyto_masks, good_cell).astype(bool)"
   ]
  },
  {
   "cell_type": "markdown",
   "metadata": {},
   "source": [
    "- invert cytoplasm mask and clear border (nucleus mask)\n",
    "- fill holes (hole size = user input)\n",
    "- remove small objects (object size = user input)"
   ]
  },
  {
   "cell_type": "code",
   "execution_count": 30,
   "metadata": {},
   "outputs": [],
   "source": [
    "good_cyto_inverse = 1 - good_cyto\n",
    "\n",
    "nuc_single = clear_border(good_cyto_inverse)\n",
    "\n",
    "good_nuc = fill_and_filter_linear_size(nuc_single,\n",
    "                                       hole_min=0,\n",
    "                                       hole_max=0,\n",
    "                                       min_size=10,\n",
    "                                       method='3D').astype(bool)"
   ]
  },
  {
   "cell_type": "markdown",
   "metadata": {},
   "source": [
    "Define `_mask_cytoplasm_nuclei` function"
   ]
  },
  {
   "cell_type": "code",
   "execution_count": 31,
   "metadata": {},
   "outputs": [],
   "source": [
    "def _mask_cytoplasm_nuclei(cellmask: np.ndarray,\n",
    "                           cyto_seg: np.ndarray,\n",
    "                           small_obj_size: int):\n",
    "    \"\"\" \n",
    "    mask the cytoplasm with the cell mask to isolate the cytoplasmic area of intereste.\n",
    "    create a single nuclei segmentation from the inverse of the cytoplas (no binary opening)\n",
    "\n",
    "    Parameters:\n",
    "    ----------\n",
    "    cellmask: \n",
    "        binary segmentation of a single cell\n",
    "    cyto_seg:\n",
    "        semantic segmentation of cytoplasm from multiple cells in an image\n",
    "    small_obj_size:\n",
    "        size of small objects to be removed from the final nucleus segmentation image\n",
    "    \"\"\"\n",
    "\n",
    "    good_cyto = apply_mask(cyto_seg, cellmask).astype(bool)\n",
    "\n",
    "    good_cyto_inverse = 1 - good_cyto\n",
    "\n",
    "    nuc_single = clear_border(good_cyto_inverse)\n",
    "\n",
    "    good_nuc = fill_and_filter_linear_size(nuc_single,\n",
    "                                        hole_min=0,\n",
    "                                        hole_max=0, \n",
    "                                        min_size=small_obj_size,\n",
    "                                        method='3D')\n",
    "    \n",
    "    return good_nuc, good_cyto"
   ]
  },
  {
   "cell_type": "code",
   "execution_count": 32,
   "metadata": {},
   "outputs": [],
   "source": [
    "### Old version that returned a stack instead\n",
    "\n",
    "# def _mask_cytoplasm_nuclei(cellmask: np.ndarray,\n",
    "#                            cyto_seg: np.ndarray,\n",
    "#                            small_obj_size: int):\n",
    "#     \"\"\" \n",
    "#     mask the cytoplasm with the cell mask to isolate the cytoplasmic area of intereste.\n",
    "#     create a single nuclei segmentation from the inverse of the cytoplas (no binary opening)\n",
    "\n",
    "#     Parameters:\n",
    "#     ----------\n",
    "#     cellmask: \n",
    "#         binary segmentation of a single cell\n",
    "#     cyto_seg:\n",
    "#         semantic segmentation of cytoplasm from multiple cells in an image\n",
    "#     small_obj_size:\n",
    "#         size of small objects to be removed from the final nucleus segmentation image\n",
    "#     \"\"\"\n",
    "\n",
    "#     good_cyto = apply_mask(cyto_seg, cellmask).astype(bool)\n",
    "\n",
    "#     good_cyto_inverse = 1 - good_cyto\n",
    "\n",
    "#     nuc_single = clear_border(good_cyto_inverse)\n",
    "\n",
    "#     good_nuc = fill_and_filter_linear_size(nuc_single,\n",
    "#                                         hole_min=0,\n",
    "#                                         hole_max=0, \n",
    "#                                         min_size=small_obj_size,\n",
    "#                                         method='3D')\n",
    "    \n",
    "#     stack = stack_masks(nuc_mask=good_nuc, cellmask=cellmask, cyto_mask=good_cyto)\n",
    "    \n",
    "#     return stack"
   ]
  },
  {
   "cell_type": "markdown",
   "metadata": {},
   "source": [
    "Run `_mask_cytoplasm_nuclei` function"
   ]
  },
  {
   "cell_type": "code",
   "execution_count": 33,
   "metadata": {},
   "outputs": [
    {
     "data": {
      "text/plain": [
       "(True, True)"
      ]
     },
     "execution_count": 33,
     "metadata": {},
     "output_type": "execute_result"
    }
   ],
   "source": [
    "test_good_nuc, test_good_cyto = _mask_cytoplasm_nuclei(good_cell, test_cyto_masks, 10)\n",
    "\n",
    "np.array_equal(test_good_cyto, good_cyto), np.array_equal(test_good_nuc, good_nuc)"
   ]
  },
  {
   "cell_type": "code",
   "execution_count": 34,
   "metadata": {},
   "outputs": [],
   "source": [
    "# test_good_nuc, test_good_cell, test_good_cyto = _mask_cytoplasm_nuclei(good_cell, test_cyto_masks, 10)\n",
    "\n",
    "# np.array_equal(test_good_cyto, good_cyto), np.array_equal(test_good_nuc, good_nuc)"
   ]
  },
  {
   "cell_type": "markdown",
   "metadata": {},
   "source": [
    "# ***EXPORT prototype - masks_B***"
   ]
  },
  {
   "cell_type": "markdown",
   "metadata": {},
   "source": [
    "## **`STEP 9` - Stack masks**"
   ]
  },
  {
   "cell_type": "markdown",
   "metadata": {},
   "source": [
    "- stack masks in order of nucleus, cellmask and cytoplasm mask"
   ]
  },
  {
   "cell_type": "code",
   "execution_count": 35,
   "metadata": {},
   "outputs": [],
   "source": [
    "stack = stack_masks(nuc_mask=test_good_nuc, cellmask=test_good_cell, cyto_mask=test_good_cyto)"
   ]
  },
  {
   "cell_type": "markdown",
   "metadata": {},
   "source": [
    "Export `masks_B` file to output folder"
   ]
  },
  {
   "cell_type": "code",
   "execution_count": 36,
   "metadata": {},
   "outputs": [
    {
     "name": "stdout",
     "output_type": "stream",
     "text": [
      "saved file: 05052022_astro_control_2_Linear unmixing_0_cmle.ome-masks_B\n"
     ]
    }
   ],
   "source": [
    "out_file_n = export_inferred_organelle(stack, \"masks_B\", meta_dict, out_data_path)"
   ]
  },
  {
   "cell_type": "code",
   "execution_count": 37,
   "metadata": {},
   "outputs": [
    {
     "name": "stdout",
     "output_type": "stream",
     "text": [
      "saved file: 05052022_astro_control_2_Linear unmixing_0_cmle.ome-masks\n"
     ]
    }
   ],
   "source": [
    "# Whether or not to include the segmentation in the batch processing performed in part 2 of infer-subc (quantification)\n",
    "to_batch = True\n",
    "if to_batch:\n",
    "    out_file_b = export_inferred_organelle(stack, \"masks\", meta_dict, Path(os.getcwd()).parents[1] / \"sample_data\" /  \"batch_example\" / \"seg\")"
   ]
  },
  {
   "cell_type": "markdown",
   "metadata": {},
   "source": [
    "## **Visualize `nucleus`, `cellmask` and `cytoplasm`**"
   ]
  },
  {
   "cell_type": "code",
   "execution_count": 38,
   "metadata": {},
   "outputs": [],
   "source": [
    "viewer_masks_B = napari.Viewer(title = \"masks_B\",\n",
    "                           ndisplay=3)\n",
    "viewer_masks_B.grid.enabled = True"
   ]
  },
  {
   "cell_type": "code",
   "execution_count": 39,
   "metadata": {},
   "outputs": [
    {
     "data": {
      "image/png": "[encoded data removed]",
      "text/html": [
       "<img src=\"data:image/png;base64,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\" alt=\"\"></img>"
      ],
      "text/plain": [
       "<napari.utils.notebook_display.NotebookScreenshot at 0x206cc16f940>"
      ]
     },
     "execution_count": 39,
     "metadata": {},
     "output_type": "execute_result"
    }
   ],
   "source": [
    "viewer_masks_B.add_image(stack[2].astype(bool),\n",
    "                      scale = scale,\n",
    "                      name = 'Cytoplasm',\n",
    "                      rendering = 'average')\n",
    "\n",
    "viewer_masks_B.add_image(stack[1].astype(bool),\n",
    "                      scale = scale,\n",
    "                      name = 'Cellmask',\n",
    "                      rendering = 'average')\n",
    "\n",
    "viewer_masks_B.add_image(stack[0].astype(bool),\n",
    "                      scale = scale,\n",
    "                      name = 'Nucleus')\n",
    "\n",
    "viewer_masks_B.reset_view()\n",
    "\n",
    "nbscreenshot(viewer_masks_B,\n",
    "             canvas_only = True)"
   ]
  },
  {
   "cell_type": "markdown",
   "metadata": {},
   "source": [
    "-------------\n",
    "### NEXT: INFER LYSOSOME\n",
    "\n",
    "proceed to [1.2_infer_lysosome.ipynb](./1.2_infer_lysosome.ipynb)"
   ]
  }
 ],
 "metadata": {
  "kernelspec": {
   "display_name": "infer-subc-sample",
   "language": "python",
   "name": "python3"
  },
  "language_info": {
   "codemirror_mode": {
    "name": "ipython",
    "version": 3
   },
   "file_extension": ".py",
   "mimetype": "text/x-python",
   "name": "python",
   "nbconvert_exporter": "python",
   "pygments_lexer": "ipython3",
   "version": "3.10.16"
  },
  "orig_nbformat": 4
 },
 "nbformat": 4,
 "nbformat_minor": 2
}
