{
 "cells": [
  {
   "cell_type": "markdown",
   "metadata": {},
   "source": [
    "# Infer ***nucleus***, ***cellmask***, and ***cytoplasm*** from a composite image of cytoplasmic organelles\n",
    "### Alternative workflow: ***\"B\"*** (an alternative workflow for images with only cytoplasmic organelles, NO **nuclei** or **cell membrane** makers, and more than one cell per field of view)\n",
    "--------------\n",
    "\n",
    "## OBJECTIVES\n",
    "### <input type=\"checkbox\"/> Infer sub-cellular component #1️: ***cytoplasm***\n",
    "Segment the ***cytoplasm*** of all cell in the image using a composite of multiple organelle markers combined. This mask should be specific to the cytoplasmic area, but will only be a semantic segmentation.\n",
    "\n",
    "> ###### **Biological relevance: The combination of organelle markers used to create the composite image for the cytoplasm segmentation is based on the assumption that the organelle labels used will \"fill up\" the entire cytoplasm (not including the nucleus). This is NOT the most accurate method to determine the cell area, but is required in the case where membrane and nuclei markers can not or are not included. This largely depends on the organelle labeles used and the cell type.**\n",
    "> ###### ***It is important to consider specifics of your system as the cell type and labeling method may differ from the example above.***\n",
    "\n",
    "\n",
    "### <input type=\"checkbox\"/> Infer sub-cellular component #2️: ***nucleus***\n",
    "Segment all ***nuclei*** from the inverse of the ***cytoplasm*** mask. Because the organelles used for the composite are cytoplasmic, the nuclei should remain \"empty\".\n",
    "\n",
    "\n",
    "### <input type=\"checkbox\"/> Infer sub-cellular component #3️: ***cellmask***\n",
    "Segment the ***cellmask*** by combining the ***cytoplasm*** and ***nucleus*** masks. To create an instance segmentation of the cellmask, the nuclei will be used as the seeds for the watershed operation. The cell with the highest combined fluorescence intensity will be considered the main cell for analysis and everything else will be discarded. The nuclei and cytoplasm associated to that cell will be selected by masking.\n",
    "\n",
    "> ###### 📝 **this workflow is optimized for images with multiple fluorescent cells in the field of view**"
   ]
  },
  {
   "cell_type": "markdown",
   "metadata": {},
   "source": [
    "---------\n",
    "## **masks_B workflow**\n",
    "### summary of steps\n",
    "\n",
    "➡️ **EXTRACTION**\n",
    "- **`STEP 1`** - Create composite image\n",
    "\n",
    "    - determine weight to apply to each channel of the intensity image (w# = user input)\n",
    "    - rescale summed image intensities (rescale = user input)\n",
    "\n",
    "**PRE-PROCESSING**\n",
    "- **`STEP 2`** - Rescale and smooth image\n",
    "\n",
    "    - rescale intensity of composite image (min=0, max=1)\n",
    "    - median filter (median size = user input)\n",
    "    - gaussian filter (sigma = user input)\n",
    "\n",
    "- **`STEP 3`** - Log transform + Scharr edge detection\n",
    "\n",
    "    - perform a log transformation on the image\n",
    "    - apply Scharr edge detection filter\n",
    "    - combine log image and Scharr edge filtered intensity image\n",
    " \n",
    "**CORE PROCESSING**\n",
    "- **`STEP 4`** - Semantic segmentation of the cytoplasm\n",
    "\n",
    "    - apply MO thresholding method from the Allen Cell [aicssegmentation](https://github.com/AllenCell/aics-segmentation) package (threshold options = user input)\n",
    "    - fill holes (hole size = user input)\n",
    "    - remove small objects (object size = user input)\n",
    "    - filter method = (method = user input)\n",
    "    \n",
    "- **`STEP 5`** - Segmentation of nuclei ‘seeds’ from cytoplasm\n",
    "\n",
    "    - binary opening of inverted aggregate cytoplasm mask (eroded -> dilated)\n",
    "    - fill nuclei in aggregate cytoplasm mask (hole size = user input)\n",
    "    - logical **XOR** of the cytoplasm and the filled in cytoplasm resulting in the nucleus and any artifacts from binary opening (erosion -> dilation)\n",
    "    - remove small objects (object size = user input)\n",
    "    \n",
    "- **`STEP 6`** - Combine nucleus masks and cytoplasm masks\n",
    "\n",
    "    - logical **OR** of the nucleus and cytoplasm\n",
    "    - fill gaps (hole size = user input)\n",
    "\n",
    "**POST-PROCESSING**\n",
    "- **`STEP 7`** - Label cells based on nuclei 'seeds'; isolate highest intensity\n",
    "\n",
    "    - perform a masked inverted watershed with the aggregate cellmask segmentation and the nuclei seeds\n",
    "    - select the label with the highest total intensity\n",
    "\n",
    "**POST-POST-PROCESSING**\n",
    "- **`STEP 8`** - Segmentation of single nucleus from cytoplasm; cell mask applied\n",
    "\n",
    "    - logical **AND** of the cellmask and aggregate cytoplasm mask\n",
    "    - invert cytoplasm mask and clear border (nucleus mask)\n",
    "    - fill holes (hole size = user input)\n",
    "    - remove small objects (object size = user input)\n",
    "\n",
    "**EXPORT** ➡️\n",
    "- **`STEP 9`** - Stack masks\n",
    "\n",
    "    - stack masks in order of nucleus, cellmask and cytoplasm mask"
   ]
  },
  {
   "cell_type": "markdown",
   "metadata": {},
   "source": [
    "---------\n",
    "## **IMPORTS**"
   ]
  },
  {
   "cell_type": "markdown",
   "metadata": {},
   "source": [
    "#### &#x1F3C3; **Run code; no user input required**\n",
    "\n",
    "&#x1F453; **FYI:** This code block loads all of the necessary python packages and functions you will need for this notebook. "
   ]
  },
  {
   "cell_type": "code",
   "execution_count": null,
   "metadata": {},
   "outputs": [],
   "source": [
    "from pathlib import Path\n",
    "import os\n",
    "from typing import Union\n",
    "\n",
    "import numpy as np\n",
    "import napari\n",
    "from napari.utils.notebook_display import nbscreenshot\n",
    "\n",
    "from skimage.segmentation import clear_border #watershed, \n",
    "from skimage.morphology import binary_opening#, remove_small_holes, binary_erosion   # function for post-processing (size filter)\n",
    "from skimage.measure import label\n",
    "\n",
    "from infer_subc.core.file_io import (read_czi_image,\n",
    "                                     export_inferred_organelle,\n",
    "                                     list_image_files)\n",
    "\n",
    "                                             \n",
    "from infer_subc.core.img import *\n",
    "from infer_subc.organelles import non_linear_cellmask_transform\n",
    "\n",
    "%load_ext autoreload\n",
    "%autoreload 2\n"
   ]
  },
  {
   "cell_type": "markdown",
   "metadata": {},
   "source": [
    "## **LOAD AND READ IN IMAGE FOR PROCESSING**"
   ]
  },
  {
   "cell_type": "markdown",
   "metadata": {},
   "source": [
    "#### &#x1F6D1; &#x270D; **User Input Required:**"
   ]
  },
  {
   "cell_type": "code",
   "execution_count": null,
   "metadata": {},
   "outputs": [],
   "source": [
    "# Specify the file type of your raw data that will be analyzed. Ex) \".czi\" or \".tiff\"\n",
    "im_type = \".tiff\"\n",
    "\n",
    "## Define the path to the directory that contains the input image folder.\n",
    "data_root_path = Path(os.getcwd()).parents[1] / \"sample_data\" /  \"example_astrocyte\"\n",
    "\n",
    "## Specify which subfolder that contains the input data\n",
    "in_data_path = data_root_path / \"raw\"\n",
    "\n",
    "## Specify the output folder\n",
    "out_data_path = data_root_path / \"seg\"\n",
    "\n",
    "# Specify which file you'd like to segment from the img_file_list\n",
    "test_img_n = 0"
   ]
  },
  {
   "cell_type": "markdown",
   "metadata": {},
   "source": [
    "#### &#x1F3C3; **Run code; no user input required**"
   ]
  },
  {
   "cell_type": "code",
   "execution_count": null,
   "metadata": {},
   "outputs": [],
   "source": [
    "if not Path.exists(out_data_path):\n",
    "    Path.mkdir(out_data_path)\n",
    "    print(f\"making {out_data_path}\")\n",
    "\n",
    "img_file_list = list_image_files(in_data_path,im_type)\n",
    "# pd.set_option('display.max_colwidth', None)\n",
    "# pd.DataFrame({\"Image Name\":img_file_list})"
   ]
  },
  {
   "cell_type": "code",
   "execution_count": null,
   "metadata": {},
   "outputs": [],
   "source": [
    "test_img_name = img_file_list[test_img_n]\n",
    "\n",
    "img_data,meta_dict = read_czi_image(test_img_name)\n",
    "\n",
    "channel_names = meta_dict['name']\n",
    "img = meta_dict['metadata']['aicsimage']\n",
    "scale = meta_dict['scale']\n",
    "channel_axis = meta_dict['channel_axis']"
   ]
  },
  {
   "cell_type": "markdown",
   "metadata": {},
   "source": [
    "# ***EXTRACTION prototype - masks_B***\n"
   ]
  },
  {
   "cell_type": "markdown",
   "metadata": {},
   "source": [
    "## **`STEP 1` - Create composite image**"
   ]
  },
  {
   "cell_type": "markdown",
   "metadata": {},
   "source": [
    "- determine weight to apply to each channel of the intensity image (w# = user input)\n",
    "- rescale summed image intensities (rescale = user input)"
   ]
  },
  {
   "cell_type": "code",
   "execution_count": null,
   "metadata": {},
   "outputs": [],
   "source": [
    "# Creating a composite image\n",
    "\n",
    "w0 = 2\n",
    "w1 = 2\n",
    "w2 = 3\n",
    "w3 = 1\n",
    "w4 = 4\n",
    "w5 = 2\n",
    "w6 = 0\n",
    "w7 = 0\n",
    "w8 = 0\n",
    "w9 = 0\n",
    "\n",
    "rescale = True\n",
    "\n",
    "struct_img_raw = make_aggregate(img_data,\n",
    "               weight_ch0= w0,\n",
    "               weight_ch1= w1,\n",
    "               weight_ch2= w2,\n",
    "               weight_ch3= w3,\n",
    "               weight_ch4= w4,\n",
    "               weight_ch5= w5,\n",
    "               weight_ch6= w6,\n",
    "               weight_ch7= w7,\n",
    "               weight_ch8= w8,\n",
    "               weight_ch9= w9,\n",
    "               rescale = rescale)\n",
    "\n",
    "# weights = [4,3,1,1,6,6]\n",
    "# struct_img_raw = weighted_aggregate(img_data, *weights)"
   ]
  },
  {
   "cell_type": "markdown",
   "metadata": {},
   "source": [
    "# ***PRE-PROCESSING prototype - masks_B***"
   ]
  },
  {
   "cell_type": "markdown",
   "metadata": {},
   "source": [
    "## **`STEP 2` - Rescale and smooth image**"
   ]
  },
  {
   "cell_type": "markdown",
   "metadata": {},
   "source": [
    "- rescale intensity of composite image (min=0, max=1)\n",
    "- median filter (median size = user input)\n",
    "- gaussian filter (sigma = user input)\n",
    "\n",
    "> **NOTE**: No smoothing was done here because these test images were already pre-processed."
   ]
  },
  {
   "cell_type": "code",
   "execution_count": null,
   "metadata": {},
   "outputs": [],
   "source": [
    "med_filter_size = 0\n",
    "gaussian_smoothing_sigma = 0\n",
    "\n",
    "structure_img_smooth = scale_and_smooth(struct_img_raw,\n",
    "                                        median_size = med_filter_size, \n",
    "                                        gauss_sigma = gaussian_smoothing_sigma)"
   ]
  },
  {
   "cell_type": "markdown",
   "metadata": {},
   "source": [
    "## **`STEP 3` - Log transform + Scharr edge detection**"
   ]
  },
  {
   "cell_type": "markdown",
   "metadata": {},
   "source": [
    "- perform a log transformation on the image\n",
    "- apply Scharr edge detection filter\n",
    "- combine log image and Scharr edge filtered intensity image"
   ]
  },
  {
   "cell_type": "code",
   "execution_count": null,
   "metadata": {},
   "outputs": [],
   "source": [
    "# log scale the image, apply the scharr edge detection filter to logged image, add the two images together\n",
    "composite_cytomask = non_linear_cellmask_transform(structure_img_smooth)"
   ]
  },
  {
   "cell_type": "markdown",
   "metadata": {},
   "source": [
    "# ***CORE-PROCESSING prototype - masks_B***"
   ]
  },
  {
   "cell_type": "markdown",
   "metadata": {},
   "source": [
    "## **`STEP 4` -  Semantic segmentation of the cytoplasm**"
   ]
  },
  {
   "cell_type": "markdown",
   "metadata": {},
   "source": [
    "- apply MO thresholding method from the Allen Cell [aicssegmentation](https://github.com/AllenCell/aics-segmentation) package (threshold options = user input)"
   ]
  },
  {
   "cell_type": "code",
   "execution_count": null,
   "metadata": {},
   "outputs": [],
   "source": [
    "# threshold the composite image after\n",
    "# log/edge detection then use the MO filter function from aicssegmentation - this applies a global threshold, then a local threshold to produce a semantic segmentation\n",
    "thresh_method = 'med'\n",
    "cutoff_size =  200\n",
    "thresh_adj = 0.914286\n",
    "\n",
    "bw_cyto = masked_object_thresh(composite_cytomask, \n",
    "                          global_method=thresh_method, \n",
    "                          cutoff_size=cutoff_size, \n",
    "                          local_adjust=thresh_adj)"
   ]
  },
  {
   "cell_type": "markdown",
   "metadata": {},
   "source": [
    "- fill holes (hole size = user input)\n",
    "- remove small objects (object size = user input)\n",
    "- filter method = (method = user input)"
   ]
  },
  {
   "cell_type": "markdown",
   "metadata": {},
   "source": [
    "> ###### 📝 **the size parameters are by convention defined as one dimensional \"width\", so the inputs to the functions are _squared_ i.e. raised to the power of 2: `**2` for 2D analysis. For volumetric (3D) analysis this would be _cubed_: `**3`.**"
   ]
  },
  {
   "cell_type": "code",
   "execution_count": null,
   "metadata": {},
   "outputs": [],
   "source": [
    "hole_min_width = 0\n",
    "hole_max_width = 50\n",
    "\n",
    "small_object_width = 50\n",
    "\n",
    "fill_filter_method = \"slice_by_slice\"\n",
    "\n",
    "cleaned_cyto = fill_and_filter_linear_size(bw_cyto, \n",
    "                                           hole_min=hole_min_width, \n",
    "                                           hole_max=hole_max_width, \n",
    "                                           min_size= small_object_width,\n",
    "                                           method=fill_filter_method)"
   ]
  },
  {
   "cell_type": "markdown",
   "metadata": {},
   "source": [
    "###### This cell ensures the cytoplasm mask is a boolean"
   ]
  },
  {
   "cell_type": "code",
   "execution_count": null,
   "metadata": {},
   "outputs": [],
   "source": [
    "# cytoplasm_mask = label_bool_as_uint16(cleaned_cyto)\n",
    "\n",
    "cytoplasm_multiple = cleaned_cyto.astype(bool)"
   ]
  },
  {
   "cell_type": "markdown",
   "metadata": {},
   "source": [
    "Define `_segment_cytoplasm_area` function"
   ]
  },
  {
   "cell_type": "code",
   "execution_count": null,
   "metadata": {},
   "outputs": [],
   "source": [
    "def _segment_cytoplasm_area(in_img: np.ndarray, \n",
    "                           MO_method: str,\n",
    "                           MO_cutoff: int,\n",
    "                           MO_adjust: float,\n",
    "                           holefill_min: int,\n",
    "                           holefill_max: int,\n",
    "                           obj_min_size: int,\n",
    "                           fill_filter_method: str):\n",
    "    \"\"\" \n",
    "    Function for segmenting the cytoplasmic area from a fluorescent image\n",
    "\n",
    "    Parameters:\n",
    "    ----------\n",
    "    in_img: np.ndarray, \n",
    "        fluorescence image (single channel, ZYX array) of the cytoplasm to get segmented\n",
    "    MO_method: str,\n",
    "        masked object threshold method; options: 'med', 'tri', 'ave'\n",
    "    MO_cutoff: int,\n",
    "        object cutoff size for the MO threshold method\n",
    "    MO_adjust: float,\n",
    "        adjustment value for the MO threshold method\n",
    "    holefill_min: int,\n",
    "        smallest sized hole to fill in the final mask\n",
    "    holefill_max: int,\n",
    "        largest sized hole to fill in the final mask\n",
    "    obj_min_size: int,\n",
    "        size of the smallest object to be included in the mask; small objects are removed\n",
    "    fill_filter_method: str\n",
    "        fill holes and remove small objects in '3D' or 'slice_by_slice'\n",
    "\n",
    "\n",
    "    \"\"\"\n",
    "    # create cytoplasm mask\n",
    "    bw_cyto = masked_object_thresh(in_img, \n",
    "                            global_method=MO_method, \n",
    "                            cutoff_size=MO_cutoff, \n",
    "                            local_adjust=MO_adjust)\n",
    "    \n",
    "    # fill holes and filter small objects from the raw mask\n",
    "    cleaned_cyto = fill_and_filter_linear_size(bw_cyto, \n",
    "                                            hole_min=holefill_min, \n",
    "                                            hole_max=holefill_max, \n",
    "                                            min_size= obj_min_size,\n",
    "                                            method=fill_filter_method)\n",
    "    \n",
    "    # create a boolean mask\n",
    "    cyto_semantic_seg = cleaned_cyto.astype(bool)\n",
    "\n",
    "    return cyto_semantic_seg"
   ]
  },
  {
   "cell_type": "markdown",
   "metadata": {},
   "source": [
    "Run `_segment_cytoplasm_area` function"
   ]
  },
  {
   "cell_type": "code",
   "execution_count": null,
   "metadata": {},
   "outputs": [],
   "source": [
    "thresh_method = 'med'\n",
    "cutoff_size =  200\n",
    "thresh_adj = 0.914286\n",
    "hole_min_width = 0\n",
    "hole_max_width = 50\n",
    "\n",
    "small_object_width = 50\n",
    "\n",
    "fill_filter_method = \"slice_by_slice\"\n",
    "\n",
    "test_cyto_masks = _segment_cytoplasm_area(composite_cytomask,\n",
    "                                          MO_method=thresh_method,\n",
    "                                          MO_cutoff=cutoff_size,\n",
    "                                          MO_adjust=thresh_adj,\n",
    "                                          holefill_max=hole_max_width,\n",
    "                                          holefill_min=hole_min_width,\n",
    "                                          obj_min_size=small_object_width,\n",
    "                                          fill_filter_method=fill_filter_method)\n",
    "\n",
    "# np.array_equal(test_cyto_masks, cytoplasm_multiple)"
   ]
  },
  {
   "cell_type": "markdown",
   "metadata": {},
   "source": [
    "## **`STEP 5` - Segmentation of nuclei ‘seeds’ from cytoplasm**"
   ]
  },
  {
   "cell_type": "markdown",
   "metadata": {},
   "source": [
    "- binary opening of inverted aggregate cytoplasm mask (erosion -> dilation)"
   ]
  },
  {
   "cell_type": "code",
   "execution_count": null,
   "metadata": {},
   "outputs": [],
   "source": [
    "cytoplasm_inverse = 1 - test_cyto_masks\n",
    "\n",
    "cytoplasm_inv_opened = binary_opening(cytoplasm_inverse, footprint=np.ones([3,3,3]))"
   ]
  },
  {
   "cell_type": "markdown",
   "metadata": {},
   "source": [
    "- fill nuclei in aggregate cytoplasm mask (hole size = user input)\n",
    "- logical **XOR** of the cytoplasm and the filled in cytoplasm resulting in the nucleus and any artifacts from binary opening"
   ]
  },
  {
   "cell_type": "code",
   "execution_count": null,
   "metadata": {},
   "outputs": [],
   "source": [
    "max_nuc_width = 350\n",
    "\n",
    "nuc_removed = fill_and_filter_linear_size(cytoplasm_inv_opened, \n",
    "                                          hole_max=0, \n",
    "                                          hole_min=0, \n",
    "                                          min_size=max_nuc_width, \n",
    "                                          method='3D')\n",
    "\n",
    "nuc_objs = np.logical_xor(cytoplasm_inv_opened, nuc_removed)"
   ]
  },
  {
   "cell_type": "markdown",
   "metadata": {},
   "source": [
    "- remove small objects (object size = user input)"
   ]
  },
  {
   "cell_type": "code",
   "execution_count": null,
   "metadata": {},
   "outputs": [],
   "source": [
    "hole_max = 0\n",
    "hole_min = 0\n",
    "min_size = 15\n",
    "\n",
    "nuc_cleaned = fill_and_filter_linear_size(nuc_objs, \n",
    "                                          hole_max=hole_max, \n",
    "                                          hole_min=hole_min, \n",
    "                                          min_size=min_size, \n",
    "                                          method='3D')"
   ]
  },
  {
   "cell_type": "markdown",
   "metadata": {},
   "source": [
    "###### Create labels for the nuclei seeds that will be used during the watershedding algorithm"
   ]
  },
  {
   "cell_type": "code",
   "execution_count": null,
   "metadata": {},
   "outputs": [],
   "source": [
    "# create instance segmentation based on connectivity\n",
    "nuc_labels = label(nuc_cleaned).astype(np.uint16)"
   ]
  },
  {
   "cell_type": "markdown",
   "metadata": {},
   "source": [
    "Define `_segment_nuclei_seeds` function"
   ]
  },
  {
   "cell_type": "code",
   "execution_count": null,
   "metadata": {},
   "outputs": [],
   "source": [
    "def _segment_nuclei_seeds(cyto_seg: np.ndarray,\n",
    "                          max_nuclei_width: int,\n",
    "                          filter_small_objs: int):\n",
    "    \"\"\" \n",
    "    \n",
    "    \n",
    "    \"\"\"\n",
    "    # create the inverse of the cytoplasm and increase likelihood for object separation with binary opening\n",
    "    cytoplasm_inverse = 1 - cyto_seg\n",
    "    cytoplasm_inv_opened = binary_opening(cytoplasm_inverse, footprint=np.ones([3,3,3]))\n",
    "\n",
    "    # isolate the nuclei objects that fill be used as seeds for watershed\n",
    "    # these aren't exactly the inverse of the cytoplasm because of the binary opening\n",
    "    nuc_removed = fill_and_filter_linear_size(cytoplasm_inv_opened, \n",
    "                                            hole_max=0, \n",
    "                                            hole_min=0, \n",
    "                                            min_size=max_nuclei_width, \n",
    "                                            method='3D')\n",
    "\n",
    "    nuc_objs = np.logical_xor(cytoplasm_inv_opened, nuc_removed)\n",
    "\n",
    "    # remove an small debris leftover that aren't the correct size for nuclei\n",
    "    nuc_cleaned = fill_and_filter_linear_size(nuc_objs, \n",
    "                                            hole_max=0, \n",
    "                                            hole_min=0, \n",
    "                                            min_size=filter_small_objs, \n",
    "                                            method='3D')\n",
    "    \n",
    "\n",
    "    return label(nuc_cleaned).astype(np.uint16)"
   ]
  },
  {
   "cell_type": "markdown",
   "metadata": {},
   "source": [
    "Run `_segment_nuclei_seeds` function"
   ]
  },
  {
   "cell_type": "code",
   "execution_count": null,
   "metadata": {},
   "outputs": [],
   "source": [
    "test_nuc_labels = _segment_nuclei_seeds(test_cyto_masks, max_nuclei_width=350, filter_small_objs=10)\n",
    "\n",
    "np.array_equal(nuc_labels, test_nuc_labels)"
   ]
  },
  {
   "cell_type": "markdown",
   "metadata": {},
   "source": [
    "## **`STEP 6` - Combine nucleus masks and cytoplasm masks**"
   ]
  },
  {
   "cell_type": "markdown",
   "metadata": {},
   "source": [
    "- logical **OR** of the nucleus and cytoplasm"
   ]
  },
  {
   "cell_type": "code",
   "execution_count": null,
   "metadata": {},
   "outputs": [],
   "source": [
    "cells = np.logical_or(test_nuc_labels, test_cyto_masks)"
   ]
  },
  {
   "cell_type": "markdown",
   "metadata": {},
   "source": [
    "- fill gaps (hole size = user input)"
   ]
  },
  {
   "cell_type": "code",
   "execution_count": null,
   "metadata": {},
   "outputs": [],
   "source": [
    "cell_multiple = fill_and_filter_linear_size(cells, \n",
    "                                            hole_min=0,\n",
    "                                            hole_max=20,\n",
    "                                            min_size=0,\n",
    "                                            method='3D')"
   ]
  },
  {
   "cell_type": "markdown",
   "metadata": {},
   "source": [
    "Define `_combine_cytoplasm_and_nuclei` function"
   ]
  },
  {
   "cell_type": "code",
   "execution_count": null,
   "metadata": {},
   "outputs": [],
   "source": [
    "def _combine_cytoplasm_and_nuclei(cyto_seg: np.ndarray,\n",
    "                                  nuc_seg: np.ndarray,\n",
    "                                  fillhole_max: int):\n",
    "    \"\"\"\n",
    "    Function to combine the the cytoplasm and nuclei segmentations to produce the entire cell mask.\n",
    "\n",
    "    Parameters:\n",
    "    ----------\n",
    "    cyto_seg: np.ndarray,\n",
    "        image containing the cytoplasm segmentation\n",
    "    nuc_seg: np.ndarray,\n",
    "        image containing the nuclei segmentation\n",
    "    fillhole_max: int\n",
    "        size of the gaps between the nuclei and cytoplasm (usually small)\n",
    "    \"\"\" \n",
    "    \n",
    "    cells = np.logical_or(cyto_seg.astype(bool), nuc_seg.astype(bool))\n",
    "\n",
    "    cell_multiple = fill_and_filter_linear_size(cells, \n",
    "                                                hole_min=0,\n",
    "                                                hole_max=fillhole_max,\n",
    "                                                min_size=0,\n",
    "                                                method='3D')\n",
    "    \n",
    "    cell_area = cell_multiple.astype(bool)\n",
    "\n",
    "    return cell_area"
   ]
  },
  {
   "cell_type": "markdown",
   "metadata": {},
   "source": [
    "Run `_combine_cytoplasm_and_nuclei` function"
   ]
  },
  {
   "cell_type": "code",
   "execution_count": null,
   "metadata": {},
   "outputs": [],
   "source": [
    "test_cell_area = _combine_cytoplasm_and_nuclei(test_cyto_masks, test_nuc_labels, 20)\n",
    "\n",
    "np.array_equal(cell_multiple, test_cell_area)"
   ]
  },
  {
   "cell_type": "markdown",
   "metadata": {},
   "source": [
    "# ***POST-PROCESSING prototype - masks_B***"
   ]
  },
  {
   "cell_type": "markdown",
   "metadata": {},
   "source": [
    "## **`STEP 7` - Label cells based on nuclei 'seeds'; isolate highest intensity**"
   ]
  },
  {
   "cell_type": "markdown",
   "metadata": {},
   "source": [
    "- perform a masked inverted watershed with the aggregate cellmask segmentation and the nuclei seeds"
   ]
  },
  {
   "cell_type": "code",
   "execution_count": null,
   "metadata": {},
   "outputs": [],
   "source": [
    "cell_labels = masked_inverted_watershed(test_cell_area, markers=nuc_labels, mask=test_cell_area, method='3D')"
   ]
  },
  {
   "cell_type": "markdown",
   "metadata": {},
   "source": [
    "- select the label with the highest total intensity (collect labels)"
   ]
  },
  {
   "cell_type": "code",
   "execution_count": null,
   "metadata": {},
   "outputs": [],
   "source": [
    "# determine the brightest cell\n",
    "target_labels = None\n",
    "labels_in = cell_labels\n",
    "\n",
    "if target_labels is None:\n",
    "    all_labels = np.unique(cell_labels)[1:]\n",
    "else:\n",
    "    all_labels = np.unique(target_labels)[1:]\n",
    "\n",
    "all_labels\n",
    "\n",
    "# # determine the largest cell\n",
    "# cell_IDs = np.unique(cell_labels)[1:]\n",
    "\n",
    "# dict = {}\n",
    "# for obj in cell_IDs:\n",
    "#     pxlcnt = np.sum(cell_labels==obj)\n",
    "#     dict[obj] = pxlcnt\n",
    "\n",
    "# largest_ID = max(dict, key=dict.get)\n",
    "# largest_cell = cell_labels == largest_ID\n",
    "\n",
    "# largest_ID, dict"
   ]
  },
  {
   "cell_type": "markdown",
   "metadata": {},
   "source": [
    "- select the label with the highest total intensity (create composites from normalized channels)"
   ]
  },
  {
   "cell_type": "code",
   "execution_count": null,
   "metadata": {},
   "outputs": [],
   "source": [
    "# create a composite from each intensity channel after they have been min-max normalized\n",
    "norm_channels = [(min_max_intensity_normalization(img_data[c])) for c in range(len(img_data))]\n",
    "normed_signal = np.stack(norm_channels, axis=0)\n",
    "\n",
    "normed_composite = normed_signal.sum(axis=0)\n",
    "\n",
    "np.max(normed_signal), normed_signal.shape, normed_composite.shape"
   ]
  },
  {
   "cell_type": "markdown",
   "metadata": {},
   "source": [
    "- select the label with the highest total intensity (select cell with highest intensity)"
   ]
  },
  {
   "cell_type": "code",
   "execution_count": null,
   "metadata": {},
   "outputs": [],
   "source": [
    "# find the cell mask that has the highest intensity\n",
    "total_signal = [normed_composite[labels_in == label].sum() for label in all_labels]\n",
    "\n",
    "keep_label = all_labels[np.argmax(total_signal)]\n",
    "\n",
    "good_cell = cell_labels == keep_label"
   ]
  },
  {
   "cell_type": "markdown",
   "metadata": {},
   "source": [
    "Define `_select_highest_intensity_cell` function"
   ]
  },
  {
   "cell_type": "code",
   "execution_count": null,
   "metadata": {},
   "outputs": [],
   "source": [
    "def _select_highest_intensity_cell(raw_image: np.ndarray,\n",
    "                                   cell_seg: np.ndarray,\n",
    "                                   nuc_seg: np.ndarray):\n",
    "    \"\"\" \n",
    "    Create an instance segmentation of the cell area using a watershed operation based on nuclei seeds.\n",
    "    Then, select the cell with the highest combined organelle intensity.\n",
    "\n",
    "    Parameters:\n",
    "    ----------\n",
    "    raw_image: np.ndarray,\n",
    "        gray scale 3D multi-channel numpy array (CZYX)\n",
    "    cell_seg: np.ndarray,\n",
    "        binary cell segmentation with multiple cells in the FOV\n",
    "    nuc_seg: np.ndarray,\n",
    "        labeled nuclei segmentation with each nuclei having a different ID number (e.g., the result of the skimage label() function)\n",
    "    labels_to_consider: Union(list, None)\n",
    "        a list of labels that should be considered when determining the highest intensity. Default is None which utilizes all possible labels in the cell image\n",
    "        \n",
    "    Output\n",
    "    ----------\n",
    "    good_cell: np.ndarray  \n",
    "        a binary image of the single cell with the highest total fluorescence intensity\n",
    "    \"\"\"\n",
    "    # instance segmentation of cell area with watershed function\n",
    "    cell_labels = masked_inverted_watershed(cell_seg, markers=nuc_seg, mask=cell_seg, method='3D')\n",
    "\n",
    "    # create composite of all fluorescence channels after min-max normalization\n",
    "    norm_channels = [(min_max_intensity_normalization(raw_image[c])) for c in range(len(raw_image))]\n",
    "    normed_signal = np.stack(norm_channels, axis=0)\n",
    "    normed_composite = normed_signal.sum(axis=0)\n",
    "\n",
    "    # list of cell IDs to measure intensity of\n",
    "    all_labels = np.unique(cell_labels)[1:]\n",
    "\n",
    "    # measure total intensity in each cell from the ID list\n",
    "    total_signal = [normed_composite[cell_labels == label].sum() for label in all_labels]\n",
    "\n",
    "    # select the cell with the highest total intensity\n",
    "    keep_label = all_labels[np.argmax(total_signal)]\n",
    "    good_cell = cell_labels == keep_label\n",
    "\n",
    "    return good_cell"
   ]
  },
  {
   "cell_type": "markdown",
   "metadata": {},
   "source": [
    "Run `_select_highest_intensity_cell` function"
   ]
  },
  {
   "cell_type": "code",
   "execution_count": null,
   "metadata": {},
   "outputs": [],
   "source": [
    "test_good_cell = _select_highest_intensity_cell(img_data, test_cell_area, test_nuc_labels)\n",
    "\n",
    "np.array_equal(good_cell, test_good_cell)"
   ]
  },
  {
   "cell_type": "markdown",
   "metadata": {},
   "source": [
    "# ***POST-POST-PROCESSING prototype - masks_B***"
   ]
  },
  {
   "cell_type": "markdown",
   "metadata": {},
   "source": [
    "## **`STEP 8` - Segmentation of single nucleus from cytoplasm; cell mask applied**"
   ]
  },
  {
   "cell_type": "markdown",
   "metadata": {},
   "source": [
    "- logical **AND** of the cellmask and aggregate cytoplasm mask"
   ]
  },
  {
   "cell_type": "code",
   "execution_count": null,
   "metadata": {},
   "outputs": [],
   "source": [
    "good_cyto = apply_mask(test_cyto_masks, good_cell).astype(bool)"
   ]
  },
  {
   "cell_type": "markdown",
   "metadata": {},
   "source": [
    "- invert cytoplasm mask and clear border (nucleus mask)\n",
    "- fill holes (hole size = user input)\n",
    "- remove small objects (object size = user input)"
   ]
  },
  {
   "cell_type": "code",
   "execution_count": null,
   "metadata": {},
   "outputs": [],
   "source": [
    "good_cyto_inverse = 1 - good_cyto\n",
    "\n",
    "nuc_single = clear_border(good_cyto_inverse)\n",
    "\n",
    "good_nuc = fill_and_filter_linear_size(nuc_single,\n",
    "                                       hole_min=0,\n",
    "                                       hole_max=0,\n",
    "                                       min_size=10,\n",
    "                                       method='3D').astype(bool)"
   ]
  },
  {
   "cell_type": "markdown",
   "metadata": {},
   "source": [
    "Define `_mask_cytoplasm_nuclei` function"
   ]
  },
  {
   "cell_type": "code",
   "execution_count": null,
   "metadata": {},
   "outputs": [],
   "source": [
    "def _mask_cytoplasm_nuclei(cellmask: np.ndarray,\n",
    "                           cyto_seg: np.ndarray,\n",
    "                           small_obj_size: int):\n",
    "    \"\"\" \n",
    "    mask the cytoplasm with the cell mask to isolate the cytoplasmic area of intereste.\n",
    "    create a single nuclei segmentation from the inverse of the cytoplas (no binary opening)\n",
    "\n",
    "    Parameters:\n",
    "    ----------\n",
    "    cellmask: \n",
    "        binary segmentation of a single cell\n",
    "    cyto_seg:\n",
    "        semantic segmentation of cytoplasm from multiple cells in an image\n",
    "    small_obj_size:\n",
    "        size of small objects to be removed from the final nucleus segmentation image\n",
    "    \"\"\"\n",
    "\n",
    "    good_cyto = apply_mask(cyto_seg, cellmask).astype(bool)\n",
    "\n",
    "    good_cyto_inverse = 1 - good_cyto\n",
    "\n",
    "    nuc_single = clear_border(good_cyto_inverse)\n",
    "\n",
    "    good_nuc = fill_and_filter_linear_size(nuc_single,\n",
    "                                        hole_min=0,\n",
    "                                        hole_max=0, \n",
    "                                        min_size=small_obj_size,\n",
    "                                        method='3D')\n",
    "    \n",
    "    return good_nuc, good_cyto"
   ]
  },
  {
   "cell_type": "code",
   "execution_count": null,
   "metadata": {},
   "outputs": [],
   "source": [
    "### Old version that returned a stack instead\n",
    "\n",
    "# def _mask_cytoplasm_nuclei(cellmask: np.ndarray,\n",
    "#                            cyto_seg: np.ndarray,\n",
    "#                            small_obj_size: int):\n",
    "#     \"\"\" \n",
    "#     mask the cytoplasm with the cell mask to isolate the cytoplasmic area of intereste.\n",
    "#     create a single nuclei segmentation from the inverse of the cytoplas (no binary opening)\n",
    "\n",
    "#     Parameters:\n",
    "#     ----------\n",
    "#     cellmask: \n",
    "#         binary segmentation of a single cell\n",
    "#     cyto_seg:\n",
    "#         semantic segmentation of cytoplasm from multiple cells in an image\n",
    "#     small_obj_size:\n",
    "#         size of small objects to be removed from the final nucleus segmentation image\n",
    "#     \"\"\"\n",
    "\n",
    "#     good_cyto = apply_mask(cyto_seg, cellmask).astype(bool)\n",
    "\n",
    "#     good_cyto_inverse = 1 - good_cyto\n",
    "\n",
    "#     nuc_single = clear_border(good_cyto_inverse)\n",
    "\n",
    "#     good_nuc = fill_and_filter_linear_size(nuc_single,\n",
    "#                                         hole_min=0,\n",
    "#                                         hole_max=0, \n",
    "#                                         min_size=small_obj_size,\n",
    "#                                         method='3D')\n",
    "    \n",
    "#     stack = stack_masks(nuc_mask=good_nuc, cellmask=cellmask, cyto_mask=good_cyto)\n",
    "    \n",
    "#     return stack"
   ]
  },
  {
   "cell_type": "markdown",
   "metadata": {},
   "source": [
    "Run `_mask_cytoplasm_nuclei` function"
   ]
  },
  {
   "cell_type": "code",
   "execution_count": null,
   "metadata": {},
   "outputs": [],
   "source": [
    "test_good_nuc, test_good_cyto = _mask_cytoplasm_nuclei(good_cell, test_cyto_masks, 10)\n",
    "\n",
    "np.array_equal(test_good_cyto, good_cyto), np.array_equal(test_good_nuc, good_nuc)"
   ]
  },
  {
   "cell_type": "code",
   "execution_count": null,
   "metadata": {},
   "outputs": [],
   "source": [
    "# test_good_nuc, test_good_cell, test_good_cyto = _mask_cytoplasm_nuclei(good_cell, test_cyto_masks, 10)\n",
    "\n",
    "# np.array_equal(test_good_cyto, good_cyto), np.array_equal(test_good_nuc, good_nuc)"
   ]
  },
  {
   "cell_type": "markdown",
   "metadata": {},
   "source": [
    "# ***EXPORT prototype - masks_B***"
   ]
  },
  {
   "cell_type": "markdown",
   "metadata": {},
   "source": [
    "## **`STEP 9` - Stack masks**"
   ]
  },
  {
   "cell_type": "markdown",
   "metadata": {},
   "source": [
    "- stack masks in order of nucleus, cellmask and cytoplasm mask"
   ]
  },
  {
   "cell_type": "code",
   "execution_count": null,
   "metadata": {},
   "outputs": [],
   "source": [
    "stack = stack_masks(nuc_mask=test_good_nuc, cellmask=test_good_cell, cyto_mask=test_good_cyto)"
   ]
  },
  {
   "cell_type": "markdown",
   "metadata": {},
   "source": [
    "Export `masks_B` file to output folder"
   ]
  },
  {
   "cell_type": "code",
   "execution_count": null,
   "metadata": {},
   "outputs": [],
   "source": [
    "out_file_n = export_inferred_organelle(stack, \"masks_B\", meta_dict, out_data_path)"
   ]
  },
  {
   "cell_type": "markdown",
   "metadata": {},
   "source": [
    "## **Visualize `nucleus`, `cellmask` and `cytoplasm`**"
   ]
  },
  {
   "cell_type": "code",
   "execution_count": null,
   "metadata": {},
   "outputs": [],
   "source": [
    "viewer_masks_B = napari.Viewer(title = \"masks_B\",\n",
    "                           ndisplay=3)\n",
    "viewer_masks_B.grid.enabled = True"
   ]
  },
  {
   "cell_type": "code",
   "execution_count": null,
   "metadata": {},
   "outputs": [],
   "source": [
    "viewer_masks_B.add_image(stack[2].astype(bool),\n",
    "                      scale = scale,\n",
    "                      name = 'Cytoplasm',\n",
    "                      rendering = 'average')\n",
    "\n",
    "viewer_masks_B.add_image(stack[1].astype(bool),\n",
    "                      scale = scale,\n",
    "                      name = 'Cellmask',\n",
    "                      rendering = 'average')\n",
    "\n",
    "viewer_masks_B.add_image(stack[0].astype(bool),\n",
    "                      scale = scale,\n",
    "                      name = 'Nucleus')\n",
    "\n",
    "viewer_masks_B.reset_view()\n",
    "\n",
    "nbscreenshot(viewer_masks_B,\n",
    "             canvas_only = True)"
   ]
  },
  {
   "cell_type": "markdown",
   "metadata": {},
   "source": [
    "-------------\n",
    "### NEXT: INFER LYSOSOME\n",
    "\n",
    "proceed to [1.2_infer_lysosome.ipynb](./1.2_infer_lysosome.ipynb)"
   ]
  }
 ],
 "metadata": {
  "kernelspec": {
   "display_name": "infer-subc",
   "language": "python",
   "name": "python3"
  },
  "language_info": {
   "codemirror_mode": {
    "name": "ipython",
    "version": 3
   },
   "file_extension": ".py",
   "mimetype": "text/x-python",
   "name": "python",
   "nbconvert_exporter": "python",
   "pygments_lexer": "ipython3",
   "version": "3.10.11"
  },
  "orig_nbformat": 4
 },
 "nbformat": 4,
 "nbformat_minor": 2
}
