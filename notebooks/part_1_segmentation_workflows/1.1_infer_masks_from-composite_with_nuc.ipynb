{
 "cells": [
  {
   "cell_type": "markdown",
   "metadata": {},
   "source": [
    "#### ⚠️ The sample data is not yet applicable to this notebook. If you wish to use the sample data, please begin on notebooks [1.1a](./1.1a_infer_masks_from-composite_single_cell.ipynb) or [1.1b](./1.1b_infer_masks_from-composite_multiple-cells.ipynb). ⚠️"
   ]
  },
  {
   "cell_type": "markdown",
   "metadata": {},
   "source": [
    "# Infer ***nucleus***, ***cellmask***, and ***cytoplasm*** from a composite image of cytoplasmic organelles\n",
    "### Default workflow: ***\"1\"*** (for images with cytoplasmic organelles, a **nuclei** marker, no **cell membrane** makers, and more than one cell per field of view)\n",
    "--------------\n",
    "## **OBJECTIVES:**\n",
    "\n",
    "\n",
    "\n",
    "### <input type=\"checkbox\"/> Infer sub-cellular component #1: ***nuclei***\n",
    "Segment the ***nuclei*** from a single channel (nuclei marker). This will be necessary to determine the other subcellular compartment - like the ***cytoplasm***. Nuclei will also be used to seed the instance segmentation of the ***cell*** area (***cellmask***).\n",
    "\n",
    "> ###### **Convention: *\"nuclei\"* for the segmentation of ALL nuclei in the image. *\"nucleus\"* for the single nucleus associated to the single cell being analyzed after the cell with the most signal is determine.**\n",
    "\n",
    "### <input type=\"checkbox\"/> Infer sub-cellular component #2: ***cellmask***\n",
    "Segment the cell area (the ***cellmask***) from a composite image of multiple organelle markers combined. The **cellmask** will be necessary for determining which organelles are in which cell\n",
    "\n",
    "### <input type=\"checkbox\"/> Infer sub-cellular component #3: ***cytoplasm***\n",
    "Segment the ***cytoplasm*** from the cellmask and nuclei outputs. We will first select the single nucleus that is within our cellmask. Then, a logical and will be applied to produce the cytoplasmic area.\n",
    "\n",
    "> ###### **📝 this workflow is optimized for images with multiple fluorescent cells in the field of view**"
   ]
  },
  {
   "cell_type": "markdown",
   "metadata": {},
   "source": [
    "---------\n",
    "## **masks workflow** ***\"1\"***\n",
    "### summary of steps\n",
    "\n",
    "\n",
    "➡️ **EXTRACTION**\n",
    "- **`STEP 1`** - Segment nuclei\n",
    "\n",
    "    - select single channel containing the nuclei marker (channel number = user input)\n",
    "    - rescale intensity of composite image (min=0, max=1)\n",
    "    - median filter (median size = user input)\n",
    "    - gaussian filter (sigma = user input)\n",
    "    - log transform image\n",
    "    - calculate Li's minimum cross entropy threshold value\n",
    "    - apply threshold to image (thresholding options = user input)\n",
    "    - fill holes (hole size = user input)\n",
    "    - remove small objects (object size = user input)\n",
    "\n",
    "- **`STEP 2`** - Create composite image\n",
    "\n",
    "    - determine weight to apply to each channel of the intensity image (w# = user input)\n",
    "    - rescale summed image intensities (rescale = user input)\n",
    "\n",
    "**PRE-PROCESSING**\n",
    "- **`STEP 3`** - Rescale and smooth image\n",
    "\n",
    "    - rescale intensity of composite image (min=0, max=1)\n",
    "    - median filter (median size = user input)\n",
    "    - gaussian filter (sigma = user input)\n",
    "\n",
    "- **`STEP 4`** Log transform + Scharr edge detection\n",
    "\n",
    "    - log transform image\n",
    "    - apply scharr edge detection filter \n",
    "    - combine log image + scharr edge filtered intensity\n",
    "\n",
    "**CORE PROCESSING**\n",
    "- **`STEP 5`** Global + local thresholding (AICSSeg – MO)\n",
    "\n",
    "    - apply MO thresholding method from the Allen Cell [aicssegmentation](https://github.com/AllenCell/aics-segmentation) package (threshold options = user input)\n",
    "\n",
    "**POST-PROCESSING**\n",
    "- **`STEP 6`** Remove small holes and objects\n",
    "\n",
    "    - fill holes (hole size = user input)\n",
    "    - remove small objects (object size = user input)\n",
    "    - filter method (method = user input)\n",
    "\n",
    "**POST-POST-PROCESSING**\n",
    "- **`STEP 7`** Select one cellmask/nuclei based on signal\n",
    "\n",
    "    - label unique cell objects based on watershed seeded from the nuclei objects\n",
    "    - select the single cell with the highest combined fluorescence\n",
    "\n",
    "- **`STEP 8`** Segment cytoplasm\n",
    "\n",
    "    - mask nuclei with ***cellmask*** to select single ***nucleus***\n",
    "    - erode ***nucleus*** (shrink; *optional*)\n",
    "    - Segment cytoplasm from logical **XOR** of ***nucleus*** and ***cellmask***\n",
    "\n",
    "**EXPORT** ➡️\n",
    "- **`STEP 9`** - Stack masks\n",
    "\n",
    "    - stack masks in order of nucleus, cellmask and cytoplasm mask\n",
    "\n",
    "    > ###### ***Note:* this pipeline will eventually include a selection step to identify the cellmask that are properly labeled with all fluorescent markers. This could be one single cell per image, or more if applicable data is available.**"
   ]
  },
  {
   "attachments": {},
   "cell_type": "markdown",
   "metadata": {},
   "source": [
    "---------\n",
    "## **IMPORTS**"
   ]
  },
  {
   "cell_type": "markdown",
   "metadata": {},
   "source": [
    "#### &#x1F3C3; **Run code; no user input required**\n",
    "\n",
    "&#x1F453; **FYI:** This code block loads all of the necessary python packages and functions you will need for this notebook. "
   ]
  },
  {
   "cell_type": "code",
   "execution_count": null,
   "metadata": {},
   "outputs": [],
   "source": [
    "from pathlib import Path\n",
    "import os\n",
    "from typing import Union\n",
    "\n",
    "import numpy as np\n",
    "import napari\n",
    "from napari.utils.notebook_display import nbscreenshot\n",
    "\n",
    "from skimage.morphology import binary_erosion\n",
    "\n",
    "from infer_subc.core.file_io import (read_czi_image,\n",
    "                                     export_inferred_organelle,\n",
    "                                     list_image_files)\n",
    "from infer_subc.core.img import *\n",
    "from infer_subc.organelles import (choose_max_label_cellmask_union_nucleus,\n",
    "                                   non_linear_cellmask_transform)\n",
    "\n",
    "\n",
    "\n",
    "%load_ext autoreload\n",
    "%autoreload 2"
   ]
  },
  {
   "attachments": {},
   "cell_type": "markdown",
   "metadata": {},
   "source": [
    "## **LOAD AND READ IN IMAGE FOR PROCESSING**"
   ]
  },
  {
   "cell_type": "markdown",
   "metadata": {},
   "source": [
    "#### &#x1F6D1; &#x270D; **User Input Required:**"
   ]
  },
  {
   "cell_type": "code",
   "execution_count": null,
   "metadata": {},
   "outputs": [],
   "source": [
    "# Specify the file type of your raw data that will be analyzed. Ex) \".czi\" or \".tiff\"\n",
    "im_type = \".czi\"\n",
    "\n",
    "## Define the path to the directory that contains the input image folder.\n",
    "data_root_path = Path(os.path.expanduser(\"~\")) / \"Documents/Python_Scripts/Infer-subc\"\n",
    "\n",
    "## Specify which subfolder that contains the input data\n",
    "in_data_path = data_root_path / \"raw\"\n",
    "\n",
    "## Specify the output folder\n",
    "out_data_path = data_root_path / \"out\"\n",
    "\n",
    "# Specify which file you'd like to segment from the img_file_list\n",
    "test_img_n = 5"
   ]
  },
  {
   "cell_type": "markdown",
   "metadata": {},
   "source": [
    "#### &#x1F3C3; **Run code; no user input required**"
   ]
  },
  {
   "cell_type": "code",
   "execution_count": null,
   "metadata": {},
   "outputs": [],
   "source": [
    "if not Path.exists(out_data_path):\n",
    "    Path.mkdir(out_data_path)\n",
    "    print(f\"making {out_data_path}\")\n",
    "\n",
    "img_file_list = list_image_files(in_data_path,im_type)\n",
    "# pd.set_option('display.max_colwidth', None)\n",
    "# pd.DataFrame({\"Image Name\":img_file_list})"
   ]
  },
  {
   "cell_type": "code",
   "execution_count": null,
   "metadata": {},
   "outputs": [],
   "source": [
    "test_img_name = img_file_list[test_img_n]\n",
    "\n",
    "img_data,meta_dict = read_czi_image(test_img_name)\n",
    "\n",
    "channel_names = meta_dict['name']\n",
    "img = meta_dict['metadata']['aicsimage']\n",
    "scale = meta_dict['scale']\n",
    "channel_axis = meta_dict['channel_axis']"
   ]
  },
  {
   "cell_type": "markdown",
   "metadata": {},
   "source": [
    "# ***EXTRACTION prototype - masks***\n"
   ]
  },
  {
   "cell_type": "markdown",
   "metadata": {},
   "source": [
    "## **`STEP 1` - Segment nuclei**"
   ]
  },
  {
   "cell_type": "markdown",
   "metadata": {},
   "source": [
    "- select single channel containing the nuclei marker (channel number = user input)"
   ]
  },
  {
   "cell_type": "code",
   "execution_count": null,
   "metadata": {},
   "outputs": [],
   "source": [
    "###################\n",
    "# INPUT\n",
    "###################\n",
    "NUC_CH = 0\n",
    "raw_nuclei = select_channel_from_raw(img_data, NUC_CH)"
   ]
  },
  {
   "attachments": {},
   "cell_type": "markdown",
   "metadata": {},
   "source": [
    "- rescale intensity of composite image (min=0, max=1)\n",
    "- median filter (median size = user input)\n",
    "- gaussian filter (sigma = user input)"
   ]
  },
  {
   "cell_type": "code",
   "execution_count": null,
   "metadata": {},
   "outputs": [],
   "source": [
    "med_filter_size = 4   \n",
    "gaussian_smoothing_sigma = 1.34\n",
    "\n",
    "nuclei =  scale_and_smooth(raw_nuclei,\n",
    "                           median_size = med_filter_size, \n",
    "                           gauss_sigma = gaussian_smoothing_sigma)"
   ]
  },
  {
   "attachments": {},
   "cell_type": "markdown",
   "metadata": {},
   "source": [
    "- log transform image\n",
    "- calculate Li's minimum cross entropy threshold value\n",
    "- apply threshold to image (thresholding options = user input)"
   ]
  },
  {
   "attachments": {},
   "cell_type": "markdown",
   "metadata": {},
   "source": [
    "\n",
    "> #### ASIDE: Thresholding\n",
    "> ###### [Thresholding](https://en.wikipedia.org/wiki/Thresholding_%28image_processing%29) is used to create binary images. A threshold value determines the intensity value separating foreground pixels from background pixels. Foregound pixels are pixels brighter than the threshold value, background pixels are darker. In many cases, images can be adequately segmented by thresholding followed by labelling of *connected components*, which is a fancy way of saying \"groups of pixels that touch each other\".\n",
    "> \n",
    "> ###### Different thresholding algorithms produce different results. [Otsu's method](https://en.wikipedia.org/wiki/Otsu%27s_method) and [Li's minimum cross entropy threshold](https://scikit-image.org/docs/dev/auto_examples/developers/plot_threshold_li.html) are two common algorithms. Below, we use Li. You can use `skimage.filters.threshold_<TAB>` to find different thresholding methods.\n"
   ]
  },
  {
   "cell_type": "code",
   "execution_count": null,
   "metadata": {},
   "outputs": [],
   "source": [
    "# log transform the image, calculate the threshold value using Li minimum cross entropy method, inverse log transform the value\n",
    "# apply the threshold value taking into account the user determined min, max, and adjustment values\n",
    "threshold_factor = 0.9\n",
    "thresh_min = .1\n",
    "thresh_max = 1.\n",
    "\n",
    "li_thresholded = apply_log_li_threshold(nuclei, \n",
    "                                        thresh_factor=threshold_factor, \n",
    "                                        thresh_min=thresh_min, \n",
    "                                        thresh_max=thresh_max)"
   ]
  },
  {
   "cell_type": "markdown",
   "metadata": {},
   "source": [
    "- fill holes (hole size = user input)\n",
    "- remove small objects (object size = user input)"
   ]
  },
  {
   "cell_type": "markdown",
   "metadata": {},
   "source": [
    "> ###### 📝 **the size parameters are by convention defined as one dimensional \"width\", so the inputs to the functions are _squared_ i.e. raised to the power of 2: `**2` for 2D analysis. For volumetric (3D) analysis this would be _cubed_: `**3`.**"
   ]
  },
  {
   "cell_type": "code",
   "execution_count": null,
   "metadata": {},
   "outputs": [],
   "source": [
    "# fill small holes then exclude small objects\n",
    "hole_min_width = 0\n",
    "hole_max_width = 25  \n",
    "\n",
    "small_object_width = 15\n",
    "\n",
    "# combine the above functions into one for downstream use in plugin\n",
    "cleaned_img = fill_and_filter_linear_size(li_thresholded, \n",
    "                                           hole_min=hole_min_width, \n",
    "                                           hole_max=hole_max_width, \n",
    "                                           min_size= small_object_width,\n",
    "                                           method='3D')"
   ]
  },
  {
   "cell_type": "markdown",
   "metadata": {},
   "source": [
    "> ###### 📝 **Create labels for the nuclei seeds that will be used during the watershedding algorithm**"
   ]
  },
  {
   "cell_type": "code",
   "execution_count": null,
   "metadata": {},
   "outputs": [],
   "source": [
    "###################\n",
    "# LABELING\n",
    "###################\n",
    "# create instance segmentation based on connectivity\n",
    "nuclei_labels = label_uint16(cleaned_img)"
   ]
  },
  {
   "cell_type": "code",
   "execution_count": null,
   "metadata": {},
   "outputs": [],
   "source": [
    "nuclei_labels.dtype"
   ]
  },
  {
   "attachments": {},
   "cell_type": "markdown",
   "metadata": {},
   "source": [
    "Define `_infer_nuclei_fromlabel` function\n",
    "\n",
    "> ###### 📝 **these functions mainly serve for downstream prototyping in the notebooks. Each step above has an independent function that is implemented in the plugin for ease of use.**"
   ]
  },
  {
   "cell_type": "code",
   "execution_count": null,
   "metadata": {},
   "outputs": [],
   "source": [
    "##########################\n",
    "#  _infer_nuclei\n",
    "##########################\n",
    "def _infer_nuclei_fromlabel(in_img: np.ndarray, \n",
    "                            nuc_ch: Union[int,None],\n",
    "                            median_sz: int, \n",
    "                            gauss_sig: float,\n",
    "                            thresh_factor: float,\n",
    "                            thresh_min: float,\n",
    "                            thresh_max: float,\n",
    "                            min_hole_w: int,\n",
    "                            max_hole_w: int,\n",
    "                            small_obj_w: int,\n",
    "                            fill_filter_method: str\n",
    "                            ) -> np.ndarray:\n",
    "    \"\"\"\n",
    "    Procedure to infer nuclei from linear unmixed input.\n",
    "\n",
    "    Parameters\n",
    "    ------------\n",
    "    in_img: np.ndarray\n",
    "        a 3d image containing all the channels\n",
    "    median_sz: int\n",
    "        width of median filter for signal\n",
    "    gauss_sig: float\n",
    "        sigma for gaussian smoothing of  signal\n",
    "    thresh_factor: float\n",
    "        adjustment factor for log Li threholding\n",
    "    thresh_min: float\n",
    "        abs min threhold for log Li threholding\n",
    "    thresh_max: float\n",
    "        abs max threhold for log Li threholding\n",
    "    max_hole_w: int\n",
    "        hole filling cutoff for nuclei post-processing\n",
    "    small_obj_w: int\n",
    "        minimu object size cutoff for nuclei post-processing\n",
    "\n",
    "    Returns\n",
    "    -------------\n",
    "    nuclei_object\n",
    "        mask defined extent of NU\n",
    "    \n",
    "    \"\"\"\n",
    "    ###################\n",
    "    # EXTRACT\n",
    "    ###################                \n",
    "    nuclei = select_channel_from_raw(in_img, nuc_ch)\n",
    "\n",
    "    ###################\n",
    "    # PRE_PROCESSING\n",
    "    ###################                \n",
    "    nuclei =  scale_and_smooth(nuclei,\n",
    "                        median_size = median_sz, \n",
    "                        gauss_sigma = gauss_sig)\n",
    "\n",
    "    ###################\n",
    "    # CORE_PROCESSING\n",
    "    ###################\n",
    "    nuclei_object = apply_log_li_threshold(nuclei, \n",
    "                                           thresh_factor=thresh_factor, \n",
    "                                           thresh_min=thresh_min, \n",
    "                                           thresh_max=thresh_max)\n",
    "\n",
    "    ###################\n",
    "    # POST_PROCESSING\n",
    "    ###################\n",
    "    nuclei_object = fill_and_filter_linear_size(nuclei_object, \n",
    "                                                hole_min=min_hole_w, \n",
    "                                                hole_max=max_hole_w, \n",
    "                                                min_size=small_obj_w,\n",
    "                                                method=fill_filter_method)\n",
    "\n",
    "    nuclei_labels = label_uint16(nuclei_object)\n",
    "\n",
    "    return nuclei_labels"
   ]
  },
  {
   "attachments": {},
   "cell_type": "markdown",
   "metadata": {},
   "source": [
    "Run `_infer_nuclei_fromlabel` function\n",
    "\n",
    "> ###### 📝 **Uses the same parameters as earlier in the notebook**"
   ]
  },
  {
   "cell_type": "code",
   "execution_count": null,
   "metadata": {},
   "outputs": [],
   "source": [
    "###################\n",
    "# PARAMETERS\n",
    "###################\n",
    "nuc_ch = NUC_CH\n",
    "median_sz = 4   \n",
    "gauss_sig = 1.34\n",
    "threshold_factor = 0.9\n",
    "thresh_min = 0.1\n",
    "thresh_max = 1.0\n",
    "min_hole_w = 0\n",
    "max_hole_w = 25\n",
    "small_obj_w = 15\n",
    "fill_filter_method = \"3D\"\n",
    "\n",
    "_NU_object = _infer_nuclei_fromlabel(img_data,\n",
    "                                nuc_ch,\n",
    "                                median_sz,\n",
    "                                gauss_sig,\n",
    "                                threshold_factor,\n",
    "                                thresh_min,\n",
    "                                thresh_max,\n",
    "                                min_hole_w,\n",
    "                                max_hole_w,\n",
    "                                small_obj_w,\n",
    "                                fill_filter_method)\n",
    "\n",
    "_NU_object.dtype"
   ]
  },
  {
   "attachments": {},
   "cell_type": "markdown",
   "metadata": {},
   "source": [
    "Run `_infer_nuclei_fromlabel` function"
   ]
  },
  {
   "cell_type": "code",
   "execution_count": null,
   "metadata": {},
   "outputs": [],
   "source": [
    "np.all(nuclei_labels == _NU_object)"
   ]
  },
  {
   "cell_type": "markdown",
   "metadata": {},
   "source": [
    "## **`STEP 2` - Create composite image**"
   ]
  },
  {
   "cell_type": "markdown",
   "metadata": {},
   "source": [
    "- determine weight to apply to each channel of the intensity image (w# = user input)\n",
    "- rescale summed image intensities (rescale = user input)"
   ]
  },
  {
   "cell_type": "code",
   "execution_count": null,
   "metadata": {},
   "outputs": [],
   "source": [
    "# Creating a composite image\n",
    "\n",
    "w0 = 0\n",
    "w1 = 0\n",
    "w2 = 0\n",
    "w3 = 3\n",
    "w4 = 2\n",
    "w5 = 2\n",
    "w6 = 0\n",
    "w7 = 0\n",
    "w8 = 0\n",
    "w9 = 0\n",
    "\n",
    "rescale = True\n",
    "\n",
    "struct_img_raw = make_aggregate(img_data,\n",
    "               weight_ch0= w0,\n",
    "               weight_ch1= w1,\n",
    "               weight_ch2= w2,\n",
    "               weight_ch3= w3,\n",
    "               weight_ch4= w4,\n",
    "               weight_ch5= w5,\n",
    "               weight_ch6= w6,\n",
    "               weight_ch7= w7,\n",
    "               weight_ch8= w8,\n",
    "               weight_ch9= w9,\n",
    "               rescale = rescale)\n",
    "\n",
    "# # Creating a function to create composite image:\n",
    "# weights =  [0,0,0,3,3,2]\n",
    "# struct_img_raw2 = weighted_aggregate(img_data, *weights)\n",
    "\n",
    "# # use splat so we can also break out the arguments for our napari widget later\n",
    "# struct_img_raw3 = weighted_aggregate(img_data, 0,0,0,3,3,2)\n",
    "\n",
    "\n",
    "# # Comfirming the results are the same:\n",
    "# struct_img_raw[0,0:10,0], struct_img_raw2[0,0:10,0], struct_img_raw3[0,0:10,0]"
   ]
  },
  {
   "cell_type": "markdown",
   "metadata": {},
   "source": [
    "# ***PRE-PROCESSING prototype - masks***"
   ]
  },
  {
   "cell_type": "markdown",
   "metadata": {},
   "source": [
    "## **`STEP 3` - Rescale and smooth image**"
   ]
  },
  {
   "cell_type": "markdown",
   "metadata": {},
   "source": [
    "- rescale intensity of composite image (min=0, max=1)\n",
    "- median filter (media size = user input)\n",
    "- gaussian filter (sigma = user input)"
   ]
  },
  {
   "cell_type": "code",
   "execution_count": null,
   "metadata": {},
   "outputs": [],
   "source": [
    "med_filter_size = 10\n",
    "gaussian_smoothing_sigma = 1.34\n",
    "\n",
    "structure_img_smooth = scale_and_smooth(struct_img_raw,\n",
    "                                        median_size = med_filter_size, \n",
    "                                        gauss_sigma = gaussian_smoothing_sigma)"
   ]
  },
  {
   "cell_type": "markdown",
   "metadata": {},
   "source": [
    "## **`STEP 4` - Log transform + Scharr edge detection**"
   ]
  },
  {
   "cell_type": "markdown",
   "metadata": {},
   "source": [
    "- log transform image\n",
    "- apply scharr edge detection filter \n",
    "- combine log image + scharr edge filtered intensity"
   ]
  },
  {
   "cell_type": "code",
   "execution_count": null,
   "metadata": {},
   "outputs": [],
   "source": [
    "# log scale the image, apply the scharr edge detection filter to logged image, add the two images together\n",
    "composite_cellmask = non_linear_cellmask_transform(structure_img_smooth)"
   ]
  },
  {
   "cell_type": "markdown",
   "metadata": {},
   "source": [
    "# ***CORE PROCESSING prototype - masks***"
   ]
  },
  {
   "cell_type": "markdown",
   "metadata": {},
   "source": [
    "## **`STEP 5` - Global + local thresholding (AICSSeg – MO)**"
   ]
  },
  {
   "cell_type": "markdown",
   "metadata": {},
   "source": [
    "- apply MO thresholding method from the Allen Cell [aicssegmentation](https://github.com/AllenCell/aics-segmentation) package (threshold options = user input)"
   ]
  },
  {
   "cell_type": "code",
   "execution_count": null,
   "metadata": {},
   "outputs": [],
   "source": [
    "# threshold the composite image after log/edge detection using the MO filter function from aicssegmentation - this applies a global threshold, then a local threshold to produce a semantic segmentation\n",
    "thresh_method = 'med'\n",
    "cutoff_size =  150\n",
    "thresh_adj = 0.3\n",
    "\n",
    "bw = masked_object_thresh(composite_cellmask, \n",
    "                          global_method=thresh_method, \n",
    "                          cutoff_size=cutoff_size, \n",
    "                          local_adjust=thresh_adj)"
   ]
  },
  {
   "cell_type": "markdown",
   "metadata": {},
   "source": [
    "# ***POST-PROCESSING prototype - masks***"
   ]
  },
  {
   "cell_type": "markdown",
   "metadata": {},
   "source": [
    "## **`STEP 6` - Remove small holes and objects**"
   ]
  },
  {
   "cell_type": "markdown",
   "metadata": {},
   "source": [
    "- fill holes (hole size = user input)\n",
    "- remove small objects (object size = user input)\n",
    "- filter method (method = user input)"
   ]
  },
  {
   "cell_type": "markdown",
   "metadata": {},
   "source": [
    "> ###### 📝 **the size parameters are by convention defined as one dimensional \"width\", so the inputs to the functions are _squared_ i.e. raised to the power of 2: `**2` for 2D analysis. For volumetric (3D) analysis this would be _cubed_: `**3`.**"
   ]
  },
  {
   "cell_type": "code",
   "execution_count": null,
   "metadata": {},
   "outputs": [],
   "source": [
    "hole_min_width = 0\n",
    "hole_max_width = 50\n",
    "small_object_width = 45\n",
    "method = 'slice_by_slice'\n",
    "\n",
    "cleaned_img2 = fill_and_filter_linear_size(bw, \n",
    "                                           hole_min=hole_min_width, \n",
    "                                           hole_max=hole_max_width, \n",
    "                                           min_size= small_object_width,\n",
    "                                           method = method)"
   ]
  },
  {
   "cell_type": "markdown",
   "metadata": {},
   "source": [
    "# ***POST-POST-PROCESSING prototype - masks***"
   ]
  },
  {
   "cell_type": "markdown",
   "metadata": {},
   "source": [
    "## **`STEP 7` - Select one cellmask/nuclei based on signal**"
   ]
  },
  {
   "cell_type": "markdown",
   "metadata": {},
   "source": [
    "- label unique cell objects based on watershed seeded from the nuclei objects\n",
    "- select the single cell with the highest combined fluorescence"
   ]
  },
  {
   "cell_type": "code",
   "execution_count": null,
   "metadata": {},
   "outputs": [],
   "source": [
    "# apply a watershed to the inverted image using the nuclei as a seed for each cell\n",
    "watershed_method = '3D'\n",
    "cellmask_labels = masked_inverted_watershed(structure_img_smooth, \n",
    "                                            nuclei_labels, \n",
    "                                            cleaned_img2,\n",
    "                                            method=watershed_method)\n",
    "\n",
    "# find the cell with the highest total fluorescence after combining all channels together\n",
    "keep_label = get_max_label(composite_cellmask, \n",
    "                           cellmask_labels)\n",
    "\n",
    "\n",
    "# combine the above and find the nucleus associated to the highest fluorescence cell\n",
    "cellmask_out = choose_max_label_cellmask_union_nucleus(structure_img_smooth,\n",
    "                                                       cleaned_img2, \n",
    "                                                       nuclei_labels,\n",
    "                                                       watershed_method=watershed_method)\n",
    "\n",
    "cellmask = label_bool_as_uint16(cellmask_out)"
   ]
  },
  {
   "cell_type": "code",
   "execution_count": null,
   "metadata": {},
   "outputs": [],
   "source": [
    "cellmask.dtype"
   ]
  },
  {
   "cell_type": "markdown",
   "metadata": {},
   "source": [
    "Define `infer_cellmask_fromcomposite` function\n",
    "\n",
    "> ###### 📝 **these functions mainly serve for downstream prototyping in the notebooks. Each step above has an independent function that is implemented in the plugin for easy of use**"
   ]
  },
  {
   "cell_type": "code",
   "execution_count": null,
   "metadata": {},
   "outputs": [],
   "source": [
    "##########################\n",
    "# infer_cellmask_fromaggr\n",
    "##########################\n",
    "def _infer_cellmask_fromcomposite(in_img: np.ndarray,\n",
    "                                  weights: list[int],\n",
    "                                  nuclei_labels: np.ndarray,\n",
    "                                  median_sz: int,\n",
    "                                  gauss_sig: float,\n",
    "                                  mo_method: str,\n",
    "                                  mo_adjust: float,\n",
    "                                  mo_cutoff_size: int,\n",
    "                                  min_hole_w: int,\n",
    "                                  max_hole_w: int,\n",
    "                                  small_obj_w: int,\n",
    "                                  watershed_method: str\n",
    "                                  ) -> np.ndarray:\n",
    "    \"\"\"\n",
    "    Procedure to infer cellmask from linear unmixed input.\n",
    "\n",
    "    Parameters\n",
    "    ------------\n",
    "    in_img: \n",
    "        a 3d image containing all the channels\n",
    "    weights:\n",
    "        a list of int that corresond to the weights for each channel in the composite; use 0 if a channel should not be included in the composite image\n",
    "    nuclei_labels: \n",
    "        a 3d image containing the inferred nuclei labels\n",
    "    median_sz: \n",
    "        width of median filter for _cellmask_ signal\n",
    "    gauss_sig: \n",
    "        sigma for gaussian smoothing of _cellmask_ signal\n",
    "    mo_method: \n",
    "         which method to use for calculating global threshold. Options include:\n",
    "         \"triangle\" (or \"tri\"), \"median\" (or \"med\"), and \"ave_tri_med\" (or \"ave\").\n",
    "         \"ave\" refers the average of \"triangle\" threshold and \"mean\" threshold.\n",
    "    mo_adjust: \n",
    "        Masked Object threshold `local_adjust`\n",
    "    mo_cutoff_size: \n",
    "        Masked Object threshold `size_min`\n",
    "    max_hole_w: \n",
    "        hole filling cutoff for cellmask signal post-processing\n",
    "    small_obj_w: \n",
    "        minimu object size cutoff for cellmask signal post-processing\n",
    "    watershed_method:\n",
    "        determines if the watershed should be run 'sice-by-slice' or in '3D' \n",
    "\n",
    "    Returns\n",
    "    -------------\n",
    "    cellmask_mask:\n",
    "        a logical/labels object defining boundaries of cellmask\n",
    "\n",
    "    \"\"\"\n",
    "    ###################\n",
    "    # EXTRACT\n",
    "    ###################\n",
    "    struct_img = weighted_aggregate(in_img, *weights)\n",
    "\n",
    "    ###################\n",
    "    # PRE_PROCESSING\n",
    "    ###################                         \n",
    "    struct_img = scale_and_smooth(struct_img,\n",
    "                                   median_size = median_sz, \n",
    "                                   gauss_sigma = gauss_sig)\n",
    "    \n",
    "\n",
    "    struct_img_non_lin = non_linear_cellmask_transform(struct_img)\n",
    "\n",
    "    ###################\n",
    "    # CORE_PROCESSING\n",
    "    ###################\n",
    "    struct_obj = masked_object_thresh(struct_img_non_lin, \n",
    "                                      global_method=mo_method, \n",
    "                                      cutoff_size=mo_cutoff_size, \n",
    "                                      local_adjust=mo_adjust)               \n",
    "\n",
    "    ###################\n",
    "    # POST_PROCESSING\n",
    "    ###################\n",
    "    struct_obj = fill_and_filter_linear_size(struct_obj, \n",
    "                                             hole_min=min_hole_w, \n",
    "                                             hole_max=max_hole_w, \n",
    "                                             min_size= small_obj_w)\n",
    "\n",
    "    ###################\n",
    "    # POST- POST_PROCESSING\n",
    "    ###################\n",
    "    cellmask_out = choose_max_label_cellmask_union_nucleus(struct_img, \n",
    "                                                           struct_obj, \n",
    "                                                           nuclei_labels, \n",
    "                                                           watershed_method=watershed_method) \n",
    "\n",
    "    return label_bool_as_uint16(cellmask_out)"
   ]
  },
  {
   "cell_type": "markdown",
   "metadata": {},
   "source": [
    "Run `_infer_cellmask_fromcomposite` function"
   ]
  },
  {
   "cell_type": "code",
   "execution_count": null,
   "metadata": {},
   "outputs": [],
   "source": [
    "###################\n",
    "# PARAMETERS\n",
    "###################   \n",
    "weights = [0,0,0,3,3,2]\n",
    "median_sz = 10\n",
    "gauss_sig = 1.34\n",
    "mo_method = \"med\"\n",
    "mo_adjust = 0.3\n",
    "mo_cutoff_size = 150\n",
    "hole_min_width = 0\n",
    "hole_max_width = 50\n",
    "small_obj_w = 45\n",
    "watershed_method = '3D'\n",
    "\n",
    "_CM_object = _infer_cellmask_fromcomposite(img_data,\n",
    "                                            weights,\n",
    "                                            nuclei_labels,\n",
    "                                            median_sz,\n",
    "                                            gauss_sig,\n",
    "                                            mo_method,\n",
    "                                            mo_adjust,\n",
    "                                            mo_cutoff_size,\n",
    "                                            hole_min_width,\n",
    "                                            hole_max_width,\n",
    "                                            small_obj_w,\n",
    "                                            watershed_method)\n",
    "\n",
    "_CM_object.dtype"
   ]
  },
  {
   "cell_type": "code",
   "execution_count": null,
   "metadata": {},
   "outputs": [],
   "source": [
    "np.all(cellmask == _CM_object)"
   ]
  },
  {
   "cell_type": "markdown",
   "metadata": {},
   "source": [
    "## **`STEP 8` - Segment cytoplasm**"
   ]
  },
  {
   "cell_type": "markdown",
   "metadata": {},
   "source": [
    "- mask nuclei with ***cellmask*** to select single ***nucleus***\n",
    "- erode ***nucleus*** (shrink; *optional*)\n",
    "- Segment cytoplasm from logical **XOR** of ***nucleus*** and ***cellmask***"
   ]
  },
  {
   "cell_type": "code",
   "execution_count": null,
   "metadata": {},
   "outputs": [],
   "source": [
    "# mask the nuclei segmentation with the cellmask to select the single nucleus\n",
    "nucleus_obj =  apply_mask(nuclei, cellmask) \n",
    "\n",
    "# erode nucleus if desired (this likely depends on the type of label used)\n",
    "nucleus_eroded = binary_erosion(nucleus_obj)\n",
    "\n",
    "# select the cytoplasmic area (two ways shown here)\n",
    "cyto_object = np.logical_and(cellmask,~nucleus_eroded)\n",
    "cyto_object_xor = np.logical_xor(cellmask,nucleus_eroded)\n",
    "\n",
    "nucleus_out = label_bool_as_uint16(nucleus_obj)\n",
    "cytoplasm_out = label_bool_as_uint16(cyto_object_xor)"
   ]
  },
  {
   "cell_type": "code",
   "execution_count": null,
   "metadata": {},
   "outputs": [],
   "source": [
    "nucleus_out.dtype, cytoplasm_out.dtype"
   ]
  },
  {
   "cell_type": "markdown",
   "metadata": {},
   "source": [
    "Define `_infer_cytoplasm` function\n",
    "\n",
    "> ###### 📝 **these functions mainly serve for downstream prototyping in the notebooks. Each step above has an independent function that is implemented in the plugin for easy of use.**"
   ]
  },
  {
   "cell_type": "code",
   "execution_count": null,
   "metadata": {},
   "outputs": [],
   "source": [
    "def _infer_cytoplasm(nuclei_object, cellmask,  erode_nuclei = True):\n",
    "    \"\"\"\n",
    "    Procedure to infer cytoplasm from linearly unmixed input.\n",
    "\n",
    "    Parameters\n",
    "    ------------\n",
    "    nuclei_object: \n",
    "        a 3d image containing the nuclei signal\n",
    "    cellmask: \n",
    "        a 3d image containing the cellmask signal\n",
    "    erode_nuclei: \n",
    "        should we erode? Default False\n",
    "\n",
    "    Returns\n",
    "    -------------\n",
    "    cytoplasm_mask \n",
    "        boolean np.ndarray\n",
    "      \n",
    "    \"\"\"\n",
    "    nucleus_obj =  apply_mask(nuclei_object, cellmask) \n",
    "\n",
    "    if erode_nuclei:\n",
    "        cytoplasm_mask = np.logical_xor(cellmask, binary_erosion(nucleus_obj))\n",
    "    else:\n",
    "        cytoplasm_mask = np.logical_xor(cellmask, nucleus_obj)\n",
    "\n",
    "    return label_bool_as_uint16(cytoplasm_mask)"
   ]
  },
  {
   "cell_type": "markdown",
   "metadata": {},
   "source": [
    "Run `_infer_cytoplasm` function"
   ]
  },
  {
   "cell_type": "code",
   "execution_count": null,
   "metadata": {},
   "outputs": [],
   "source": [
    "_CY_object = _infer_cytoplasm(nuclei, cellmask, erode_nuclei=True)\n",
    "\n",
    "_CY_object.dtype"
   ]
  },
  {
   "cell_type": "code",
   "execution_count": null,
   "metadata": {},
   "outputs": [],
   "source": [
    "np.all(cytoplasm_out == _CY_object)"
   ]
  },
  {
   "cell_type": "markdown",
   "metadata": {},
   "source": [
    "# ***EXPORT prototype - masks***"
   ]
  },
  {
   "cell_type": "markdown",
   "metadata": {},
   "source": [
    "## **`STEP 9` - Stack masks**"
   ]
  },
  {
   "cell_type": "markdown",
   "metadata": {},
   "source": [
    "- stack masks in order of nucleus, cellmask and cytoplasm mask"
   ]
  },
  {
   "cell_type": "code",
   "execution_count": null,
   "metadata": {},
   "outputs": [],
   "source": [
    "stack = stack_masks(nuc_mask=nucleus_out, cellmask=cellmask, cyto_mask=cytoplasm_out)"
   ]
  },
  {
   "cell_type": "markdown",
   "metadata": {},
   "source": [
    "Export `masks` file to output folder"
   ]
  },
  {
   "cell_type": "code",
   "execution_count": null,
   "metadata": {},
   "outputs": [],
   "source": [
    "out_file_n = export_inferred_organelle(stack, \"masks\", meta_dict, out_data_path)"
   ]
  },
  {
   "cell_type": "markdown",
   "metadata": {},
   "source": [
    "## **Visualize `nucleus`, `cellmask` and `cytoplasm`**"
   ]
  },
  {
   "cell_type": "code",
   "execution_count": null,
   "metadata": {},
   "outputs": [],
   "source": [
    "viewer_masks = napari.Viewer(title = \"masks\",\n",
    "                           ndisplay=3)\n",
    "viewer_masks.grid.enabled = True"
   ]
  },
  {
   "cell_type": "code",
   "execution_count": null,
   "metadata": {},
   "outputs": [],
   "source": [
    "viewer_masks.add_image(stack[2].astype(bool),\n",
    "                      scale = scale,\n",
    "                      name = 'Cytoplasm')\n",
    "\n",
    "viewer_masks.add_image(stack[1].astype(bool),\n",
    "                      scale = scale,\n",
    "                      name = 'Cellmask')\n",
    "\n",
    "viewer_masks.add_image(stack[0].astype(bool),\n",
    "                      scale = scale,\n",
    "                      name = 'Nucleus')\n",
    "\n",
    "viewer_masks.reset_view()\n",
    "\n",
    "nbscreenshot(viewer_masks,\n",
    "             canvas_only = True)"
   ]
  },
  {
   "cell_type": "markdown",
   "metadata": {},
   "source": [
    "-------------\n",
    "### NEXT: INFER LYSOSOME\n",
    "\n",
    "proceed to [1.2_infer_lysosome.ipynb](./1.2_infer_lysosome.ipynb)"
   ]
  }
 ],
 "metadata": {
  "kernelspec": {
   "display_name": "infer-subc",
   "language": "python",
   "name": "python3"
  },
  "language_info": {
   "codemirror_mode": {
    "name": "ipython",
    "version": 3
   },
   "file_extension": ".py",
   "mimetype": "text/x-python",
   "name": "python",
   "nbconvert_exporter": "python",
   "pygments_lexer": "ipython3",
   "version": "3.10.11"
  }
 },
 "nbformat": 4,
 "nbformat_minor": 2
}
