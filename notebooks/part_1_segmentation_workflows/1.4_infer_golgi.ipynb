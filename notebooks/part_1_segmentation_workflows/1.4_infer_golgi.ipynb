{
 "cells": [
  {
   "attachments": {},
   "cell_type": "markdown",
   "metadata": {},
   "source": [
    "# Infer ***golgi*** - part 4️⃣\n",
    "\n",
    "--------------\n",
    "## **OBJECTIVE**\n",
    "\n",
    "### <input type=\"checkbox\"/> Infer sub-cellular component  ***golgi***  \n",
    "Segment the ***golgi*** from a single channel (membrane marker). This workflow was optimized for images of fluorescently tagged sialyltransferase1 (SiT1), a membrane protein. The Golgi has both the classical cisternae structure as well as small golgi derived vesciles, so we are utilizing two segmentation methods to idenfity the entire Golgi structure."
   ]
  },
  {
   "cell_type": "markdown",
   "metadata": {},
   "source": [
    "---------------------\n",
    "## infer ***golgi complex***\n",
    "### summary of steps \n",
    "\n",
    "➡️ **EXTRACTION**\n",
    "- **`STEP 1`** - Select a channel for segmentation\n",
    "\n",
    "    - select single channel containing the golgi marker (channel number = user input)\n",
    "\n",
    "**PRE-PROCESSING**\n",
    "- **`STEP 2`** - Rescale and smooth image\n",
    "\n",
    "  - rescale intensity of composite image (min=0, max=1)\n",
    "  - median filter (median size = user input)\n",
    "  - gaussian filter (sigma = user input)\n",
    "\n",
    "**CORE PROCESSING**\n",
    "- **`STEP 3`** - Global + local thresholding (AICSSeg – MO)\n",
    "\n",
    "    - apply MO thresholding method from the Allen Cell [aicssegmentation](https://github.com/AllenCell/aics-segmentation) package (threshold options = user input)\n",
    "\n",
    "- **`STEP 4`** - Thin segmentation (Topology preserving)\n",
    "\n",
    "    - apply topology preserved thinning function from the Allen Cell [aicssegmentation](https://github.com/AllenCell/aics-segmentation) package (thinning amount, minimum thickness = user input)\n",
    "\n",
    "- **`STEP 5`** - ‘Dot’ thresholding method (AICSSeg)\n",
    "\n",
    "    - apply \"dot\" thresholding method (for small round objects) from the Allen Cell [aicssegmentation](https://github.com/AllenCell/aics-segmentation) package (size scale and threshold cutoff = user input)\n",
    "\n",
    "- **`STEP 6`** - Combine Segmentations (logical or)\n",
    "\n",
    "    - combine the two segmentations with logical *OR*\n",
    "\n",
    "**POST-PROCESSING**\n",
    "- **`STEP 7`** - Remove small holes and objects\n",
    "\n",
    "  - fill holes (hole size = user input)\n",
    "  - remove small objects (object size = user input)\n",
    "  - filter method (method = user input)\n",
    "\n",
    "**POST-POST-PROCESSING**\n",
    "- **`STEP 8`** - Label objects\n",
    "\n",
    "  - label unique golgi objects based on connectivity\n",
    "\n",
    "**EXPORT** ➡️\n",
    "- save labeled ***golgi*** (golgi, GL) as unsigned integer 16-bit tif files\n",
    "\n",
    "\n",
    "> Generally following the Allen Cell Segmenter procedure for segmentation of Golgi from the [sialyltransferase 1 (ST6GAL1)](https://www.allencell.org/cell-observations/category/golgi-apparatus) marker. Sourced from: this [script](https://github.com/AllenCell/aics-segmentation/blob/main/aicssegmentation/structure_wrapper/seg_st6gal1.py)."
   ]
  },
  {
   "attachments": {},
   "cell_type": "markdown",
   "metadata": {},
   "source": [
    "---------------------\n",
    "## **IMPORTS**"
   ]
  },
  {
   "cell_type": "markdown",
   "metadata": {},
   "source": [
    "#### &#x1F3C3; **Run code; no user input required**\n",
    "\n",
    "&#x1F453; **FYI:** This code block loads all of the necessary python packages and functions you will need for this notebook."
   ]
  },
  {
   "cell_type": "code",
   "execution_count": null,
   "metadata": {},
   "outputs": [],
   "source": [
    "from pathlib import Path\n",
    "import os\n",
    "\n",
    "import numpy as np\n",
    "\n",
    "from aicssegmentation.core.utils import topology_preserving_thinning\n",
    "import napari\n",
    "from napari.utils.notebook_display import nbscreenshot\n",
    "\n",
    "from infer_subc.core.file_io import (read_czi_image,\n",
    "                                                                    # read_ome_image,\n",
    "                                                                    export_inferred_organelle,\n",
    "                                                                    # import_inferred_organelle,\n",
    "                                                                    list_image_files)\n",
    "\n",
    "from infer_subc.core.img import *\n",
    "\n",
    "%load_ext autoreload\n",
    "%autoreload 2\n"
   ]
  },
  {
   "attachments": {},
   "cell_type": "markdown",
   "metadata": {},
   "source": [
    "## **LOAD AND READ IN IMAGE FOR PROCESSING**"
   ]
  },
  {
   "cell_type": "markdown",
   "metadata": {},
   "source": [
    "#### &#x1F6D1; &#x270D; **User Input Required:**"
   ]
  },
  {
   "cell_type": "code",
   "execution_count": null,
   "metadata": {},
   "outputs": [],
   "source": [
    "# Specify the file type of your raw data that will be analyzed. Ex) \".czi\" or \".tiff\"\n",
    "im_type = \".tiff\"\n",
    "\n",
    "## Define the path to the directory that contains the input image folder.\n",
    "data_root_path = Path(os.getcwd()).parents[1] / \"sample_data\" /  \"example_neuron\"\n",
    "\n",
    "## Specify which subfolder that contains the input data\n",
    "in_data_path = data_root_path / \"raw\"\n",
    "\n",
    "## Specify the output folder\n",
    "out_data_path = data_root_path / \"seg\"\n",
    "\n",
    "# Specify which file you'd like to segment from the img_file_list\n",
    "test_img_n = 0"
   ]
  },
  {
   "cell_type": "markdown",
   "metadata": {},
   "source": [
    "#### &#x1F3C3; **Run code; no user input required**"
   ]
  },
  {
   "cell_type": "code",
   "execution_count": null,
   "metadata": {},
   "outputs": [],
   "source": [
    "if not Path.exists(out_data_path):\n",
    "    Path.mkdir(out_data_path)\n",
    "    print(f\"making {out_data_path}\")\n",
    "\n",
    "img_file_list = list_image_files(in_data_path,im_type)\n",
    "# pd.set_option('display.max_colwidth', None)\n",
    "# pd.DataFrame({\"Image Name\":img_file_list})"
   ]
  },
  {
   "cell_type": "code",
   "execution_count": null,
   "metadata": {},
   "outputs": [],
   "source": [
    "test_img_name = img_file_list[test_img_n]\n",
    "\n",
    "img_data,meta_dict = read_czi_image(test_img_name)\n",
    "\n",
    "channel_names = meta_dict['name']\n",
    "img = meta_dict['metadata']['aicsimage']\n",
    "scale = meta_dict['scale']\n",
    "channel_axis = meta_dict['channel_axis']"
   ]
  },
  {
   "attachments": {},
   "cell_type": "markdown",
   "metadata": {},
   "source": [
    "# ***EXTRACTION prototype - golgi***"
   ]
  },
  {
   "cell_type": "markdown",
   "metadata": {},
   "source": [
    "## **`STEP 1` - Select a channel for segmentation**"
   ]
  },
  {
   "cell_type": "markdown",
   "metadata": {},
   "source": [
    "- select single channel containing the golgi marker (channel number = user input)"
   ]
  },
  {
   "cell_type": "code",
   "execution_count": null,
   "metadata": {},
   "outputs": [],
   "source": [
    "###################\n",
    "# INPUT\n",
    "###################\n",
    "GOLGI_CH = 2\n",
    "raw_golgi = select_channel_from_raw(img_data, GOLGI_CH)"
   ]
  },
  {
   "attachments": {},
   "cell_type": "markdown",
   "metadata": {},
   "source": [
    "# ***PRE-PROCESSING prototype - golgi***"
   ]
  },
  {
   "cell_type": "markdown",
   "metadata": {},
   "source": [
    "## **`STEP 2` - Rescale and smooth image**"
   ]
  },
  {
   "cell_type": "markdown",
   "metadata": {},
   "source": [
    "- rescale intensity of composite image (min=0, max=1)\n",
    "- median filter (median size = user input)\n",
    "- gaussian filter (sigma = user input)"
   ]
  },
  {
   "cell_type": "code",
   "execution_count": null,
   "metadata": {},
   "outputs": [],
   "source": [
    "###################\n",
    "# PRE_PROCESSING\n",
    "###################\n",
    "median_sz = 0\n",
    "gauss_sig = 0\n",
    "\n",
    "struct_img =  scale_and_smooth(raw_golgi,\n",
    "                               median_size = median_sz, \n",
    "                               gauss_sigma = gauss_sig)"
   ]
  },
  {
   "attachments": {},
   "cell_type": "markdown",
   "metadata": {},
   "source": [
    "# ***CORE-PROCESSING prototype - golgi***"
   ]
  },
  {
   "cell_type": "markdown",
   "metadata": {},
   "source": [
    "## **`STEP 3` - Global + local thresholding (AICSSeg – MO)**"
   ]
  },
  {
   "cell_type": "markdown",
   "metadata": {},
   "source": [
    "- apply MO thresholding method from the Allen Cell [aicssegmentation](https://github.com/AllenCell/aics-segmentation) package (threshold options = user input)"
   ]
  },
  {
   "cell_type": "code",
   "execution_count": null,
   "metadata": {},
   "outputs": [],
   "source": [
    "###################\n",
    "# CORE_PROCESSING\n",
    "###################\n",
    "################################\n",
    "# segment the majority of the golgi with this global and local thresholding method\n",
    "thresh_method = 'ave_tri_med'\n",
    "cell_wise_min_area = 1200\n",
    "thresh_adj = .9\n",
    "\n",
    "bw = masked_object_thresh(struct_img, \n",
    "                          global_method=thresh_method, \n",
    "                          cutoff_size=cell_wise_min_area, \n",
    "                          local_adjust=thresh_adj)"
   ]
  },
  {
   "cell_type": "markdown",
   "metadata": {},
   "source": [
    "## **`STEP 4` - Thin segmentation (Topology preserving)**"
   ]
  },
  {
   "cell_type": "markdown",
   "metadata": {},
   "source": [
    "- apply topology preserved thinning function from the Allen Cell [aicssegmentation](https://github.com/AllenCell/aics-segmentation) package (thinning amount, minimum thickness = user input)"
   ]
  },
  {
   "cell_type": "code",
   "execution_count": null,
   "metadata": {},
   "outputs": [],
   "source": [
    "# thin segmentation with maintain a minimal required thickness\n",
    "thin_dist = 1\n",
    "thin_dist_preserve = 8\n",
    "\n",
    "bw_thin = topology_preserving_thinning(bw, thin_dist_preserve, thin_dist)"
   ]
  },
  {
   "cell_type": "markdown",
   "metadata": {},
   "source": [
    "## **`STEP 5` - ‘Dot’ thresholding method (AICSSeg)**"
   ]
  },
  {
   "cell_type": "markdown",
   "metadata": {},
   "source": [
    "- apply \"dot\" thresholding method (for small round objects) from the Allen Cell [aicssegmentation](https://github.com/AllenCell/aics-segmentation) package (size scale and threshold cutoff = user input)"
   ]
  },
  {
   "cell_type": "code",
   "execution_count": null,
   "metadata": {},
   "outputs": [],
   "source": [
    "# segment small round structures with this (golgi vesicles)\n",
    "dot_scale_1 = 0.5\n",
    "dot_cut_1 = 0.1\n",
    "\n",
    "dot_scale_2 = 0\n",
    "dot_cut_2 = 0\n",
    "\n",
    "dot_scale_3 = 0\n",
    "dot_cut_3 = 0\n",
    "\n",
    "dot_method = '3D'\n",
    "\n",
    "bw_extra = dot_filter_3(struct_img,\n",
    "                        dot_scale_1,\n",
    "                        dot_cut_1,\n",
    "                        dot_scale_2,\n",
    "                        dot_cut_2,\n",
    "                        dot_scale_3,\n",
    "                        dot_cut_3,\n",
    "                        dot_method)"
   ]
  },
  {
   "cell_type": "markdown",
   "metadata": {},
   "source": [
    "## **`STEP 6` - Combine Segmentations (logical or)**"
   ]
  },
  {
   "cell_type": "markdown",
   "metadata": {},
   "source": [
    "- combine the two segmentations with logical *OR*"
   ]
  },
  {
   "cell_type": "code",
   "execution_count": null,
   "metadata": {},
   "outputs": [],
   "source": [
    "# combine the two segmentations together\n",
    "bw_combine = np.logical_or(bw_extra, bw_thin)"
   ]
  },
  {
   "attachments": {},
   "cell_type": "markdown",
   "metadata": {},
   "source": [
    "# ***POST-PROCESSING prototype - golgi***"
   ]
  },
  {
   "cell_type": "markdown",
   "metadata": {},
   "source": [
    "## **`STEP 7` - Remove small holes and objects**"
   ]
  },
  {
   "cell_type": "markdown",
   "metadata": {},
   "source": [
    "- fill holes (hole size = user input)\n",
    "- remove small objects (object size = user input)\n",
    "- filter method (method = user input)"
   ]
  },
  {
   "cell_type": "code",
   "execution_count": null,
   "metadata": {},
   "outputs": [],
   "source": [
    "###################\n",
    "# POST_PROCESSING\n",
    "###################\n",
    "hole_min_width = 0\n",
    "hole_max_width = 0\n",
    "\n",
    "small_object_width = 2\n",
    "\n",
    "fill_filter_method = \"3D\"\n",
    "\n",
    "cleaned_img2 = fill_and_filter_linear_size(bw_combine, \n",
    "                                           hole_min=hole_min_width, \n",
    "                                           hole_max=hole_max_width, \n",
    "                                           min_size=small_object_width,\n",
    "                                           method=fill_filter_method)"
   ]
  },
  {
   "attachments": {},
   "cell_type": "markdown",
   "metadata": {},
   "source": [
    "# ***POST-POST-PROCESSING prototype - golgi***"
   ]
  },
  {
   "cell_type": "markdown",
   "metadata": {},
   "source": [
    "## **`STEP 8` - Label objects**"
   ]
  },
  {
   "cell_type": "markdown",
   "metadata": {},
   "source": [
    "- label unique golgi objects based on connectivity"
   ]
  },
  {
   "cell_type": "code",
   "execution_count": null,
   "metadata": {},
   "outputs": [],
   "source": [
    "###################\n",
    "# LABELING\n",
    "###################\n",
    "golgi_labels = label_uint16(cleaned_img2)"
   ]
  },
  {
   "cell_type": "code",
   "execution_count": null,
   "metadata": {},
   "outputs": [],
   "source": [
    "golgi_labels.dtype"
   ]
  },
  {
   "attachments": {},
   "cell_type": "markdown",
   "metadata": {},
   "source": [
    "## **Visualize with `napari` 1**\n",
    "Visualize the first-pass segmentation and labeling with `napari`."
   ]
  },
  {
   "cell_type": "code",
   "execution_count": null,
   "metadata": {},
   "outputs": [],
   "source": [
    "viewer = napari.Viewer(title = \"golgi\",\n",
    "                       ndisplay=3)"
   ]
  },
  {
   "cell_type": "code",
   "execution_count": null,
   "metadata": {},
   "outputs": [],
   "source": [
    "viewer.add_image(\n",
    "    struct_img,\n",
    "    scale = scale,\n",
    "    name = \"Golgi body Intensities\")\n",
    "\n",
    "viewer.add_image(\n",
    "    cleaned_img2,\n",
    "    scale = scale,\n",
    "    opacity=0.3,\n",
    "    name = \"Golgi Segmentation\")\n",
    "\n",
    "viewer.add_labels(\n",
    "    golgi_labels,\n",
    "    scale = scale,\n",
    "    opacity=0.3,\n",
    "    name = \"Golgi Labels\")"
   ]
  },
  {
   "cell_type": "markdown",
   "metadata": {},
   "source": [
    "# ***EXTRACTION prototype - golgi***"
   ]
  },
  {
   "cell_type": "markdown",
   "metadata": {},
   "source": [
    "- save labeled ***golgi*** (golgi, GL) as unsigned integer 16-bit tif files"
   ]
  },
  {
   "cell_type": "code",
   "execution_count": null,
   "metadata": {},
   "outputs": [],
   "source": [
    "out_file_n = export_inferred_organelle(golgi_labels, \"golgi\", meta_dict, out_data_path)"
   ]
  },
  {
   "attachments": {},
   "cell_type": "markdown",
   "metadata": {},
   "source": [
    "# **Define `_infer_golgi` function**\n",
    "\n",
    "> ###### 📝 **these functions mainly serve for downstream prototyping in the notebooks. Each step above has an independent function that is implemented in the plugin for easy of use**"
   ]
  },
  {
   "cell_type": "code",
   "execution_count": null,
   "metadata": {},
   "outputs": [],
   "source": [
    "##########################\n",
    "#  infer_golgi\n",
    "##########################\n",
    "def _infer_golgi(\n",
    "            in_img: np.ndarray,\n",
    "            golgi_ch: int,\n",
    "            median_sz: int,\n",
    "            gauss_sig: float,\n",
    "            mo_method: str,\n",
    "            mo_adjust: float,\n",
    "            mo_cutoff_size: int,\n",
    "            min_thickness: int,\n",
    "            thin_dist: int,\n",
    "            dot_scale_1: float,\n",
    "            dot_cut_1: float,\n",
    "            dot_scale_2: float,\n",
    "            dot_cut_2: float,\n",
    "            dot_scale_3: float,\n",
    "            dot_cut_3: float,\n",
    "            dot_method: str,\n",
    "            min_hole_w: int,\n",
    "            max_hole_w: int,\n",
    "            small_obj_w: int,\n",
    "            fill_filter_method: str\n",
    "        ) -> np.ndarray:\n",
    "\n",
    "    \"\"\"\n",
    "    Procedure to infer golgi from linearly unmixed input.\n",
    "\n",
    "   Parameters\n",
    "    ------------\n",
    "    in_img: \n",
    "        a 3d image containing all the channels\n",
    "    median_sz: \n",
    "        width of median filter for signal\n",
    "    mo_method: \n",
    "         which method to use for calculating global threshold. Options include:\n",
    "         \"triangle\" (or \"tri\"), \"median\" (or \"med\"), and \"ave_tri_med\" (or \"ave\").\n",
    "         \"ave\" refers the average of \"triangle\" threshold and \"mean\" threshold.\n",
    "    mo_adjust: \n",
    "        Masked Object threshold `local_adjust`\n",
    "    mo_cutoff_size: \n",
    "        Masked Object threshold `size_min`\n",
    "    min_thinkness: \n",
    "        Half of the minimum width you want to keep from being thinned.\n",
    "        For example, when the object width is smaller than 4, you don't\n",
    "        want to make this part even thinner (may break the thin object\n",
    "        and alter the topology), you can set this value as 2.\n",
    "    thin_dist: \n",
    "        the amount to thin (has to be an positive integer). The number of\n",
    "         pixels to be removed from outter boundary towards center.\n",
    "    dot_scale: \n",
    "        scales (log_sigma) for dot filter (1,2, and 3)\n",
    "    dot_cut: \n",
    "        threshold for dot filter thresholds (1,2,and 3)\n",
    "    small_obj_w: \n",
    "        minimu object size cutoff for nuclei post-processing\n",
    "    \n",
    "    Returns\n",
    "    -------------\n",
    "    golgi_object\n",
    "        mask defined extent of golgi object\n",
    "    \"\"\"\n",
    "\n",
    "    ###################\n",
    "    # EXTRACT\n",
    "    ###################    \n",
    "    golgi = select_channel_from_raw(in_img, golgi_ch)\n",
    "\n",
    "    ###################\n",
    "    # PRE_PROCESSING\n",
    "    ###################    \n",
    "    golgi =  scale_and_smooth(golgi,\n",
    "                              median_size = median_sz, \n",
    "                              gauss_sigma = gauss_sig)\n",
    "    ###################\n",
    "    # CORE_PROCESSING\n",
    "    ###################\n",
    "    bw = masked_object_thresh(golgi, global_method=mo_method, cutoff_size=mo_cutoff_size, local_adjust=mo_adjust)\n",
    "\n",
    "    bw_thin = topology_preserving_thinning(bw, min_thickness, thin_dist)\n",
    "\n",
    "    bw_extra = dot_filter_3(golgi, dot_scale_1, dot_cut_1, dot_scale_2, dot_cut_2, dot_scale_3, dot_cut_3, dot_method)\n",
    "\n",
    "    bw = np.logical_or(bw_extra, bw_thin)\n",
    "    ###################\n",
    "    # POST_PROCESSING\n",
    "    ###################\n",
    "    struct_obj = fill_and_filter_linear_size(bw, \n",
    "                                             hole_min=min_hole_w, \n",
    "                                             hole_max=max_hole_w, \n",
    "                                             min_size=small_obj_w,\n",
    "                                             method=fill_filter_method)\n",
    "\n",
    "    ###################\n",
    "    # LABELING\n",
    "    ###################\n",
    "    struct_obj1 = label_uint16(struct_obj)\n",
    "\n",
    "    return struct_obj1\n"
   ]
  },
  {
   "attachments": {},
   "cell_type": "markdown",
   "metadata": {},
   "source": [
    "# **Test `_infer_golgi` function**"
   ]
  },
  {
   "cell_type": "code",
   "execution_count": null,
   "metadata": {},
   "outputs": [],
   "source": [
    "_golgi_object =  _infer_golgi(\n",
    "    img_data,\n",
    "    GOLGI_CH,\n",
    "    median_sz,\n",
    "    gauss_sig,\n",
    "    thresh_method,\n",
    "    thresh_adj,\n",
    "    cell_wise_min_area,\n",
    "    thin_dist_preserve,\n",
    "    thin_dist,\n",
    "    dot_scale_1,\n",
    "    dot_cut_1,\n",
    "    dot_scale_2,\n",
    "    dot_cut_2,\n",
    "    dot_scale_3,\n",
    "    dot_cut_3,\n",
    "    dot_method,\n",
    "    hole_min_width,\n",
    "    hole_max_width,\n",
    "    small_object_width,\n",
    "    fill_filter_method) \n",
    "\n",
    "_golgi_object.dtype"
   ]
  },
  {
   "cell_type": "code",
   "execution_count": null,
   "metadata": {},
   "outputs": [],
   "source": [
    "np.all(golgi_labels == _golgi_object)"
   ]
  },
  {
   "attachments": {},
   "cell_type": "markdown",
   "metadata": {},
   "source": [
    "## **Visualize with `napari` 2**"
   ]
  },
  {
   "cell_type": "code",
   "execution_count": null,
   "metadata": {},
   "outputs": [],
   "source": [
    "viewer.add_image(\n",
    "    _golgi_object,\n",
    "    scale = scale,\n",
    "    opacity=0.3,\n",
    "    name = \"Golgi body Object\",\n",
    "    colormap='hsv')"
   ]
  },
  {
   "cell_type": "code",
   "execution_count": null,
   "metadata": {},
   "outputs": [],
   "source": [
    "nbscreenshot(viewer, canvas_only=True)"
   ]
  },
  {
   "cell_type": "code",
   "execution_count": null,
   "metadata": {},
   "outputs": [],
   "source": [
    "viewer.close()"
   ]
  },
  {
   "attachments": {},
   "cell_type": "markdown",
   "metadata": {},
   "source": [
    "-------------\n",
    "### NEXT: INFER PEROXISOME\n",
    "\n",
    "proceed to [1.5_infer_peroxisome.ipynb](./1.5_infer_peroxisome.ipynb)\n"
   ]
  },
  {
   "cell_type": "markdown",
   "metadata": {},
   "source": []
  }
 ],
 "metadata": {
  "kernelspec": {
   "display_name": "infer-subc",
   "language": "python",
   "name": "python3"
  },
  "language_info": {
   "codemirror_mode": {
    "name": "ipython",
    "version": 3
   },
   "file_extension": ".py",
   "mimetype": "text/x-python",
   "name": "python",
   "nbconvert_exporter": "python",
   "pygments_lexer": "ipython3",
   "version": "3.10.11"
  },
  "orig_nbformat": 4
 },
 "nbformat": 4,
 "nbformat_minor": 2
}
