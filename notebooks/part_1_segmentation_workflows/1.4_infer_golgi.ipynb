{
 "cells": [
  {
   "attachments": {},
   "cell_type": "markdown",
   "metadata": {},
   "source": [
    "# Infer ***golgi*** - part 4️⃣\n",
    "\n",
    "--------------\n",
    "## **OBJECTIVE**\n",
    "\n",
    "### <input type=\"checkbox\"/> Infer sub-cellular component  ***golgi***  \n",
    "Segment the ***golgi*** from a single channel (membrane marker). This workflow was optimized for images of fluorescently tagged sialyltransferase1 (SiT1), a membrane protein. The Golgi has both the classical cisternae structure as well as small golgi derived vesciles, so we are utilizing two segmentation methods to idenfity the entire Golgi structure."
   ]
  },
  {
   "cell_type": "markdown",
   "metadata": {},
   "source": [
    "---------------------\n",
    "## infer ***golgi complex***\n",
    "### summary of steps \n",
    "\n",
    "➡️ **EXTRACTION**\n",
    "- **`STEP 1`** - Select a channel for segmentation\n",
    "\n",
    "    - select single channel containing the golgi marker (channel number = user input)\n",
    "\n",
    "**PRE-PROCESSING**\n",
    "- **`STEP 2`** - Rescale and smooth image\n",
    "\n",
    "  - rescale intensity of composite image (min=0, max=1)\n",
    "  - median filter (median size = user input)\n",
    "  - gaussian filter (sigma = user input)\n",
    "\n",
    "**CORE PROCESSING**\n",
    "- **`STEP 3`** - Global + local thresholding (AICSSeg – MO)\n",
    "\n",
    "    - apply MO thresholding method from the Allen Cell [aicssegmentation](https://github.com/AllenCell/aics-segmentation) package (threshold options = user input)\n",
    "\n",
    "- **`STEP 4`** - Thin segmentation (Topology preserving)\n",
    "\n",
    "    - apply topology preserved thinning function from the Allen Cell [aicssegmentation](https://github.com/AllenCell/aics-segmentation) package (thinning amount, minimum thickness = user input)\n",
    "\n",
    "- **`STEP 5`** - ‘Dot’ thresholding method (AICSSeg)\n",
    "\n",
    "    - apply \"dot\" thresholding method (for small round objects) from the Allen Cell [aicssegmentation](https://github.com/AllenCell/aics-segmentation) package (size scale and threshold cutoff = user input)\n",
    "\n",
    "- **`STEP 6`** - Combine Segmentations (logical or)\n",
    "\n",
    "    - combine the two segmentations with logical *OR*\n",
    "\n",
    "**POST-PROCESSING**\n",
    "- **`STEP 7`** - Remove small holes and objects\n",
    "\n",
    "  - fill holes (hole size = user input)\n",
    "  - remove small objects (object size = user input)\n",
    "  - filter method (method = user input)\n",
    "\n",
    "**POST-POST-PROCESSING**\n",
    "- **`STEP 8`** - Label objects\n",
    "\n",
    "  - label unique golgi objects based on connectivity\n",
    "\n",
    "**EXPORT** ➡️\n",
    "- save labeled ***golgi*** (golgi, GL) as unsigned integer 16-bit tif files\n",
    "\n",
    "\n",
    "> Generally following the Allen Cell Segmenter procedure for segmentation of Golgi from the [sialyltransferase 1 (ST6GAL1)](https://www.allencell.org/cell-observations/category/golgi-apparatus) marker. Sourced from: this [script](https://github.com/AllenCell/aics-segmentation/blob/main/aicssegmentation/structure_wrapper/seg_st6gal1.py)."
   ]
  },
  {
   "attachments": {},
   "cell_type": "markdown",
   "metadata": {},
   "source": [
    "---------------------\n",
    "## **IMPORTS**"
   ]
  },
  {
   "cell_type": "markdown",
   "metadata": {},
   "source": [
    "#### &#x1F3C3; **Run code; no user input required**\n",
    "\n",
    "&#x1F453; **FYI:** This code block loads all of the necessary python packages and functions you will need for this notebook."
   ]
  },
  {
   "cell_type": "code",
   "execution_count": 1,
   "metadata": {},
   "outputs": [],
   "source": [
    "from pathlib import Path\n",
    "import os\n",
    "\n",
    "import numpy as np\n",
    "\n",
    "from aicssegmentation.core.utils import topology_preserving_thinning\n",
    "import napari\n",
    "from napari.utils.notebook_display import nbscreenshot\n",
    "\n",
    "from infer_subc.core.file_io import (read_czi_image,\n",
    "                                                                    # read_ome_image,\n",
    "                                                                    export_inferred_organelle,\n",
    "                                                                    # import_inferred_organelle,\n",
    "                                                                    list_image_files)\n",
    "\n",
    "from infer_subc.core.img import *\n",
    "\n",
    "%load_ext autoreload\n",
    "%autoreload 2\n"
   ]
  },
  {
   "attachments": {},
   "cell_type": "markdown",
   "metadata": {},
   "source": [
    "## **LOAD AND READ IN IMAGE FOR PROCESSING**"
   ]
  },
  {
   "cell_type": "markdown",
   "metadata": {},
   "source": [
    "#### &#x1F6D1; &#x270D; **User Input Required:**"
   ]
  },
  {
   "cell_type": "code",
   "execution_count": 2,
   "metadata": {},
   "outputs": [],
   "source": [
    "# Specify the file type of your raw data that will be analyzed. Ex) \".czi\" or \".tiff\"\n",
    "im_type = \".tiff\"\n",
    "\n",
    "## Define the path to the directory that contains the input image folder.\n",
    "data_root_path = Path(os.getcwd()).parents[1] / \"sample_data\" /  \"example_neuron\"\n",
    "\n",
    "## Specify which subfolder that contains the input data\n",
    "in_data_path = data_root_path / \"raw\"\n",
    "\n",
    "## Specify the output folder\n",
    "out_data_path = data_root_path / \"seg\"\n",
    "\n",
    "# Specify which file you'd like to segment from the img_file_list\n",
    "test_img_n = 0"
   ]
  },
  {
   "cell_type": "markdown",
   "metadata": {},
   "source": [
    "#### &#x1F3C3; **Run code; no user input required**"
   ]
  },
  {
   "cell_type": "code",
   "execution_count": 3,
   "metadata": {},
   "outputs": [],
   "source": [
    "if not Path.exists(out_data_path):\n",
    "    Path.mkdir(out_data_path)\n",
    "    print(f\"making {out_data_path}\")\n",
    "\n",
    "img_file_list = list_image_files(in_data_path,im_type)\n",
    "# pd.set_option('display.max_colwidth', None)\n",
    "# pd.DataFrame({\"Image Name\":img_file_list})"
   ]
  },
  {
   "cell_type": "code",
   "execution_count": 4,
   "metadata": {},
   "outputs": [],
   "source": [
    "test_img_name = img_file_list[test_img_n]\n",
    "\n",
    "img_data,meta_dict = read_czi_image(test_img_name)\n",
    "\n",
    "channel_names = meta_dict['name']\n",
    "img = meta_dict['metadata']['aicsimage']\n",
    "scale = meta_dict['scale']\n",
    "channel_axis = meta_dict['channel_axis']"
   ]
  },
  {
   "attachments": {},
   "cell_type": "markdown",
   "metadata": {},
   "source": [
    "# ***EXTRACTION prototype - golgi***"
   ]
  },
  {
   "cell_type": "markdown",
   "metadata": {},
   "source": [
    "## **`STEP 1` - Select a channel for segmentation**"
   ]
  },
  {
   "cell_type": "markdown",
   "metadata": {},
   "source": [
    "- select single channel containing the golgi marker (channel number = user input)"
   ]
  },
  {
   "cell_type": "code",
   "execution_count": 5,
   "metadata": {},
   "outputs": [],
   "source": [
    "###################\n",
    "# INPUT\n",
    "###################\n",
    "GOLGI_CH = 2\n",
    "raw_golgi = select_channel_from_raw(img_data, GOLGI_CH)"
   ]
  },
  {
   "attachments": {},
   "cell_type": "markdown",
   "metadata": {},
   "source": [
    "# ***PRE-PROCESSING prototype - golgi***"
   ]
  },
  {
   "cell_type": "markdown",
   "metadata": {},
   "source": [
    "## **`STEP 2` - Rescale and smooth image**"
   ]
  },
  {
   "cell_type": "markdown",
   "metadata": {},
   "source": [
    "- rescale intensity of composite image (min=0, max=1)\n",
    "- median filter (median size = user input)\n",
    "- gaussian filter (sigma = user input)"
   ]
  },
  {
   "cell_type": "code",
   "execution_count": 6,
   "metadata": {},
   "outputs": [],
   "source": [
    "###################\n",
    "# PRE_PROCESSING\n",
    "###################\n",
    "median_sz = 0\n",
    "gauss_sig = 0\n",
    "\n",
    "struct_img =  scale_and_smooth(raw_golgi,\n",
    "                               median_size = median_sz, \n",
    "                               gauss_sigma = gauss_sig)"
   ]
  },
  {
   "attachments": {},
   "cell_type": "markdown",
   "metadata": {},
   "source": [
    "# ***CORE-PROCESSING prototype - golgi***"
   ]
  },
  {
   "cell_type": "markdown",
   "metadata": {},
   "source": [
    "## **`STEP 3` - Global + local thresholding (AICSSeg – MO)**"
   ]
  },
  {
   "cell_type": "markdown",
   "metadata": {},
   "source": [
    "- apply MO thresholding method from the Allen Cell [aicssegmentation](https://github.com/AllenCell/aics-segmentation) package (threshold options = user input)"
   ]
  },
  {
   "cell_type": "code",
   "execution_count": 7,
   "metadata": {},
   "outputs": [],
   "source": [
    "###################\n",
    "# CORE_PROCESSING\n",
    "###################\n",
    "################################\n",
    "# segment the majority of the golgi with this global and local thresholding method\n",
    "thresh_method = 'ave_tri_med'\n",
    "cell_wise_min_area = 1200\n",
    "thresh_adj = .9\n",
    "\n",
    "bw = masked_object_thresh(struct_img, \n",
    "                          global_method=thresh_method, \n",
    "                          cutoff_size=cell_wise_min_area, \n",
    "                          local_adjust=thresh_adj)"
   ]
  },
  {
   "cell_type": "markdown",
   "metadata": {},
   "source": [
    "## **`STEP 4` - Thin segmentation (Topology preserving)**"
   ]
  },
  {
   "cell_type": "markdown",
   "metadata": {},
   "source": [
    "- apply topology preserved thinning function from the Allen Cell [aicssegmentation](https://github.com/AllenCell/aics-segmentation) package (thinning amount, minimum thickness = user input)"
   ]
  },
  {
   "cell_type": "code",
   "execution_count": 8,
   "metadata": {},
   "outputs": [],
   "source": [
    "# thin segmentation with maintain a minimal required thickness\n",
    "thin_dist = 1\n",
    "thin_dist_preserve = 8\n",
    "\n",
    "bw_thin = topology_preserving_thinning(bw, thin_dist_preserve, thin_dist)"
   ]
  },
  {
   "cell_type": "markdown",
   "metadata": {},
   "source": [
    "## **`STEP 5` - ‘Dot’ thresholding method (AICSSeg)**"
   ]
  },
  {
   "cell_type": "markdown",
   "metadata": {},
   "source": [
    "- apply \"dot\" thresholding method (for small round objects) from the Allen Cell [aicssegmentation](https://github.com/AllenCell/aics-segmentation) package (size scale and threshold cutoff = user input)"
   ]
  },
  {
   "cell_type": "code",
   "execution_count": 9,
   "metadata": {},
   "outputs": [],
   "source": [
    "# segment small round structures with this (golgi vesicles)\n",
    "dot_scale_1 = 0.5\n",
    "dot_cut_1 = 0.1\n",
    "\n",
    "dot_scale_2 = 0\n",
    "dot_cut_2 = 0\n",
    "\n",
    "dot_scale_3 = 0\n",
    "dot_cut_3 = 0\n",
    "\n",
    "dot_method = '3D'\n",
    "\n",
    "bw_extra = dot_filter_3(struct_img,\n",
    "                        dot_scale_1,\n",
    "                        dot_cut_1,\n",
    "                        dot_scale_2,\n",
    "                        dot_cut_2,\n",
    "                        dot_scale_3,\n",
    "                        dot_cut_3,\n",
    "                        dot_method)"
   ]
  },
  {
   "cell_type": "markdown",
   "metadata": {},
   "source": [
    "## **`STEP 6` - Combine Segmentations (logical or)**"
   ]
  },
  {
   "cell_type": "markdown",
   "metadata": {},
   "source": [
    "- combine the two segmentations with logical *OR*"
   ]
  },
  {
   "cell_type": "code",
   "execution_count": 10,
   "metadata": {},
   "outputs": [],
   "source": [
    "# combine the two segmentations together\n",
    "bw_combine = np.logical_or(bw_extra, bw_thin)"
   ]
  },
  {
   "attachments": {},
   "cell_type": "markdown",
   "metadata": {},
   "source": [
    "# ***POST-PROCESSING prototype - golgi***"
   ]
  },
  {
   "cell_type": "markdown",
   "metadata": {},
   "source": [
    "## **`STEP 7` - Remove small holes and objects**"
   ]
  },
  {
   "cell_type": "markdown",
   "metadata": {},
   "source": [
    "- fill holes (hole size = user input)\n",
    "- remove small objects (object size = user input)\n",
    "- filter method (method = user input)"
   ]
  },
  {
   "cell_type": "code",
   "execution_count": 11,
   "metadata": {},
   "outputs": [],
   "source": [
    "###################\n",
    "# POST_PROCESSING\n",
    "###################\n",
    "hole_min_width = 0\n",
    "hole_max_width = 0\n",
    "\n",
    "small_object_width = 2\n",
    "\n",
    "fill_filter_method = \"3D\"\n",
    "\n",
    "cleaned_img2 = fill_and_filter_linear_size(bw_combine, \n",
    "                                           hole_min=hole_min_width, \n",
    "                                           hole_max=hole_max_width, \n",
    "                                           min_size=small_object_width,\n",
    "                                           method=fill_filter_method)"
   ]
  },
  {
   "attachments": {},
   "cell_type": "markdown",
   "metadata": {},
   "source": [
    "# ***POST-POST-PROCESSING prototype - golgi***"
   ]
  },
  {
   "cell_type": "markdown",
   "metadata": {},
   "source": [
    "## **`STEP 8` - Label objects**"
   ]
  },
  {
   "cell_type": "markdown",
   "metadata": {},
   "source": [
    "- label unique golgi objects based on connectivity"
   ]
  },
  {
   "cell_type": "code",
   "execution_count": 12,
   "metadata": {},
   "outputs": [],
   "source": [
    "###################\n",
    "# LABELING\n",
    "###################\n",
    "golgi_labels = label_uint16(cleaned_img2)"
   ]
  },
  {
   "cell_type": "code",
   "execution_count": 13,
   "metadata": {},
   "outputs": [
    {
     "data": {
      "text/plain": [
       "dtype('uint16')"
      ]
     },
     "execution_count": 13,
     "metadata": {},
     "output_type": "execute_result"
    }
   ],
   "source": [
    "golgi_labels.dtype"
   ]
  },
  {
   "attachments": {},
   "cell_type": "markdown",
   "metadata": {},
   "source": [
    "## **Visualize with `napari` 1**\n",
    "Visualize the first-pass segmentation and labeling with `napari`."
   ]
  },
  {
   "cell_type": "code",
   "execution_count": 14,
   "metadata": {},
   "outputs": [],
   "source": [
    "viewer = napari.Viewer(title = \"golgi\",\n",
    "                       ndisplay=3)"
   ]
  },
  {
   "cell_type": "code",
   "execution_count": 15,
   "metadata": {},
   "outputs": [
    {
     "data": {
      "text/plain": [
       "<Labels layer 'Golgi Labels' at 0x24b0018d4e0>"
      ]
     },
     "execution_count": 15,
     "metadata": {},
     "output_type": "execute_result"
    }
   ],
   "source": [
    "viewer.add_image(\n",
    "    struct_img,\n",
    "    scale = scale,\n",
    "    name = \"Golgi body Intensities\")\n",
    "\n",
    "viewer.add_image(\n",
    "    cleaned_img2,\n",
    "    scale = scale,\n",
    "    opacity=0.3,\n",
    "    name = \"Golgi Segmentation\")\n",
    "\n",
    "viewer.add_labels(\n",
    "    golgi_labels,\n",
    "    scale = scale,\n",
    "    opacity=0.3,\n",
    "    name = \"Golgi Labels\")"
   ]
  },
  {
   "cell_type": "markdown",
   "metadata": {},
   "source": [
    "# ***EXTRACTION prototype - golgi***"
   ]
  },
  {
   "cell_type": "markdown",
   "metadata": {},
   "source": [
    "- save labeled ***golgi*** (golgi, GL) as unsigned integer 16-bit tif files"
   ]
  },
  {
   "cell_type": "code",
   "execution_count": 16,
   "metadata": {},
   "outputs": [
    {
     "name": "stdout",
     "output_type": "stream",
     "text": [
      "saved file: 20230727_C2-121_conditioned_well 4_cell 3_untreated_Linear unmixing_0_cmle.ome-golgi\n"
     ]
    }
   ],
   "source": [
    "out_file_n = export_inferred_organelle(golgi_labels, \"golgi\", meta_dict, out_data_path)"
   ]
  },
  {
   "cell_type": "code",
   "execution_count": 17,
   "metadata": {},
   "outputs": [
    {
     "name": "stdout",
     "output_type": "stream",
     "text": [
      "saved file: 20230727_C2-121_conditioned_well 4_cell 3_untreated_Linear unmixing_0_cmle.ome-golgi\n"
     ]
    }
   ],
   "source": [
    "# Whether or not to include the segmentation in the batch processing performed in part 2 of infer-subc (quantification)\n",
    "to_batch = True\n",
    "if to_batch:\n",
    "    out_file_b = export_inferred_organelle(golgi_labels,\n",
    "                                           \"golgi\",\n",
    "                                           meta_dict,\n",
    "                                           Path(os.getcwd()).parents[1] / \"sample_data\" /  \"batch_example\" / \"seg\")"
   ]
  },
  {
   "attachments": {},
   "cell_type": "markdown",
   "metadata": {},
   "source": [
    "# **Define `_infer_golgi` function**\n",
    "\n",
    "> ###### 📝 **these functions mainly serve for downstream prototyping in the notebooks. Each step above has an independent function that is implemented in the plugin for easy of use**"
   ]
  },
  {
   "cell_type": "code",
   "execution_count": 18,
   "metadata": {},
   "outputs": [],
   "source": [
    "##########################\n",
    "#  infer_golgi\n",
    "##########################\n",
    "def _infer_golgi(\n",
    "            in_img: np.ndarray,\n",
    "            golgi_ch: int,\n",
    "            median_sz: int,\n",
    "            gauss_sig: float,\n",
    "            mo_method: str,\n",
    "            mo_adjust: float,\n",
    "            mo_cutoff_size: int,\n",
    "            min_thickness: int,\n",
    "            thin_dist: int,\n",
    "            dot_scale_1: float,\n",
    "            dot_cut_1: float,\n",
    "            dot_scale_2: float,\n",
    "            dot_cut_2: float,\n",
    "            dot_scale_3: float,\n",
    "            dot_cut_3: float,\n",
    "            dot_method: str,\n",
    "            min_hole_w: int,\n",
    "            max_hole_w: int,\n",
    "            small_obj_w: int,\n",
    "            fill_filter_method: str\n",
    "        ) -> np.ndarray:\n",
    "\n",
    "    \"\"\"\n",
    "    Procedure to infer golgi from linearly unmixed input.\n",
    "\n",
    "   Parameters\n",
    "    ------------\n",
    "    in_img: \n",
    "        a 3d image containing all the channels\n",
    "    median_sz: \n",
    "        width of median filter for signal\n",
    "    mo_method: \n",
    "         which method to use for calculating global threshold. Options include:\n",
    "         \"triangle\" (or \"tri\"), \"median\" (or \"med\"), and \"ave_tri_med\" (or \"ave\").\n",
    "         \"ave\" refers the average of \"triangle\" threshold and \"mean\" threshold.\n",
    "    mo_adjust: \n",
    "        Masked Object threshold `local_adjust`\n",
    "    mo_cutoff_size: \n",
    "        Masked Object threshold `size_min`\n",
    "    min_thinkness: \n",
    "        Half of the minimum width you want to keep from being thinned.\n",
    "        For example, when the object width is smaller than 4, you don't\n",
    "        want to make this part even thinner (may break the thin object\n",
    "        and alter the topology), you can set this value as 2.\n",
    "    thin_dist: \n",
    "        the amount to thin (has to be an positive integer). The number of\n",
    "         pixels to be removed from outter boundary towards center.\n",
    "    dot_scale: \n",
    "        scales (log_sigma) for dot filter (1,2, and 3)\n",
    "    dot_cut: \n",
    "        threshold for dot filter thresholds (1,2,and 3)\n",
    "    small_obj_w: \n",
    "        minimu object size cutoff for nuclei post-processing\n",
    "    \n",
    "    Returns\n",
    "    -------------\n",
    "    golgi_object\n",
    "        mask defined extent of golgi object\n",
    "    \"\"\"\n",
    "\n",
    "    ###################\n",
    "    # EXTRACT\n",
    "    ###################    \n",
    "    golgi = select_channel_from_raw(in_img, golgi_ch)\n",
    "\n",
    "    ###################\n",
    "    # PRE_PROCESSING\n",
    "    ###################    \n",
    "    golgi =  scale_and_smooth(golgi,\n",
    "                              median_size = median_sz, \n",
    "                              gauss_sigma = gauss_sig)\n",
    "    ###################\n",
    "    # CORE_PROCESSING\n",
    "    ###################\n",
    "    bw = masked_object_thresh(golgi, global_method=mo_method, cutoff_size=mo_cutoff_size, local_adjust=mo_adjust)\n",
    "\n",
    "    bw_thin = topology_preserving_thinning(bw, min_thickness, thin_dist)\n",
    "\n",
    "    bw_extra = dot_filter_3(golgi, dot_scale_1, dot_cut_1, dot_scale_2, dot_cut_2, dot_scale_3, dot_cut_3, dot_method)\n",
    "\n",
    "    bw = np.logical_or(bw_extra, bw_thin)\n",
    "    ###################\n",
    "    # POST_PROCESSING\n",
    "    ###################\n",
    "    struct_obj = fill_and_filter_linear_size(bw, \n",
    "                                             hole_min=min_hole_w, \n",
    "                                             hole_max=max_hole_w, \n",
    "                                             min_size=small_obj_w,\n",
    "                                             method=fill_filter_method)\n",
    "\n",
    "    ###################\n",
    "    # LABELING\n",
    "    ###################\n",
    "    struct_obj1 = label_uint16(struct_obj)\n",
    "\n",
    "    return struct_obj1\n"
   ]
  },
  {
   "attachments": {},
   "cell_type": "markdown",
   "metadata": {},
   "source": [
    "# **Test `_infer_golgi` function**"
   ]
  },
  {
   "cell_type": "code",
   "execution_count": 19,
   "metadata": {},
   "outputs": [
    {
     "data": {
      "text/plain": [
       "dtype('uint16')"
      ]
     },
     "execution_count": 19,
     "metadata": {},
     "output_type": "execute_result"
    }
   ],
   "source": [
    "_golgi_object =  _infer_golgi(\n",
    "    img_data,\n",
    "    GOLGI_CH,\n",
    "    median_sz,\n",
    "    gauss_sig,\n",
    "    thresh_method,\n",
    "    thresh_adj,\n",
    "    cell_wise_min_area,\n",
    "    thin_dist_preserve,\n",
    "    thin_dist,\n",
    "    dot_scale_1,\n",
    "    dot_cut_1,\n",
    "    dot_scale_2,\n",
    "    dot_cut_2,\n",
    "    dot_scale_3,\n",
    "    dot_cut_3,\n",
    "    dot_method,\n",
    "    hole_min_width,\n",
    "    hole_max_width,\n",
    "    small_object_width,\n",
    "    fill_filter_method) \n",
    "\n",
    "_golgi_object.dtype"
   ]
  },
  {
   "cell_type": "code",
   "execution_count": 20,
   "metadata": {},
   "outputs": [
    {
     "data": {
      "text/plain": [
       "False"
      ]
     },
     "execution_count": 20,
     "metadata": {},
     "output_type": "execute_result"
    }
   ],
   "source": [
    "np.all(golgi_labels == _golgi_object)"
   ]
  },
  {
   "attachments": {},
   "cell_type": "markdown",
   "metadata": {},
   "source": [
    "## **Visualize with `napari` 2**"
   ]
  },
  {
   "cell_type": "code",
   "execution_count": 21,
   "metadata": {},
   "outputs": [
    {
     "data": {
      "text/plain": [
       "<Image layer 'Golgi body Object' at 0x24b0215b2e0>"
      ]
     },
     "execution_count": 21,
     "metadata": {},
     "output_type": "execute_result"
    }
   ],
   "source": [
    "viewer.add_image(\n",
    "    _golgi_object,\n",
    "    scale = scale,\n",
    "    opacity=0.3,\n",
    "    name = \"Golgi body Object\",\n",
    "    colormap='hsv')"
   ]
  },
  {
   "cell_type": "code",
   "execution_count": 22,
   "metadata": {},
   "outputs": [
    {
     "data": {
      "image/png": "[encoded data removed]",
      "text/html": [
       "<img src=\"data:image/png;base64,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\" alt=\"\"></img>"
      ],
      "text/plain": [
       "<napari.utils.notebook_display.NotebookScreenshot at 0x24b7fcd9450>"
      ]
     },
     "execution_count": 22,
     "metadata": {},
     "output_type": "execute_result"
    }
   ],
   "source": [
    "nbscreenshot(viewer, canvas_only=True)"
   ]
  },
  {
   "cell_type": "code",
   "execution_count": 23,
   "metadata": {},
   "outputs": [],
   "source": [
    "viewer.close()"
   ]
  },
  {
   "attachments": {},
   "cell_type": "markdown",
   "metadata": {},
   "source": [
    "-------------\n",
    "### NEXT: INFER PEROXISOME\n",
    "\n",
    "proceed to [1.5_infer_peroxisome.ipynb](./1.5_infer_peroxisome.ipynb)\n"
   ]
  },
  {
   "cell_type": "markdown",
   "metadata": {},
   "source": []
  }
 ],
 "metadata": {
  "kernelspec": {
   "display_name": "infer-subc-sample",
   "language": "python",
   "name": "python3"
  },
  "language_info": {
   "codemirror_mode": {
    "name": "ipython",
    "version": 3
   },
   "file_extension": ".py",
   "mimetype": "text/x-python",
   "name": "python",
   "nbconvert_exporter": "python",
   "pygments_lexer": "ipython3",
   "version": "3.10.16"
  },
  "orig_nbformat": 4
 },
 "nbformat": 4,
 "nbformat_minor": 2
}
