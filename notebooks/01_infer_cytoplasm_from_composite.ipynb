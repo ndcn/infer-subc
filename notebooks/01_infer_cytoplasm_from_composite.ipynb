{
 "cells": [
  {
   "attachments": {},
   "cell_type": "markdown",
   "metadata": {},
   "source": [
    "# Infer ***cytoplasm*** - 1️⃣ \n",
    "\n",
    "> WARNING: (🚨🚨🚨🚨 Steps 2-9 depend on establishing a good solution here.)\n",
    "\n",
    "--------------\n",
    "\n",
    "## OBJECTIVE: \n",
    "### ✅ Infer sub-cellular component #2: ***cytoplasm***  in order to understand the organelle interactome \n",
    "\n",
    "Infer a segmentation of the ***cytoplasm*** in order to measure its shape, position, size, and interaction with other organelles/cellular components.  \n",
    "\n",
    "## OVERVIEW:\n",
    "\n",
    "We will infer the cytoplasm using an weighted aggregate of multiple organelle channels.\n",
    "\n",
    "Dependencies:\n",
    "***nuclei*** and ***cell mask*** inference rely on the ***cytoplasm*** inference.  Therefore all of the sub-cellular objects rely on the cytoplasm segmentation.\n"
   ]
  },
  {
   "attachments": {},
   "cell_type": "markdown",
   "metadata": {},
   "source": [
    "\n",
    "\n",
    "### IMPORTS"
   ]
  },
  {
   "cell_type": "code",
   "execution_count": 25,
   "metadata": {},
   "outputs": [
    {
     "name": "stdout",
     "output_type": "stream",
     "text": [
      "The autoreload extension is already loaded. To reload it, use:\n",
      "  %reload_ext autoreload\n"
     ]
    }
   ],
   "source": [
    "# top level imports\n",
    "from pathlib import Path\n",
    "import os, sys\n",
    "from collections import defaultdict\n",
    "from typing import Optional\n",
    "\n",
    "import numpy as np\n",
    "\n",
    "from aicssegmentation.core.pre_processing_utils import  intensity_normalization, image_smoothing_gaussian_slice_by_slice \n",
    "from aicssegmentation.core.utils import hole_filling\n",
    "from skimage.measure import label\n",
    "import skimage\n",
    "\n",
    "\n",
    "# # package for io \n",
    "from aicsimageio import AICSImage\n",
    "\n",
    "import napari\n",
    "\n",
    "### import local python functions in ../infer_subc_2d\n",
    "sys.path.append(os.path.abspath((os.path.join(os.getcwd(), '..'))))\n",
    "\n",
    "\n",
    "from infer_subc_2d.core.file_io import (read_czi_image,\n",
    "                                                                    list_image_files)\n",
    "from infer_subc_2d.core.img import *\n",
    "import infer_subc_2d.organelles\n",
    "       \n",
    "\n",
    "%load_ext autoreload\n",
    "%autoreload 2"
   ]
  },
  {
   "attachments": {},
   "cell_type": "markdown",
   "metadata": {},
   "source": [
    "\n",
    "## SETUP\n",
    "CUSTOMIZE WITH: \n",
    "1. updated path to data\n",
    "2. updated folder name for \"raw\" data\n",
    "\n",
    "> NOTE: we are operating on a single \"test\" image in this notebook.  The batch-processing of all the images will be happen at the end of the notebook after we have developed/confirmed the setmentation procedures and parameter settings."
   ]
  },
  {
   "attachments": {},
   "cell_type": "markdown",
   "metadata": {},
   "source": [
    "#### Get and load an image - specifically for __multichannel \"raw\"__ images"
   ]
  },
  {
   "cell_type": "code",
   "execution_count": 26,
   "metadata": {},
   "outputs": [],
   "source": [
    "# this will be the example image for testing the pipeline below\n",
    "test_img_n = TEST_IMG_N\n",
    "\n",
    "# build the datapath\n",
    "# all the imaging data goes here.\n",
    "# CUSTOMIZE HERE --->\n",
    "data_root_path = Path(os.path.expanduser(\"~\")) / \"Documents/Python Scripts/Infer-subc-2D\"\n",
    "\n",
    "# linearly unmixed \".czi\" files are here\n",
    "# CUSTOMIZE HERE --->\n",
    "data_path = data_root_path / \"raw\"\n",
    "im_type = \".czi\"\n",
    "\n",
    "# get the list of all files in \"raw\"\n",
    "img_file_list = list_image_files(data_path,im_type)\n",
    "test_img_name = img_file_list[test_img_n]\n"
   ]
  },
  {
   "cell_type": "code",
   "execution_count": null,
   "metadata": {},
   "outputs": [],
   "source": [
    "# isolate image as an ndarray and metadata as a dictionary\n",
    "img_data,meta_dict = read_czi_image(test_img_name)\n",
    "\n",
    "# get some top-level info about the RAW data\n",
    "channel_names = meta_dict['name']\n",
    "img = meta_dict['metadata']['aicsimage']\n",
    "scale = meta_dict['scale']\n",
    "channel_axis = meta_dict['channel_axis']"
   ]
  },
  {
   "attachments": {},
   "cell_type": "markdown",
   "metadata": {},
   "source": [
    "\n",
    "### Get and load Image for processing - specifically for __pre-processed__ images\n",
    "\n",
    "> #### Preprocessing:\n",
    "> In this instance, we are using [Huygens Essential Software](https://svi.nl/Homepage) to deconvolve 3D fluorescence confocal images. The output is an OME TIFF file which contains the z-slices and channels in axis 0 (channel 0, zslice 1-40, channel 1, etc. etc.).\n",
    "\n",
    "An OME TIFF reads in as a dask array (similar to a numpy array, but has a slightly different format)"
   ]
  },
  {
   "cell_type": "code",
   "execution_count": 27,
   "metadata": {},
   "outputs": [
    {
     "data": {
      "text/plain": [
       "['C:\\\\Users\\\\Shannon\\\\Documents\\\\Python Scripts\\\\Infer-subc-2D\\\\neuron_raw_OME\\\\20221027_C2-107_well_1_cell_1_untreated_Linear_unmixing_decon.ome.tiff']"
      ]
     },
     "execution_count": 27,
     "metadata": {},
     "output_type": "execute_result"
    }
   ],
   "source": [
    "# this will be the example for testing the pipeline below\n",
    "test_img_n = TEST_IMG_N\n",
    "\n",
    "# build the datapath\n",
    "# all the imaging data goes here.\n",
    "data_root_path = Path(os.path.expanduser(\"~\")) / \"Documents\\Python Scripts\\Infer-subc-2D\"\n",
    "\n",
    "# linearly unmixed \".czi\" files are here\n",
    "data_path = data_root_path / \"neuron_raw_OME\"\n",
    "im_type = \".tiff\"\n",
    "\n",
    "# get the list of all files in \"raw\"\n",
    "img_file_list = list_image_files(data_path,im_type)\n",
    "# test_img_name = img_file_list[test_img_n]\n",
    "# test_img_name\n",
    "\n",
    "img_file_list"
   ]
  },
  {
   "cell_type": "code",
   "execution_count": 28,
   "metadata": {},
   "outputs": [
    {
     "name": "stderr",
     "output_type": "stream",
     "text": [
      "c:\\Users\\Shannon\\Anaconda3\\envs\\infer-subc-2D\\lib\\site-packages\\ome_types\\_convenience.py:105: FutureWarning: The default XML parser will be changing from 'xmlschema' to 'lxml' in version 0.4.0.  To silence this warning, please provide the `parser` argument, specifying either 'lxml' (to opt into the new behavior), or'xmlschema' (to retain the old behavior).\n",
      "  d = to_dict(os.fspath(xml), parser=parser, validate=validate)\n"
     ]
    }
   ],
   "source": [
    "#select one image\n",
    "test_img = img_file_list[0]\n",
    "\n",
    "# isolate image as an ndarray and metadata as a dictionary\n",
    "img_data, meta_dict = read_czi_image(test_img)\n",
    "\n",
    "# # get some top-level info about the RAW data\n",
    "channel_names = meta_dict['name']\n",
    "img = meta_dict['metadata']['aicsimage']\n",
    "scale = meta_dict['scale']\n",
    "channel_axis = meta_dict['channel_axis']\n",
    "huygens_meta = meta_dict['metadata']['raw_image_metadata']"
   ]
  },
  {
   "attachments": {},
   "cell_type": "markdown",
   "metadata": {},
   "source": [
    "## infer ***cytoplasm*** from data without nuclei marker\n"
   ]
  },
  {
   "attachments": {},
   "cell_type": "markdown",
   "metadata": {},
   "source": [
    "### INPUT\n",
    "\n",
    "Get the \"raw\" signals we need to analyze as well as any other dependencies in \"inferred\" objects.  "
   ]
  },
  {
   "cell_type": "code",
   "execution_count": 29,
   "metadata": {},
   "outputs": [
    {
     "name": "stdout",
     "output_type": "stream",
     "text": [
      "weighted_aggregate: shape in- (6, 49, 1688, 1688) , shape_out- (49, 1688, 1688)\n"
     ]
    }
   ],
   "source": [
    "###################\n",
    "# INPUT\n",
    "###################\n",
    "weights = [0,4,1,1,2,2]\n",
    "\n",
    "cyto_struct_img_raw = make_aggregate(img_data, \n",
    "                                         weights[0], \n",
    "                                         weights[1], \n",
    "                                         weights[2], \n",
    "                                         weights[3], \n",
    "                                         weights[4], \n",
    "                                         weights[5],\n",
    "                                         scale_min_max=False) #channel order: LD, ER, golgi, lyso, mito, perox"
   ]
  },
  {
   "cell_type": "code",
   "execution_count": 41,
   "metadata": {},
   "outputs": [
    {
     "name": "stderr",
     "output_type": "stream",
     "text": [
      "WARNING: QWindowsWindow::setGeometry: Unable to set geometry 1090x691+1868-106 (frame: 1106x730+1860-137) on QWidgetWindow/\"_QtMainWindowClassWindow\" on \"\\\\.\\DISPLAY2\". Resulting geometry: 870x587+1867-113 (frame: 886x626+1859-144) margins: 8, 31, 8, 8 minimum size: 612x587 MINMAXINFO maxSize=0,0 maxpos=0,0 mintrack=628,626 maxtrack=0,0)\n",
      "28-Mar-23 15:48:13 - vispy    - WARNING  - QWindowsWindow::setGeometry: Unable to set geometry 1090x691+1868-106 (frame: 1106x730+1860-137) on QWidgetWindow/\"_QtMainWindowClassWindow\" on \"\\\\.\\DISPLAY2\". Resulting geometry: 870x587+1867-113 (frame: 886x626+1859-144) margins: 8, 31, 8, 8 minimum size: 612x587 MINMAXINFO maxSize=0,0 maxpos=0,0 mintrack=628,626 maxtrack=0,0)\n"
     ]
    }
   ],
   "source": [
    "viewer = napari.Viewer()"
   ]
  },
  {
   "cell_type": "code",
   "execution_count": 31,
   "metadata": {},
   "outputs": [
    {
     "data": {
      "text/plain": [
       "<Image layer 'cyto_struct_img_raw' at 0x1e45ce321c0>"
      ]
     },
     "execution_count": 31,
     "metadata": {},
     "output_type": "execute_result"
    }
   ],
   "source": [
    "viewer.add_image(img_data, scale=scale)\n",
    "viewer.add_image(cyto_struct_img_raw, scale=scale)"
   ]
  },
  {
   "attachments": {},
   "cell_type": "markdown",
   "metadata": {},
   "source": [
    "### PRE-PROCESSING"
   ]
  },
  {
   "cell_type": "code",
   "execution_count": 32,
   "metadata": {},
   "outputs": [],
   "source": [
    "###################\n",
    "# PRE_PROCESSING\n",
    "###################           \n",
    "cyto_med_filter_size = 0\n",
    "cyto_gaussian_smoothing_sigma = 0\n",
    "cyto_struct_img_smooth = scale_and_smooth(cyto_struct_img_raw, median_sz=cyto_med_filter_size, gauss_sig=cyto_gaussian_smoothing_sigma)\n",
    "\n",
    "cyto_log, d = log_transform(cyto_struct_img_smooth)\n",
    "cyto_composite = min_max_intensity_normalization(cyto_log)"
   ]
  },
  {
   "cell_type": "code",
   "execution_count": 33,
   "metadata": {},
   "outputs": [],
   "source": [
    "### wrapper function for cytoplasm preprocessing\n",
    "def log_rescale_wrapper(img_in: np.ndarray) -> np.ndarray:\n",
    "    \"\"\"\n",
    "    function to min-max normalize a gray-scale image, log transform it, then min-max normalize the log-scaled image\n",
    "    \"\"\"\n",
    "    img = min_max_intensity_normalization(img_in)\n",
    "    img, d = log_transform(img)\n",
    "    img = min_max_intensity_normalization(img)\n",
    "\n",
    "    log_norm_img = img\n",
    "\n",
    "    return log_norm_img"
   ]
  },
  {
   "cell_type": "code",
   "execution_count": 39,
   "metadata": {},
   "outputs": [],
   "source": [
    "from infer_subc_2d.core.img import log_rescale_wrapper\n",
    "\n",
    "test = log_rescale_wrapper(cyto_struct_img_raw)"
   ]
  },
  {
   "attachments": {},
   "cell_type": "markdown",
   "metadata": {},
   "source": [
    "### CORE PROCESSING"
   ]
  },
  {
   "cell_type": "code",
   "execution_count": null,
   "metadata": {},
   "outputs": [],
   "source": [
    "###################\n",
    "# CORE_PROCESSING\n",
    "###################\n",
    "cyto_low_level_min_size = 50\n",
    "cyto_thresh_method = 'ave'\n",
    "cyto_local_adjust = 0.05\n",
    "cyto_bw = MO(cyto_composite, global_thresh_method=cyto_thresh_method, object_minArea=cyto_low_level_min_size, local_adjust=cyto_local_adjust)"
   ]
  },
  {
   "attachments": {},
   "cell_type": "markdown",
   "metadata": {},
   "source": [
    "### POST PROCESSING"
   ]
  },
  {
   "cell_type": "code",
   "execution_count": null,
   "metadata": {},
   "outputs": [],
   "source": [
    "###################\n",
    "# POST_PROCESSING\n",
    "###################\n",
    "cyto_holefill_min = 0\n",
    "cyto_holefill_max = 30\n",
    "cyto_small_object_width = 10\n",
    "cyto_method = '3D'\n",
    "cyto_connectivity = 1\n",
    "cyto_cleaned_img = fill_and_filter_linear_size(cyto_bw, hole_min=cyto_holefill_min, hole_max=cyto_holefill_max, min_size=cyto_small_object_width, method=cyto_method, connectivity=cyto_connectivity)"
   ]
  },
  {
   "attachments": {},
   "cell_type": "markdown",
   "metadata": {},
   "source": [
    "### RENAMING"
   ]
  },
  {
   "cell_type": "code",
   "execution_count": null,
   "metadata": {},
   "outputs": [],
   "source": [
    "###################\n",
    "# RENAMING\n",
    "###################\n",
    "cytoplasm_mask = cyto_cleaned_img.astype(dtype=int)"
   ]
  },
  {
   "cell_type": "markdown",
   "metadata": {},
   "source": [
    "## Visualize 1"
   ]
  },
  {
   "cell_type": "code",
   "execution_count": null,
   "metadata": {},
   "outputs": [],
   "source": [
    "viewer = napari.Viewer()"
   ]
  },
  {
   "cell_type": "code",
   "execution_count": null,
   "metadata": {},
   "outputs": [],
   "source": [
    "viewer.add_image(img_data, scale=scale)\n",
    "viewer.add_image(cyto_composite, scale=scale)\n",
    "viewer.add_image(cytoplasm_mask, scale=scale, opacity=0.25, colormap='bop orange')"
   ]
  },
  {
   "cell_type": "code",
   "execution_count": null,
   "metadata": {},
   "outputs": [],
   "source": [
    "viewer.close()"
   ]
  },
  {
   "attachments": {},
   "cell_type": "markdown",
   "metadata": {},
   "source": [
    "## DEFINE `_infer_cytoplasm_from_composite` function\n",
    "\n",
    "Based on the _prototyping_ above define the function to infer nuclei.  \n"
   ]
  },
  {
   "cell_type": "code",
   "execution_count": 48,
   "metadata": {},
   "outputs": [],
   "source": [
    "##########################\n",
    "#  _infer_cytoplasm_from_composite\n",
    "##########################\n",
    "def _infer_cytoplasm_from_composite(in_img: np.ndarray,\n",
    "                                    weights: list,\n",
    "                                    low_level_min_size: int,\n",
    "                                    thresh_method: str,\n",
    "                                    local_adjust: float,\n",
    "                                    holefill_min: int,\n",
    "                                    holefill_max: int,\n",
    "                                    small_object_width: int,\n",
    "                                    method: str,\n",
    "                                    connectivity: int\n",
    "                                                            ) -> np.ndarray:\n",
    "    \"\"\"\n",
    "    Procedure to infer 3D cytoplasm (cell area without the nucleus) segmentation from multichannel z-stack input.\n",
    "    This can be used when segmenting the cytoplasm from a stain that fills the cytoplasm, but not the nuclear area.\n",
    "\n",
    "    Parameters\n",
    "    ------------\n",
    "    in_img: np.ndarray\n",
    "        a 3d image containing all the channels\n",
    "    weights: list\n",
    "        a list of weights for each channel in the image to create a merged image; \n",
    "        set to 0 if the channel should not be used\n",
    "    low_level_min_size: int\n",
    "        global threshold size restriction\n",
    "    thresh_method: str\n",
    "        global threshold method, 'ave', 'tri', or 'med'\n",
    "    local_adjust: float\n",
    "        local threshold factor\n",
    "    holefill_min: int\n",
    "        minimum hole size to fill\n",
    "    holefill_max: int\n",
    "        maximum hole size to fill\n",
    "    small_object_width: int\n",
    "        diameter of largest object to remove; all smaller object will be removed\n",
    "    method: str\n",
    "        '3D' or 'slice-by-slice'\n",
    "    connectivity: int\n",
    "        connectivity to determine indepedent object for size filtering\n",
    "\n",
    "    Returns\n",
    "    -------------\n",
    "    cytoplasm_mask\n",
    "        mask defined extent of cytoplasm (cell without the nuclear area)\n",
    "    \n",
    "    \"\"\"\n",
    "\n",
    "    ###################\n",
    "    # INPUT\n",
    "    ###################\n",
    "    struct_img_raw = make_aggregate(in_img, weights[0], weights[1], weights[2], weights[3], weights[4], weights[5], scale_min_max=False)\n",
    "\n",
    "    ###################\n",
    "    # PRE_PROCESSING\n",
    "    ###################           \n",
    "    composite = log_rescale_wrapper(struct_img_raw)\n",
    "\n",
    "    ###################\n",
    "    # CORE_PROCESSING\n",
    "    ###################\n",
    "    bw = masked_object_thresh(composite, th_method=thresh_method, cutoff_size=low_level_min_size, th_adjust=local_adjust)\n",
    "\n",
    "    ###################\n",
    "    # POST_PROCESSING\n",
    "    ###################\n",
    "    cleaned_img = fill_and_filter_linear_size(bw, hole_min=holefill_min, hole_max=holefill_max, min_size=small_object_width, method=method, connectivity=connectivity)\n",
    "\n",
    "    ###################\n",
    "    # RENAMING\n",
    "    ###################\n",
    "    cytoplasm_mask = cleaned_img.astype(dtype=int)\n",
    "\n",
    "    return cytoplasm_mask\n"
   ]
  },
  {
   "attachments": {},
   "cell_type": "markdown",
   "metadata": {},
   "source": [
    "## DEFINE `_fixed_infer_cytoplasm_from_composite` function\n"
   ]
  },
  {
   "cell_type": "code",
   "execution_count": 49,
   "metadata": {},
   "outputs": [],
   "source": [
    "##########################\n",
    "#  fixed_infer_cytoplasm_from_composite\n",
    "##########################\n",
    "def _fixed_infer_cytoplasm_from_composite(in_img: np.ndarray) -> np.ndarray:\n",
    "    \"\"\"\n",
    "    Procedure to infer soma from linearly unmixed input, with a *fixed* set of parameters for each step in the procedure.  i.e. \"hard coded\"\n",
    "\n",
    "    Parameters\n",
    "    ------------\n",
    "    in_img: np.ndarray\n",
    "        a 3d image containing all the channels\n",
    "    soma_mask: np.ndarray\n",
    "        mask\n",
    " \n",
    "    Returns\n",
    "    -------------\n",
    "    nuclei_object\n",
    "        mask defined extent of NU\n",
    "    \n",
    "    \"\"\"\n",
    "    weights = [0,4,1,1,2,2]\n",
    "    low_level_min_size = 50\n",
    "    thresh_method = 'ave'\n",
    "    local_adjust = 0.05\n",
    "    holefill_min = 0\n",
    "    holefill_max = 30\n",
    "    small_object_width = 10\n",
    "    method = '3D'\n",
    "    connectivity = 1\n",
    "    \n",
    "\n",
    "    return _infer_cytoplasm_from_composite(in_img,\n",
    "                                            weights,\n",
    "                                            low_level_min_size,\n",
    "                                            thresh_method,\n",
    "                                            local_adjust,\n",
    "                                            holefill_min,\n",
    "                                            holefill_max,\n",
    "                                            small_object_width,\n",
    "                                            method,\n",
    "                                            connectivity)\n"
   ]
  },
  {
   "attachments": {},
   "cell_type": "markdown",
   "metadata": {},
   "source": [
    "---------------------\n",
    "## TEST `_infer_cytoplasm_from_composite`  function defined above\n"
   ]
  },
  {
   "cell_type": "code",
   "execution_count": 50,
   "metadata": {},
   "outputs": [
    {
     "name": "stdout",
     "output_type": "stream",
     "text": [
      "weighted_aggregate: shape in- (6, 49, 1688, 1688) , shape_out- (49, 1688, 1688)\n"
     ]
    }
   ],
   "source": [
    "_cytoplasm_mask =  _fixed_infer_cytoplasm_from_composite(img_data) "
   ]
  },
  {
   "cell_type": "code",
   "execution_count": 51,
   "metadata": {},
   "outputs": [
    {
     "name": "stderr",
     "output_type": "stream",
     "text": [
      "WARNING: QWindowsWindow::setGeometry: Unable to set geometry 1090x691+1860-106 (frame: 1106x730+1852-137) on QWidgetWindow/\"_QtMainWindowClassWindow\" on \"\\\\.\\DISPLAY2\". Resulting geometry: 870x587+1859-113 (frame: 886x626+1851-144) margins: 8, 31, 8, 8 minimum size: 612x587 MINMAXINFO maxSize=0,0 maxpos=0,0 mintrack=628,626 maxtrack=0,0)\n",
      "28-Mar-23 15:52:45 - vispy    - WARNING  - QWindowsWindow::setGeometry: Unable to set geometry 1090x691+1860-106 (frame: 1106x730+1852-137) on QWidgetWindow/\"_QtMainWindowClassWindow\" on \"\\\\.\\DISPLAY2\". Resulting geometry: 870x587+1859-113 (frame: 886x626+1851-144) margins: 8, 31, 8, 8 minimum size: 612x587 MINMAXINFO maxSize=0,0 maxpos=0,0 mintrack=628,626 maxtrack=0,0)\n"
     ]
    },
    {
     "data": {
      "text/plain": [
       "<Image layer '_cytoplasm_mask' at 0x1e463c92fa0>"
      ]
     },
     "execution_count": 51,
     "metadata": {},
     "output_type": "execute_result"
    }
   ],
   "source": [
    "viewer = napari.Viewer()\n",
    "viewer.add_image(img_data, scale=scale)\n",
    "viewer.add_image(_cytoplasm_mask, scale=scale)"
   ]
  },
  {
   "attachments": {},
   "cell_type": "markdown",
   "metadata": {},
   "source": [
    "---------------------\n",
    "# TEST `infer_cytoplasm_from_composite` exported functions\n",
    "\n",
    "> the prototype `_infer_nuclei` was copied to the [`.organelles.cytoplasm`](../infer_subc_2d/organelles/cytoplasm.py) sub-module \n",
    "##\n",
    "`infer_cytoplasm_from_composite` procedure\n",
    "\n",
    "Use the `infer_cytoplasm_from_composite` function to infer the Nucleus and export it as an _ome.tif_ for easy reference."
   ]
  },
  {
   "cell_type": "code",
   "execution_count": 7,
   "metadata": {},
   "outputs": [
    {
     "name": "stdout",
     "output_type": "stream",
     "text": [
      "weighted_aggregate: shape in- (6, 49, 1688, 1688) , shape_out- (49, 1688, 1688)\n"
     ]
    }
   ],
   "source": [
    "from infer_subc_2d.organelles.cytoplasm import infer_cytoplasm_from_composite, fixed_infer_cytoplasm_from_composite\n",
    "\n",
    "cytoplasm_mask_2 =  fixed_infer_cytoplasm_from_composite(img_data) \n"
   ]
  },
  {
   "attachments": {},
   "cell_type": "markdown",
   "metadata": {},
   "source": [
    "## Visualize  2\n"
   ]
  },
  {
   "cell_type": "code",
   "execution_count": 8,
   "metadata": {},
   "outputs": [],
   "source": [
    "viewer = napari.Viewer()"
   ]
  },
  {
   "cell_type": "code",
   "execution_count": 9,
   "metadata": {},
   "outputs": [
    {
     "data": {
      "text/plain": [
       "<Image layer 'cytoplasm_mask_2' at 0x1aea51a3dc0>"
      ]
     },
     "execution_count": 9,
     "metadata": {},
     "output_type": "execute_result"
    }
   ],
   "source": [
    "viewer.add_image(img_data, scale=scale)\n",
    "# viewer.add_image(cytoplasm_mask, scale=scale, opacity=0.25, colormap='bop orange')\n",
    "# viewer.add_image(_cytoplasm_mask, scale=scale, opacity=0.25, colormap='bop blue')\n",
    "viewer.add_image(cytoplasm_mask_2, scale=scale)"
   ]
  },
  {
   "cell_type": "code",
   "execution_count": null,
   "metadata": {},
   "outputs": [],
   "source": [
    "from napari.utils.notebook_display import nbscreenshot\n",
    "\n",
    "# viewer.dims.ndisplay = 3\n",
    "# viewer.camera.angles = (-30, 25, 120)\n",
    "nbscreenshot(viewer, canvas_only=True)\n"
   ]
  },
  {
   "cell_type": "code",
   "execution_count": null,
   "metadata": {},
   "outputs": [],
   "source": [
    "viewer.close()"
   ]
  },
  {
   "attachments": {},
   "cell_type": "markdown",
   "metadata": {},
   "source": [
    "-------------\n",
    "## SUMMARY\n",
    "\n",
    "The above details how the cytoplasm object is inferred.  \n",
    "\n",
    "### NEXT: INFER CYTOSOL\n",
    "\n",
    "proceed to [02_infer_nucleus_cellmask_from_cytoplasm.ipynb](./02_infer_nucleus_cellmask_from_cytoplasm.ipynb)\n"
   ]
  },
  {
   "cell_type": "markdown",
   "metadata": {},
   "source": []
  }
 ],
 "metadata": {
  "kernelspec": {
   "display_name": "infer-subc-2D",
   "language": "python",
   "name": "python3"
  },
  "language_info": {
   "codemirror_mode": {
    "name": "ipython",
    "version": 3
   },
   "file_extension": ".py",
   "mimetype": "text/x-python",
   "name": "python",
   "nbconvert_exporter": "python",
   "pygments_lexer": "ipython3",
   "version": "3.9.15"
  },
  "vscode": {
   "interpreter": {
    "hash": "182b63330db9794b59aa776c624821fb477d854325ad145fa5385f0d56c0c6f3"
   }
  }
 },
 "nbformat": 4,
 "nbformat_minor": 2
}
