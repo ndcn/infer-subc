{
 "cells": [
  {
   "cell_type": "markdown",
   "metadata": {},
   "source": [
    "## Imports"
   ]
  },
  {
   "cell_type": "code",
   "execution_count": 66,
   "metadata": {},
   "outputs": [
    {
     "name": "stdout",
     "output_type": "stream",
     "text": [
      "The autoreload extension is already loaded. To reload it, use:\n",
      "  %reload_ext autoreload\n"
     ]
    }
   ],
   "source": [
    "# top level imports\n",
    "from pathlib import Path\n",
    "import os, sys\n",
    "from collections import defaultdict\n",
    "from typing import Union, Tuple, List\n",
    "import numpy as np\n",
    "\n",
    "from scipy import ndimage as ndi\n",
    "from aicssegmentation.core.pre_processing_utils import ( intensity_normalization, \n",
    "                                                         image_smoothing_gaussian_slice_by_slice )\n",
    "from aicssegmentation.core.MO_threshold import MO\n",
    "from aicssegmentation.core.utils import hole_filling\n",
    "\n",
    "from skimage import filters\n",
    "from skimage.segmentation import *\n",
    "from skimage.morphology import remove_small_holes   # function for post-processing (size filter)\n",
    "from skimage.measure import label\n",
    "\n",
    "# # package for io \n",
    "from aicsimageio import AICSImage\n",
    "\n",
    "import napari\n",
    "\n",
    "### import local python functions in ../infer_subc\n",
    "sys.path.append(os.path.abspath((os.path.join(os.getcwd(), '..'))))\n",
    "\n",
    "from skimage.morphology import disk, binary_dilation, binary_erosion, erosion, dilation, ball, closing, binary_closing\n",
    "\n",
    "from infer_subc.core.file_io import (read_tiff_image,\n",
    "                                     read_czi_image,\n",
    "                                     read_ome_image,\n",
    "                                     import_inferred_organelle,\n",
    "                                     export_inferred_organelle,\n",
    "                                     list_image_files)\n",
    "\n",
    "                                             \n",
    "from infer_subc.core.img import *\n",
    "from infer_subc.organelles import (get_nuclei, \n",
    "                                   non_linear_cellmask_transform,\n",
    "                                   choose_max_label_cellmask_union_nucleus)\n",
    "from infer_subc.constants import (TEST_IMG_N,\n",
    "                                  NUC_CH ,\n",
    "                                  LYSO_CH ,\n",
    "                                  MITO_CH ,\n",
    "                                  GOLGI_CH ,\n",
    "                                  PEROX_CH ,\n",
    "                                  ER_CH ,\n",
    "                                  LD_CH ,\n",
    "                                  RESIDUAL_CH) \n",
    "\n",
    "LD_CH = 6\n",
    "NUC_CH = 7\n",
    "LYSO_CH = 4\n",
    "MITO_CH = 3\n",
    "GOLGI_CH = 2\n",
    "PEROX_CH = 1\n",
    "ER_CH = 0\n",
    "PM_CH = 5\n",
    "RESIDUAL_CH = 8\n",
    "TEST_IMG_N = 16\n",
    "\n",
    "\n",
    "%load_ext autoreload\n",
    "%autoreload 2"
   ]
  },
  {
   "cell_type": "code",
   "execution_count": 67,
   "metadata": {},
   "outputs": [
    {
     "name": "stderr",
     "output_type": "stream",
     "text": [
      "WARNING: QWindowsWindow::setGeometry: Unable to set geometry 1280x1208+12+46 (frame: 1302x1264+1+1) on QWidgetWindow/\"_QtMainWindowClassWindow\" on \"\\\\.\\DISPLAY1\". Resulting geometry: 1280x1050+12+46 (frame: 1302x1106+1+1) margins: 11, 45, 11, 11 minimum size: 385x491 MINMAXINFO maxSize=0,0 maxpos=0,0 mintrack=792,1038 maxtrack=0,0)\n",
      "01-Mar-24 15:17:44 - vispy    - WARNING  - QWindowsWindow::setGeometry: Unable to set geometry 1280x1208+12+46 (frame: 1302x1264+1+1) on QWidgetWindow/\"_QtMainWindowClassWindow\" on \"\\\\.\\DISPLAY1\". Resulting geometry: 1280x1050+12+46 (frame: 1302x1106+1+1) margins: 11, 45, 11, 11 minimum size: 385x491 MINMAXINFO maxSize=0,0 maxpos=0,0 mintrack=792,1038 maxtrack=0,0)\n"
     ]
    },
    {
     "name": "stderr",
     "output_type": "stream",
     "text": [
      "WARNING: QWindowsWindow::setGeometry: Unable to set geometry 1920x988+0+34 (frame: 1942x1044-11-11) on QWidgetWindow/\"_QtMainWindowClassWindow\" on \"\\\\.\\DISPLAY1\". Resulting geometry: 1920x986+0+34 (frame: 1942x1042-11-11) margins: 11, 45, 11, 11 minimum size: 538x494 MINMAXINFO maxSize=0,0 maxpos=0,0 mintrack=1098,1044 maxtrack=0,0)\n",
      "01-Mar-24 15:18:47 - vispy    - WARNING  - QWindowsWindow::setGeometry: Unable to set geometry 1920x988+0+34 (frame: 1942x1044-11-11) on QWidgetWindow/\"_QtMainWindowClassWindow\" on \"\\\\.\\DISPLAY1\". Resulting geometry: 1920x986+0+34 (frame: 1942x1042-11-11) margins: 11, 45, 11, 11 minimum size: 538x494 MINMAXINFO maxSize=0,0 maxpos=0,0 mintrack=1098,1044 maxtrack=0,0)\n"
     ]
    }
   ],
   "source": [
    "test_viewer = napari.Viewer()"
   ]
  },
  {
   "cell_type": "markdown",
   "metadata": {},
   "source": [
    "## Get & Load Image for Processing"
   ]
  },
  {
   "cell_type": "code",
   "execution_count": 35,
   "metadata": {},
   "outputs": [],
   "source": [
    "test_img_n = TEST_IMG_N\n",
    "\n",
    "data_root_path = Path(os.path.expanduser(\"~\")) / \"Documents/Python Scripts/Infer-subc-2D\"\n",
    "\n",
    "in_data_path = data_root_path / \"raw mcz\"\n",
    "im_type = \".tiff\"\n",
    "\n",
    "img_file_list = list_image_files(in_data_path,im_type)\n",
    "test_img_name = img_file_list[test_img_n]\n",
    "\n",
    "out_data_path = data_root_path / \"segmented\"\n",
    "if not Path.exists(out_data_path):\n",
    "    Path.mkdir(out_data_path)\n",
    "    print(f\"making {out_data_path}\")"
   ]
  },
  {
   "cell_type": "code",
   "execution_count": 36,
   "metadata": {},
   "outputs": [],
   "source": [
    "img_data,meta_dict = read_czi_image(test_img_name) #read_czi_image works for tiff images as well\n",
    "\n",
    "channel_names = meta_dict['name']\n",
    "img = meta_dict['metadata']['aicsimage']\n",
    "scale = meta_dict['scale']\n",
    "channel_axis = meta_dict['channel_axis']"
   ]
  },
  {
   "cell_type": "code",
   "execution_count": 37,
   "metadata": {},
   "outputs": [
    {
     "data": {
      "text/plain": [
       "<Image layer 'img_data' at 0x24b3b382380>"
      ]
     },
     "execution_count": 37,
     "metadata": {},
     "output_type": "execute_result"
    }
   ],
   "source": [
    "test_viewer.add_image(img_data)"
   ]
  },
  {
   "cell_type": "markdown",
   "metadata": {},
   "source": [
    "## Membrane"
   ]
  },
  {
   "cell_type": "code",
   "execution_count": 38,
   "metadata": {},
   "outputs": [],
   "source": [
    "\"\"\"\n",
    "pm_img is the RAW plasma membrane image\n",
    "pm_obj is the binary object of the plasma membrane\n",
    "invert_pm_img is the inverted RAW plasma membrane image\n",
    "invert_pm_obj is the binary object of the inverted plasma membrane\n",
    "\"\"\"\n",
    "\n",
    "###################\n",
    "# INPUT\n",
    "###################\n",
    "pm_img = select_channel_from_raw(img_data, PM_CH)\n"
   ]
  },
  {
   "cell_type": "markdown",
   "metadata": {},
   "source": [
    "## Nuclei"
   ]
  },
  {
   "cell_type": "code",
   "execution_count": 39,
   "metadata": {},
   "outputs": [
    {
     "name": "stdout",
     "output_type": "stream",
     "text": [
      "loaded  inferred 3D `nuclei`  from C:\\Users\\zscoman\\Documents\\Python Scripts\\Infer-subc-2D\\segmented \n"
     ]
    }
   ],
   "source": [
    "# Import nuclei segmentation from output folder, or \n",
    "# run nuclei segmentation with hard coded segmentation settings (not ideal for most scenarios)\n",
    "nuclei_labels = get_nuclei(img_data, meta_dict, out_data_path)"
   ]
  },
  {
   "cell_type": "code",
   "execution_count": 40,
   "metadata": {},
   "outputs": [
    {
     "data": {
      "text/plain": [
       "<Labels layer 'nuclei_labels' at 0x24b1b0fe110>"
      ]
     },
     "execution_count": 40,
     "metadata": {},
     "output_type": "execute_result"
    }
   ],
   "source": [
    "test_viewer.add_labels(nuclei_labels)"
   ]
  },
  {
   "cell_type": "markdown",
   "metadata": {},
   "source": [
    "## Define _rescale_intensity"
   ]
  },
  {
   "cell_type": "code",
   "execution_count": 41,
   "metadata": {},
   "outputs": [],
   "source": [
    "def _rescale_intensity(in_img: np.ndarray):\n",
    "    #rescales the intensity of input image on a scale of 0 to 10\n",
    "    out_img = ((in_img - in_img.min())/(in_img.max() - in_img.min()))*10\n",
    "    return out_img"
   ]
  },
  {
   "cell_type": "markdown",
   "metadata": {},
   "source": [
    "## Composite Images"
   ]
  },
  {
   "cell_type": "code",
   "execution_count": 42,
   "metadata": {},
   "outputs": [],
   "source": [
    "###################\n",
    "# CORE_PROCESSING\n",
    "###################\n",
    "\n",
    "threshadjust = 2.5\n",
    "pm_image, d = log_transform(pm_img.copy())\n",
    "threshold = threshold_otsu_log(pm_image) \n",
    "pm_obj = (pm_img > (inverse_log_transform(threshold, d) * threshadjust))\n",
    "\n",
    "invert_pm_obj = np.invert(pm_obj)\n",
    "\n",
    "invert_pm_img = abs(np.max(img_data[PM_CH]) - img_data[PM_CH]) \n",
    "\n",
    "#################\n",
    "# Hole Filling\n",
    "#################\n",
    "minhole = 0\n",
    "maxhole = 100000\n",
    "\n",
    "#invert_pm_obj = hole_filling(invert_pm_obj, hole_min=minhole, hole_max=maxhole, fill_2d=True)"
   ]
  },
  {
   "cell_type": "code",
   "execution_count": 43,
   "metadata": {},
   "outputs": [
    {
     "data": {
      "text/plain": [
       "<Image layer 'invert_pm_obj' at 0x24bd361cd90>"
      ]
     },
     "execution_count": 43,
     "metadata": {},
     "output_type": "execute_result"
    }
   ],
   "source": [
    "test_viewer.add_image(invert_pm_obj)"
   ]
  },
  {
   "cell_type": "code",
   "execution_count": 44,
   "metadata": {},
   "outputs": [],
   "source": [
    "#\n",
    "composite_img_raw1 = (1. * _rescale_intensity(img_data[LYSO_CH].copy().astype(np.double)) +\n",
    "                      1. * _rescale_intensity(img_data[PEROX_CH].copy().astype(np.double)) + \n",
    "                      2. * _rescale_intensity(img_data[ER_CH].copy().astype(np.double)) + \n",
    "                      1. * _rescale_intensity(img_data[MITO_CH].copy().astype(np.double)) +\n",
    "                      0. * _rescale_intensity(img_data[NUC_CH].copy().astype(np.double)) +\n",
    "                      0. * _rescale_intensity(img_data[PM_CH].copy().astype(np.double)) + \n",
    "                      0. * _rescale_intensity(invert_pm_img.copy().astype(np.double)))\n",
    "\n",
    "#\n",
    "composite_img_raw2 = (1. * _rescale_intensity(img_data[LYSO_CH].copy().astype(np.double)) +\n",
    "                      1. * _rescale_intensity(img_data[PEROX_CH].copy().astype(np.double)) + \n",
    "                      2. * _rescale_intensity(img_data[ER_CH].copy().astype(np.double)) + \n",
    "                      1. * _rescale_intensity(img_data[MITO_CH].copy().astype(np.double)) +\n",
    "                      0. * _rescale_intensity(img_data[NUC_CH].copy().astype(np.double)) +\n",
    "                      0. * _rescale_intensity(img_data[PM_CH].copy().astype(np.double)) +\n",
    "                      1. * _rescale_intensity(invert_pm_img.copy().astype(np.double)))"
   ]
  },
  {
   "cell_type": "code",
   "execution_count": 45,
   "metadata": {},
   "outputs": [
    {
     "data": {
      "text/plain": [
       "<Image layer 'composite_img_raw2' at 0x24bc87a7490>"
      ]
     },
     "execution_count": 45,
     "metadata": {},
     "output_type": "execute_result"
    }
   ],
   "source": [
    "test_viewer.add_image(composite_img_raw1)\n",
    "test_viewer.add_image(composite_img_raw2)"
   ]
  },
  {
   "cell_type": "markdown",
   "metadata": {},
   "source": [
    "Need to add something to separate two cells that are close together!!!"
   ]
  },
  {
   "cell_type": "markdown",
   "metadata": {},
   "source": [
    "## Closing"
   ]
  },
  {
   "cell_type": "code",
   "execution_count": 46,
   "metadata": {},
   "outputs": [],
   "source": [
    "fp = disk(15)\n",
    "close = np.zeros_like(composite_img_raw1)\n",
    "close2 = np.zeros_like(composite_img_raw2)\n",
    "for i in range(len(composite_img_raw1)):\n",
    "    close[i] = closing(composite_img_raw1.copy()[i], footprint=fp)\n",
    "    close2[i] = closing(composite_img_raw2.copy()[i], footprint=fp)"
   ]
  },
  {
   "cell_type": "code",
   "execution_count": 47,
   "metadata": {},
   "outputs": [
    {
     "data": {
      "text/plain": [
       "<Image layer 'close' at 0x24bc86d18a0>"
      ]
     },
     "execution_count": 47,
     "metadata": {},
     "output_type": "execute_result"
    }
   ],
   "source": [
    "test_viewer.add_image(close)"
   ]
  },
  {
   "cell_type": "markdown",
   "metadata": {},
   "source": [
    "## Thresholding"
   ]
  },
  {
   "cell_type": "code",
   "execution_count": 48,
   "metadata": {},
   "outputs": [],
   "source": [
    "thresh_method = 'med'\n",
    "cutoff_size1 =  0\n",
    "thresh_adj1 = 0.6\n",
    "cutoff_size2 =  0\n",
    "thresh_adj2 = 0.7\n",
    "close_thresh = masked_object_thresh(min_max_intensity_normalization(close.copy()), \n",
    "                                    global_method=thresh_method, \n",
    "                                    cutoff_size=cutoff_size1, \n",
    "                                    local_adjust=thresh_adj1) \n",
    "close_thresh2 = masked_object_thresh(min_max_intensity_normalization(close2.copy()),\n",
    "                                     global_method=thresh_method,\n",
    "                                     cutoff_size=cutoff_size2,\n",
    "                                     local_adjust=thresh_adj2) "
   ]
  },
  {
   "cell_type": "code",
   "execution_count": 49,
   "metadata": {},
   "outputs": [
    {
     "data": {
      "text/plain": [
       "<Image layer 'close_thresh2' at 0x24b423225c0>"
      ]
     },
     "execution_count": 49,
     "metadata": {},
     "output_type": "execute_result"
    }
   ],
   "source": [
    "test_viewer.add_image(close_thresh2)"
   ]
  },
  {
   "cell_type": "code",
   "execution_count": 50,
   "metadata": {},
   "outputs": [
    {
     "name": "stdout",
     "output_type": "stream",
     "text": [
      "1\n"
     ]
    }
   ],
   "source": [
    "#Picks the nuclei of the desired cell's label number\n",
    "keep_nuc = get_max_label((close_thresh), dilation(nuclei_labels))\n",
    "print(keep_nuc)"
   ]
  },
  {
   "cell_type": "code",
   "execution_count": 51,
   "metadata": {},
   "outputs": [],
   "source": [
    "#Removes all nuclei aside from desired nuclei\n",
    "single_nuc = np.zeros_like(nuclei_labels)\n",
    "single_nuc[nuclei_labels == keep_nuc] = 1\n"
   ]
  },
  {
   "cell_type": "code",
   "execution_count": 52,
   "metadata": {},
   "outputs": [],
   "source": [
    "#Combines nuclei and close_thresh\n",
    "combo_thresh = np.zeros_like(close_thresh)\n",
    "combo_thresh2 = np.zeros_like(close_thresh2)\n",
    "foot = disk(10)\n",
    "for i in range(len(composite_img_raw1)):\n",
    "    combo_thresh[i] = close_thresh[i] + binary_dilation(single_nuc.astype(bool)[i])\n",
    "    combo_thresh2[i] = close_thresh2[i] + binary_dilation(single_nuc.astype(bool)[i])\n",
    "#combo_thresh = close_thresh + binary_dilation(single_nuc.astype(bool))\n",
    "#combo_thresh2 = close_thresh2 + binary_dilation(single_nuc.astype(bool))"
   ]
  },
  {
   "cell_type": "code",
   "execution_count": 53,
   "metadata": {},
   "outputs": [
    {
     "data": {
      "text/plain": [
       "<Image layer 'combo_thresh2' at 0x24b430b5b10>"
      ]
     },
     "execution_count": 53,
     "metadata": {},
     "output_type": "execute_result"
    }
   ],
   "source": [
    "test_viewer.add_image(combo_thresh2)"
   ]
  },
  {
   "cell_type": "code",
   "execution_count": 54,
   "metadata": {},
   "outputs": [],
   "source": [
    "#Filling remaining holes\n",
    "hole_min = 0\n",
    "hole_max = 100\n",
    "small_object = 0\n",
    "\n",
    "thresh = fill_and_filter_linear_size(combo_thresh, \n",
    "                                      hole_min=hole_min, \n",
    "                                      hole_max=hole_max, \n",
    "                                      min_size=small_object)\n",
    "thresh2 = fill_and_filter_linear_size(combo_thresh2, \n",
    "                                      hole_min=hole_min, \n",
    "                                      hole_max=hole_max, \n",
    "                                      min_size=small_object)"
   ]
  },
  {
   "cell_type": "code",
   "execution_count": 55,
   "metadata": {},
   "outputs": [
    {
     "data": {
      "text/plain": [
       "<Image layer 'thresh2' at 0x24b43cce5f0>"
      ]
     },
     "execution_count": 55,
     "metadata": {},
     "output_type": "execute_result"
    }
   ],
   "source": [
    "test_viewer.add_image(thresh2)"
   ]
  },
  {
   "cell_type": "markdown",
   "metadata": {},
   "source": [
    "## Mask Plasma Membrane Invert"
   ]
  },
  {
   "cell_type": "code",
   "execution_count": 56,
   "metadata": {},
   "outputs": [
    {
     "data": {
      "text/plain": [
       "<Image layer 'invert_pm_obj [1]' at 0x24b42140af0>"
      ]
     },
     "execution_count": 56,
     "metadata": {},
     "output_type": "execute_result"
    }
   ],
   "source": [
    "test_viewer.add_image(invert_pm_obj)"
   ]
  },
  {
   "cell_type": "code",
   "execution_count": 57,
   "metadata": {},
   "outputs": [],
   "source": [
    "masked_invert_pm = np.zeros_like(invert_pm_obj)\n",
    "masked_invert_pm[(invert_pm_obj == thresh) & \n",
    "                 (invert_pm_obj == 1) & \n",
    "                 (thresh == 1)] = 1"
   ]
  },
  {
   "cell_type": "code",
   "execution_count": 58,
   "metadata": {},
   "outputs": [
    {
     "data": {
      "text/plain": [
       "<Image layer 'masked_invert_pm' at 0x24b4726e530>"
      ]
     },
     "execution_count": 58,
     "metadata": {},
     "output_type": "execute_result"
    }
   ],
   "source": [
    "test_viewer.add_image(masked_invert_pm)"
   ]
  },
  {
   "cell_type": "code",
   "execution_count": 59,
   "metadata": {},
   "outputs": [],
   "source": [
    "ED_masked_invert_pm = dilation(erosion(masked_invert_pm.copy()))"
   ]
  },
  {
   "cell_type": "code",
   "execution_count": 60,
   "metadata": {},
   "outputs": [
    {
     "data": {
      "text/plain": [
       "<Image layer 'pm_img' at 0x24b473d5180>"
      ]
     },
     "execution_count": 60,
     "metadata": {},
     "output_type": "execute_result"
    }
   ],
   "source": [
    "test_viewer.add_image(pm_img)"
   ]
  },
  {
   "cell_type": "markdown",
   "metadata": {},
   "source": [
    "## Watershed"
   ]
  },
  {
   "cell_type": "code",
   "execution_count": 61,
   "metadata": {},
   "outputs": [],
   "source": [
    "cellmask_labels = masked_inverted_watershed(close, \n",
    "                                            single_nuc, \n",
    "                                            thresh,\n",
    "                                            method='3D')\n",
    "\n",
    "cellmask_labels2 = masked_inverted_watershed(close2, \n",
    "                                             single_nuc, \n",
    "                                             thresh2,\n",
    "                                             method='3D')"
   ]
  },
  {
   "cell_type": "code",
   "execution_count": 62,
   "metadata": {},
   "outputs": [],
   "source": [
    "cellmask_combo = cellmask_labels.astype(bool) + cellmask_labels2.astype(bool)\n",
    "hole_min = 0\n",
    "hole_max = 100000\n",
    "for n in range(len(cellmask_combo)):\n",
    "    cellmask_combo[n] = binary_dilation(cellmask_combo.copy()[n], footprint=fp)\n",
    "cellmask_combo = hole_filling(cellmask_combo.copy(), hole_min=hole_min, hole_max=hole_max, fill_2d=True)\n",
    "for n in range(len(cellmask_combo)):\n",
    "    cellmask_combo[n] = binary_erosion(cellmask_combo.copy()[n], footprint=fp)"
   ]
  },
  {
   "cell_type": "code",
   "execution_count": 63,
   "metadata": {},
   "outputs": [
    {
     "data": {
      "text/plain": [
       "<Labels layer 'cellmask_combo' at 0x24b7fe678b0>"
      ]
     },
     "execution_count": 63,
     "metadata": {},
     "output_type": "execute_result"
    }
   ],
   "source": [
    "test_viewer.add_labels(cellmask_combo)"
   ]
  },
  {
   "cell_type": "code",
   "execution_count": 65,
   "metadata": {},
   "outputs": [
    {
     "name": "stdout",
     "output_type": "stream",
     "text": [
      "saved file: 20240202_iN D7 TRC2 ctrl_Z 15_Linear unmixing_0_cmle.ome-cell\n"
     ]
    }
   ],
   "source": [
    "out_file_n = export_inferred_organelle(cellmask_combo, \"cell\", meta_dict, out_data_path)"
   ]
  },
  {
   "cell_type": "code",
   "execution_count": null,
   "metadata": {},
   "outputs": [],
   "source": []
  }
 ],
 "metadata": {
  "kernelspec": {
   "display_name": "cohenpy",
   "language": "python",
   "name": "python3"
  },
  "language_info": {
   "codemirror_mode": {
    "name": "ipython",
    "version": 3
   },
   "file_extension": ".py",
   "mimetype": "text/x-python",
   "name": "python",
   "nbconvert_exporter": "python",
   "pygments_lexer": "ipython3",
   "version": "3.10.13"
  }
 },
 "nbformat": 4,
 "nbformat_minor": 2
}
