{
 "cells": [
  {
   "cell_type": "markdown",
   "metadata": {},
   "source": [
    "## Thought Process\n",
    "### Step 1: Gather Segmentations\n",
    "a. Define \"Get\" commands for each all images that will be pre-stored in a folder (similar to get_nuclei) \n",
    "\n",
    "b. Define \"Get\" command that compiles all images into a list while applying cellmask\n",
    "\n",
    "### Step 2: Combine Segmentations\n",
    "a. Ensure all segmented variables are set to type uint16\n",
    "\n",
    "b. Add all segmented variables together into one matrix\n",
    "\n",
    "### Step 3: Segment by values\n",
    "a. Determine the highest value\n",
    "\n",
    "b. separate the combo into values that are >=2, >=3, >=4, etc.\n",
    "\n",
    "c. Assign each segmented value a label with the corresponding labeled objects from the segmented images"
   ]
  },
  {
   "cell_type": "markdown",
   "metadata": {},
   "source": [
    "## Imports"
   ]
  },
  {
   "cell_type": "code",
   "execution_count": null,
   "metadata": {},
   "outputs": [],
   "source": [
    "# top level imports\n",
    "from pathlib import Path\n",
    "from collections import Counter\n",
    "import os, sys\n",
    "import numpy as np\n",
    "import copy\n",
    "from skimage.segmentation import *\n",
    "from skimage.measure import label\n",
    "\n",
    "# # package for io \n",
    "import napari\n",
    "\n",
    "### import local python functions in ../infer_subc\n",
    "sys.path.append(os.path.abspath((os.path.join(os.getcwd(), '..'))))\n",
    "\n",
    "from infer_subc.core.file_io import (read_czi_image,\n",
    "                                     import_inferred_organelle,\n",
    "                                     export_inferred_organelle,\n",
    "                                     list_image_files)\n",
    "\n",
    "from infer_subc.core.img import *\n",
    "\n",
    "LD_CH = 0\n",
    "NUC_CH = 1\n",
    "LYSO_CH = 2\n",
    "MITO_CH = 3\n",
    "GOLGI_CH = 4\n",
    "PEROX_CH = 5\n",
    "ER_CH = 6\n",
    "PM_CH = 7\n",
    "RESIDUAL_CH = 8\n",
    "TEST_IMG_N = 1\n",
    "ORGANELLES = [\"LD\",\n",
    "              \"nuclei\", \n",
    "              \"lyso\", \n",
    "              \"mito\", \n",
    "              \"golgi\", \n",
    "              \"perox\", \n",
    "              \"ER\",\n",
    "              ]"
   ]
  },
  {
   "cell_type": "code",
   "execution_count": null,
   "metadata": {},
   "outputs": [],
   "source": [
    "viewer = napari.Viewer()"
   ]
  },
  {
   "cell_type": "markdown",
   "metadata": {},
   "source": [
    "## Get & Load Image for Processing"
   ]
  },
  {
   "cell_type": "code",
   "execution_count": null,
   "metadata": {},
   "outputs": [],
   "source": [
    "test_img_n = TEST_IMG_N\n",
    "\n",
    "data_root_path = Path(os.path.expanduser(\"~\")) / \"Documents/Python Scripts/Infer-subc-2D\"\n",
    "\n",
    "in_data_path = data_root_path / \"raw mcz\"\n",
    "im_type = \".tiff\"\n",
    "\n",
    "img_file_list = list_image_files(in_data_path,im_type)\n",
    "test_img_name = img_file_list[test_img_n]\n",
    "\n",
    "out_data_path = data_root_path / \"segmented\"\n",
    "if not Path.exists(out_data_path):\n",
    "    Path.mkdir(out_data_path)\n",
    "    print(f\"making {out_data_path}\")"
   ]
  },
  {
   "cell_type": "code",
   "execution_count": null,
   "metadata": {},
   "outputs": [],
   "source": [
    "img_data,meta_dict = read_czi_image(test_img_name) #read_czi_image works for tiff images as well\n",
    "\n",
    "channel_names = meta_dict['name']\n",
    "img = meta_dict['metadata']['aicsimage']\n",
    "scale = meta_dict['scale']\n",
    "channel_axis = meta_dict['channel_axis']"
   ]
  },
  {
   "cell_type": "code",
   "execution_count": null,
   "metadata": {},
   "outputs": [],
   "source": [
    "viewer.add_image(img_data, scale=scale)"
   ]
  },
  {
   "cell_type": "markdown",
   "metadata": {},
   "source": [
    "## Get functions"
   ]
  },
  {
   "cell_type": "markdown",
   "metadata": {},
   "source": [
    "Generic"
   ]
  },
  {
   "cell_type": "code",
   "execution_count": null,
   "metadata": {},
   "outputs": [],
   "source": [
    "#Generic get organelle function--collects the organelle, and the metadata for the organelle, returns organelle\n",
    "def get_organelle(name: str, meta_dict: dict, out_data_path: Path) -> np.ndarray:\n",
    "    \"\"\"\n",
    "    load organelle if it exists, otherwise return None\n",
    "    \n",
    "    Parameters\n",
    "    ------------\n",
    "    name:\n",
    "        a string of the name used to identify the organelle in the files\n",
    "    meta_dict:\n",
    "        dictionary of meta-data (ome)\n",
    "    out_data_path:\n",
    "        Path object where tiffs are written to\n",
    "\n",
    "    Returns\n",
    "    -------------\n",
    "    exported file name\n",
    "\n",
    "    \"\"\"\n",
    "    try:                                                                        #if there is no error, proceed\n",
    "        organelle = import_inferred_organelle(name, meta_dict, out_data_path)   #imports the organelle\n",
    "    except:                                                                     #if there is an error, proceed\n",
    "        print(\"cannot find organelle, returning None\")                          #prints that it cannot find the organelle\n",
    "        organelle = None                                                        #sets organelle value to None\n",
    "    return organelle                                                            #returns the organelle data"
   ]
  },
  {
   "cell_type": "markdown",
   "metadata": {},
   "source": [
    "Organelle List"
   ]
  },
  {
   "cell_type": "code",
   "execution_count": null,
   "metadata": {},
   "outputs": [],
   "source": [
    "#collects segmented organelles and puts them into a binary and a labeled dictionary using organelle inputs\n",
    "def get_organelles(meta_dict:dict, out_data_path:Path, organelles:list[str]) -> dict:\n",
    "    labels_organelles={}                                                                                    #list for storing labeled organelles\n",
    "    binary_organelles={}                                                                                    #list for storing binary organelles\n",
    "    cellmask=get_organelle(\"cell\",meta_dict,out_data_path)                                                  #collects the cellmask\n",
    "    for i in range(len(organelles)):                                                                        #iterates across each organelle in organelles input\n",
    "        labels_organelles[organelles[i]]=((cellmask>0)*get_organelle(organelles[i],meta_dict,out_data_path))#adds collected organelle data to labeled organelles\n",
    "        binary_organelles[organelles[i]]=((labels_organelles[organelles[i]]>0))                             #unlabels the collected organelle data and adds it to labels_binary\n",
    "    return labels_organelles,binary_organelles                                                              #returns the organelle lists"
   ]
  },
  {
   "cell_type": "markdown",
   "metadata": {},
   "source": [
    "## Combine Segmentations"
   ]
  },
  {
   "cell_type": "code",
   "execution_count": null,
   "metadata": {},
   "outputs": [],
   "source": [
    "labels_org, binary_org = get_organelles(meta_dict, out_data_path, ORGANELLES)"
   ]
  },
  {
   "cell_type": "markdown",
   "metadata": {},
   "source": [
    "## Multiple Contact Prototype:"
   ]
  },
  {
   "cell_type": "code",
   "execution_count": null,
   "metadata": {},
   "outputs": [],
   "source": [
    "#checks if a string can be turned into a list that is equal to any preexisting lists in an input dictionary\n",
    "def inkeys(dic: dict[str], s:str) -> bool:\n",
    "    a = sorted(s.split(\"_\"))                #Normalizes the way the string is written\n",
    "    for key in dic.keys():                  #Iterates through each key in dictionary\n",
    "        if (a == sorted(key.split(\"_\"))):   #Checks if key has same vals as string\n",
    "            return True                     #Returns true if any key is same as string\n",
    "    return False                            #Returns false if no keys are same as string"
   ]
  },
  {
   "cell_type": "code",
   "execution_count": null,
   "metadata": {},
   "outputs": [],
   "source": [
    "#Finds contact sites between 2 organelles and assigns them to a dictionary, and returns the dictionary\n",
    "def two_contact(binary: dict[str], contact:dict[str] = {}) -> dict:\n",
    "    for a in (binary.keys()):                              #Iterates across all labeled organelle images (a)\n",
    "        for b in (binary.keys()):                          #Iterates across all labeled organelle images (b)\n",
    "            b_a=b+\"_\"+a                                    #Creates string to check for found a & b contact\n",
    "            a_b=a+\"_\"+b                                    #Creates new potential key for a & b contact\n",
    "            if ((a!=b) and not                             #Ensures a is not the same as b\n",
    "                (b_a in contact.keys()) and                #Ensures no contacts of a & b are already found\n",
    "                np.any((binary[a]*binary[b]))):            #Ensures contact is between a & b\n",
    "                contact[a_b]=(label(binary[a]*binary[b]))  #Assigns contact of a & b to dictionary\n",
    "    return contact                                         #Returns the dictionary"
   ]
  },
  {
   "cell_type": "code",
   "execution_count": null,
   "metadata": {},
   "outputs": [],
   "source": [
    "#Finds areas in contact sites between 2 or more organelles that also have contacts with an additional organelle\n",
    "#and assigns those areas as new contact sites to a dictionary, and returns the dictionary. \n",
    "#Works for contacts of 3 or more organelles\n",
    "def contacting(binary: dict[str], iterated:dict[str]) -> dict: \n",
    "    contact={}                                                      #Creates empty dictionary\n",
    "    for c in iterated:                                              #Iterates through preexisting dictionary of contact sites\n",
    "        for b in binary:                                            #Iterates through labeled organelles list (b)\n",
    "            if(np.any((iterated[c]*binary[b])>0) and not            #Proceeds if there are contacts present \n",
    "               ((b+\"_\" in c)or(\"_\"+b in c)or(\"_\"+b+\"_\" in c)) and   #Proceeds if organelle is not already in previous contact set\n",
    "               (not inkeys(contact,(c+\"_\"+b)))):                    #Proceeds if contact between organelle and previous contact set is not already made  \n",
    "                contact[(c+\"_\"+b)]=((iterated[c]*binary[b])>0)      #Adds new binary contact\n",
    "    return contact                                                  #Returns contacts"
   ]
  },
  {
   "cell_type": "code",
   "execution_count": null,
   "metadata": {},
   "outputs": [],
   "source": [
    "#Assigns all contacts of 2 or more organelles to a dictionary, and returns the dictionary\n",
    "def multi_contact(binary:dict[str:np.ndarray], \n",
    "                  organelles:list[str]) -> dict:\n",
    "    contacts=two_contact(binary)                #Dictionary for ALL contacts\n",
    "    iterated={}                                 #Iterated Dictionary\n",
    "    contact={}                                  #Contact Dictionary\n",
    "\n",
    "    #Repeat # of times equal to max # of contacts in one contact site\n",
    "    for n in (range(len(organelles)-1)): \n",
    "        iterated.clear()                        #Clears iterated dictionary\n",
    "        contact.clear()                         #Clears contact dictionary\n",
    "        num=n+3                                 #Number of contacts\n",
    "        for key in contacts:                    #Iterates over every key in contacts\n",
    "            if (len(key.split(\"_\")) == (num-1)):#Selects for last set of contacts\n",
    "                iterated[key]=contacts[key]     #Adds each key from last set of contacts to iterated\n",
    "        contact=contacting(binary,iterated)     #Collects higher order contact sites\n",
    "        for d in contact:                       #Iterates across the new contact sites \n",
    "            contacts[d]=label(contact[d])       #Labels & assigns higher order contact to dictionary\n",
    "    return contacts                             #Returns with dictionary of all levels of contacts"
   ]
  },
  {
   "cell_type": "code",
   "execution_count": null,
   "metadata": {},
   "outputs": [],
   "source": [
    "#Organizing by sites\n",
    "def multi_contact_2(contacts:dict[str:np.ndarray], \n",
    "                    organelles:list[str]) -> dict:\n",
    "    HO = {}                                             #Higher Order Contacts\n",
    "    LO = {}                                             #Lower Order Contacts\n",
    "    interactions = copy.deepcopy(contacts)              #Export dictionary\n",
    "    for n in range(len(organelles)-1):                                              #Repeat # of times equal to max # of contacts in one contact site\n",
    "        HO.clear()\n",
    "        LO.clear()\n",
    "        num = n+3                                       #Number of organelles in contact at site\n",
    "\n",
    "                                                        #Collects all higher and lower order interactions\n",
    "        for key in interactions:\n",
    "            if (len(key.split(\"_\"))==(num)):\n",
    "                HO[key]=interactions[key]\n",
    "            if (len(key.split(\"_\"))==(num-1)):\n",
    "                LO[key]=interactions[key]\n",
    "\n",
    "        #Iterates across each higher order interaction\n",
    "        for HO_key in HO:\n",
    "            HO_orgs = HO_key.split(\"_\")                                             #Creates a list of organelles present in higher order interaction\n",
    "            #Iterates across each lower order interaction\n",
    "            for LO_key in LO:\n",
    "                if set(LO_key.split(\"_\")).issubset(HO_orgs):                        #Selects for organelles with LO interactions present in HO interaction\n",
    "                    ws = watershed(LO[LO_key],                                      #Selects for specific LO interactions with HO interactions\n",
    "                                   markers=HO[HO_key],\n",
    "                                   connectivity=np.ones((3, 3, 3), bool),\n",
    "                                   mask=LO[LO_key])\n",
    "                    #apply mask function?\n",
    "                    removal = np.ones_like(ws)\n",
    "                    removal[ws >= 1] = 0\n",
    "                    removed = LO[LO_key] * removal                          #Removes LO interaction sites with HO interactions present\n",
    "                    interactions.update(LO_key=removed)                     #edits the interactions LO data\n",
    "    return interactions"
   ]
  },
  {
   "cell_type": "code",
   "execution_count": null,
   "metadata": {},
   "outputs": [],
   "source": [
    "mc = multi_contact(binary_org, ORGANELLES)"
   ]
  },
  {
   "cell_type": "code",
   "execution_count": null,
   "metadata": {},
   "outputs": [],
   "source": [
    "mc2 = multi_contact_2(copy.deepcopy(mc), ORGANELLES)"
   ]
  },
  {
   "cell_type": "code",
   "execution_count": null,
   "metadata": {},
   "outputs": [],
   "source": [
    "interaction = \"lyso_golgi_ER\"\n",
    "viewer.add_labels(mc[interaction], name=(\"MC: \")+interaction)\n",
    "viewer.add_labels(mc2[interaction], name=(\"MC2: \")+interaction)"
   ]
  },
  {
   "cell_type": "code",
   "execution_count": null,
   "metadata": {},
   "outputs": [],
   "source": [
    "#Returns # of images with desired organelle in contact with at least one other\n",
    "#Has the option to add each image to napari for visualizing\n",
    "def get_all_organelle_contact(labeled:dict[str], organelle: str, view:bool=False, v=napari.Viewer()) -> dict:\n",
    "    lo = {}                                            #Initializes a dictionary with desired organelle\n",
    "    for key in labeled:                                #Iterates across all contact images\n",
    "        if (organelle in key):                         #proceeds with all images that match organelle\n",
    "            lo[key] = labeled[key]                     #adds image to dictionary\n",
    "            if view:                                   #checks if adding to viewer is desired\n",
    "                v.add_labels(labeled[key], name=key)   #adds those images to napari viewer\n",
    "    return lo                                          #Returns dictionary"
   ]
  },
  {
   "cell_type": "code",
   "execution_count": null,
   "metadata": {},
   "outputs": [],
   "source": [
    "print(mc.keys())"
   ]
  },
  {
   "cell_type": "code",
   "execution_count": null,
   "metadata": {},
   "outputs": [],
   "source": [
    "viewer.add_labels(labels_org[\"perox\"])"
   ]
  },
  {
   "cell_type": "code",
   "execution_count": null,
   "metadata": {},
   "outputs": [],
   "source": []
  }
 ],
 "metadata": {
  "kernelspec": {
   "display_name": "cohenpy",
   "language": "python",
   "name": "python3"
  },
  "language_info": {
   "codemirror_mode": {
    "name": "ipython",
    "version": 3
   },
   "file_extension": ".py",
   "mimetype": "text/x-python",
   "name": "python",
   "nbconvert_exporter": "python",
   "pygments_lexer": "ipython3",
   "version": "3.10.13"
  }
 },
 "nbformat": 4,
 "nbformat_minor": 2
}
