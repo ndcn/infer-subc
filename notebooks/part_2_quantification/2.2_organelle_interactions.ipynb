{
 "cells": [
  {
   "cell_type": "markdown",
   "metadata": {},
   "source": [
    "# Quantify **Organelle Interactions** - part 2.2\n",
    "--------------------\n",
    "## **OBJECTIVE**\n",
    "### <input type=\"checkbox\"/> Quantify ***organelle interactions***\n",
    "In this notebook, the logic for quantifying organelle **interaction composition** (how much of each interaction is present) and **morphology** (overlap site size and shape) is outlined.\n"
   ]
  },
  {
   "cell_type": "markdown",
   "metadata": {},
   "source": [
    "---------\n",
    "## **Organelle Interactions**\n",
    "\n",
    "### summary of steps\n",
    "\n",
    "🛠️ **BUILD FUNCTION PROTOTYPE**\n",
    "\n",
    "- **`1`** - Create region of overlap between organelle 'a' and organelle 'b'\n",
    "\n",
    "    - obtain overlapping region of organelles 'a' and 'b'\n",
    "    - visualize segmentations 'a' and 'b'\n",
    "\n",
    "- **`2`** - Build the list of measurements we want to include from regionprops and run regionprops\n",
    "\n",
    "    - assemble list of measurements (morphological properties)\n",
    "\n",
    "    - create initial regionprops table\n",
    "\n",
    "- **`3`** - Track which individual organelles are involved in that interaction\n",
    "\n",
    "    - identify labels involved in each unique interaction\n",
    "\n",
    "    - correct and add measurements\n",
    "\n",
    "⚙️ **EXECUTE FUNCTION PROTOTYPE**\n",
    "\n",
    "- Define `_get_contact_metrics_3D` function\n",
    "- Run `_get_contact_metrics_3D` function (scaled)\n",
    "- Compare to finalized `get_contact_metrics_3D` function"
   ]
  },
  {
   "cell_type": "markdown",
   "metadata": {},
   "source": [
    "## **IMPORTS**"
   ]
  },
  {
   "cell_type": "markdown",
   "metadata": {},
   "source": [
    "#### &#x1F3C3; **Run code; no user input required**\n",
    "\n",
    "&#x1F453; **FYI:** This code block loads all of the necessary python packages and functions you will need for this notebook."
   ]
  },
  {
   "cell_type": "code",
   "execution_count": null,
   "metadata": {},
   "outputs": [],
   "source": [
    "from pathlib import Path\n",
    "import os\n",
    "\n",
    "import napari\n",
    "from napari.utils.notebook_display import nbscreenshot\n",
    "from skimage.measure import (regionprops_table)\n",
    "\n",
    "from infer_subc.core.file_io import (read_czi_image,\n",
    "                                     import_inferred_organelle,\n",
    "                                     list_image_files)\n",
    "\n",
    "from infer_subc.core.img import *\n",
    "from infer_subc.utils.stats import *\n",
    "from infer_subc.utils.stats import (_assert_uint16_labels)\n",
    "from infer_subc.utils.stats_helpers import *\n",
    "\n",
    "from infer_subc.organelles import * \n",
    "\n",
    "%load_ext autoreload\n",
    "%autoreload 2"
   ]
  },
  {
   "cell_type": "markdown",
   "metadata": {},
   "source": [
    "## **LOAD AND READ IN IMAGE FOR PROCESSING**\n",
    "> ###### 📝 **Specifically, this will include the raw image and the outputs from segmentation**"
   ]
  },
  {
   "cell_type": "markdown",
   "metadata": {},
   "source": [
    "#### &#x1F6D1; &#x270D; **User Input Required:**"
   ]
  },
  {
   "cell_type": "code",
   "execution_count": null,
   "metadata": {},
   "outputs": [],
   "source": [
    "## Define the path to the directory that contains the input image folder.\n",
    "data_root_path = Path(os.getcwd()).parents[1] / \"sample_data\" /  \"example_astrocyte\"\n",
    "\n",
    "## Specify which subfolder that contains the input data and what the file type is. Ex) \".czi\" or \".tiff\"\n",
    "in_data_path = data_root_path / \"raw\"\n",
    "raw_img_type = \".tiff\"\n",
    "\n",
    "## Specify which subfolder contains the segmentation outputs and their file type\n",
    "seg_data_path = data_root_path / \"seg\"\n",
    "seg_img_type = \".tiff\"\n",
    "\n",
    "## Specify the name of the output folder where quantification results will be saved\n",
    "out_data_path = data_root_path / \"quant\"\n",
    "\n",
    "# Specify which file you'd like to segment from the img_file_list\n",
    "test_img_n = 0"
   ]
  },
  {
   "cell_type": "markdown",
   "metadata": {},
   "source": [
    "#### &#x1F3C3; **Run code; no user input required**"
   ]
  },
  {
   "cell_type": "code",
   "execution_count": null,
   "metadata": {},
   "outputs": [],
   "source": [
    "if not Path.exists(out_data_path):\n",
    "    Path.mkdir(out_data_path)\n",
    "    print(f\"making {out_data_path}\")\n",
    "\n",
    "raw_file_list = list_image_files(in_data_path, raw_img_type)\n",
    "seg_file_list = list_image_files(seg_data_path, seg_img_type)\n",
    "# pd.set_option('display.max_colwidth', None)\n",
    "# pd.DataFrame({\"Image Name\":img_file_list})"
   ]
  },
  {
   "cell_type": "code",
   "execution_count": null,
   "metadata": {},
   "outputs": [],
   "source": [
    "raw_img_name = raw_file_list[test_img_n]\n",
    "\n",
    "raw_img_data, raw_meta_dict = read_czi_image(raw_img_name)\n",
    "\n",
    "channel_names = raw_meta_dict['name']\n",
    "img = raw_meta_dict['metadata']['aicsimage']\n",
    "scale = raw_meta_dict['scale']\n",
    "channel_axis = raw_meta_dict['channel_axis']"
   ]
  },
  {
   "cell_type": "code",
   "execution_count": null,
   "metadata": {},
   "outputs": [],
   "source": [
    "## For each import, change the string to match the suffix on the segmentation files (i.e., the stuff following the \"-\")\n",
    "\n",
    "# masks\n",
    "\n",
    "masks_seg_names = ['masks','masks_A', 'masks_B']\n",
    "for m in masks_seg_names:\n",
    "    if m in [i.stem.split(\"-\")[-1] for i in seg_file_list]:\n",
    "        mask_seg = import_inferred_organelle(m, raw_meta_dict, seg_data_path, seg_img_type)\n",
    "        nuc_seg, cell_seg, cyto_seg = mask_seg\n",
    "        break\n",
    "\n",
    "if 'nuc' in [i.stem.split(\"-\")[-1] for i in seg_file_list]:\n",
    "    nuc_seg = import_inferred_organelle(\"nuc\", raw_meta_dict, seg_data_path, seg_img_type)\n",
    "    cell_seg = import_inferred_organelle(\"cell\", raw_meta_dict, seg_data_path, seg_img_type)\n",
    "    cyto_seg = import_inferred_organelle(\"cyto\", raw_meta_dict, seg_data_path, seg_img_type)\n",
    "\n",
    "#organelles\n",
    "lyso_seg = import_inferred_organelle(\"lyso\", raw_meta_dict, seg_data_path, seg_img_type)\n",
    "mito_seg = import_inferred_organelle(\"mito\", raw_meta_dict, seg_data_path, seg_img_type)\n",
    "golgi_seg = import_inferred_organelle(\"golgi\", raw_meta_dict, seg_data_path, seg_img_type)\n",
    "perox_seg = import_inferred_organelle(\"perox\", raw_meta_dict, seg_data_path, seg_img_type)\n",
    "ER_seg = import_inferred_organelle(\"ER\", raw_meta_dict, seg_data_path, seg_img_type)\n",
    "LD_seg = import_inferred_organelle(\"LD\", raw_meta_dict, seg_data_path, seg_img_type)"
   ]
  },
  {
   "cell_type": "markdown",
   "metadata": {},
   "source": [
    "-----------------\n",
    "Here we are defining an **organelle interaction** as any amount of pixel/voxel overlap between two organelles of different types. The overlap region will be know as the **interaction site**. We have implemented a pipeline that identifies two-way contacts, but in reality there exists higher order contacts as well (e.g., three-way, four-way, etc.). Quantification of high order contacts have not been implimented here.\n",
    "\n",
    "We will utilize similar regionprops measurements as was done to quantify organelle and cell regions morphology.\n",
    "\n",
    "> ###### 📝 **Since organelle contact sites are smaller than our resolution limit for confocal microscopy, the region of overlap is only an estimation of contacts. It may be helpful to dilate a single organelle (the organelle of interest) before determining the overlap region. This will include any touching, but not overlapping interactions and may improve our ability to detect differences in this subresolution system**"
   ]
  },
  {
   "cell_type": "markdown",
   "metadata": {},
   "source": [
    "# ***BUILD FUNCTION PROTOTYPE***"
   ]
  },
  {
   "cell_type": "markdown",
   "metadata": {},
   "source": [
    "## **`1` - Create region of overlap between organelle 'a' and organelle 'b'**\n",
    "\n",
    "**aXb**: organelle a overlapping with organelle b (*NOTE: aXb and bXa overlaps are redundant*)"
   ]
  },
  {
   "cell_type": "markdown",
   "metadata": {},
   "source": [
    "- obtain overlapping region of organelles 'a' and 'b'"
   ]
  },
  {
   "cell_type": "code",
   "execution_count": null,
   "metadata": {},
   "outputs": [],
   "source": [
    "# creating aXb overlaps\n",
    "a = _assert_uint16_labels(lyso_seg)\n",
    "b = _assert_uint16_labels(mito_seg)\n",
    "\n",
    "a_int_b = np.logical_and(a > 0, b > 0)\n",
    "\n",
    "test_labels = label(apply_mask(a_int_b, cell_seg)).astype(\"int\")"
   ]
  },
  {
   "cell_type": "markdown",
   "metadata": {},
   "source": [
    "- visualize segmentations 'a' and 'b'"
   ]
  },
  {
   "cell_type": "code",
   "execution_count": null,
   "metadata": {},
   "outputs": [],
   "source": [
    "viewer = napari.Viewer()\n",
    "\n",
    "viewer.add_image(a>0, colormap='cyan', blending ='additive')\n",
    "viewer.add_image(b>0, colormap='magenta', blending ='additive')\n",
    "viewer.add_image(test_labels>0, blending ='additive')\n",
    "\n",
    "nbscreenshot(viewer, canvas_only=True)"
   ]
  },
  {
   "cell_type": "code",
   "execution_count": null,
   "metadata": {},
   "outputs": [],
   "source": [
    "viewer.close()"
   ]
  },
  {
   "cell_type": "markdown",
   "metadata": {},
   "source": [
    "## **`2` - Build the list of measurements we want to include from regionprops and run regionprops**"
   ]
  },
  {
   "cell_type": "markdown",
   "metadata": {},
   "source": [
    "- assemble list of measurements (morphological properties)"
   ]
  },
  {
   "cell_type": "code",
   "execution_count": null,
   "metadata": {},
   "outputs": [],
   "source": [
    "# start with LABEL\n",
    "test_Xproperties = [\"label\"]\n",
    "\n",
    "# add position\n",
    "test_Xproperties = test_Xproperties + [\"centroid\", \"bbox\"]\n",
    "\n",
    "# add area\n",
    "test_Xproperties = test_Xproperties + [\"area\", \"equivalent_diameter\"] # \"num_pixels\", \n",
    "\n",
    "# add shape measurements - NOTE: can't include minor axis measure because some of the contact sites are only one pixel\n",
    "test_Xproperties = test_Xproperties + [\"extent\", \"euler_number\", \"solidity\", \"axis_major_length\", \"slice\"] # \"feret_diameter_max\",  , \"axis_minor_length\""
   ]
  },
  {
   "cell_type": "markdown",
   "metadata": {},
   "source": [
    "- create initial regionprops table"
   ]
  },
  {
   "cell_type": "code",
   "execution_count": null,
   "metadata": {},
   "outputs": [],
   "source": [
    "## NOTE: it may be worth our time to deal with the measurements that having issues with one voxel objects: \n",
    "## axis_min_length - the minimum axis of a voxel should be calulated as the minimum axis of a elipsoid with the same central moment as the voxel;\n",
    "## when scaling this number should be calculated, but without scale, I think this would just be ~1\n",
    "\n",
    "test_Xprops = regionprops_table(test_labels, \n",
    "                                intensity_image=None, \n",
    "                                properties=test_Xproperties, \n",
    "                                extra_properties=None, \n",
    "                                spacing=scale)"
   ]
  },
  {
   "cell_type": "code",
   "execution_count": null,
   "metadata": {},
   "outputs": [],
   "source": [
    "test_Xsurface_area_tab = pd.DataFrame(surface_area_from_props(test_labels, test_Xprops, scale=scale))"
   ]
  },
  {
   "cell_type": "markdown",
   "metadata": {},
   "source": [
    "## **`3` - Track which individual organelles are involved in that interaction**"
   ]
  },
  {
   "cell_type": "markdown",
   "metadata": {},
   "source": [
    "- identify labels involved in each unique interaction"
   ]
  },
  {
   "cell_type": "code",
   "execution_count": null,
   "metadata": {},
   "outputs": [],
   "source": [
    "# collecting a list of organelle IDs associated to each contact site\n",
    "test_label_a = []\n",
    "test_index_ab = []\n",
    "test_label_b = []\n",
    "for index, lab in enumerate(test_Xprops[\"label\"]):\n",
    "    # this seems less elegant than you might wish, given that regionprops returns a slice,\n",
    "    # but we need to expand the slice out by one voxel in each direction, or surface area freaks out\n",
    "    volume = test_labels[test_Xprops[\"slice\"][index]]\n",
    "    la = a[test_Xprops[\"slice\"][index]]\n",
    "    lb = b[test_Xprops[\"slice\"][index]]\n",
    "    volume = volume == lab\n",
    "    la = la[volume]\n",
    "    lb = lb[volume]\n",
    "\n",
    "    all_as = np.unique(la[la>0]).tolist()\n",
    "    all_bs = np.unique(lb[lb>0]).tolist()\n",
    "    if len(all_as) != 1:\n",
    "        print(f\"we have an error.  as-> {all_as}\")\n",
    "    if len(all_bs) != 1:\n",
    "        print(f\"we have an error.  bs-> {all_bs}\")\n",
    "\n",
    "    test_label_a.append(all_as[0])\n",
    "    test_label_b.append(all_bs[0])\n",
    "    test_index_ab.append(f\"{all_as[0]}_{all_bs[0]}\")"
   ]
  },
  {
   "cell_type": "markdown",
   "metadata": {},
   "source": [
    "> ###### 📝 **The interactions of the mitochondria and lysosomes will be the examples used throughout this notebook**"
   ]
  },
  {
   "cell_type": "markdown",
   "metadata": {},
   "source": [
    "- correct and add measurements"
   ]
  },
  {
   "cell_type": "code",
   "execution_count": null,
   "metadata": {},
   "outputs": [],
   "source": [
    "test_org_a = \"lyso\"\n",
    "test_org_b = \"mito\"\n",
    "\n",
    "test_Xprops_table = pd.DataFrame(test_Xprops)\n",
    "test_Xprops_table.drop(columns=[\"slice\", \"label\"], inplace=True)\n",
    "test_Xprops_table.insert(0, 'label',value=test_index_ab)\n",
    "test_Xprops_table.insert(0, \"object\", f\"{test_org_a}X{test_org_b}\")\n",
    "test_Xprops_table.rename(columns={\"area\": \"volume\"}, inplace=True)\n",
    "\n",
    "test_Xprops_table.insert(11, \"surface_area\", test_Xsurface_area_tab)\n",
    "test_Xprops_table.insert(13, \"SA_to_volume_ratio\", test_Xprops_table[\"surface_area\"].div(test_Xprops_table[\"volume\"]))\n",
    "\n",
    "test_scale = scale\n",
    "\n",
    "if test_scale is not None:\n",
    "    test_round_scale = (round(test_scale[0], 4), round(test_scale[1], 4), round(test_scale[2], 4))\n",
    "    test_Xprops_table.insert(loc=2, column=\"scale\", value=f\"{test_round_scale}\")\n",
    "else: \n",
    "    test_Xprops_table.insert(loc=2, column=\"scale\", value=f\"{tuple(np.ones(test_labels.ndim))}\") \n",
    "\n",
    "test_Xprops_table"
   ]
  },
  {
   "cell_type": "markdown",
   "metadata": {},
   "source": [
    "<!-- #### `WIP`: Adding a \"SHELL\" measurement for each site of interaction, we want to measure the membrane surface area from each organelle involved in the interaction\n",
    "\n",
    "I think the most logical way to do this seems to be using marching_cubes to create an isosurface of each object (org A, org B, and the intersection), then cut the orgs' isosurface using the overlap region. The isosurface region of intersection between the org and the overlap will be measured as the membrane in the interaction.\n",
    "\n",
    "- **shell_aXb**: the \"shell\", or membrane, of organelle a overlapping with organelle b (*NOTE: shell_aXb and shellbXa are *NOT* redundant*) -->"
   ]
  },
  {
   "cell_type": "markdown",
   "metadata": {},
   "source": [
    "# ***EXECUTE FUNCTION PROTOTYPE***"
   ]
  },
  {
   "cell_type": "markdown",
   "metadata": {},
   "source": [
    "## **Define `_get_contact_metrics_3D` function**\n",
    "\n",
    "Based on the _prototyping_ above define the function to quantify amount, size, and shape of organelles."
   ]
  },
  {
   "cell_type": "code",
   "execution_count": null,
   "metadata": {},
   "outputs": [],
   "source": [
    "def _get_contact_metrics_3D(a: np.ndarray,\n",
    "                            a_name: str, \n",
    "                            b: np.ndarray, \n",
    "                            b_name:str, \n",
    "                            mask: np.ndarray, \n",
    "                            scale: Union[tuple, None]=None,\n",
    "                            include_dist:bool=False, \n",
    "                            dist_centering_obj: Union[np.ndarray, None]=None,\n",
    "                            dist_num_bins: Union[int, None]=None,\n",
    "                            dist_zernike_degrees: Union[int, None]=None,\n",
    "                            dist_center_on: Union[bool, None]=None,\n",
    "                            dist_keep_center_as_bin: Union[bool, None]=None):\n",
    "    \"\"\"\n",
    "    collect volumentric measurements of organelle `a` intersect organelle `b`\n",
    "\n",
    "    Parameters\n",
    "    ------------\n",
    "    a: np.ndarray\n",
    "        3D (ZYX) np.ndarray of one set of objects that will be assessed as part of a \"contact\"\n",
    "    a_name: str\n",
    "        the name or nickname of object a; this will be used for record keeping purposed in the output dataframe \n",
    "    b: np.ndarray\n",
    "        3D (ZYX) np.ndarray of one set of objects that will be assessed as part of a \"contact\"\n",
    "    b_name: str\n",
    "        the name or nickname of object b; this will be used for record keeping purposed in the output dataframe \n",
    "    mask: np.ndarray\n",
    "        3D (ZYX) binary mask of the area to measure contacts from\n",
    "    include_dist:bool=False\n",
    "        *optional*\n",
    "        True = include the XY and Z distribution measurements of the contact sites within the masked region \n",
    "        (utilizing the functions get_XY_distribution() and get_Z_distribution() from Infer-subc)\n",
    "        False = do not include distirbution measurements\n",
    "    dist_centering_obj: Union[np.ndarray, None]=None\n",
    "        ONLY NEEDED IF include_dist=True; if None, the center of the mask will be used\n",
    "        3D (ZYX) np.ndarray containing the object to use for centering the XY distribution mask\n",
    "    dist_num_bins: Union[int, None]=None\n",
    "        ONLY NEEDED IF include_dist=True; if None, the default is 5\n",
    "    dist_zernike_degrees: Unions[int, None]=None,\n",
    "        ONLY NEEDED IF include_dist=True; if None, the zernike share measurements will not be included in the distribution\n",
    "        the number of zernike degrees to include for the zernike shape descriptors\n",
    "    dist_center_on: Union[bool, None]=None\n",
    "        ONLY NEEDED IF include_dist=True; if None, the default is False\n",
    "        True = distribute the bins from the center of the centering object\n",
    "        False = distribute the bins from the edge of the centering object\n",
    "    dist_keep_center_as_bin: Union[bool, None]=None\n",
    "        ONLY NEEDED IF include_dist=True; if None, the default is True\n",
    "        True = include the centering object area when creating the bins\n",
    "        False = do not include the centering object area when creating the bins\n",
    "\n",
    "\n",
    "    Regionprops measurements:\n",
    "    ------------------------\n",
    "    ['label',\n",
    "    'centroid',\n",
    "    'bbox',\n",
    "    'area',\n",
    "    'equivalent_diameter',\n",
    "    'extent',\n",
    "    'feret_diameter_max',\n",
    "    'euler_number',\n",
    "    'convex_area',\n",
    "    'solidity',\n",
    "    'axis_major_length',\n",
    "    'axis_minor_length']\n",
    "\n",
    "    Additional measurements:\n",
    "    ----------------------\n",
    "    ['surface_area']\n",
    "\n",
    "    \n",
    "    Returns\n",
    "    -------------\n",
    "    pandas dataframe of containing regionprops measurements (columns) for each overlap region between a and b (rows)\n",
    "    \n",
    "    \"\"\"\n",
    "    \n",
    "    #########################\n",
    "    ## CREATE OVERLAP REGIONS\n",
    "    #########################\n",
    "    a = _assert_uint16_labels(a)\n",
    "    b = _assert_uint16_labels(b)\n",
    "\n",
    "    a_int_b = np.logical_and(a > 0, b > 0)\n",
    "\n",
    "    labels = label(apply_mask(a_int_b, mask)).astype(\"int\")\n",
    "\n",
    "    ##########################################\n",
    "    ## CREATE LIST OF REGIONPROPS MEASUREMENTS\n",
    "    ##########################################\n",
    "    # start with LABEL\n",
    "    properties = [\"label\"]\n",
    "\n",
    "    # add position\n",
    "    properties = properties + [\"centroid\", \"bbox\"]\n",
    "\n",
    "    # add area\n",
    "    properties = properties + [\"area\", \"equivalent_diameter\"] # \"num_pixels\", \n",
    "\n",
    "    # add shape measurements\n",
    "    properties = properties + [\"extent\", \"euler_number\", \"solidity\", \"axis_major_length\", \"slice\"] # \"feret_diameter_max\", \"axis_minor_length\", \n",
    "\n",
    "    ##################\n",
    "    ## RUN REGIONPROPS\n",
    "    ##################\n",
    "    props = regionprops_table(labels, intensity_image=None, properties=properties, extra_properties=None, spacing=scale)\n",
    "\n",
    "    ##################################################################\n",
    "    ## RUN SURFACE AREA FUNCTION SEPARATELY AND APPEND THE PROPS_TABLE\n",
    "    ##################################################################\n",
    "    surface_area_tab = pd.DataFrame(surface_area_from_props(labels, props, scale))\n",
    "\n",
    "    ######################################################\n",
    "    ## LIST WHICH ORGANELLES ARE INVOLVED IN THE CONTACTS\n",
    "    ######################################################\n",
    "    label_a = []\n",
    "    index_ab = []\n",
    "    label_b = []\n",
    "    for index, lab in enumerate(props[\"label\"]):\n",
    "        # this seems less elegant than you might wish, given that regionprops returns a slice,\n",
    "        # but we need to expand the slice out by one voxel in each direction, or surface area freaks out\n",
    "        volume = labels[props[\"slice\"][index]]\n",
    "        la = a[props[\"slice\"][index]]\n",
    "        lb = b[props[\"slice\"][index]]\n",
    "        volume = volume == lab\n",
    "        la = la[volume]\n",
    "        lb = lb[volume]\n",
    "\n",
    "        all_as = np.unique(la[la>0]).tolist()\n",
    "        all_bs = np.unique(lb[lb>0]).tolist()\n",
    "        if len(all_as) != 1:\n",
    "            print(f\"we have an error.  as-> {all_as}\")\n",
    "        if len(all_bs) != 1:\n",
    "            print(f\"we have an error.  bs-> {all_bs}\")\n",
    "\n",
    "        label_a.append(f\"{all_as[0]}\" )\n",
    "        label_b.append(f\"{all_bs[0]}\" )\n",
    "        index_ab.append(f\"{all_as[0]}_{all_bs[0]}\")\n",
    "\n",
    "\n",
    "    ######################################################\n",
    "    ## CREATE COMBINED DATAFRAME OF THE QUANTIFICATION\n",
    "    ######################################################\n",
    "    props_table = pd.DataFrame(props)\n",
    "    props_table.drop(columns=['slice', 'label'], inplace=True)\n",
    "    props_table.insert(0, 'label',value=index_ab)\n",
    "    props_table.insert(0, \"object\", f\"{a_name}X{b_name}\")\n",
    "    props_table.rename(columns={\"area\": \"volume\"}, inplace=True)\n",
    "\n",
    "    props_table.insert(11, \"surface_area\", surface_area_tab)\n",
    "    props_table.insert(13, \"SA_to_volume_ratio\", props_table[\"surface_area\"].div(props_table[\"volume\"]))\n",
    "\n",
    "    if scale is not None:\n",
    "        round_scale = (round(scale[0], 4), round(scale[1], 4), round(scale[2], 4))\n",
    "        props_table.insert(loc=2, column=\"scale\", value=f\"{round_scale}\")\n",
    "    else: \n",
    "        props_table.insert(loc=2, column=\"scale\", value=f\"{tuple(np.ones(labels.ndim))}\") \n",
    "\n",
    "\n",
    "    ######################################################\n",
    "    ## optional: DISTRIBUTION OF CONTACTS MEASUREMENTS\n",
    "    ######################################################\n",
    "    if include_dist is True:\n",
    "        XY_contact_dist, XY_bins, XY_wedges = get_XY_distribution(mask=mask, \n",
    "                                                                  obj=a_int_b,\n",
    "                                                                  obj_name=f\"{a_name}X{b_name}\",\n",
    "                                                                  centering_obj=dist_centering_obj,\n",
    "                                                                  scale=scale,\n",
    "                                                                  center_on=dist_center_on,\n",
    "                                                                  keep_center_as_bin=dist_keep_center_as_bin,\n",
    "                                                                  num_bins=dist_num_bins,\n",
    "                                                                  zernike_degrees=dist_zernike_degrees)\n",
    "        \n",
    "        Z_contact_dist = get_Z_distribution(mask=mask,\n",
    "                                            obj=a_int_b,\n",
    "                                            obj_name=f\"{a_name}X{b_name}\",\n",
    "                                            center_obj=dist_centering_obj,\n",
    "                                            scale=scale)\n",
    "        \n",
    "        contact_dist_tab = pd.merge(XY_contact_dist, Z_contact_dist, on=[\"object\", \"scale\"])\n",
    "\n",
    "        return props_table, contact_dist_tab\n",
    "    else:\n",
    "        return props_table"
   ]
  },
  {
   "cell_type": "markdown",
   "metadata": {},
   "source": [
    "## **Run `_get_contact_metrics_3D` function (scaled)**"
   ]
  },
  {
   "cell_type": "code",
   "execution_count": null,
   "metadata": {},
   "outputs": [],
   "source": [
    "lysoXmito_stat_tab_test, test_cont_dist_tab = _get_contact_metrics_3D(a=lyso_seg, a_name='lyso', \n",
    "                                                                      b=mito_seg, b_name='mito', \n",
    "                                                                      mask=cell_seg, \n",
    "                                                                      scale=scale,\n",
    "                                                                      include_dist=True, \n",
    "                                                                      dist_centering_obj=nuc_seg,\n",
    "                                                                      dist_center_on=False,\n",
    "                                                                      dist_keep_center_as_bin=True,\n",
    "                                                                      dist_num_bins=5,\n",
    "                                                                      dist_zernike_degrees=9)\n",
    "\n",
    "lysoXmito_stat_tab_test.equals(test_Xprops_table)"
   ]
  },
  {
   "cell_type": "code",
   "execution_count": null,
   "metadata": {},
   "outputs": [],
   "source": [
    "test_cont_dist_tab"
   ]
  },
  {
   "cell_type": "markdown",
   "metadata": {},
   "source": [
    "## **Compare to finalized `get_contact_metrics_3D` function**"
   ]
  },
  {
   "cell_type": "code",
   "execution_count": null,
   "metadata": {},
   "outputs": [],
   "source": [
    "from infer_subc.utils.stats import get_contact_metrics_3D\n",
    "\n",
    "lysoXmito_stat_tab_final, test_cont_dist_tab_final = get_contact_metrics_3D(a=lyso_seg, a_name='lyso', \n",
    "                                                                      b=mito_seg, b_name='mito', \n",
    "                                                                      mask=cell_seg, \n",
    "                                                                      scale=scale,\n",
    "                                                                      include_dist=True, \n",
    "                                                                      dist_centering_obj=nuc_seg,\n",
    "                                                                      dist_center_on=False,\n",
    "                                                                      dist_keep_center_as_bin=True,\n",
    "                                                                      dist_num_bins=5,\n",
    "                                                                      dist_zernike_degrees=9)\n",
    "\n",
    "lysoXmito_stat_tab_test.equals(lysoXmito_stat_tab_final), test_cont_dist_tab.equals(test_cont_dist_tab_final)"
   ]
  }
 ],
 "metadata": {
  "kernelspec": {
   "display_name": "infer-subc",
   "language": "python",
   "name": "python3"
  },
  "language_info": {
   "codemirror_mode": {
    "name": "ipython",
    "version": 3
   },
   "file_extension": ".py",
   "mimetype": "text/x-python",
   "name": "python",
   "nbconvert_exporter": "python",
   "pygments_lexer": "ipython3",
   "version": "3.10.11"
  },
  "orig_nbformat": 4
 },
 "nbformat": 4,
 "nbformat_minor": 2
}
