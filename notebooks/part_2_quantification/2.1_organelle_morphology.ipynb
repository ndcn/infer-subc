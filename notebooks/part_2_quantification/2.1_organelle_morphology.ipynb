{
 "cells": [
  {
   "cell_type": "markdown",
   "metadata": {},
   "source": [
    "# Quantify **Organelle Morphology** - part 2.1\n",
    "--------------------\n",
    "Now that all organelles and masks are segmented, we can begin to quantify features of organelle **composition**, **morphology**, **interactions**, and **distribution**. \n",
    "\n",
    "\n",
    "## **OBJECTIVE**\n",
    "### <input type=\"checkbox\"/> Quantify ***organelle composition and morphology***\n",
    "In this notebook, the logic for quantifying **organelle composition** (how much of each organelle is present) and **morphology** (individual size and shape) is outlined.\n"
   ]
  },
  {
   "cell_type": "markdown",
   "metadata": {},
   "source": [
    "--------\n",
    "## **Organelle Morphology**\n",
    "\n",
    "### summary of steps\n",
    "\n",
    "🛠️ **BUILD FUNCTION PROTOTYPE**\n",
    "\n",
    "- **`0`** - Apply Cell Mask *(preliminary step)*\n",
    "\n",
    "- **`1`** - Build the list of measurements we want to include from regionprops \n",
    "\n",
    "- **`2`** - Add additional measurements as *\"extra_properties\"* with custom functions.\n",
    "\n",
    "- **`3`** - Run regionprops and export values as a pandas dataframe\n",
    "\n",
    "- **`4`** - Add additional measurements\n",
    "    - surface area\n",
    "    - surface area to volume ratio\n",
    "\n",
    "⚙️ **EXECUTE FUNCTION PROTOTYPE**\n",
    "\n",
    "- Define `_get_org_morphology_3D` function\n",
    "- Run `_get_org_morphology_3D` function\n",
    "    - scaled and unscaled\n",
    "- Compare to finalized `get_org_morphology_3D` function"
   ]
  },
  {
   "cell_type": "markdown",
   "metadata": {},
   "source": [
    "## **IMPORTS**"
   ]
  },
  {
   "cell_type": "markdown",
   "metadata": {},
   "source": [
    "#### &#x1F3C3; **Run code; no user input required**\n",
    "\n",
    "&#x1F453; **FYI:** This code block loads all of the necessary python packages and functions you will need for this notebook."
   ]
  },
  {
   "cell_type": "code",
   "execution_count": null,
   "metadata": {},
   "outputs": [],
   "source": [
    "from pathlib import Path\n",
    "import os\n",
    "\n",
    "import napari\n",
    "from napari.utils.notebook_display import nbscreenshot\n",
    "\n",
    "from skimage.measure import (regionprops, regionprops_table)\n",
    "\n",
    "from infer_subc.core.file_io import (read_czi_image,\n",
    "                                     import_inferred_organelle,\n",
    "                                     list_image_files)\n",
    "\n",
    "from infer_subc.core.img import *\n",
    "from infer_subc.utils.stats import *\n",
    "from infer_subc.utils.stats import (_assert_uint16_labels)\n",
    "from infer_subc.utils.stats_helpers import *\n",
    "from infer_subc.organelles import * \n",
    "\n",
    "%load_ext autoreload\n",
    "%autoreload 2"
   ]
  },
  {
   "cell_type": "markdown",
   "metadata": {},
   "source": [
    "## **LOAD AND READ IN IMAGE FOR PROCESSING**\n",
    "> ###### 📝 **Specifically, this will include the raw image and the outputs from segmentation**"
   ]
  },
  {
   "cell_type": "markdown",
   "metadata": {},
   "source": [
    "#### &#x1F6D1; &#x270D; **User Input Required:**"
   ]
  },
  {
   "cell_type": "code",
   "execution_count": null,
   "metadata": {},
   "outputs": [],
   "source": [
    "## Define the path to the directory that contains the input image folder.\n",
    "data_root_path = Path(os.getcwd()).parents[1] / \"sample_data\" /  \"example_astrocyte\"\n",
    "\n",
    "## Specify which subfolder that contains the input data and what the file type is. Ex) \".czi\" or \".tiff\"\n",
    "in_data_path = data_root_path / \"raw\"\n",
    "raw_img_type = \".tiff\"\n",
    "\n",
    "## Specify which subfolder contains the segmentation outputs and their file type\n",
    "seg_data_path = data_root_path / \"seg\"\n",
    "seg_img_type = \".tiff\"\n",
    "\n",
    "## Specify the name of the output folder where quantification results will be saved\n",
    "out_data_path = data_root_path / \"quant\"\n",
    "\n",
    "# Specify which file you'd like to segment from the img_file_list\n",
    "test_img_n = 0"
   ]
  },
  {
   "cell_type": "markdown",
   "metadata": {},
   "source": [
    "#### &#x1F3C3; **Run code; no user input required**"
   ]
  },
  {
   "cell_type": "code",
   "execution_count": null,
   "metadata": {},
   "outputs": [],
   "source": [
    "if not Path.exists(out_data_path):\n",
    "    Path.mkdir(out_data_path)\n",
    "    print(f\"making {out_data_path}\")\n",
    "\n",
    "raw_file_list = list_image_files(in_data_path, raw_img_type)\n",
    "seg_file_list = list_image_files(seg_data_path, seg_img_type)\n",
    "# pd.set_option('display.max_colwidth', None)\n",
    "# pd.DataFrame({\"Image Name\":img_file_list})"
   ]
  },
  {
   "cell_type": "code",
   "execution_count": null,
   "metadata": {},
   "outputs": [],
   "source": [
    "raw_img_name = raw_file_list[test_img_n]\n",
    "\n",
    "raw_img_data, raw_meta_dict = read_czi_image(raw_img_name)\n",
    "\n",
    "channel_names = raw_meta_dict['name']\n",
    "img = raw_meta_dict['metadata']['aicsimage']\n",
    "scale = raw_meta_dict['scale']\n",
    "channel_axis = raw_meta_dict['channel_axis']"
   ]
  },
  {
   "cell_type": "code",
   "execution_count": null,
   "metadata": {},
   "outputs": [],
   "source": [
    "## For each import, change the string to match the suffix on the segmentation files (i.e., the stuff following the \"-\")\n",
    "\n",
    "# masks\n",
    "\n",
    "masks_seg_names = ['masks','masks_A', 'masks_B']\n",
    "for m in masks_seg_names:\n",
    "    if m in [i.stem.split(\"-\")[-1] for i in seg_file_list]:\n",
    "        mask_seg = import_inferred_organelle(m, raw_meta_dict, seg_data_path, seg_img_type)\n",
    "        nuc_seg, cell_seg, cyto_seg = mask_seg\n",
    "        break\n",
    "\n",
    "if 'nuc' in [i.stem.split(\"-\")[-1] for i in seg_file_list]:\n",
    "    nuc_seg = import_inferred_organelle(\"nuc\", raw_meta_dict, seg_data_path, seg_img_type)\n",
    "    cell_seg = import_inferred_organelle(\"cell\", raw_meta_dict, seg_data_path, seg_img_type)\n",
    "    cyto_seg = import_inferred_organelle(\"cyto\", raw_meta_dict, seg_data_path, seg_img_type)\n",
    "\n",
    "#organelles\n",
    "lyso_seg = import_inferred_organelle(\"lyso\", raw_meta_dict, seg_data_path, seg_img_type)\n",
    "mito_seg = import_inferred_organelle(\"mito\", raw_meta_dict, seg_data_path, seg_img_type)\n",
    "golgi_seg = import_inferred_organelle(\"golgi\", raw_meta_dict, seg_data_path, seg_img_type)\n",
    "perox_seg = import_inferred_organelle(\"perox\", raw_meta_dict, seg_data_path, seg_img_type)\n",
    "ER_seg = import_inferred_organelle(\"ER\", raw_meta_dict, seg_data_path, seg_img_type)\n",
    "LD_seg = import_inferred_organelle(\"LD\", raw_meta_dict, seg_data_path, seg_img_type)"
   ]
  },
  {
   "cell_type": "markdown",
   "metadata": {},
   "source": [
    "-------------------------\n",
    "## **Visualize with `napari`**"
   ]
  },
  {
   "cell_type": "code",
   "execution_count": null,
   "metadata": {},
   "outputs": [],
   "source": [
    "viewer = napari.Viewer()"
   ]
  },
  {
   "cell_type": "code",
   "execution_count": null,
   "metadata": {},
   "outputs": [],
   "source": [
    "viewer.add_image(raw_img_data)"
   ]
  },
  {
   "cell_type": "code",
   "execution_count": null,
   "metadata": {},
   "outputs": [],
   "source": [
    "viewer.add_image(cell_seg, colormap='gray', opacity=0.3, blending ='additive')\n",
    "\n",
    "viewer.add_image(nuc_seg, colormap='blue', blending ='additive')\n",
    "viewer.add_image(lyso_seg, colormap='cyan', blending ='additive')\n",
    "viewer.add_image(mito_seg, colormap='green', blending ='additive')\n",
    "viewer.add_image(golgi_seg, colormap='yellow', blending ='additive')\n",
    "viewer.add_image(perox_seg, colormap='bop orange', blending ='additive')\n",
    "viewer.add_image(ER_seg, colormap='red', blending ='additive')\n",
    "viewer.add_image(LD_seg, colormap='magenta', blending ='additive')\n",
    "\n",
    "nbscreenshot(viewer, canvas_only=True)"
   ]
  },
  {
   "cell_type": "code",
   "execution_count": null,
   "metadata": {},
   "outputs": [],
   "source": [
    "viewer.close()"
   ]
  },
  {
   "cell_type": "markdown",
   "metadata": {},
   "source": [
    "-------------------------\n",
    "# **regionprops**\n",
    "\n",
    "To measure the amount, size, and shape of the individual organelles, we will utilize `skimage.measure.regionprops`. These measurements can be collected based on pixel/voxel units (assuming the image is isotropic in all dimensions) and or \"real-world\" units. Since most confocal microscope images are anisotropic (mostly with respect to the Z dimension), we will preferentially utilize real-world units. Luckily, regionprops>=0.20.0 has incorporated a spacing parameter that can handle anisotropic data.\n",
    "\n",
    "Similar concepts will also be applied to measure the cell, cytoplasm, and nucleus below as well in notebook 1.4."
   ]
  },
  {
   "cell_type": "markdown",
   "metadata": {},
   "source": [
    "> ###### **Below, we have listed the properties that are supported in 3D and the properties that support scaling to real-world units**\n",
    "> ###### 📝 **The regionprop property names correspond to 2D measurements even for those that are able to function in 3D (i.e. \"area\" is actually \"volume\" when a 3D image is being processed, etc.)**"
   ]
  },
  {
   "cell_type": "code",
   "execution_count": null,
   "metadata": {},
   "outputs": [],
   "source": [
    "labels = label(nuc_seg )\n",
    "NUC_CH = 0\n",
    "rp = regionprops(labels, intensity_image=raw_img_data[NUC_CH], spacing=scale)\n",
    "\n",
    "supported = [] \n",
    "unsupported = []\n",
    "\n",
    "for prop in rp[0]:\n",
    "    try:\n",
    "        rp[0][prop]\n",
    "        supported.append(prop)\n",
    "    except NotImplementedError:\n",
    "        unsupported.append(prop)\n",
    "\n",
    "print(\"Supported properties for 3D analysis:\")\n",
    "print(\"  \" + \"\\n  \".join(supported))"
   ]
  },
  {
   "cell_type": "code",
   "execution_count": null,
   "metadata": {},
   "outputs": [],
   "source": [
    "print(\"Properties only supported in 2D:\")\n",
    "print(\"  \" + \"\\n  \".join(unsupported))"
   ]
  },
  {
   "cell_type": "markdown",
   "metadata": {},
   "source": [
    "###### Below, we have listed the observed properties and the affect of scaling via real-world units (microns):\n",
    "\n",
    "**Scaled**\n",
    ">- volume: n * zyx\n",
    ">- equivalent diameter: n * zyx**(1/3)\n",
    ">- centroid-0: n * z\n",
    ">- centroid-1: n * y\n",
    ">- centroid-2: n * x\n",
    ">- surface_area: varies by shape and orientation\n",
    "\n",
    "**Not Scaled**\n",
    ">- bbox (0-5)\n",
    ">- euler_number\n",
    ">- extent\n",
    ">- max_intensity\n",
    ">- mean_intensity\n",
    ">- min_intensity\n",
    ">- standard_deviation_intensity"
   ]
  },
  {
   "cell_type": "markdown",
   "metadata": {},
   "source": [
    "# ***BUILD FUNCTION PROTOTYPE***"
   ]
  },
  {
   "cell_type": "markdown",
   "metadata": {},
   "source": [
    "## **`0` - Apply Cell Mask**\n",
    "To ensure we are performing single cell analysis, we will apply the cell segmentation as a mask.\n",
    "\n",
    "> ###### 📝 **The Golgi body segmentation will be the example used throughout this notebook**"
   ]
  },
  {
   "cell_type": "code",
   "execution_count": null,
   "metadata": {},
   "outputs": [],
   "source": [
    "golgi_masked = apply_mask(golgi_seg, cell_seg)"
   ]
  },
  {
   "cell_type": "markdown",
   "metadata": {},
   "source": [
    "## **`1` - Build the list of measurements we want to include from regionprops**"
   ]
  },
  {
   "cell_type": "code",
   "execution_count": null,
   "metadata": {},
   "outputs": [],
   "source": [
    "# start with LABEL\n",
    "test_properties = [\"label\"]\n",
    "\n",
    "# add position\n",
    "test_properties = test_properties + [\"centroid\", \"bbox\"]\n",
    "\n",
    "# add area\n",
    "test_properties = test_properties + [\"area\", \"equivalent_diameter\"] # \"num_pixels\", \n",
    "\n",
    "# add shape measurements\n",
    "test_properties = test_properties + [\"extent\", \"euler_number\", \"solidity\", \"axis_major_length\"] # \"feret_diameter_max\", \"axis_minor_length\"]\n",
    "\n",
    "# add intensity values (used for quality checks only)\n",
    "test_properties = test_properties + [\"min_intensity\", \"max_intensity\", \"mean_intensity\"]\n",
    "\n",
    "test_properties"
   ]
  },
  {
   "cell_type": "markdown",
   "metadata": {},
   "source": [
    "## **`2` - Add additional measurements as *\"extra_properties\"* with custom functions**"
   ]
  },
  {
   "cell_type": "code",
   "execution_count": null,
   "metadata": {},
   "outputs": [],
   "source": [
    "# create a function to include the standard deviation of intensities (for quality checks only)\n",
    "def _standard_deviation_intensity(region, intensities):\n",
    "    return np.std(intensities[region])\n",
    "\n",
    "test_extra_properties = [_standard_deviation_intensity]"
   ]
  },
  {
   "cell_type": "markdown",
   "metadata": {},
   "source": [
    "## **`3` - Run regionprops and export values as a pandas dataframe**"
   ]
  },
  {
   "cell_type": "code",
   "execution_count": null,
   "metadata": {},
   "outputs": [],
   "source": [
    "test_props = regionprops_table(golgi_masked,\n",
    "                            intensity_image=raw_img_data[0], \n",
    "                            properties=test_properties,\n",
    "                            extra_properties=test_extra_properties,\n",
    "                            spacing=scale)"
   ]
  },
  {
   "cell_type": "code",
   "execution_count": null,
   "metadata": {},
   "outputs": [],
   "source": [
    "test_props_unscaled = regionprops_table(golgi_masked,\n",
    "                            intensity_image=raw_img_data[0], \n",
    "                            properties=test_properties,\n",
    "                            extra_properties=test_extra_properties)"
   ]
  },
  {
   "cell_type": "code",
   "execution_count": null,
   "metadata": {},
   "outputs": [],
   "source": [
    "test_props_table = pd.DataFrame(test_props)\n",
    "\n",
    "test_org_name = \"golgi\"\n",
    "test_props_table.insert(1, \"object\", test_org_name)\n",
    "test_props_table.rename(columns={\"area\": \"volume\"}, inplace=True)\n",
    "\n",
    "round_scale = (round(scale[0], 4), round(scale[1], 4), round(scale[2], 4))\n",
    "test_props_table.insert(loc=2, column=\"scale\", value=f\"{round_scale}\")"
   ]
  },
  {
   "cell_type": "markdown",
   "metadata": {},
   "source": [
    "## **`4` - Add additional measurements**"
   ]
  },
  {
   "cell_type": "markdown",
   "metadata": {},
   "source": [
    "- surface area\n",
    "- surface area to volume ratio"
   ]
  },
  {
   "cell_type": "code",
   "execution_count": null,
   "metadata": {},
   "outputs": [],
   "source": [
    "# creating a function to measure the surface area of each object. This function utilizes \"marching_cubes\" to generate a mesh (non-pixelated object)\n",
    "def _surface_area_from_props(labels: np.ndarray,\n",
    "                             props: dict,\n",
    "                             scale: Union[tuple, None]=None):\n",
    "    \"\"\" \n",
    "    a function for getting surface area of volumetric objects\n",
    "\n",
    "    Parameters:\n",
    "    ----------\n",
    "    lables:\n",
    "        the segmentation np.ndarray with each object labeled a different number\n",
    "    props:\n",
    "        region props dictionary resulting from the _my_props_to_dict() function\n",
    "    spacing:\n",
    "        tuple of the dimension lengths in the same order as the dimension of your np.ndarray labels input\n",
    "    \"\"\"\n",
    "    surface_areas = np.zeros(len(props[\"label\"]))\n",
    "\n",
    "    for index, lab in enumerate(props[\"label\"]):\n",
    "        # this seems less elegant than you might wish, given that regionprops returns a slice,\n",
    "        # but we need to expand the slice out by one voxel in each direction, or surface area freaks out\n",
    "        volume = labels[\n",
    "            max(props[\"bbox-0\"][index] - 1, 0) : min(props[\"bbox-3\"][index] + 1, labels.shape[0]),\n",
    "            max(props[\"bbox-1\"][index] - 1, 0) : min(props[\"bbox-4\"][index] + 1, labels.shape[1]),\n",
    "            max(props[\"bbox-2\"][index] - 1, 0) : min(props[\"bbox-5\"][index] + 1, labels.shape[2]),\n",
    "        ]\n",
    "        volume = volume == lab\n",
    "        if scale is None:\n",
    "            scale=(1.0,) * labels.ndim\n",
    "        verts, faces, _normals, _values = marching_cubes(volume,\n",
    "                                                         method=\"lewiner\",\n",
    "                                                         spacing=scale,\n",
    "                                                         level=0)\n",
    "        \n",
    "        surface_areas[index] = mesh_surface_area(verts, faces)\n",
    "\n",
    "    return surface_areas"
   ]
  },
  {
   "cell_type": "code",
   "execution_count": null,
   "metadata": {},
   "outputs": [],
   "source": [
    "# props[\"surface_area\"] = surface_area_from_props(nuc_seg, props)\n",
    "test_surface_area_tab = pd.DataFrame(_surface_area_from_props(golgi_masked, test_props, scale))\n",
    "\n",
    "test_props_table.insert(12, \"surface_area\", test_surface_area_tab)\n",
    "test_props_table.insert(14, \"SA_to_volume_ratio\", test_props_table[\"surface_area\"].div(test_props_table[\"volume\"]))\n",
    "\n",
    "pd.set_option('display.max_columns', None)\n",
    "test_props_table"
   ]
  },
  {
   "cell_type": "markdown",
   "metadata": {},
   "source": [
    "# ***EXECUTE FUNCTION PROTOTYPE***"
   ]
  },
  {
   "cell_type": "markdown",
   "metadata": {},
   "source": [
    "## **Define `get_org_morphology_3D()` function**"
   ]
  },
  {
   "cell_type": "code",
   "execution_count": null,
   "metadata": {},
   "outputs": [],
   "source": [
    "def _get_org_morphology_3D(segmentation_img: np.ndarray, \n",
    "                           seg_name: str, \n",
    "                           intensity_img, \n",
    "                           mask: np.ndarray, \n",
    "                           scale: Union[tuple, None]=None):\n",
    "    \"\"\"\n",
    "    Parameters\n",
    "    ------------\n",
    "    segmentation_img:\n",
    "        a 3D (ZYX) np.ndarray of segmented objects \n",
    "    seg_name: str\n",
    "        a name or nickname of the object being measured; this will be used for record keeping in the output table\n",
    "    intensity_img:\n",
    "        a 3D (ZYX) np.ndarray contain gray scale values from the \"raw\" image the segmentation is based on )single channel)\n",
    "    mask:\n",
    "        a 3D (ZYX) binary np.ndarray mask of the area to measure from\n",
    "    scale: tuple, optional\n",
    "        a tuple that contains the real world dimensions for each dimension in the image (Z, Y, X)\n",
    "\n",
    "\n",
    "    Regionprops measurements:\n",
    "    ------------------------\n",
    "    ['label',\n",
    "    'centroid',\n",
    "    'bbox',\n",
    "    'area',\n",
    "    'equivalent_diameter',\n",
    "    'extent',\n",
    "    'feret_diameter_max',\n",
    "    'euler_number',\n",
    "    'convex_area',\n",
    "    'solidity',\n",
    "    'axis_major_length',\n",
    "    'axis_minor_length',\n",
    "    'max_intensity',\n",
    "    'mean_intensity',\n",
    "    'min_intensity']\n",
    "\n",
    "    Additional measurements:\n",
    "    -----------------------\n",
    "    ['standard_deviation_intensity',\n",
    "    'surface_area']\n",
    "\n",
    "\n",
    "    Returns\n",
    "    -------------\n",
    "    pandas dataframe of containing regionprops measurements (columns) for each object in the segmentation image (rows) and the regionprops object\n",
    "    \n",
    "    \"\"\"\n",
    "    ###################################################\n",
    "    ## MASK THE ORGANELLE OBJECTS THAT WILL BE MEASURED\n",
    "    ###################################################\n",
    "    # in case we sent a boolean mask (e.g. cyto, nucleus, cellmask)\n",
    "    input_labels = _assert_uint16_labels(segmentation_img)\n",
    "\n",
    "    # mask\n",
    "    input_labels = apply_mask(input_labels, mask)\n",
    "\n",
    "    ##########################################\n",
    "    ## CREATE LIST OF REGIONPROPS MEASUREMENTS\n",
    "    ##########################################\n",
    "    # start with LABEL\n",
    "    properties = [\"label\"]\n",
    "\n",
    "    # add position\n",
    "    properties = properties + [\"centroid\", \"bbox\"]\n",
    "\n",
    "    # add area\n",
    "    properties = properties + [\"area\", \"equivalent_diameter\"] # \"num_pixels\", \n",
    "\n",
    "    # add shape measurements\n",
    "    properties = properties + [\"extent\", \"euler_number\", \"solidity\", \"axis_major_length\"] # ,\"feret_diameter_max\", \"axis_minor_length\"]\n",
    "\n",
    "    # add intensity values (used for quality checks)\n",
    "    properties = properties + [\"min_intensity\", \"max_intensity\", \"mean_intensity\"]\n",
    "\n",
    "    #######################\n",
    "    ## ADD EXTRA PROPERTIES\n",
    "    #######################\n",
    "    def standard_deviation_intensity(region, intensities):\n",
    "        return np.std(intensities[region])\n",
    "\n",
    "    extra_properties = [standard_deviation_intensity]\n",
    "\n",
    "    ##################\n",
    "    ## RUN REGIONPROPS\n",
    "    ##################\n",
    "    props = regionprops_table(input_labels, \n",
    "                           intensity_image=intensity_img, \n",
    "                           properties=properties,\n",
    "                           extra_properties=extra_properties,\n",
    "                           spacing=scale)\n",
    "\n",
    "    props_table = pd.DataFrame(props)\n",
    "    props_table.insert(0, \"object\", seg_name)\n",
    "    props_table.rename(columns={\"area\": \"volume\"}, inplace=True)\n",
    "\n",
    "    if scale is not None:\n",
    "        round_scale = (round(scale[0], 4), round(scale[1], 4), round(scale[2], 4))\n",
    "        props_table.insert(loc=2, column=\"scale\", value=f\"{round_scale}\")\n",
    "    else: \n",
    "        props_table.insert(loc=2, column=\"scale\", value=f\"{tuple(np.ones(segmentation_img.ndim))}\") \n",
    "\n",
    "    ##################################################################\n",
    "    ## RUN SURFACE AREA FUNCTION SEPARATELY AND APPEND THE PROPS_TABLE\n",
    "    ##################################################################\n",
    "    surface_area_tab = pd.DataFrame(_surface_area_from_props(input_labels, props, scale))\n",
    "\n",
    "    props_table.insert(12, \"surface_area\", surface_area_tab)\n",
    "    props_table.insert(14, \"SA_to_volume_ratio\", props_table[\"surface_area\"].div(props_table[\"volume\"]))\n",
    "\n",
    "    ################################################################\n",
    "    ## ADD SKELETONIZATION OPTION FOR MEASURING LENGTH AND BRANCHING\n",
    "    ################################################################\n",
    "\n",
    "\n",
    "    return props_table"
   ]
  },
  {
   "cell_type": "markdown",
   "metadata": {},
   "source": [
    "## **Run `_get_org_morphology_3D` function**"
   ]
  },
  {
   "cell_type": "code",
   "execution_count": null,
   "metadata": {},
   "outputs": [],
   "source": [
    "org_img = raw_img_data[0]\n",
    "seg_name = 'golgi'\n",
    "org_obj = golgi_seg\n",
    "cell_mask = cell_seg\n",
    "\n",
    "# with scale\n",
    "golgi_table = _get_org_morphology_3D(segmentation_img=org_obj, seg_name=seg_name, intensity_img=org_img, mask=cell_mask, scale=scale)\n",
    "# without scale\n",
    "golgi_table_unscaled = _get_org_morphology_3D(segmentation_img=org_obj, seg_name=seg_name, intensity_img=org_img, mask=cell_mask, scale=None)"
   ]
  },
  {
   "cell_type": "markdown",
   "metadata": {},
   "source": [
    "> **Table with scaled metrics**"
   ]
  },
  {
   "cell_type": "code",
   "execution_count": null,
   "metadata": {},
   "outputs": [],
   "source": [
    "golgi_table"
   ]
  },
  {
   "cell_type": "markdown",
   "metadata": {},
   "source": [
    "> **Table with unscaled metrics**"
   ]
  },
  {
   "cell_type": "code",
   "execution_count": null,
   "metadata": {},
   "outputs": [],
   "source": [
    "golgi_table_unscaled"
   ]
  },
  {
   "cell_type": "code",
   "execution_count": null,
   "metadata": {},
   "outputs": [],
   "source": [
    "# Will result in FALSE because the _standard_deviation_intensity function was used in the prototyping \n",
    "# instead of the standard_deviation_intensity function from stats.py\n",
    "golgi_table.equals(test_props_table)"
   ]
  },
  {
   "cell_type": "markdown",
   "metadata": {},
   "source": [
    "## **Compare to finalized `get_org_morphology_3D` function**"
   ]
  },
  {
   "cell_type": "code",
   "execution_count": null,
   "metadata": {},
   "outputs": [],
   "source": [
    "from infer_subc.utils.stats import get_org_morphology_3D\n",
    "\n",
    "golgi_table_final = get_org_morphology_3D(segmentation_img=org_obj,\n",
    "                                          seg_name='golgi',\n",
    "                                          intensity_img=org_img, \n",
    "                                          mask=cell_mask, \n",
    "                                          scale=scale)"
   ]
  },
  {
   "cell_type": "code",
   "execution_count": null,
   "metadata": {},
   "outputs": [],
   "source": [
    "golgi_table.equals(golgi_table_final)"
   ]
  }
 ],
 "metadata": {
  "kernelspec": {
   "display_name": "infer-subc",
   "language": "python",
   "name": "python3"
  },
  "language_info": {
   "codemirror_mode": {
    "name": "ipython",
    "version": 3
   },
   "file_extension": ".py",
   "mimetype": "text/x-python",
   "name": "python",
   "nbconvert_exporter": "python",
   "pygments_lexer": "ipython3",
   "version": "3.10.11"
  },
  "orig_nbformat": 4
 },
 "nbformat": 4,
 "nbformat_minor": 2
}
