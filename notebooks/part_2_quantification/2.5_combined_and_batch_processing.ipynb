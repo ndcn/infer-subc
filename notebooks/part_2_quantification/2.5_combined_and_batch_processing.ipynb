{
 "cells": [
  {
   "cell_type": "markdown",
   "metadata": {},
   "source": [
    "# Creating a **combined quantification pipeline & batch processing** - part 2.5\n",
    "--------------------\n",
    "Now that all the function to quantify features of organelle composition, morphology, interactions, and distribution have been created, we will combine them into a wrapper function for easy use. This will then be used as part of a batch processing function allowing the the wrapper to be applied to multiple images in the same directory.\n",
    "\n",
    "## **OBJECTIVE**\n",
    "### <input type=\"checkbox\"/> Create a **combined quantification pipeline** for **batch processing** all organelles of interest\n",
    "In this notebook, the logic for quantifying the **composition**, **morphology**, **interaction**, and **distribution** of **organelles** (as many as you would like) from single cells. To do this, the quantification functions from previous notebooks (notebooks 2.1-2.4) at combined into a single function to ***process multiple organelles*** at a time and a framework for ***batch processing*** multiple cells/images is also established here."
   ]
  },
  {
   "cell_type": "markdown",
   "metadata": {},
   "source": [
    "---------\n",
    "## **Combined Measurements and Batch Processing**\n",
    "\n",
    "### summary of steps\n",
    "\n",
    "#### **PART 1️⃣: Combined Measurements**\n",
    "\n",
    "- **`0`** - Establish Parameters for prototype `_make_all_metrics_tables` function *(preliminary step)*\n",
    "\n",
    "- **`1`** - Stack intensity images with observed organelles\n",
    "\n",
    "- **`2`** - Collect region morphology data using `get_region_morphology` function\n",
    "\n",
    "    - identify example cell region *(cellmask)*\n",
    "    - run `get_region_morphology_3D`\n",
    "\n",
    "- **`3`** - Collect organelle morphology data using `get_org_morphology_3D` function\n",
    "\n",
    "    - identify example organelle *(lysosome)*\n",
    "    - obtain example organelle segmentation\n",
    "    - run `get_org_morphology_3D`\n",
    "\n",
    "- **`4`** - Collect distribution metrics data using `get_XY_distribution` and `get_Z_distribution` functions\n",
    "\n",
    "    - establish containers and centering object\n",
    "    - obtain XY Distribution data\n",
    "    - obtain Z Distribution data\n",
    "    - add distribution data (from both functions) to containers\n",
    "\n",
    "- **`5`** - Collect organelle interaction metrics using `get_contact_metrics_3D`\n",
    "\n",
    "    - create all 2-way organelle combinations\n",
    "    - identify example interaction\n",
    "    - retrieve organelle segmentations involved in interaction\n",
    "    - run `get_contact_metrics_3D`\n",
    "\n",
    "- **`6`** - Combine all tables into four inter-organelle tables\n",
    "\n",
    "- Define `_get_org_morphology_3D` function\n",
    "\n",
    "- Run `_get_org_morphology_3D` function\n",
    "\n",
    "- Compare to finalized `get_org_morphology_3D` function\n",
    "\n",
    "#### **PART 2️⃣: Batch Process Quantification**\n",
    "\n",
    "- **`0`** - Establish the image data paths *(preliminary step)*\n",
    "\n",
    "- **`1`** - Locate the matching raw and segmentation files *(`_find_segmentation_tiff_files`)*\n",
    "\n",
    "    - identify protoype image and segmentations to collect\n",
    "    - locate folders for raw image and segmentations\n",
    "    - collect all listed region and segmentation filenames\n",
    "    - define `_find_segmentation_tiff_files` function\n",
    "    - run `_find_segmentation_tiff_files` function\n",
    "    - compare to finalized `find_segmentation_tiff_files` function\n",
    "\n",
    "- **`2`** - Establish the parameters for prototype `_batch_process_quantification` function\n",
    "\n",
    "- **`3`** - List raw image files and their corresponding segmentations and to collect\n",
    "\n",
    "- **`4`** - Obtain segmentations and raw image files\n",
    "\n",
    "    - run `find_segmentation_tiff_files` to collect segmentation filenames\n",
    "    - read in linearly unmixed image file *(raw)*\n",
    "    - collect the listed organelle channel intensities from the raw image file\n",
    "    - identify the scale of the raw image from the metadata\n",
    "    - read in organelle and region segmentations\n",
    "\n",
    "- **`5`** - Run `make_all_metrics_tables` and store output\n",
    "\n",
    "    - run `make_all_metrics_tables` for the prototype image\n",
    "    - repeat steps **`3`** and **`4`** and run `make_all_metrics_tables` for all images in `img_file_list`\n",
    "\n",
    "- **`6`** - Combine all per image tables into four comprehensive tables\n",
    "\n",
    "    - batch organelle morphology table\n",
    "    - batch organelle interactions table\n",
    "    - batch distribution measurments table\n",
    "    - batch cell region morphology table\n",
    "\n",
    "- **`7`** - Export comprehensive tables as .csv files\n",
    "\n",
    "- Define `_batch_process_quantification` function\n",
    "\n",
    "- Run `_batch_process_quantification` function"
   ]
  },
  {
   "cell_type": "markdown",
   "metadata": {},
   "source": [
    "## **IMPORTS**"
   ]
  },
  {
   "cell_type": "markdown",
   "metadata": {},
   "source": [
    "#### &#x1F3C3; **Run code; no user input required**\n",
    "\n",
    "&#x1F453; **FYI:** This code block loads all of the necessary python packages and functions you will need for this notebook."
   ]
  },
  {
   "cell_type": "code",
   "execution_count": null,
   "metadata": {},
   "outputs": [],
   "source": [
    "from pathlib import Path\n",
    "from typing import Dict\n",
    "import os\n",
    "import itertools\n",
    "\n",
    "from infer_subc.core.file_io import (read_czi_image,\n",
    "                                     import_inferred_organelle,\n",
    "                                     list_image_files)\n",
    "from infer_subc.core.img import *\n",
    "from infer_subc.utils.stats import *\n",
    "from infer_subc.utils.stats_helpers import *\n",
    "from infer_subc.organelles import * \n",
    "\n",
    "from datetime import datetime\n",
    "\n",
    "import time\n",
    "%load_ext autoreload\n",
    "%autoreload 2"
   ]
  },
  {
   "cell_type": "markdown",
   "metadata": {},
   "source": [
    "## **LOAD AND READ IN IMAGE FOR PROCESSING**\n",
    "> ###### 📝 **Specifically, this will include the raw image and the outputs from segmentation**"
   ]
  },
  {
   "cell_type": "markdown",
   "metadata": {},
   "source": [
    "#### &#x1F6D1; &#x270D; **User Input Required:**"
   ]
  },
  {
   "cell_type": "code",
   "execution_count": null,
   "metadata": {},
   "outputs": [],
   "source": [
    "## Define the path to the directory that contains the input image folder.\n",
    "data_root_path = Path(os.getcwd()).parents[1] / \"sample_data\" /  \"example_astrocyte\"\n",
    "\n",
    "## Specify which subfolder that contains the input data and what the file type is. Ex) \".czi\" or \".tiff\"\n",
    "in_data_path = data_root_path / \"raw\"\n",
    "raw_img_type = \".tiff\"\n",
    "\n",
    "## Specify which subfolder contains the segmentation outputs and their file type\n",
    "seg_data_path = data_root_path / \"seg\"\n",
    "seg_img_type = \".tiff\"\n",
    "\n",
    "## Specify the name of the output folder where quantification results will be saved\n",
    "out_data_path = data_root_path / \"quant\"\n",
    "\n",
    "# Specify which file you'd like to segment from the img_file_list\n",
    "test_img_n = 0"
   ]
  },
  {
   "cell_type": "markdown",
   "metadata": {},
   "source": [
    "#### &#x1F3C3; **Run code; no user input required**"
   ]
  },
  {
   "cell_type": "code",
   "execution_count": null,
   "metadata": {},
   "outputs": [],
   "source": [
    "if not Path.exists(out_data_path):\n",
    "    Path.mkdir(out_data_path)\n",
    "    print(f\"making {out_data_path}\")\n",
    "\n",
    "raw_file_list = list_image_files(in_data_path, raw_img_type)\n",
    "seg_file_list = list_image_files(seg_data_path, seg_img_type)\n",
    "# pd.set_option('display.max_colwidth', None)\n",
    "# pd.DataFrame({\"Image Name\":img_file_list})"
   ]
  },
  {
   "cell_type": "code",
   "execution_count": null,
   "metadata": {},
   "outputs": [],
   "source": [
    "raw_img_name = raw_file_list[test_img_n]\n",
    "\n",
    "raw_img_data, raw_meta_dict = read_czi_image(raw_img_name)\n",
    "\n",
    "channel_names = raw_meta_dict['name']\n",
    "img = raw_meta_dict['metadata']['aicsimage']\n",
    "scale = raw_meta_dict['scale']\n",
    "channel_axis = raw_meta_dict['channel_axis']"
   ]
  },
  {
   "cell_type": "code",
   "execution_count": null,
   "metadata": {},
   "outputs": [],
   "source": [
    "## For each import, change the string to match the suffix on the segmentation files (i.e., the stuff following the \"-\")\n",
    "\n",
    "# masks\n",
    "masks_seg_names = ['masks','masks_A', 'masks_B']\n",
    "for m in masks_seg_names:\n",
    "    if m in [i.stem.split(\"-\")[-1] for i in seg_file_list]:\n",
    "        mask_seg = import_inferred_organelle(m, raw_meta_dict, seg_data_path, seg_img_type)\n",
    "        nuc_seg, cell_seg, cyto_seg = mask_seg\n",
    "        break\n",
    "\n",
    "if 'nuc' in [i.stem.split(\"-\")[-1] for i in seg_file_list]:\n",
    "    nuc_seg = import_inferred_organelle(\"nuc\", raw_meta_dict, seg_data_path, seg_img_type)\n",
    "    cell_seg = import_inferred_organelle(\"cell\", raw_meta_dict, seg_data_path, seg_img_type)\n",
    "    cyto_seg = import_inferred_organelle(\"cyto\", raw_meta_dict, seg_data_path, seg_img_type)\n",
    "\n",
    "#organelles\n",
    "lyso_seg = import_inferred_organelle(\"lyso\", raw_meta_dict, seg_data_path, seg_img_type)\n",
    "mito_seg = import_inferred_organelle(\"mito\", raw_meta_dict, seg_data_path, seg_img_type)\n",
    "golgi_seg = import_inferred_organelle(\"golgi\", raw_meta_dict, seg_data_path, seg_img_type)\n",
    "perox_seg = import_inferred_organelle(\"perox\", raw_meta_dict, seg_data_path, seg_img_type)\n",
    "ER_seg = import_inferred_organelle(\"ER\", raw_meta_dict, seg_data_path, seg_img_type)\n",
    "LD_seg = import_inferred_organelle(\"LD\", raw_meta_dict, seg_data_path, seg_img_type)"
   ]
  },
  {
   "cell_type": "markdown",
   "metadata": {},
   "source": [
    "# ***PART 1️⃣: Combined Measurements***"
   ]
  },
  {
   "cell_type": "markdown",
   "metadata": {},
   "source": [
    "## **`0` - Establish Parameters for prototype `_make_all_metrics_tables` function *(preliminary step)***"
   ]
  },
  {
   "cell_type": "markdown",
   "metadata": {},
   "source": [
    "> ###### **📝 some variable names will differ in the defined prototype function to make a distinction between global and local variables**"
   ]
  },
  {
   "cell_type": "code",
   "execution_count": null,
   "metadata": {},
   "outputs": [],
   "source": [
    "# names of organelles we have only two for this example\n",
    "organelle_names = [\"lyso\", \"ER\"]\n",
    "\n",
    "# to get the intensities of the test organelles\n",
    "organelle_channels = [3,1]\n",
    "\n",
    "# create intensities from raw as list\n",
    "intensities = [raw_img_data[ch] for ch in organelle_channels]\n",
    "\n",
    "# load organelles as list\n",
    "organelles = [lyso_seg, ER_seg]\n",
    "\n",
    "# load regions as list (only cellmask for this example)\n",
    "regions = [cell_seg]\n",
    "\n",
    "# list of region names\n",
    "region_names = ['cell']\n",
    "\n",
    "# Number of bins to be used during calculation of distribution metrics\n",
    "dist_num_bins=5\n",
    "\n",
    "# If set to true the bins will be distributed from the center of the centering object to the edge of the cellmask\n",
    "# If set to false the bins will be distributed from the edge of the centering object to the edge of the cellmask\n",
    "dist_center_on=False\n",
    "\n",
    "# Whether or not to include the centering object as the first bin\n",
    "dist_keep_center_as_bin=True\n",
    "\n",
    "# the number of zernike degrees to include for the zernike shape descriptors\n",
    "dist_zernike_degrees=9\n",
    "\n",
    "# Whether or not to include distribution data for the interaction sites\n",
    "include_contact_dist=True\n",
    "\n",
    "# select the cellmask as the masking object for the organelle segmentations\n",
    "# This is done differently in the function, but is simplified here\n",
    "mask = cell_seg"
   ]
  },
  {
   "cell_type": "markdown",
   "metadata": {},
   "source": [
    "## **`1` - Stack intensity images with observed organelles**"
   ]
  },
  {
   "cell_type": "code",
   "execution_count": null,
   "metadata": {},
   "outputs": [],
   "source": [
    "# create np.ndarray of intensity images\n",
    "raw_image = np.stack(intensities)"
   ]
  },
  {
   "cell_type": "markdown",
   "metadata": {},
   "source": [
    "## **`2` - Collect region morphology data using `get_region_morphology` function**"
   ]
  },
  {
   "cell_type": "markdown",
   "metadata": {},
   "source": [
    "> ###### **📝 In the following cells, the cellmask will serve as the example region. The finalized prototype function will collect the morphology data for all regions listed as input.**"
   ]
  },
  {
   "cell_type": "markdown",
   "metadata": {},
   "source": [
    "- identify example region *(cellmask)*"
   ]
  },
  {
   "cell_type": "code",
   "execution_count": null,
   "metadata": {},
   "outputs": [],
   "source": [
    "# contains the per region morphological information\n",
    "region_tabs = []\n",
    "\n",
    "# Establishing the cellmask as the example region\n",
    "r_name = 'cell'\n",
    "r = region_names.index(r_name)"
   ]
  },
  {
   "cell_type": "markdown",
   "metadata": {},
   "source": [
    "- run `get_region_morphology_3D`"
   ]
  },
  {
   "cell_type": "code",
   "execution_count": null,
   "metadata": {},
   "outputs": [],
   "source": [
    "region = regions[r]\n",
    "region_metrics = get_region_morphology_3D(region_seg=region, \n",
    "                                            region_name=r_name,\n",
    "                                            channel_names=organelle_names,\n",
    "                                            intensity_img=raw_image, \n",
    "                                            mask=mask,\n",
    "                                            scale=scale)\n",
    "region_tabs.append(region_metrics)\n",
    "\n",
    "# Show cellmask morphology output\n",
    "region_tabs[0]"
   ]
  },
  {
   "cell_type": "markdown",
   "metadata": {},
   "source": [
    "## **`3` - Collect organelle morphology data using `get_org_morphology_3D` function**"
   ]
  },
  {
   "cell_type": "markdown",
   "metadata": {},
   "source": [
    "> ###### **📝 In the following cells, the lysosome will serve as an example. The finalized prototype function will collect the morphology data for all organelles listed as input.**"
   ]
  },
  {
   "cell_type": "markdown",
   "metadata": {},
   "source": [
    "- identify example organelle *(lysosome)*"
   ]
  },
  {
   "cell_type": "code",
   "execution_count": null,
   "metadata": {},
   "outputs": [],
   "source": [
    "# contains the per organelle morphological information\n",
    "org_tabs = []\n",
    "\n",
    "# Establishing the lysosome as the example organelle\n",
    "target = \"lyso\"\n",
    "j = organelle_names.index(target)"
   ]
  },
  {
   "cell_type": "markdown",
   "metadata": {},
   "source": [
    "- obtain example organelle segmentation"
   ]
  },
  {
   "cell_type": "code",
   "execution_count": null,
   "metadata": {},
   "outputs": [],
   "source": [
    "# organelle intensity image\n",
    "org_img = intensities[j]\n",
    "\n",
    "# organelle segmentation\n",
    "if target == 'ER':\n",
    "    # ensure ER is only one object\n",
    "    org_obj = (organelles[j] > 0).astype(np.uint16)\n",
    "else:\n",
    "    org_obj = organelles[j]"
   ]
  },
  {
   "cell_type": "markdown",
   "metadata": {},
   "source": [
    "- run `get_org_morphology_3D`"
   ]
  },
  {
   "cell_type": "code",
   "execution_count": null,
   "metadata": {},
   "outputs": [],
   "source": [
    "# collect the morphology data for the organelle\n",
    "org_metrics = get_org_morphology_3D(segmentation_img=org_obj, \n",
    "                                    seg_name=target,\n",
    "                                    intensity_img=org_img, \n",
    "                                    mask=mask,\n",
    "                                    scale=scale)\n",
    "\n",
    "# add the morphology data to the container\n",
    "org_tabs.append(org_metrics)\n",
    "\n",
    "# Show organelle morphology output\n",
    "org_tabs[0]"
   ]
  },
  {
   "cell_type": "markdown",
   "metadata": {},
   "source": [
    "## **`4` - Collect distribution metrics data using `get_XY_distribution` and `get_Z_distribution` functions**"
   ]
  },
  {
   "cell_type": "markdown",
   "metadata": {},
   "source": [
    "- establish containers and centering object"
   ]
  },
  {
   "cell_type": "code",
   "execution_count": null,
   "metadata": {},
   "outputs": [],
   "source": [
    "# contains the per organelle distribution information\n",
    "dist_tabs = []\n",
    "\n",
    "# contains the masks of the concentric ring bins per organelle\n",
    "XY_bins = []\n",
    "\n",
    "#contains the masks of the 8 radial wedges per organelle\n",
    "XY_wedges = []\n",
    "\n",
    "# Although set to the nucleus here, the protoype function allows the selection of the centering object\n",
    "centering = nuc_seg"
   ]
  },
  {
   "cell_type": "markdown",
   "metadata": {},
   "source": [
    "- obtain XY Distribution data"
   ]
  },
  {
   "cell_type": "code",
   "execution_count": null,
   "metadata": {},
   "outputs": [],
   "source": [
    "# collect the XY distribution data for the organelle\n",
    "XY_org_distribution, XY_bin_masks, XY_wedge_masks = get_XY_distribution(mask=mask,\n",
    "                                                                        centering_obj=centering,\n",
    "                                                                        obj=org_obj,\n",
    "                                                                        obj_name=target,\n",
    "                                                                        scale=scale,\n",
    "                                                                        num_bins=dist_num_bins,\n",
    "                                                                        center_on=dist_center_on,\n",
    "                                                                        keep_center_as_bin=dist_keep_center_as_bin,\n",
    "                                                                        zernike_degrees=dist_zernike_degrees)"
   ]
  },
  {
   "cell_type": "markdown",
   "metadata": {},
   "source": [
    "- obtain Z Distribution data"
   ]
  },
  {
   "cell_type": "code",
   "execution_count": null,
   "metadata": {},
   "outputs": [],
   "source": [
    "# collect the Z distribution data for the organelle\n",
    "Z_org_distribution = get_Z_distribution(mask=mask, \n",
    "                                                obj=org_obj,\n",
    "                                                obj_name=target,\n",
    "                                                center_obj=centering,\n",
    "                                                scale=scale)"
   ]
  },
  {
   "cell_type": "markdown",
   "metadata": {},
   "source": [
    "- add distribution data (from both functions) to containers"
   ]
  },
  {
   "cell_type": "code",
   "execution_count": null,
   "metadata": {},
   "outputs": [],
   "source": [
    "# Combine distribution data\n",
    "org_distribution_metrics = pd.merge(XY_org_distribution, Z_org_distribution,on=[\"object\", \"scale\"])\n",
    "\n",
    "# Add distribution data to the container\n",
    "dist_tabs.append(org_distribution_metrics)\n",
    "\n",
    "# Add the mask of the concentric ring bins to the bins container\n",
    "XY_bins.append(XY_bin_masks)\n",
    "\n",
    "# Add the mask of the 8 radial wedges to the wedges container\n",
    "XY_wedges.append(XY_wedge_masks)"
   ]
  },
  {
   "cell_type": "markdown",
   "metadata": {},
   "source": [
    "## **`5` - Collect organelle interaction metrics using `get_contact_metrics_3D`**"
   ]
  },
  {
   "cell_type": "markdown",
   "metadata": {},
   "source": [
    "- create all 2-way organelle combinations (non-redundant)"
   ]
  },
  {
   "cell_type": "markdown",
   "metadata": {},
   "source": [
    "> ###### **📝 This is an example of how the list of combinations is determined in the finalized prototype function. In the following steps, only the lysosome and ER interaction data will be quantified; this is performed for all combinations in the finalized prototype function.**"
   ]
  },
  {
   "cell_type": "code",
   "execution_count": null,
   "metadata": {},
   "outputs": [],
   "source": [
    "list(itertools.combinations([\"lyso\", \"mito\",\"golgi\",\"perox\",\"ER\",\"LD\"], 2))"
   ]
  },
  {
   "cell_type": "code",
   "execution_count": null,
   "metadata": {},
   "outputs": [],
   "source": [
    "contact_combos = list(itertools.combinations(organelle_names, 2))\n",
    "\n",
    "# container to keep contact data in\n",
    "contact_tabs = []"
   ]
  },
  {
   "cell_type": "markdown",
   "metadata": {},
   "source": [
    "- identify example interaction"
   ]
  },
  {
   "cell_type": "code",
   "execution_count": null,
   "metadata": {},
   "outputs": [],
   "source": [
    "# Establshing lyso and ER as the only pair\n",
    "pair = contact_combos[0]\n",
    "\n",
    "# pair names\n",
    "a_name = pair[0]\n",
    "b_name = pair[1]"
   ]
  },
  {
   "cell_type": "markdown",
   "metadata": {},
   "source": [
    "- retrieve organelle segmentations involved in interaction"
   ]
  },
  {
   "cell_type": "code",
   "execution_count": null,
   "metadata": {},
   "outputs": [],
   "source": [
    "# segmentations to measure\n",
    "if a_name == 'ER':\n",
    "    # ensure ER is only one object\n",
    "    a = (organelles[organelle_names.index(a_name)] > 0).astype(np.uint16)\n",
    "else:\n",
    "    a = organelles[organelle_names.index(a_name)]\n",
    "\n",
    "if b_name == 'ER':\n",
    "    # ensure ER is only one object\n",
    "    b = (organelles[organelle_names.index(b_name)] > 0).astype(np.uint16)\n",
    "else:\n",
    "    b = organelles[organelle_names.index(b_name)]"
   ]
  },
  {
   "cell_type": "markdown",
   "metadata": {},
   "source": [
    "> ###### **📝 In the finalized prototype function, this operation will differ based on the value of the `include_contact_dist` input. It is set to true here resulting in the inclusion of the distribution data of lyso and ER interaction sites.**"
   ]
  },
  {
   "cell_type": "markdown",
   "metadata": {},
   "source": [
    "- run `get_contact_metrics_3D`"
   ]
  },
  {
   "cell_type": "code",
   "execution_count": null,
   "metadata": {},
   "outputs": [],
   "source": [
    "contact_tab, contact_dist_tab = get_contact_metrics_3D(a, a_name, \n",
    "                                                       b, b_name, \n",
    "                                                       mask,\n",
    "                                                       scale, \n",
    "                                                       include_dist = include_contact_dist,\n",
    "                                                       dist_centering_obj=centering,\n",
    "                                                       dist_num_bins=dist_num_bins,\n",
    "                                                       dist_zernike_degrees=dist_zernike_degrees,\n",
    "                                                       dist_center_on=dist_center_on,\n",
    "                                                       dist_keep_center_as_bin=dist_keep_center_as_bin)\n",
    "\n",
    "# Adds distribution data to containter\n",
    "dist_tabs.append(contact_dist_tab)\n",
    "\n",
    "# Adds interaction data to container\n",
    "contact_tabs.append(contact_tab)"
   ]
  },
  {
   "cell_type": "markdown",
   "metadata": {},
   "source": [
    "## **`6` - Combine all tables into four inter-organelle tables**"
   ]
  },
  {
   "cell_type": "code",
   "execution_count": null,
   "metadata": {},
   "outputs": [],
   "source": [
    "# Cell region morphology table\n",
    "test_final_region_tab = pd.concat(region_tabs, ignore_index=True)\n",
    "test_final_region_tab.insert(loc=0,column='image_name',value=raw_img_name.stem)\n",
    "\n",
    "# Organelle morphology table\n",
    "test_final_org_tab = pd.concat(org_tabs, ignore_index=True)\n",
    "test_final_org_tab.insert(loc=0,column='image_name',value=raw_img_name.stem)\n",
    "\n",
    "# Organelle interaction table\n",
    "test_final_contact_tab = pd.concat(contact_tabs, ignore_index=True)\n",
    "test_final_contact_tab.insert(loc=0,column='image_name',value=raw_img_name.stem)\n",
    "\n",
    "# Distribution metrics table\n",
    "test_combined_dist_tab = pd.concat(dist_tabs, ignore_index=True)\n",
    "test_combined_dist_tab.insert(loc=0,column='image_name',value=raw_img_name.stem)"
   ]
  },
  {
   "cell_type": "code",
   "execution_count": null,
   "metadata": {},
   "outputs": [],
   "source": [
    "test_final_region_tab"
   ]
  },
  {
   "cell_type": "code",
   "execution_count": null,
   "metadata": {},
   "outputs": [],
   "source": [
    "test_final_org_tab"
   ]
  },
  {
   "cell_type": "code",
   "execution_count": null,
   "metadata": {},
   "outputs": [],
   "source": [
    "test_final_contact_tab"
   ]
  },
  {
   "cell_type": "code",
   "execution_count": null,
   "metadata": {},
   "outputs": [],
   "source": [
    "test_combined_dist_tab"
   ]
  },
  {
   "cell_type": "markdown",
   "metadata": {},
   "source": [
    "## **Define `_make_all_metrics_tables` function**"
   ]
  },
  {
   "cell_type": "code",
   "execution_count": null,
   "metadata": {},
   "outputs": [],
   "source": [
    "# organelle_to_colname = {\"nuc\":\"NU\", \"lyso\": \"LY\", \"mito\":\"MT\", \"golgi\":\"GL\", \"perox\":\"PR\", \"ER\":\"ER\", \"LD\":\"LD\", \"cell\":\"CM\", \"cyto\":\"CY\", \"nucleus\": \"N1\",\"nuclei\":\"NU\",}\n",
    "\n",
    "def _make_all_metrics_tables(source_file: str,\n",
    "                             list_obj_names: List[str],\n",
    "                             list_obj_segs: List[np.ndarray],\n",
    "                             list_intensity_img: List[np.ndarray],\n",
    "                             list_region_names: List[str],\n",
    "                             list_region_segs: List[np.ndarray],\n",
    "                             mask: str,\n",
    "                             dist_centering_obj:str, \n",
    "                             dist_num_bins: int,\n",
    "                             dist_center_on: bool=False,\n",
    "                             dist_keep_center_as_bin: bool=True,\n",
    "                             dist_zernike_degrees: Union[int, None]=None,\n",
    "                             scale: Union[tuple,None] = None,\n",
    "                             include_contact_dist:bool=True):\n",
    "    \"\"\"\n",
    "    Measure the composition, morphology, distribution, and contacts of multiple organelles in a cell\n",
    "\n",
    "    Parameters:\n",
    "    ----------\n",
    "    source_file: str\n",
    "        file path; this is used for recorder keeping of the file name in the output data tables\n",
    "    list_obj_names: List[str]\n",
    "        a list of object names (strings) that will be measured; this should match the order in list_obj_segs\n",
    "    list_obj_segs: List[np.ndarray]\n",
    "        a list of 3D (ZYX) segmentation np.ndarrays that will be measured per cell; the order should match the list_obj_names \n",
    "    list_intensity_img: List[np.ndarray]\n",
    "        a list of 3D (ZYX) grayscale np.ndarrays that will be used to measure fluoresence intensity in each region and object\n",
    "    list_region_names: List[str]\n",
    "        a list of region names (strings); these should include the mask (entire region being measured - usually the cell) \n",
    "        and other sub-mask regions from which we can meausure the objects in (ex - nucleus, neurites, soma, etc.). It should \n",
    "        also include the centering object used when created the XY distribution bins.\n",
    "        The order should match the list_region_segs\n",
    "    list_region_segs: List[np.ndarray]\n",
    "        a list of 3D (ZYX) binary np.ndarrays of the region masks; the order should match the list_region_names.\n",
    "    mask: str\n",
    "        a str of which region name (contained in the list_region_names list) should be used as the main mask (e.g., cell mask)\n",
    "    dist_centering_obj:str\n",
    "        a str of which region name (contained in the list_region_names list) should be used as the centering object in \n",
    "        get_XY_distribution()\n",
    "    dist_num_bins: int\n",
    "        the number of concentric rings to draw between the centering object and edge of the mask in get_XY_distribution()\n",
    "    dist_center_on: bool=False,\n",
    "        for get_XY_distribution:\n",
    "        True = distribute the bins from the center of the centering object\n",
    "        False = distribute the bins from the edge of the centering object\n",
    "    dist_keep_center_as_bin: bool=True\n",
    "        for get_XY_distribution:\n",
    "        True = include the centering object area when creating the bins\n",
    "        False = do not include the centering object area when creating the bins\n",
    "    dist_zernike_degrees: Union[int, None]=None\n",
    "        for get_XY_distribution:\n",
    "        the number of zernike degrees to include for the zernike shape descriptors; if None, the zernike measurements will not \n",
    "        be included in the output\n",
    "    scale: Union[tuple,None] = None\n",
    "        a tuple that contains the real world dimensions for each dimension in the image (Z, Y, X)\n",
    "    include_contact_dist:bool=True\n",
    "        whether to include the distribution of contact sites in get_contact_metrics_3d(); True = include contact distribution\n",
    "\n",
    "    Returns:\n",
    "    ----------\n",
    "    4 Dataframes of measurements of organelle morphology, region morphology, contact morphology, and organelle/contact distributions\n",
    "\n",
    "    \"\"\"\n",
    "    start = time.time()\n",
    "    count = 0\n",
    "\n",
    "    # segmentation image for all masking steps below\n",
    "    mask = list_region_segs[list_region_names.index(mask)]\n",
    "\n",
    "    ######################\n",
    "    # measure cell regions\n",
    "    ######################\n",
    "    # create np.ndarray of intensity images\n",
    "    raw_image = np.stack(list_intensity_img)\n",
    "    \n",
    "    # container for region data\n",
    "    region_tabs = []\n",
    "    for r, r_name in enumerate(list_region_names):\n",
    "        region = list_region_segs[r]\n",
    "        region_metrics = get_region_morphology_3D(region_seg=region, \n",
    "                                                  region_name=r_name,\n",
    "                                                  channel_names=list_obj_names,\n",
    "                                                  intensity_img=raw_image, \n",
    "                                                  mask=mask,\n",
    "                                                  scale=scale)\n",
    "        region_tabs.append(region_metrics)\n",
    "\n",
    "    ##############################################################\n",
    "    # loop through all organelles to collect measurements for each\n",
    "    ##############################################################\n",
    "    # containers to collect per organelle information\n",
    "    org_tabs = []\n",
    "    dist_tabs = []\n",
    "    XY_bins = []\n",
    "    XY_wedges = []\n",
    "\n",
    "    for j, target in enumerate(list_obj_names):\n",
    "        # organelle intensity image\n",
    "        org_img = list_intensity_img[j]\n",
    "\n",
    "        # organelle segmentation\n",
    "        if target == 'ER':\n",
    "            # ensure ER is only one object\n",
    "            org_obj = (list_obj_segs[j] > 0).astype(np.uint16)\n",
    "        else:\n",
    "            org_obj = list_obj_segs[j]\n",
    "\n",
    "        ##########################################################\n",
    "        # measure organelle morphology & number of objs contacting\n",
    "        ##########################################################\n",
    "        org_metrics = get_org_morphology_3D(segmentation_img=org_obj, \n",
    "                                            seg_name=target,\n",
    "                                            intensity_img=org_img, \n",
    "                                            mask=mask,\n",
    "                                            scale=scale)\n",
    "\n",
    "        org_tabs.append(org_metrics)\n",
    "\n",
    "        ################################\n",
    "        # measure organelle distribution \n",
    "        ################################\n",
    "        centering = list_region_segs[list_region_names.index(dist_centering_obj)]\n",
    "        XY_org_distribution, XY_bin_masks, XY_wedge_masks = get_XY_distribution(mask=mask,\n",
    "                                                                                centering_obj=centering,\n",
    "                                                                                obj=org_obj,\n",
    "                                                                                obj_name=target,\n",
    "                                                                                scale=scale,\n",
    "                                                                                num_bins=dist_num_bins,\n",
    "                                                                                center_on=dist_center_on,\n",
    "                                                                                keep_center_as_bin=dist_keep_center_as_bin,\n",
    "                                                                                zernike_degrees=dist_zernike_degrees)\n",
    "        Z_org_distribution = get_Z_distribution(mask=mask, \n",
    "                                                obj=org_obj,\n",
    "                                                obj_name=target,\n",
    "                                                center_obj=centering,\n",
    "                                                scale=scale)\n",
    "        \n",
    "        org_distribution_metrics = pd.merge(XY_org_distribution, Z_org_distribution,on=[\"object\", \"scale\"])\n",
    "\n",
    "        dist_tabs.append(org_distribution_metrics)\n",
    "        XY_bins.append(XY_bin_masks)\n",
    "        XY_wedges.append(XY_wedge_masks)\n",
    "\n",
    "    #######################################\n",
    "    # collect non-redundant contact metrics \n",
    "    #######################################\n",
    "    # list the non-redundant organelle pairs\n",
    "    contact_combos = list(itertools.combinations(list_obj_names, 2))\n",
    "\n",
    "    # container to keep contact data in\n",
    "    contact_tabs = []\n",
    "\n",
    "    # loop through each pair and measure contacts\n",
    "    for pair in contact_combos:\n",
    "        # pair names\n",
    "        a_name = pair[0]\n",
    "        b_name = pair[1]\n",
    "\n",
    "        # segmentations to measure\n",
    "        if a_name == 'ER':\n",
    "            # ensure ER is only one object\n",
    "            a = (list_obj_segs[list_obj_names.index(a_name)] > 0).astype(np.uint16)\n",
    "        else:\n",
    "            a = list_obj_segs[list_obj_names.index(a_name)]\n",
    "        \n",
    "        if b_name == 'ER':\n",
    "            # ensure ER is only one object\n",
    "            b = (list_obj_segs[list_obj_names.index(b_name)] > 0).astype(np.uint16)\n",
    "        else:\n",
    "            b = list_obj_segs[list_obj_names.index(b_name)]\n",
    "        \n",
    "\n",
    "        if include_contact_dist == True:\n",
    "            contact_tab, contact_dist_tab = get_contact_metrics_3D(a, a_name, \n",
    "                                                                   b, b_name, \n",
    "                                                                   mask, \n",
    "                                                                   scale, \n",
    "                                                                   include_dist=include_contact_dist,\n",
    "                                                                   dist_centering_obj=centering,\n",
    "                                                                   dist_num_bins=dist_num_bins,\n",
    "                                                                   dist_zernike_degrees=dist_zernike_degrees,\n",
    "                                                                   dist_center_on=dist_center_on,\n",
    "                                                                   dist_keep_center_as_bin=dist_keep_center_as_bin)\n",
    "            dist_tabs.append(contact_dist_tab)\n",
    "        else:\n",
    "            contact_tab = get_contact_metrics_3D(a, a_name, \n",
    "                                                 b, b_name, \n",
    "                                                 mask, \n",
    "                                                 scale, \n",
    "                                                 include_dist=include_contact_dist)\n",
    "        contact_tabs.append(contact_tab)\n",
    "\n",
    "\n",
    "    ###########################################\n",
    "    # combine all tabs into one table per type:\n",
    "    ###########################################\n",
    "    final_org_tab = pd.concat(org_tabs, ignore_index=True)\n",
    "    final_org_tab.insert(loc=0,column='image_name',value=source_file.stem)\n",
    "\n",
    "    final_contact_tab = pd.concat(contact_tabs, ignore_index=True)\n",
    "    final_contact_tab.insert(loc=0,column='image_name',value=source_file.stem)\n",
    "\n",
    "    combined_dist_tab = pd.concat(dist_tabs, ignore_index=True)\n",
    "    combined_dist_tab.insert(loc=0,column='image_name',value=source_file.stem)\n",
    "\n",
    "    final_region_tab = pd.concat(region_tabs, ignore_index=True)\n",
    "    final_region_tab.insert(loc=0,column='image_name',value=source_file.stem)\n",
    "\n",
    "    end = time.time()\n",
    "    print(f\"It took {(end-start)/60} minutes to quantify one image.\")\n",
    "    return final_org_tab, final_contact_tab, combined_dist_tab, final_region_tab"
   ]
  },
  {
   "cell_type": "markdown",
   "metadata": {},
   "source": [
    "## **Run `_get_org_morphology_3D` function**"
   ]
  },
  {
   "cell_type": "code",
   "execution_count": null,
   "metadata": {},
   "outputs": [],
   "source": [
    "# TODO: things to fix - \n",
    "# figure out what is causing the convex hull error - I'm guessing major axis\n",
    "organelle_names = [\"LD\",\"ER\",\"golgi\",\"lyso\",\"mito\",\"perox\"]\n",
    "organelles = [LD_seg, ER_seg, golgi_seg, lyso_seg, mito_seg, perox_seg]\n",
    "organelle_channels = [0,1,2,3,4,5]\n",
    "intensities = [raw_img_data[ch] for ch in organelle_channels]\n",
    "regions = [cell_seg, cyto_seg, nuc_seg]\n",
    "region_names = ['cell', 'cyto', 'nuc']\n",
    "\n",
    "test_final_org_tab, test_final_contact_tab, test_combined_dist_tab, test_final_regions_tab = _make_all_metrics_tables(source_file=raw_img_name,\n",
    "                                                                                                                      list_obj_names=organelle_names,\n",
    "                                                                                                                      list_obj_segs=organelles,\n",
    "                                                                                                                      list_intensity_img=intensities,\n",
    "                                                                                                                      list_region_names=region_names,\n",
    "                                                                                                                      list_region_segs=regions,\n",
    "                                                                                                                      mask='cell',\n",
    "                                                                                                                      dist_centering_obj='nuc',\n",
    "                                                                                                                      dist_num_bins=5,\n",
    "                                                                                                                      dist_center_on=False,\n",
    "                                                                                                                      dist_keep_center_as_bin=True,\n",
    "                                                                                                                      dist_zernike_degrees=9,\n",
    "                                                                                                                      scale=scale,\n",
    "                                                                                                                      include_contact_dist=True)\n",
    "\n",
    "import warnings\n",
    "warnings.simplefilter('ignore')"
   ]
  },
  {
   "cell_type": "markdown",
   "metadata": {},
   "source": [
    "## **Compare to finalized `get_org_morphology_3D` function**"
   ]
  },
  {
   "cell_type": "code",
   "execution_count": null,
   "metadata": {},
   "outputs": [],
   "source": [
    "from infer_subc.utils.stats_helpers import make_all_metrics_tables\n",
    "\n",
    "official_org, official_contacts, official_dist, official_regions = make_all_metrics_tables(source_file=raw_img_name,\n",
    "                                                                                           list_obj_names=organelle_names,\n",
    "                                                                                           list_obj_segs=organelles,\n",
    "                                                                                           list_intensity_img=intensities,\n",
    "                                                                                           list_region_names=region_names,\n",
    "                                                                                           list_region_segs=regions,\n",
    "                                                                                           mask='cell',\n",
    "                                                                                           dist_centering_obj='nuc',\n",
    "                                                                                           dist_num_bins=5,\n",
    "                                                                                           dist_center_on=False,\n",
    "                                                                                           dist_keep_center_as_bin=True,\n",
    "                                                                                           dist_zernike_degrees=9,\n",
    "                                                                                           scale=scale,\n",
    "                                                                                           include_contact_dist=True)\n",
    "\n",
    "test_final_org_tab.equals(official_org), test_final_contact_tab.equals(official_contacts), test_combined_dist_tab.equals(official_dist), test_final_regions_tab.equals(official_regions)"
   ]
  },
  {
   "cell_type": "code",
   "execution_count": null,
   "metadata": {},
   "outputs": [],
   "source": [
    "test_combined_dist_tab.compare(official_dist)"
   ]
  },
  {
   "cell_type": "markdown",
   "metadata": {},
   "source": [
    "# ***PART 2️⃣: Batch Process Quantification***"
   ]
  },
  {
   "cell_type": "markdown",
   "metadata": {},
   "source": [
    "## **`0` - Establish the image data paths *(preliminary step)***"
   ]
  },
  {
   "cell_type": "code",
   "execution_count": null,
   "metadata": {},
   "outputs": [],
   "source": [
    "# all the imaging data goes here\n",
    "data_root_path = Path(os.getcwd()).parents[1] / \"sample_data\" /  \"batch_example\"\n",
    "\n",
    "# linearly unmixed \".czi\" files are here\n",
    "raw_data_path = data_root_path / \"raw\"\n",
    "\n",
    "# list of lineary unmixed \".czi\" files\n",
    "raw_file_list = list_image_files(raw_data_path,\".tiff\")\n",
    "\n",
    "# adding an additional list of image paths for the matching segmentation files\n",
    "seg_data_path = data_root_path / \"seg\"\n",
    "seg_file_list = list_image_files(seg_data_path, \".tiff\")\n",
    "\n",
    "# changing output directory for this notebook to a new folder called \"quant\"\n",
    "out_data_path = data_root_path / \"quant\"\n",
    "if not Path.exists(out_data_path):\n",
    "    Path.mkdir(out_data_path)\n",
    "    print(f\"making {out_data_path}\")\n",
    "\n",
    "raw_file_list, seg_file_list"
   ]
  },
  {
   "cell_type": "markdown",
   "metadata": {},
   "source": [
    "## **`1` - Locate the matching raw and segmentation files (*`_find_segmentation_tiff_files`*)**\n"
   ]
  },
  {
   "cell_type": "markdown",
   "metadata": {},
   "source": [
    "- identify protoype image and segmentations to collect"
   ]
  },
  {
   "cell_type": "code",
   "execution_count": null,
   "metadata": {},
   "outputs": [],
   "source": [
    "# linearly unmixed image used as an example\n",
    "prototype = raw_file_list[0]\n",
    "\n",
    "# suffix of the corresponding segmentations\n",
    "test_suffix = \"-20250204_ex-\"\n",
    "\n",
    "# the segmentations that are to be identified\n",
    "segs_to_cellect_test = [\"lyso\",\"ER\",\"masks\"]"
   ]
  },
  {
   "cell_type": "markdown",
   "metadata": {},
   "source": [
    "- locate folders for raw image and segmentations"
   ]
  },
  {
   "cell_type": "code",
   "execution_count": null,
   "metadata": {},
   "outputs": [],
   "source": [
    "# raw\n",
    "prototype = Path(prototype)\n",
    "if not prototype.exists():\n",
    "    print(f\"bad prototype. please choose an existing `raw` file as prototype\")\n",
    "\n",
    "out_files = {\"raw\":prototype}\n",
    "seg_path = Path(seg_data_path)\n",
    "\n",
    "# segmentations\n",
    "if not seg_path.is_dir():\n",
    "    print(f\"bad path argument. please choose an existing path containing organelle segmentations\")"
   ]
  },
  {
   "cell_type": "markdown",
   "metadata": {},
   "source": [
    "- collect all listed region and segmentation filenames"
   ]
  },
  {
   "cell_type": "code",
   "execution_count": null,
   "metadata": {},
   "outputs": [],
   "source": [
    "for org_n in segs_to_cellect_test:\n",
    "    org_name = Path(seg_path) / f\"{prototype.stem}{test_suffix}{org_n}.tiff\"\n",
    "    if org_name.exists(): \n",
    "        out_files[org_n] = org_name\n",
    "    else: \n",
    "        print(f\"{org_n} .tiff file not found in {seg_path} returning\")\n",
    "        out_files[org_n] = None"
   ]
  },
  {
   "cell_type": "code",
   "execution_count": null,
   "metadata": {},
   "outputs": [],
   "source": [
    "def _find_segmentation_tiff_files(prototype:Union[Path,str],\n",
    "                                  name_list:List[str], \n",
    "                                  seg_path:Union[Path,str],\n",
    "                                  suffix:Union[str, None]=None) -> Dict:\n",
    "    \"\"\"\n",
    "    Find the matching segmentation files to the raw image file based on the raw image file path.\n",
    "\n",
    "    Paramters:\n",
    "    ---------\n",
    "    prototype:Union[Path,str]\n",
    "        the file path (as a string) for one raw image file; this file should have matching segmentation \n",
    "        output files with the same file name root and different file name ending that match the strings \n",
    "        provided in name_list\n",
    "    name_list:List[str]\n",
    "        a list of file name endings related to what segmentation is that file\n",
    "    seg_path:Union[Path,str]\n",
    "        the path (as a string) to the matching segmentation files.\n",
    "    suffix:Union[str, None]=None\n",
    "        any additional text that exists between the file root and the name_list ending\n",
    "        Ex) Prototype = \"C:/Users/Shannon/Documents/Python_Scripts/Infer-subc/raw/a48hrs-Ctrl_9_Unmixing.czi\"\n",
    "            Name of organelle file = a48hrs-Ctrl_9_Unmixing-20230426_test_cell.tiff\n",
    "            result of .stem = \"a48hrs-Ctrl_9_Unmixing\"\n",
    "            organelle/cell area type = \"cell\"\n",
    "            suffix = \"-20230426_test_\"\n",
    "    \n",
    "    Returns:\n",
    "    ----------\n",
    "    a dictionary of file paths for each image type (raw and all the different segmentations)\n",
    "\n",
    "    \"\"\"\n",
    "    # raw\n",
    "    prototype = Path(prototype)\n",
    "    if not prototype.exists():\n",
    "        print(f\"bad prototype. please choose an existing `raw` file as prototype\")\n",
    "        return dict()\n",
    "\n",
    "    out_files = {\"raw\":prototype}\n",
    "    seg_path = Path(seg_path) \n",
    "\n",
    "    # raw\n",
    "    if not seg_path.is_dir():\n",
    "        print(f\"bad path argument. please choose an existing path containing organelle segmentations\")\n",
    "        return out_files\n",
    "\n",
    "    # segmentations\n",
    "    for org_n in name_list:\n",
    "        org_name = Path(seg_path) / f\"{prototype.stem}{suffix}{org_n}.tiff\"\n",
    "        if org_name.exists(): \n",
    "            out_files[org_n] = org_name\n",
    "        elif org_name.exists() == False: \n",
    "            org_name = Path(seg_path) / f\"{prototype.stem}{suffix}{org_n}.tif\"\n",
    "            out_files[org_n] = org_name\n",
    "        else: \n",
    "            print(f\"{org_n} .tiff file not found in {seg_path} returning\")\n",
    "            out_files[org_n] = None\n",
    "    \n",
    "    return out_files"
   ]
  },
  {
   "cell_type": "code",
   "execution_count": null,
   "metadata": {},
   "outputs": [],
   "source": [
    "prototype = raw_file_list[0]\n",
    "segs_to_cellect_test = [\"LD\",\"ER\",\"golgi\",\"lyso\",\"mito\",\"perox\",\"masks\"] #\"cell\", \"cyto\", \"nuc\"]\n",
    "test_suffix = \"-20250204_ex-\"\n",
    "\n",
    "filez = _find_segmentation_tiff_files(prototype, segs_to_cellect_test, seg_data_path, test_suffix)\n",
    "\n",
    "filez"
   ]
  },
  {
   "cell_type": "code",
   "execution_count": null,
   "metadata": {},
   "outputs": [],
   "source": [
    "from infer_subc.utils.batch import find_segmentation_tiff_files\n",
    "\n",
    "filez_final = find_segmentation_tiff_files(prototype, segs_to_cellect_test, seg_data_path, test_suffix)\n",
    "\n",
    "filez==filez_final"
   ]
  },
  {
   "cell_type": "markdown",
   "metadata": {},
   "source": [
    "## **`2` - Establish the parameters for prototype `_batch_process_quantification` function**"
   ]
  },
  {
   "cell_type": "markdown",
   "metadata": {},
   "source": [
    "> ###### **📝 The lysosome, ER, nucleus and cellmask will serve as examples in the following cells. In the final function, quantification is performed for all listed organelles and regions**"
   ]
  },
  {
   "cell_type": "code",
   "execution_count": null,
   "metadata": {},
   "outputs": [],
   "source": [
    "# names of organelles and regions to quantify\n",
    "organelle_names = [\"lyso\", \"ER\"]\n",
    "region_names = [\"nuc\",\"cell\"]\n",
    "\n",
    "# channels for each organelle listed in the order they appear above\n",
    "organelle_channels = [3,1]\n",
    "\n",
    "# The file type of the linearly unmixed raw image files \n",
    "raw_file_type=\".tiff\"\n",
    "\n",
    "# The name of the masks segmentation (can differ based on mask inferring method)\n",
    "masks_file_name=\"masks\"\n",
    "\n",
    "# select the cellmask as the masking object for the organelle segmentations\n",
    "# This is done differently in the function, but is simplified here\n",
    "mask = \"cell\"\n",
    "\n",
    "# Number of bins to be used during calculation of distribution metrics\n",
    "dist_num_bins=5\n",
    "\n",
    "# If set to true the bins will be distributed from the center of the centering object to the edge of the cellmask\n",
    "# If set to false the bins will be distributed from the edge of the centering object to the edge of the cellmask\n",
    "dist_center_on=False\n",
    "\n",
    "# Whether or not to include the centering object as the first bin\n",
    "dist_keep_center_as_bin=True\n",
    "\n",
    "# the number of zernike degrees to include for the zernike shape descriptors\n",
    "dist_zernike_degrees=9\n",
    "\n",
    "# The centering object to measure cell distribution from\n",
    "dist_centering_obj=\"nuc\"\n",
    "\n",
    "# Whether or not to include distribution data for the interaction sites\n",
    "include_contact_dist=True\n",
    "\n",
    "# filename for \n",
    "current_time = datetime.now().strftime(\"%Y%m%d\")\n",
    "out_file_name = f\"{current_time}_prototype_\""
   ]
  },
  {
   "cell_type": "markdown",
   "metadata": {},
   "source": [
    "## **`3` - List raw image files and their corresponding segmentations and to collect**"
   ]
  },
  {
   "cell_type": "code",
   "execution_count": null,
   "metadata": {},
   "outputs": [],
   "source": [
    "# reading list of files from the raw path\n",
    "img_file_list = list_image_files(raw_data_path, raw_file_type)\n",
    "\n",
    "# Establishing the third image as the prototype\n",
    "img_f = img_file_list[0]\n",
    "\n",
    "# list of segmentation files to collect\n",
    "segs_to_collect = organelle_names + [masks_file_name]\n",
    "print(segs_to_collect)"
   ]
  },
  {
   "cell_type": "markdown",
   "metadata": {},
   "source": [
    "## **`4` - Obtain segmentations and raw image files**"
   ]
  },
  {
   "cell_type": "markdown",
   "metadata": {},
   "source": [
    "> ###### **📝 The third image in the image file list will serve as the prototype in the following cells. In the final function, quantification is performed for all suitable images (based on file type) in the raw data folder**"
   ]
  },
  {
   "cell_type": "markdown",
   "metadata": {},
   "source": [
    "- run `find_segmentation_tiff_files` to collect segmentation filenames"
   ]
  },
  {
   "cell_type": "code",
   "execution_count": null,
   "metadata": {},
   "outputs": [],
   "source": [
    "filez = find_segmentation_tiff_files(img_f, segs_to_collect, seg_path, test_suffix)"
   ]
  },
  {
   "cell_type": "markdown",
   "metadata": {},
   "source": [
    "- read in linearly unmixed image file *(raw)*"
   ]
  },
  {
   "cell_type": "code",
   "execution_count": null,
   "metadata": {},
   "outputs": [],
   "source": [
    "# read in raw file and metadata\n",
    "img_data, meta_dict = read_czi_image(filez[\"raw\"])"
   ]
  },
  {
   "cell_type": "markdown",
   "metadata": {},
   "source": [
    "- collect the listed organelle channel intensities from the raw image file"
   ]
  },
  {
   "cell_type": "code",
   "execution_count": null,
   "metadata": {},
   "outputs": [],
   "source": [
    "# create intensities from raw file as list based on the channel order provided\n",
    "intensities = [img_data[ch] for ch in organelle_channels]"
   ]
  },
  {
   "cell_type": "markdown",
   "metadata": {},
   "source": [
    "- identify the scale of the raw image from the metadata"
   ]
  },
  {
   "cell_type": "code",
   "execution_count": null,
   "metadata": {},
   "outputs": [],
   "source": [
    "# define the scale\n",
    "# In the finalized function this is an option based on the \"scale\" boolean parameter\n",
    "scale_tup = meta_dict['scale']"
   ]
  },
  {
   "cell_type": "markdown",
   "metadata": {},
   "source": [
    "- read in organelle and region segmentations"
   ]
  },
  {
   "cell_type": "code",
   "execution_count": null,
   "metadata": {},
   "outputs": [],
   "source": [
    "# load regions as a list based on order in list (should match order in \"masks\" file)\n",
    "masks = read_tiff_image(filez[masks_file_name]) \n",
    "regions = [masks[r] for r, region in enumerate(region_names)]\n",
    "\n",
    "# store organelle images as list\n",
    "organelles = [read_tiff_image(filez[org]) for org in organelle_names]"
   ]
  },
  {
   "cell_type": "markdown",
   "metadata": {},
   "source": [
    "## **`5` - Run `make_all_metrics_tables` and store output**"
   ]
  },
  {
   "cell_type": "markdown",
   "metadata": {},
   "source": [
    "- run `make_all_metrics_tables` for the prototype image"
   ]
  },
  {
   "cell_type": "code",
   "execution_count": null,
   "metadata": {},
   "outputs": [],
   "source": [
    "org_metrics, contact_metrics, dist_metrics, region_metrics = make_all_metrics_tables(source_file=img_f,\n",
    "                                                                                             list_obj_names=organelle_names,\n",
    "                                                                                             list_obj_segs=organelles,\n",
    "                                                                                             list_intensity_img=intensities, \n",
    "                                                                                             list_region_names=region_names,\n",
    "                                                                                             list_region_segs=regions, \n",
    "                                                                                             mask=mask,\n",
    "                                                                                             dist_centering_obj=dist_centering_obj,\n",
    "                                                                                             dist_num_bins=dist_num_bins,\n",
    "                                                                                             dist_center_on=dist_center_on,\n",
    "                                                                                             dist_keep_center_as_bin=dist_keep_center_as_bin,\n",
    "                                                                                             dist_zernike_degrees=dist_zernike_degrees,\n",
    "                                                                                             scale=scale_tup,\n",
    "                                                                                             include_contact_dist=include_contact_dist)"
   ]
  },
  {
   "cell_type": "code",
   "execution_count": null,
   "metadata": {},
   "outputs": [],
   "source": [
    "org_metrics"
   ]
  },
  {
   "cell_type": "code",
   "execution_count": null,
   "metadata": {},
   "outputs": [],
   "source": [
    "contact_metrics"
   ]
  },
  {
   "cell_type": "code",
   "execution_count": null,
   "metadata": {},
   "outputs": [],
   "source": [
    "dist_metrics"
   ]
  },
  {
   "cell_type": "code",
   "execution_count": null,
   "metadata": {},
   "outputs": [],
   "source": [
    "region_metrics"
   ]
  },
  {
   "cell_type": "markdown",
   "metadata": {},
   "source": [
    "- repeat steps **`3`** and **`4`** and run `make_all_metrics_tables` for all images in `img_file_list`"
   ]
  },
  {
   "cell_type": "code",
   "execution_count": null,
   "metadata": {},
   "outputs": [],
   "source": [
    "# containers to collect data tabels\n",
    "org_tabs = []\n",
    "contact_tabs = []\n",
    "dist_tabs = []\n",
    "region_tabs = []\n",
    "\n",
    "for img_f in img_file_list:\n",
    "    filez = find_segmentation_tiff_files(img_f, segs_to_collect, seg_path, test_suffix)\n",
    "\n",
    "    # read in raw file and metadata\n",
    "    img_data, meta_dict = read_czi_image(filez[\"raw\"])\n",
    "\n",
    "    # create intensities from raw file as list based on the channel order provided\n",
    "    intensities = [img_data[ch] for ch in organelle_channels]\n",
    "\n",
    "    # define the scale\n",
    "    # if scale is True:\n",
    "    if scale:\n",
    "        scale_tup = meta_dict['scale']\n",
    "    else:\n",
    "        scale_tup = None\n",
    "\n",
    "    # load regions as a list based on order in list (should match order in \"masks\" file)\n",
    "    masks = read_tiff_image(filez[masks_file_name]) \n",
    "    regions = [masks[r] for r, region in enumerate(region_names)] #TODO: add in option for multiple mask files\n",
    "\n",
    "    # store organelle images as list\n",
    "    organelles = [read_tiff_image(filez[org]) for org in organelle_names]\n",
    "\n",
    "    org_metrics, contact_metrics, dist_metrics, region_metrics = make_all_metrics_tables(source_file=img_f,\n",
    "                                                                                        list_obj_names=organelle_names,\n",
    "                                                                                        list_obj_segs=organelles,\n",
    "                                                                                        list_intensity_img=intensities, \n",
    "                                                                                        list_region_names=region_names,\n",
    "                                                                                        list_region_segs=regions, \n",
    "                                                                                        mask=mask,\n",
    "                                                                                        dist_centering_obj=dist_centering_obj,\n",
    "                                                                                        dist_num_bins=dist_num_bins,\n",
    "                                                                                        dist_center_on=dist_center_on,\n",
    "                                                                                        dist_keep_center_as_bin=dist_keep_center_as_bin,\n",
    "                                                                                        dist_zernike_degrees=dist_zernike_degrees,\n",
    "                                                                                        scale=scale_tup,\n",
    "                                                                                        include_contact_dist=include_contact_dist)\n",
    "    org_tabs.append(org_metrics)\n",
    "    contact_tabs.append(contact_metrics)\n",
    "    dist_tabs.append(dist_metrics)\n",
    "    region_tabs.append(region_metrics)"
   ]
  },
  {
   "cell_type": "code",
   "execution_count": null,
   "metadata": {},
   "outputs": [],
   "source": [
    "read_tiff_image(filez[masks_file_name]) "
   ]
  },
  {
   "cell_type": "markdown",
   "metadata": {},
   "source": [
    "## **`6` - Combine all per image tables into four comprehensive tables**"
   ]
  },
  {
   "cell_type": "markdown",
   "metadata": {},
   "source": [
    "- batch organelle morphology table"
   ]
  },
  {
   "cell_type": "code",
   "execution_count": null,
   "metadata": {},
   "outputs": [],
   "source": [
    "final_org = pd.concat(org_tabs, ignore_index=True)\n",
    "final_org"
   ]
  },
  {
   "cell_type": "markdown",
   "metadata": {},
   "source": [
    "- batch organelle interactions table"
   ]
  },
  {
   "cell_type": "code",
   "execution_count": null,
   "metadata": {},
   "outputs": [],
   "source": [
    "final_contact = pd.concat(contact_tabs, ignore_index=True)\n",
    "final_contact"
   ]
  },
  {
   "cell_type": "markdown",
   "metadata": {},
   "source": [
    "- batch distribution measurments table"
   ]
  },
  {
   "cell_type": "code",
   "execution_count": null,
   "metadata": {},
   "outputs": [],
   "source": [
    "final_dist = pd.concat(dist_tabs, ignore_index=True)\n",
    "final_dist"
   ]
  },
  {
   "cell_type": "markdown",
   "metadata": {},
   "source": [
    "- batch cell region morphology table"
   ]
  },
  {
   "cell_type": "code",
   "execution_count": null,
   "metadata": {},
   "outputs": [],
   "source": [
    "final_region = pd.concat(region_tabs, ignore_index=True)\n",
    "final_region"
   ]
  },
  {
   "cell_type": "markdown",
   "metadata": {},
   "source": [
    "## **`7` - Export comprehensive tables as .csv files**"
   ]
  },
  {
   "cell_type": "code",
   "execution_count": null,
   "metadata": {},
   "outputs": [],
   "source": [
    "org_csv_path = out_data_path / f\"{out_file_name}_organelles.csv\"\n",
    "final_org.to_csv(org_csv_path)\n",
    "\n",
    "contact_csv_path = out_data_path / f\"{out_file_name}_contacts.csv\"\n",
    "final_contact.to_csv(contact_csv_path)\n",
    "\n",
    "dist_csv_path = out_data_path / f\"{out_file_name}_distributions.csv\"\n",
    "final_dist.to_csv(dist_csv_path)\n",
    "\n",
    "region_csv_path = out_data_path / f\"{out_file_name}_regions.csv\"\n",
    "final_region.to_csv(region_csv_path)"
   ]
  },
  {
   "cell_type": "markdown",
   "metadata": {},
   "source": [
    "## **Define `_batch_process_quantification` function**"
   ]
  },
  {
   "cell_type": "code",
   "execution_count": null,
   "metadata": {},
   "outputs": [],
   "source": [
    "# for a list of \"prefixes\"  collect stats + cross stats masked by cytosol (including nuclei masked by cellmask)\n",
    "\n",
    "# NOTE: the convex hull regionprops error is a know issue that occurs when the objects being measured have too few voxels. \n",
    "# Here's the github reference:https://github.com/scikit-image/scikit-image/issues/5363\n",
    "\n",
    "warnings.simplefilter(\"ignore\", UserWarning)\n",
    "warnings.simplefilter(\"ignore\", RuntimeWarning)\n",
    "\n",
    "def _batch_process_quantification(out_file_name: str,\n",
    "                                  seg_path: Union[Path,str],\n",
    "                                  out_path: Union[Path, str], \n",
    "                                  raw_path: Union[Path,str], \n",
    "                                  raw_file_type: str,\n",
    "                                  organelle_names: List[str],\n",
    "                                  organelle_channels: List[int],\n",
    "                                  region_names: List[str],\n",
    "                                  masks_file_name: str,\n",
    "                                  mask: str,\n",
    "                                  dist_centering_obj:str, \n",
    "                                  dist_num_bins: int,\n",
    "                                  dist_center_on: bool=False,\n",
    "                                  dist_keep_center_as_bin: bool=True,\n",
    "                                  dist_zernike_degrees: Union[int, None]=None,\n",
    "                                  include_contact_dist: bool = True,\n",
    "                                  scale:bool=True,\n",
    "                                  seg_suffix:Union[str, None]=None) -> int :\n",
    "    \"\"\"  \n",
    "    batch process segmentation quantification (morphology, distribution, contacts); this function is currently optimized to process images from one file folder per image type (e.g., raw, segmentation)\n",
    "    the output csv files are saved to the indicated out_path folder\n",
    "\n",
    "    Parameters:\n",
    "    ----------\n",
    "    out_file_name: str\n",
    "        the prefix to use when naming the output datatables\n",
    "    seg_path: Union[Path,str]\n",
    "        Path or str to the folder that contains the segmentation tiff files\n",
    "    out_path: Union[Path, str]\n",
    "        Path or str to the folder that the output datatables will be saved to\n",
    "    raw_path: Union[Path,str]\n",
    "        Path or str to the folder that contains the raw image files\n",
    "    raw_file_type: str\n",
    "        the file type of the raw data; ex - \".tiff\", \".czi\"\n",
    "    organelle_names: List[str]\n",
    "        a list of all organelle names that will be analyzed; the names should be the same as the suffix used to name each of the tiff segmentation files\n",
    "        Note: the intensity measurements collect per region (from get_region_morphology_3D function) will only be from channels associated to these organelles \n",
    "    organelle_channels: List[int]\n",
    "        a list of channel indices associated to respective organelle staining in the raw image; the indices should listed in same order in which the respective segmentation name is listed in organelle_names\n",
    "    region_names: List[str]\n",
    "        a list of regions, or masks, to measure; the order should correlate to the order of the channels in the \"masks\" output segmentation file\n",
    "    masks_file_name: str\n",
    "        the suffix of the \"masks\" segmentation file; ex- \"masks_B\", \"masks\", etc.\n",
    "        this function currently does not accept indivial region segmentations \n",
    "    mask: str\n",
    "        the name of the region to use as the mask when measuring the organelles; this should be one of the names listed in regions list; usually this will be the \"cell\" mask\n",
    "    dist_centering_obj:str\n",
    "        the name of the region or object to use as the centering object in the get_XY_distribution function\n",
    "    dist_num_bins: int\n",
    "        the number of bins for the get_XY_distribution function\n",
    "    dist_center_on: bool=False,\n",
    "        for get_XY_distribution:\n",
    "        True = distribute the bins from the center of the centering object\n",
    "        False = distribute the bins from the edge of the centering object\n",
    "    dist_keep_center_as_bin: bool=True\n",
    "        for get_XY_distribution:\n",
    "        True = include the centering object area when creating the bins\n",
    "        False = do not include the centering object area when creating the bins\n",
    "    dist_zernike_degrees: Union[int, None]=None\n",
    "        for get_XY_distribution:\n",
    "        the number of zernike degrees to include for the zernike shape descriptors; if None, the zernike measurements will not \n",
    "        be included in the output\n",
    "    include_contact_dist:bool=True\n",
    "        whether to include the distribution of contact sites in get_contact_metrics_3d(); True = include contact distribution\n",
    "    scale:bool=True\n",
    "        a tuple that contains the real world dimensions for each dimension in the image (Z, Y, X)\n",
    "    seg_suffix:Union[str, None]=None\n",
    "        any additional text that is included in the segmentation tiff files between the file stem and the segmentation suffix\n",
    "\n",
    "\n",
    "    Returns:\n",
    "    ----------\n",
    "    count: int\n",
    "        the number of images processed\n",
    "        \n",
    "    \"\"\"\n",
    "    start = time.time()\n",
    "    count = 0\n",
    "\n",
    "    if isinstance(raw_path, str): raw_path = Path(raw_path)\n",
    "    if isinstance(seg_path, str): seg_path = Path(seg_path)\n",
    "    if isinstance(out_path, str): out_path = Path(out_path)\n",
    "    \n",
    "    if not Path.exists(out_path):\n",
    "        Path.mkdir(out_path)\n",
    "        print(f\"making {out_path}\")\n",
    "    \n",
    "    # reading list of files from the raw path\n",
    "    img_file_list = list_image_files(raw_path, raw_file_type)\n",
    "\n",
    "    # list of segmentation files to collect\n",
    "    segs_to_collect = organelle_names + [masks_file_name]\n",
    "\n",
    "    # containers to collect data tabels\n",
    "    org_tabs = []\n",
    "    contact_tabs = []\n",
    "    dist_tabs = []\n",
    "    region_tabs = []\n",
    "    for img_f in img_file_list:\n",
    "        count = count + 1\n",
    "        filez = find_segmentation_tiff_files(img_f, segs_to_collect, seg_path, seg_suffix)\n",
    "\n",
    "        # read in raw file and metadata\n",
    "        img_data, meta_dict = read_czi_image(filez[\"raw\"])\n",
    "\n",
    "        # create intensities from raw file as list based on the channel order provided\n",
    "        intensities = [img_data[ch] for ch in organelle_channels]\n",
    "\n",
    "        # define the scale\n",
    "        # if scale is True:\n",
    "        if scale:\n",
    "            scale_tup = meta_dict['scale']\n",
    "        else:\n",
    "            scale_tup = None\n",
    "\n",
    "        # load regions as a list based on order in list (should match order in \"masks\" file)\n",
    "        masks = read_tiff_image(filez[masks_file_name]) \n",
    "        regions = [masks[r] for r, region in enumerate(region_names)] #TODO: add in option for multiple mask files\n",
    "\n",
    "        # store organelle images as list\n",
    "        organelles = [read_tiff_image(filez[org]) for org in organelle_names]\n",
    "\n",
    "        org_metrics, contact_metrics, dist_metrics, region_metrics = make_all_metrics_tables(source_file=img_f,\n",
    "                                                                                             list_obj_names=organelle_names,\n",
    "                                                                                             list_obj_segs=organelles,\n",
    "                                                                                             list_intensity_img=intensities, \n",
    "                                                                                             list_region_names=region_names,\n",
    "                                                                                             list_region_segs=regions, \n",
    "                                                                                             mask=mask,\n",
    "                                                                                             dist_centering_obj=dist_centering_obj,\n",
    "                                                                                             dist_num_bins=dist_num_bins,\n",
    "                                                                                             dist_center_on=dist_center_on,\n",
    "                                                                                             dist_keep_center_as_bin=dist_keep_center_as_bin,\n",
    "                                                                                             dist_zernike_degrees=dist_zernike_degrees,\n",
    "                                                                                             scale=scale_tup,\n",
    "                                                                                             include_contact_dist=include_contact_dist)\n",
    "\n",
    "        org_tabs.append(org_metrics)\n",
    "        contact_tabs.append(contact_metrics)\n",
    "        dist_tabs.append(dist_metrics)\n",
    "        region_tabs.append(region_metrics)\n",
    "        end2 = time.time()\n",
    "        print(f\"Completed processing for {count} images in {(end2-start)/60} mins.\")\n",
    "\n",
    "    final_org = pd.concat(org_tabs, ignore_index=True)\n",
    "    final_contact = pd.concat(contact_tabs, ignore_index=True)\n",
    "    final_dist = pd.concat(dist_tabs, ignore_index=True)\n",
    "    final_region = pd.concat(region_tabs, ignore_index=True)\n",
    "\n",
    "    org_csv_path = out_path / f\"{out_file_name}_organelles.csv\"\n",
    "    final_org.to_csv(org_csv_path)\n",
    "\n",
    "    contact_csv_path = out_path / f\"{out_file_name}_contacts.csv\"\n",
    "    final_contact.to_csv(contact_csv_path)\n",
    "\n",
    "    dist_csv_path = out_path / f\"{out_file_name}_distributions.csv\"\n",
    "    final_dist.to_csv(dist_csv_path)\n",
    "\n",
    "    region_csv_path = out_path / f\"{out_file_name}_regions.csv\"\n",
    "    final_region.to_csv(region_csv_path)\n",
    "\n",
    "    end = time.time()\n",
    "    print(f\"Quantification for {count} files is COMPLETE! Files saved to '{out_path}'.\")\n",
    "    print(f\"It took {(end - start)/60} minutes to quantify these files.\")\n",
    "    return count"
   ]
  },
  {
   "cell_type": "markdown",
   "metadata": {},
   "source": [
    "## **Run `_batch_process_quantification` function**"
   ]
  },
  {
   "cell_type": "code",
   "execution_count": null,
   "metadata": {},
   "outputs": [],
   "source": [
    "# all the imaging data goes here.\n",
    "data_root_path = Path(os.getcwd()).parents[1] / \"sample_data\" /  \"batch_example\"\n",
    "# linearly unmixed \".czi\" files are here\n",
    "raw_data_path = data_root_path / \"raw\"\n",
    "# save output \".tiff\" files here\n",
    "seg_data_path = data_root_path / \"out\"\n",
    "seg_suffix = \"-20250204_ex-\"\n",
    "# save stats here\n",
    "out_data_path = data_root_path / \"quant\"\n",
    "\n",
    "# names of organelles and regions to quantify\n",
    "organelle_names = [\"LD\",\"ER\",\"golgi\",\"lyso\",\"mito\",\"perox\"]\n",
    "region_names = [\"nuc\", \"cell\", \"cyto\"]\n",
    "\n",
    "# channels for each organelle listed in the order they appear above\n",
    "organelle_channels = [0,1,2,3,4,5]\n",
    "\n",
    "n_files = _batch_process_quantification(out_file_name = \"example_prototype\",\n",
    "                                  seg_path=seg_data_path,\n",
    "                                  out_path=out_data_path, \n",
    "                                  raw_path=raw_data_path, \n",
    "                                  raw_file_type=\".tiff\",\n",
    "                                  organelle_names=organelle_names,\n",
    "                                  organelle_channels=organelle_channels,\n",
    "                                  region_names=region_names,\n",
    "                                  masks_file_name=\"masks\",\n",
    "                                  mask=\"cell\",\n",
    "                                  dist_centering_obj=\"nuc\", \n",
    "                                  dist_num_bins=5,\n",
    "                                  dist_center_on=False,\n",
    "                                  dist_keep_center_as_bin=True,\n",
    "                                  dist_zernike_degrees=9,\n",
    "                                  include_contact_dist=True,\n",
    "                                  scale=True,\n",
    "                                  seg_suffix=seg_suffix)"
   ]
  }
 ],
 "metadata": {
  "kernelspec": {
   "display_name": "infer-subc",
   "language": "python",
   "name": "python3"
  },
  "language_info": {
   "codemirror_mode": {
    "name": "ipython",
    "version": 3
   },
   "file_extension": ".py",
   "mimetype": "text/x-python",
   "name": "python",
   "nbconvert_exporter": "python",
   "pygments_lexer": "ipython3",
   "version": "3.10.11"
  },
  "orig_nbformat": 4
 },
 "nbformat": 4,
 "nbformat_minor": 2
}
