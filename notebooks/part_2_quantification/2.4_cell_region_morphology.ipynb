{
 "cells": [
  {
   "cell_type": "markdown",
   "metadata": {},
   "source": [
    "# Quantify **Cell Region Morphology** - part 2.4\n",
    "--------------------\n",
    "\n",
    "## **OBJECTIVE** \n",
    "### <input type=\"checkbox\"/> Quantify ***cell region*** morphology\n",
    "In this notebook, the logic for quantifying cell regions - ***cell***, ***nucleus***, and ***cytoplasm*** - composition (how much of each region is present) and **morphology** (region size and shape) is outlined.\n"
   ]
  },
  {
   "cell_type": "markdown",
   "metadata": {},
   "source": [
    "---------\n",
    "## **Organelle Morphology**\n",
    "\n",
    "### summary of steps\n",
    "\n",
    "🛠️ **BUILD FUNCTION PROTOTYPE**\n",
    "\n",
    "- **`0`** - Apply Cell Mask *(preliminary step)*\n",
    "\n",
    "- **`1`** - Build the list of measurements we want to include from regionprops \n",
    "\n",
    "- **`2`** - Add additional measurements as *\"extra_properties\"* with custom functions\n",
    "\n",
    "    - define a function to retrieve the standard deviation of the region's intensity values\n",
    "\n",
    "- **`3`** - Run regionprops and export values as a pandas dataframe\n",
    "\n",
    "- **`4`** - Add additional measurements\n",
    "    - surface area\n",
    "    - surface area to volume ratio\n",
    "\n",
    "⚙️ **EXECUTE FUNCTION PROTOTYPE**\n",
    "\n",
    "- Define `_get_org_morphology_3D` function\n",
    "- Run `_get_org_morphology_3D` function\n",
    "- Compare to finalized `get_org_morphology_3D` function"
   ]
  },
  {
   "cell_type": "markdown",
   "metadata": {},
   "source": [
    "## **IMPORTS**"
   ]
  },
  {
   "cell_type": "markdown",
   "metadata": {},
   "source": [
    "#### &#x1F3C3; **Run code; no user input required**\n",
    "\n",
    "&#x1F453; **FYI:** This code block loads all of the necessary python packages and functions you will need for this notebook."
   ]
  },
  {
   "cell_type": "code",
   "execution_count": null,
   "metadata": {},
   "outputs": [],
   "source": [
    "from pathlib import Path\n",
    "import os\n",
    "\n",
    "import napari\n",
    "from napari.utils.notebook_display import nbscreenshot\n",
    "\n",
    "from skimage.measure import (regionprops, regionprops_table)\n",
    "\n",
    "from infer_subc.core.file_io import (read_czi_image,\n",
    "                                     import_inferred_organelle,\n",
    "                                     list_image_files)\n",
    "\n",
    "from infer_subc.core.img import *\n",
    "from infer_subc.utils.stats import *\n",
    "from infer_subc.utils.stats import (_assert_uint16_labels)\n",
    "from infer_subc.utils.stats_helpers import *\n",
    "from infer_subc.organelles import * \n",
    "\n",
    "%load_ext autoreload\n",
    "%autoreload 2"
   ]
  },
  {
   "cell_type": "markdown",
   "metadata": {},
   "source": [
    "## **LOAD AND READ IN IMAGE FOR PROCESSING**\n",
    "> ###### 📝 **Specifically, this will include the raw image and the outputs from segmentation**"
   ]
  },
  {
   "cell_type": "markdown",
   "metadata": {},
   "source": [
    "#### &#x1F6D1; &#x270D; **User Input Required:**"
   ]
  },
  {
   "cell_type": "code",
   "execution_count": null,
   "metadata": {},
   "outputs": [],
   "source": [
    "# If using the sample data, select which cell type you would like analyze (\"neuron\" or \"astrocyte\"):\n",
    "cell_type = \"astrocyte\"\n",
    "\n",
    "# All of the following options are correctly set to work with the sample data;\n",
    "# If you are not using the sample data, please edit the below as necessary.\n",
    "\n",
    "# Specify the folders in which your data is located:\n",
    "## Define the path to the directory that contains the input image folder.\n",
    "if cell_type == None:\n",
    "    \n",
    "    data_root_path = ...\n",
    "else:\n",
    "    data_root_path = Path(os.getcwd()).parents[1] / \"sample_data\" /  f\"example_{cell_type}\"\n",
    "\n",
    "## Specify which subfolder that contains the input data and what the file type is. Ex) \".czi\" or \".tiff\"\n",
    "in_data_path = data_root_path / \"raw\"\n",
    "raw_img_type = \".tiff\"\n",
    "\n",
    "## Specify which subfolder contains the segmentation outputs and their file type\n",
    "seg_data_path = data_root_path / \"seg\"\n",
    "seg_img_type = \".tiff\"\n",
    "\n",
    "## Specify the name of the output folder where quantification results will be saved\n",
    "out_data_path = data_root_path / \"quant\"\n",
    "\n",
    "# Specify which file you'd like to segment from the img_file_list\n",
    "test_img_n = 0"
   ]
  },
  {
   "cell_type": "markdown",
   "metadata": {},
   "source": [
    "#### &#x1F3C3; **Run code; no user input required**"
   ]
  },
  {
   "cell_type": "code",
   "execution_count": null,
   "metadata": {},
   "outputs": [],
   "source": [
    "if not Path.exists(out_data_path):\n",
    "    Path.mkdir(out_data_path)\n",
    "    print(f\"making {out_data_path}\")\n",
    "\n",
    "raw_file_list = list_image_files(in_data_path, raw_img_type)\n",
    "seg_file_list = list_image_files(seg_data_path, seg_img_type)\n",
    "# pd.set_option('display.max_colwidth', None)\n",
    "# pd.DataFrame({\"Image Name\":img_file_list})"
   ]
  },
  {
   "cell_type": "code",
   "execution_count": null,
   "metadata": {},
   "outputs": [],
   "source": [
    "raw_img_name = raw_file_list[test_img_n]\n",
    "\n",
    "raw_img_data, raw_meta_dict = read_czi_image(raw_img_name)\n",
    "\n",
    "channel_names = raw_meta_dict['name']\n",
    "img = raw_meta_dict['metadata']['aicsimage']\n",
    "scale = raw_meta_dict['scale']\n",
    "channel_axis = raw_meta_dict['channel_axis']"
   ]
  },
  {
   "cell_type": "code",
   "execution_count": null,
   "metadata": {},
   "outputs": [],
   "source": [
    "## For each import, change the string to match the suffix on the segmentation files (i.e., the stuff following the \"-\")\n",
    "\n",
    "# masks\n",
    "masks_seg_names = ['masks','masks_A', 'masks_B']\n",
    "for m in masks_seg_names:\n",
    "    if m in [i.stem.split(\"-\")[-1] for i in seg_file_list]:\n",
    "        mask_seg = import_inferred_organelle(m, raw_meta_dict, seg_data_path, seg_img_type)\n",
    "        nuc_seg, cell_seg, cyto_seg = mask_seg\n",
    "        break\n",
    "\n",
    "if 'nuc' in [i.stem.split(\"-\")[-1] for i in seg_file_list]:\n",
    "    nuc_seg = import_inferred_organelle(\"nuc\", raw_meta_dict, seg_data_path, seg_img_type)\n",
    "    cell_seg = import_inferred_organelle(\"cell\", raw_meta_dict, seg_data_path, seg_img_type)\n",
    "    cyto_seg = import_inferred_organelle(\"cyto\", raw_meta_dict, seg_data_path, seg_img_type)\n",
    "\n",
    "#organelles\n",
    "lyso_seg = import_inferred_organelle(\"lyso\", raw_meta_dict, seg_data_path, seg_img_type)\n",
    "mito_seg = import_inferred_organelle(\"mito\", raw_meta_dict, seg_data_path, seg_img_type)\n",
    "golgi_seg = import_inferred_organelle(\"golgi\", raw_meta_dict, seg_data_path, seg_img_type)\n",
    "perox_seg = import_inferred_organelle(\"perox\", raw_meta_dict, seg_data_path, seg_img_type)\n",
    "ER_seg = import_inferred_organelle(\"ER\", raw_meta_dict, seg_data_path, seg_img_type)\n",
    "LD_seg = import_inferred_organelle(\"LD\", raw_meta_dict, seg_data_path, seg_img_type)"
   ]
  },
  {
   "cell_type": "markdown",
   "metadata": {},
   "source": [
    "-------------------------\n",
    "## **Visualize with `napari`**"
   ]
  },
  {
   "cell_type": "code",
   "execution_count": null,
   "metadata": {},
   "outputs": [],
   "source": [
    "viewer = napari.Viewer()"
   ]
  },
  {
   "cell_type": "code",
   "execution_count": null,
   "metadata": {},
   "outputs": [],
   "source": [
    "viewer.add_image(raw_img_data)\n",
    "viewer.add_image(cell_seg, colormap='gray', opacity=0.3, blending ='additive')\n",
    "viewer.add_image(nuc_seg, colormap='blue', blending ='additive')\n",
    "viewer.add_image(cyto_seg, colormap='magenta', blending ='additive')\n",
    "\n",
    "nbscreenshot(viewer, canvas_only=True)"
   ]
  },
  {
   "cell_type": "code",
   "execution_count": null,
   "metadata": {},
   "outputs": [],
   "source": [
    "viewer.close()"
   ]
  },
  {
   "cell_type": "markdown",
   "metadata": {},
   "source": [
    "-------------------------\n",
    "# **regionprops**\n",
    "\n",
    "To measure the amount, size, and shape of the cell regions - ***cell***, ***nucleus***, and ***cytoplasm***, we will utilize `skimage.measure.regionprops`. These measurements can be collected based on pixel/voxel units (assuming the image is isotropic in all dimensions) and or \"real-world\" units (e.g., microns). Since most confocal microscope images are anisotropic (mostly with respect to the Z dimension), we will preferentially utilize real-world units. Luckily, regionprops>=0.20.0 has incorporated a spacing parameter that can handle anisotropic data.\n",
    "\n",
    "We will utilize the same concepts outlined in notebook 1.1_organelle_morphology.ipynb."
   ]
  },
  {
   "cell_type": "markdown",
   "metadata": {},
   "source": [
    "# ***BUILD FUNCTION PROTOTYPE***"
   ]
  },
  {
   "cell_type": "markdown",
   "metadata": {},
   "source": [
    "## **`0` - Apply Cell Mask *(preliminary step)***\n",
    "To ensure we are performing single cell analysis, we will apply the cell segmentation as a mask."
   ]
  },
  {
   "cell_type": "code",
   "execution_count": null,
   "metadata": {},
   "outputs": [],
   "source": [
    "nuc_masked = apply_mask(nuc_seg, cell_seg)"
   ]
  },
  {
   "cell_type": "markdown",
   "metadata": {},
   "source": [
    "## **`1` - Build the list of measurements we want to include from regionprops**"
   ]
  },
  {
   "cell_type": "code",
   "execution_count": null,
   "metadata": {},
   "outputs": [],
   "source": [
    "# start with LABEL\n",
    "test_properties = [\"label\"]\n",
    "\n",
    "# add position\n",
    "test_properties = test_properties + [\"centroid\", \"bbox\"]\n",
    "\n",
    "# add area\n",
    "test_properties = test_properties + [\"area\", \"equivalent_diameter\"] # \"num_pixels\", \n",
    "\n",
    "# add shape measurements\n",
    "test_properties = test_properties + [\"extent\", \"euler_number\", \"solidity\", \"axis_major_length\"] # \"feret_diameter_max\", \"axis_minor_length\"]\n",
    "\n",
    "# add intensity values (used for quality checks only)\n",
    "test_properties = test_properties + [\"min_intensity\", \"max_intensity\", \"mean_intensity\"]"
   ]
  },
  {
   "cell_type": "markdown",
   "metadata": {},
   "source": [
    "## **`2` - Add additional measurements as *\"extra_properties\"* with custom functions**"
   ]
  },
  {
   "cell_type": "markdown",
   "metadata": {},
   "source": [
    "- define a function to retrieve the standard deviation of the region's intensity values"
   ]
  },
  {
   "cell_type": "code",
   "execution_count": null,
   "metadata": {},
   "outputs": [],
   "source": [
    "def standard_deviation_intensity(region, intensities):\n",
    "    return np.std(intensities[region])\n",
    "\n",
    "test_extra_properties = [standard_deviation_intensity]"
   ]
  },
  {
   "cell_type": "markdown",
   "metadata": {},
   "source": [
    "## **`3` - Run regionprops and export values as a pandas dataframe**"
   ]
  },
  {
   "cell_type": "code",
   "execution_count": null,
   "metadata": {},
   "outputs": [],
   "source": [
    "# regionprops wants the intensity image in XYZ instead of ZYX order\n",
    "test_intensity_input = np.moveaxis(raw_img_data, 0, -1)\n",
    "\n",
    "test_props = regionprops_table(label_image=nuc_masked, \n",
    "                               intensity_image=test_intensity_input, \n",
    "                               properties=test_properties, \n",
    "                               extra_properties=test_extra_properties,\n",
    "                               spacing=scale)\n",
    "\n",
    "test_props_table = pd.DataFrame(test_props)"
   ]
  },
  {
   "cell_type": "code",
   "execution_count": null,
   "metadata": {},
   "outputs": [],
   "source": [
    "test_region_name = 'nuc'\n",
    "\n",
    "test_props_table.insert(0, \"object\", test_region_name)\n",
    "test_props_table.rename(columns={\"area\": \"volume\"}, inplace=True)\n",
    "\n",
    "round_scale = (round(scale[0], 4), round(scale[1], 4), round(scale[2], 4))\n",
    "test_props_table.insert(loc=2, column=\"scale\", value=f\"{round_scale}\")"
   ]
  },
  {
   "cell_type": "code",
   "execution_count": null,
   "metadata": {},
   "outputs": [],
   "source": [
    "#renaming intensity quantification with the channel names\n",
    "test_channel_name = [\"nuc\", \"lyso\", \"mito\", \"golgi\", \"perox\", \"ER\", \"LD\", \"residual\"]\n",
    "\n",
    "test_rename_dict = {}\n",
    "for test_col in test_props_table.columns:\n",
    "    for test_idx, test_name in enumerate(test_channel_name):\n",
    "        if test_col.endswith(f\"intensity-{test_idx}\"):\n",
    "            test_rename_dict[f\"{test_col}\"] = f\"{test_col[:-1]}{test_name}_ch\"\n",
    "\n",
    "test_props_renames = test_props_table.rename(columns=test_rename_dict)\n",
    "\n",
    "test_props_renames"
   ]
  },
  {
   "cell_type": "markdown",
   "metadata": {},
   "source": [
    "## **`4` - Add additional measurements**"
   ]
  },
  {
   "cell_type": "markdown",
   "metadata": {},
   "source": [
    "- surface area\n",
    "- surface area to volume ratio"
   ]
  },
  {
   "cell_type": "code",
   "execution_count": null,
   "metadata": {},
   "outputs": [],
   "source": [
    "# props[\"surface_area\"] = surface_area_from_props(nuc_seg, props)\n",
    "test_surface_area_tab = pd.DataFrame(surface_area_from_props(nuc_masked, test_props, scale))\n",
    "\n",
    "test_props_renames.insert(12, \"surface_area\", test_surface_area_tab)\n",
    "test_props_renames.insert(14, \"SA_to_volume_ratio\", test_props_renames[\"surface_area\"].div(test_props_renames[\"volume\"]))\n",
    "\n",
    "pd.set_option('display.max_columns', None)\n",
    "\n",
    "test_props_renames"
   ]
  },
  {
   "cell_type": "markdown",
   "metadata": {},
   "source": [
    "# ***EXECUTE FUNCTION PROTOTYPE***"
   ]
  },
  {
   "cell_type": "markdown",
   "metadata": {},
   "source": [
    "## **Define `_get_org_morphology_3D` function**\n",
    "\n",
    "Based on the _prototyping_ above define the function to quantify amount, size, and shape of the cell regions."
   ]
  },
  {
   "cell_type": "code",
   "execution_count": null,
   "metadata": {},
   "outputs": [],
   "source": [
    "def _get_region_morphology_3D(region_seg: np.ndarray, \n",
    "                              region_name: str,\n",
    "                              intensity_img: np.ndarray, \n",
    "                              channel_names: [str],\n",
    "                              mask: np.ndarray, \n",
    "                              scale: Union[tuple, None]=None) -> Tuple[Any, Any]:\n",
    "    \"\"\"\n",
    "    Parameters\n",
    "    ------------\n",
    "    segmentation_img:\n",
    "        a list of all 3d np.ndarray images of the segemented cell regions (e.g., whole cell, nucleus, cytoplasm, etc.)\n",
    "    names:\n",
    "        names or nicknames for the cell regions being analyzed\n",
    "    intensity_img:\n",
    "        a 3d np.ndarray image of the \"raw\" florescence intensity the segmentation was based on; for our use, this is the raw image with all the channels\n",
    "        we will measure the intensity within the cell region being analyzed\n",
    "    mask:\n",
    "        a 3d np.ndarray image of the cell mask (or other mask of choice); used to create a \"single cell\" analysis\n",
    "\n",
    "    Returns\n",
    "    -------------\n",
    "    pandas dataframe of containing regionprops measurements (columns) for each object in the segmentation image (rows) and the regionprops object\n",
    "\n",
    "    \"\"\"\n",
    "    if len(channel_names) != intensity_img.shape[0]:\n",
    "        ValueError(\"You have not provided a name for each channel in the intensity image. Make sure there is a channel name for each channel in the intensity image.\")\n",
    "    \n",
    "    ###################################################\n",
    "    ## MASK THE REGION OBJECTS THAT WILL BE MEASURED\n",
    "    ###################################################\n",
    "    # in case we sent a boolean mask (e.g. cyto, nucleus, cellmask)\n",
    "    input_labels = _assert_uint16_labels(region_seg)\n",
    "\n",
    "    input_labels = apply_mask(input_labels, mask)\n",
    "\n",
    "    ##########################################\n",
    "    ## CREATE LIST OF REGIONPROPS MEASUREMENTS\n",
    "    ##########################################\n",
    "    # start with LABEL\n",
    "    properties = [\"label\"]\n",
    "    # add position\n",
    "    properties = properties + [\"centroid\", \"bbox\"]\n",
    "    # add area\n",
    "    properties = properties + [\"area\", \"equivalent_diameter\"] # \"num_pixels\", \n",
    "    # add shape measurements\n",
    "    properties = properties + [\"extent\", \"euler_number\", \"solidity\", \"axis_major_length\"] # ,\"feret_diameter_max\", , \"axis_minor_length\"]\n",
    "    # add intensity values (used for quality checks)\n",
    "    properties = properties + [\"min_intensity\", \"max_intensity\", \"mean_intensity\"]\n",
    "\n",
    "    #######################\n",
    "    ## ADD EXTRA PROPERTIES\n",
    "    #######################\n",
    "    def standard_deviation_intensity(region, intensities):\n",
    "        return np.std(intensities[region])\n",
    "\n",
    "    extra_properties = [standard_deviation_intensity]\n",
    "\n",
    "    ##################\n",
    "    ## RUN REGIONPROPS\n",
    "    ##################\n",
    "    intensity_input = np.moveaxis(intensity_img, 0, -1)\n",
    "\n",
    "    rp = regionprops(input_labels, \n",
    "                    intensity_image=intensity_input, \n",
    "                    extra_properties=extra_properties, \n",
    "                    spacing=scale)\n",
    "\n",
    "    props = regionprops_table(label_image=input_labels, \n",
    "                              intensity_image=intensity_input, \n",
    "                              properties=properties, \n",
    "                              extra_properties=extra_properties,\n",
    "                              spacing=scale)\n",
    "\n",
    "    props_table = pd.DataFrame(props)\n",
    "    props_table.insert(0, \"object\", region_name)\n",
    "    props_table.rename(columns={\"area\": \"volume\"}, inplace=True)\n",
    "\n",
    "    if scale is not None:\n",
    "        round_scale = (round(scale[0], 4), round(scale[1], 4), round(scale[2], 4))\n",
    "        props_table.insert(loc=2, column=\"scale\", value=f\"{round_scale}\")\n",
    "    else: \n",
    "        props_table.insert(loc=2, column=\"scale\", value=f\"{tuple(np.ones(region_seg.ndim))}\") \n",
    "\n",
    "    rename_dict = {}\n",
    "    for col in props_table.columns:\n",
    "        for idx, name in enumerate(channel_names):\n",
    "            if col.endswith(f\"intensity-{idx}\"):\n",
    "                rename_dict[f\"{col}\"] = f\"{col[:-1]}{name}_ch\"\n",
    "\n",
    "    props_table = props_table.rename(columns=rename_dict)\n",
    "\n",
    "    ##################################################################\n",
    "    ## RUN SURFACE AREA FUNCTION SEPARATELY AND APPEND THE PROPS_TABLE\n",
    "    ##################################################################\n",
    "    surface_area_tab = pd.DataFrame(surface_area_from_props(input_labels, props, scale))\n",
    "\n",
    "    props_table.insert(12, \"surface_area\", surface_area_tab)\n",
    "    props_table.insert(14, \"SA_to_volume_ratio\", props_table[\"surface_area\"].div(props_table[\"volume\"]))\n",
    "\n",
    "    ################################################################\n",
    "    ## ADD SKELETONIZATION OPTION FOR MEASURING LENGTH AND BRANCHING\n",
    "    ################################################################\n",
    "    #  # ETC.  skeletonize via cellprofiler /Users/ahenrie/Projects/Imaging/CellProfiler/cellprofiler/modules/morphologicalskeleton.py\n",
    "    #         if x.volumetric:\n",
    "    #             y_data = skimage.morphology.skeletonize_3d(x_data)\n",
    "    # /Users/ahenrie/Projects/Imaging/CellProfiler/cellprofiler/modules/measureobjectskeleton.py\n",
    "\n",
    "    return props_table"
   ]
  },
  {
   "cell_type": "markdown",
   "metadata": {},
   "source": [
    "## **Run `_get_org_morphology_3D` function**"
   ]
  },
  {
   "cell_type": "code",
   "execution_count": null,
   "metadata": {},
   "outputs": [],
   "source": [
    "region_seg = nuc_seg\n",
    "region_name = 'nuc'\n",
    "intensity_img = raw_img_data\n",
    "channel_names = test_channel_name\n",
    "mask = cell_seg \n",
    "scale = scale\n",
    "\n",
    "# with scale\n",
    "nuc_table = _get_region_morphology_3D(region_seg=region_seg, \n",
    "                                      region_name=region_name,\n",
    "                                      intensity_img=intensity_img,\n",
    "                                      channel_names=channel_names,\n",
    "                                      mask=mask,\n",
    "                                      scale=scale)\n",
    "nuc_table"
   ]
  },
  {
   "cell_type": "code",
   "execution_count": null,
   "metadata": {},
   "outputs": [],
   "source": [
    "nuc_table.equals(test_props_renames)"
   ]
  },
  {
   "cell_type": "markdown",
   "metadata": {},
   "source": [
    "## **Compare to finalized `get_org_morphology_3D` function**"
   ]
  },
  {
   "cell_type": "code",
   "execution_count": null,
   "metadata": {},
   "outputs": [],
   "source": [
    "from infer_subc.utils.stats import get_region_morphology_3D\n",
    "\n",
    "nuc_table_final = get_region_morphology_3D(region_seg=region_seg, \n",
    "                                            region_name=region_name,\n",
    "                                            intensity_img=intensity_img,\n",
    "                                            channel_names=channel_names,\n",
    "                                            mask=mask,\n",
    "                                            scale=scale)"
   ]
  },
  {
   "cell_type": "code",
   "execution_count": null,
   "metadata": {},
   "outputs": [],
   "source": [
    "nuc_table.equals(nuc_table_final)"
   ]
  }
 ],
 "metadata": {
  "kernelspec": {
   "display_name": "infer-subc-sample",
   "language": "python",
   "name": "python3"
  },
  "language_info": {
   "codemirror_mode": {
    "name": "ipython",
    "version": 3
   },
   "file_extension": ".py",
   "mimetype": "text/x-python",
   "name": "python",
   "nbconvert_exporter": "python",
   "pygments_lexer": "ipython3",
   "version": "3.10.16"
  },
  "orig_nbformat": 4
 },
 "nbformat": 4,
 "nbformat_minor": 2
}
