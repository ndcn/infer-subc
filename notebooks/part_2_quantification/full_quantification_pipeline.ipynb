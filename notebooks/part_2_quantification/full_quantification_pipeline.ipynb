{
 "cells": [
  {
   "cell_type": "markdown",
   "metadata": {},
   "source": [
    "# &#x1F50D; Checking segmentation outputs from Organelle-Segmenter-Plugin\n",
    "\n",
    "### &#x1F4D6; **How to:** \n",
    "\n",
    "Advance through each block of code sequentially by pressing `Shift`+`Enter`.\n",
    "\n",
    "If a block of code contains &#x1F53D; follow the written instructions to fill in the blanks below that line before running it.\n",
    "```python\n",
    "#### USER INPUT REQUIRED ###\n",
    "``` "
   ]
  },
  {
   "cell_type": "markdown",
   "metadata": {},
   "source": [
    "---------\n",
    "## **Final Workflow *(Quality Check)***\n",
    "\n",
    "### summary of steps\n",
    "\n",
    "**QUALITY CHECK OF SEGMENTATIONS**\n",
    "\n",
    "- **`0`** - Establish data and output paths *(preliminary step)*\n",
    "\n",
    "- **`1`** - Import organelle and region segmentations\n",
    "\n",
    "**EDITING SEGMENTATIONS**\n",
    "\n",
    "- **`2`** - Edit/Review individual segmentations *(optional)*\n",
    "\n",
    "**SAVE ALL CORRECT SEGMENTATIONS** - into one folder for quantification\n",
    "\n",
    "- **`3`** - Save organelle and region segmentations into specified folder\n",
    "\n",
    "**EXECUTE QUANTIFICATION**\n",
    "\n",
    "- Run `batch_process_quantification` function\n",
    "- Run `batch_summary_stats` function"
   ]
  },
  {
   "cell_type": "markdown",
   "metadata": {},
   "source": [
    "________________\n",
    "## \t**IMPORTS**"
   ]
  },
  {
   "cell_type": "markdown",
   "metadata": {},
   "source": [
    "#### &#x1F3C3; **Run code; no user input required**\n",
    "\n",
    "&#x1F453; **FYI:** This code block loads all of the necessary python packages and functions you will need for this notebook. Additionally, a [Napari](https://napari.org/stable/) window will open; this is where you will be able to visual the segmentations."
   ]
  },
  {
   "cell_type": "code",
   "execution_count": 1,
   "metadata": {},
   "outputs": [],
   "source": [
    "from pathlib import Path\n",
    "import pandas as pd\n",
    "import os\n",
    "\n",
    "import napari\n",
    "\n",
    "from infer_subc.core.file_io import (read_czi_image,\n",
    "                                        export_inferred_organelle,\n",
    "                                        import_inferred_organelle,\n",
    "                                        list_image_files,)\n",
    "\n",
    "from infer_subc.utils.stats_helpers import batch_process_quantification, batch_summary_stats\n",
    "\n",
    "%load_ext autoreload\n",
    "%autoreload 2\n",
    "\n",
    "viewer = napari.Viewer()"
   ]
  },
  {
   "cell_type": "markdown",
   "metadata": {},
   "source": [
    "__________________________\n",
    "# ***QUALITY CHECK OF SEGMENTATIONS***"
   ]
  },
  {
   "cell_type": "markdown",
   "metadata": {},
   "source": [
    "## **`0` - Establish data and output paths *(preliminary step)***"
   ]
  },
  {
   "cell_type": "markdown",
   "metadata": {},
   "source": [
    "#### &#x1F6D1; &#x270D; **User Input Required:**"
   ]
  },
  {
   "cell_type": "code",
   "execution_count": null,
   "metadata": {},
   "outputs": [],
   "source": [
    "#### USER INPUT REQUIRED ###\n",
    "# Copy and paste the paths to the folders where your data is saved inside the quotation marks below. \n",
    "# If you have more than one segmentation data folder, include it in the segmentation_data_2 line. If not, type None wihtout quotation marks\n",
    "# NOTE: for windows, use \"/\"\n",
    "# All of the following options are correctly set to work with the sample data;\n",
    "# If you are not using the sample data, please edit the below as necessary.\n",
    "\n",
    "raw_data = Path(os.getcwd()).parents[1] / \"sample_data\" /  \"batch_example\" / \"raw\"\n",
    "segmentation_data = Path(os.getcwd()).parents[1] / \"sample_data\" /  \"batch_example\" / \"seg\"\n",
    "\n",
    "location_tosave_edited_segmentations = Path(os.getcwd()).parents[1] / \"sample_data\" /  \"batch_example\" / \"edit_seg\"\n",
    "location_tosave_fullset_gooddata = Path(os.getcwd()).parents[1] / \"sample_data\" /  \"batch_example\" / \"final_seg\"\n",
    "\n",
    "# In quotation marks, include the extension of the file type for your SEGMENTATION and RAW images\n",
    "raw_file_type = \".tiff\"\n",
    "seg_file_type = \".tiff\"\n",
    "\n",
    "# In quotation marks, write the suffix associated to each segmentation file. If you don't have that image \n",
    "mask_suffix = \"masks\"\n",
    "lyso_suffix = \"lyso\"\n",
    "mito_suffix = \"mito\"\n",
    "golgi_suffix = \"golgi\"\n",
    "perox_suffix = \"perox\"\n",
    "ER_suffix = \"ER\"\n",
    "LD_suffix = \"LD\""
   ]
  },
  {
   "cell_type": "code",
   "execution_count": 3,
   "metadata": {},
   "outputs": [],
   "source": [
    "#### Optional - USER INPUT REQUIRED ###\n",
    "# If your segmentations are saved in more than one folder, fill in the information below about the second file location. If not, type None wihtout quotation marks in all of the lines below.\n",
    "# Copy and paste the paths to the folders where your data is saved inside the quotation marks below. \n",
    "segmentation_data_2 = None\n",
    "\n",
    "# In quotation marks, write the suffix associated to each segmentation file; if \n",
    "mask_suffix_2 = None\n",
    "lyso_suffix_2 = None\n",
    "mito_suffix_2 = None\n",
    "golgi_suffix_2 = None\n",
    "perox_suffix_2 = None\n",
    "ER_suffix_2 = None\n",
    "LD_suffix_2 = None"
   ]
  },
  {
   "cell_type": "markdown",
   "metadata": {},
   "source": [
    "### &#x1F3C3; **Run code; no user input required**"
   ]
  },
  {
   "cell_type": "code",
   "execution_count": 4,
   "metadata": {},
   "outputs": [
    {
     "data": {
      "text/html": [
       "<div>\n",
       "<style scoped>\n",
       "    .dataframe tbody tr th:only-of-type {\n",
       "        vertical-align: middle;\n",
       "    }\n",
       "\n",
       "    .dataframe tbody tr th {\n",
       "        vertical-align: top;\n",
       "    }\n",
       "\n",
       "    .dataframe thead th {\n",
       "        text-align: right;\n",
       "    }\n",
       "</style>\n",
       "<table border=\"1\" class=\"dataframe\">\n",
       "  <thead>\n",
       "    <tr style=\"text-align: right;\">\n",
       "      <th></th>\n",
       "      <th>Image Name</th>\n",
       "    </tr>\n",
       "  </thead>\n",
       "  <tbody>\n",
       "    <tr>\n",
       "      <th>0</th>\n",
       "      <td>c:\\Users\\redre\\Documents\\CohenLab\\MSI-3D-analysis\\infer-subc\\sample_data\\batch_example\\raw\\05052022_astro_control_2_Linear unmixing_0_cmle.ome.tiff</td>\n",
       "    </tr>\n",
       "    <tr>\n",
       "      <th>1</th>\n",
       "      <td>c:\\Users\\redre\\Documents\\CohenLab\\MSI-3D-analysis\\infer-subc\\sample_data\\batch_example\\raw\\20230727_C2-121_conditioned_well 4_cell 3_untreated_Linear unmixing_0_cmle.ome.tiff</td>\n",
       "    </tr>\n",
       "  </tbody>\n",
       "</table>\n",
       "</div>"
      ],
      "text/plain": [
       "                                                                                                                                                                       Image Name\n",
       "0                             c:\\Users\\redre\\Documents\\CohenLab\\MSI-3D-analysis\\infer-subc\\sample_data\\batch_example\\raw\\05052022_astro_control_2_Linear unmixing_0_cmle.ome.tiff\n",
       "1  c:\\Users\\redre\\Documents\\CohenLab\\MSI-3D-analysis\\infer-subc\\sample_data\\batch_example\\raw\\20230727_C2-121_conditioned_well 4_cell 3_untreated_Linear unmixing_0_cmle.ome.tiff"
      ]
     },
     "execution_count": 4,
     "metadata": {},
     "output_type": "execute_result"
    }
   ],
   "source": [
    "raw_file_list = list_image_files(Path(raw_data),\".tiff\")\n",
    "\n",
    "pd.set_option('display.max_colwidth', None)\n",
    "pd.DataFrame({\"Image Name\":raw_file_list})"
   ]
  },
  {
   "cell_type": "markdown",
   "metadata": {},
   "source": [
    "#### &#x1F6D1; &#x270D; **User Input required:**\n",
    "&#x1F53C; Use the list  above to determine the index of the image you would like to look at."
   ]
  },
  {
   "cell_type": "code",
   "execution_count": 5,
   "metadata": {},
   "outputs": [],
   "source": [
    "#### USER INPUT REQUIRED ###\n",
    "# Utilizing the list above as reference, change this index number (left column in table) to select a specific image\n",
    "num = 1"
   ]
  },
  {
   "cell_type": "markdown",
   "metadata": {},
   "source": [
    "## **`1` - Import organelle and region segmentations**"
   ]
  },
  {
   "cell_type": "markdown",
   "metadata": {},
   "source": [
    "### &#x1F3C3; **Run code; no user input required**"
   ]
  },
  {
   "cell_type": "code",
   "execution_count": 6,
   "metadata": {},
   "outputs": [
    {
     "name": "stdout",
     "output_type": "stream",
     "text": [
      "Image name:\n",
      "20230727_C2-121_conditioned_well 4_cell 3_untreated_Linear unmixing_0_cmle.ome\n",
      "loaded  inferred 4D `masks`  from c:\\Users\\redre\\Documents\\CohenLab\\MSI-3D-analysis\\infer-subc\\sample_data\\batch_example\\seg \n",
      "loaded  inferred 3D `lyso`  from c:\\Users\\redre\\Documents\\CohenLab\\MSI-3D-analysis\\infer-subc\\sample_data\\batch_example\\seg \n",
      "loaded  inferred 3D `mito`  from c:\\Users\\redre\\Documents\\CohenLab\\MSI-3D-analysis\\infer-subc\\sample_data\\batch_example\\seg \n",
      "loaded  inferred 3D `golgi`  from c:\\Users\\redre\\Documents\\CohenLab\\MSI-3D-analysis\\infer-subc\\sample_data\\batch_example\\seg \n",
      "loaded  inferred 3D `perox`  from c:\\Users\\redre\\Documents\\CohenLab\\MSI-3D-analysis\\infer-subc\\sample_data\\batch_example\\seg \n",
      "loaded  inferred 3D `ER`  from c:\\Users\\redre\\Documents\\CohenLab\\MSI-3D-analysis\\infer-subc\\sample_data\\batch_example\\seg \n",
      "loaded  inferred 3D `LD`  from c:\\Users\\redre\\Documents\\CohenLab\\MSI-3D-analysis\\infer-subc\\sample_data\\batch_example\\seg \n"
     ]
    },
    {
     "data": {
      "text/plain": [
       "<Image layer 'mask_seg' at 0x22bec368b20>"
      ]
     },
     "execution_count": 6,
     "metadata": {},
     "output_type": "execute_result"
    }
   ],
   "source": [
    "raw_img_data, raw_meta_dict = read_czi_image(raw_file_list[num])\n",
    "print(\"Image name:\")\n",
    "print(raw_meta_dict['name'][0].split(\" :: \")[0])\n",
    "\n",
    "mask_seg = import_inferred_organelle(mask_suffix, raw_meta_dict, Path(segmentation_data), seg_file_type)\n",
    "lyso_seg = import_inferred_organelle(lyso_suffix, raw_meta_dict, Path(segmentation_data), seg_file_type)\n",
    "mito_seg = import_inferred_organelle(mito_suffix, raw_meta_dict, Path(segmentation_data), seg_file_type)\n",
    "golgi_seg = import_inferred_organelle(golgi_suffix, raw_meta_dict, Path(segmentation_data), seg_file_type)\n",
    "perox_seg = import_inferred_organelle(perox_suffix, raw_meta_dict, Path(segmentation_data), seg_file_type)\n",
    "ER_seg = import_inferred_organelle(ER_suffix, raw_meta_dict, Path(segmentation_data), seg_file_type)\n",
    "LD_seg = import_inferred_organelle(LD_suffix, raw_meta_dict, Path(segmentation_data), seg_file_type)\n",
    "\n",
    "if segmentation_data_2 is not None:\n",
    "    mask_seg = import_inferred_organelle(mask_suffix, raw_meta_dict, Path(segmentation_data_2), seg_file_type)\n",
    "    lyso_seg = import_inferred_organelle(lyso_suffix, raw_meta_dict, Path(segmentation_data_2), seg_file_type)\n",
    "    mito_seg = import_inferred_organelle(mito_suffix, raw_meta_dict, Path(segmentation_data_2), seg_file_type)\n",
    "    golgi_seg = import_inferred_organelle(golgi_suffix, raw_meta_dict, Path(segmentation_data_2), seg_file_type)\n",
    "    perox_seg = import_inferred_organelle(perox_suffix, raw_meta_dict, Path(segmentation_data_2), seg_file_type)\n",
    "    ER_seg = import_inferred_organelle(ER_suffix, raw_meta_dict, Path(segmentation_data_2), seg_file_type)\n",
    "    LD_seg = import_inferred_organelle(LD_suffix, raw_meta_dict, Path(segmentation_data_2), seg_file_type)\n",
    "\n",
    "viewer.layers.clear()\n",
    "viewer.add_image(raw_img_data[0], name='LD_raw', blending='additive')\n",
    "viewer.add_image(LD_seg, opacity=0.3, colormap='magenta')\n",
    "viewer.add_image(raw_img_data[1], name='ER_raw', blending='additive')\n",
    "viewer.add_image(ER_seg, opacity=0.3, colormap='red')\n",
    "viewer.add_image(raw_img_data[2], name='GL_raw', blending='additive')\n",
    "viewer.add_image(golgi_seg, opacity=0.3, colormap='yellow')\n",
    "viewer.add_image(raw_img_data[3], name='LS_raw', blending='additive')\n",
    "viewer.add_image(lyso_seg, opacity=0.3, colormap='cyan')\n",
    "viewer.add_image(raw_img_data[4], name='MT_raw', blending='additive')\n",
    "viewer.add_image(mito_seg, opacity=0.3, colormap='green')\n",
    "viewer.add_image(raw_img_data[5], name='PO_raw', blending='additive')\n",
    "viewer.add_image(perox_seg, opacity=0.3, colormap='bop orange')\n",
    "viewer.add_image(mask_seg, opacity=0.3)"
   ]
  },
  {
   "cell_type": "markdown",
   "metadata": {},
   "source": [
    "### &#x1F6D1; **STOP: Use the `Napari` window to review all of the segmentations for this image.** &#x1F50E;\n",
    "\n",
    "> ##### At this point, take note of which segmentations need to be edited, if any. Once you are finished reviewing the images, continue on to the next sections to 1) Edit the segmentation (if necessary) or 2) Save the final set of segmentations for this image in a new folder. This will make preparing for quantitative analysis much simpler."
   ]
  },
  {
   "cell_type": "markdown",
   "metadata": {},
   "source": [
    "__________________________\n",
    "# ***EDITING SEGMENTATIONS***"
   ]
  },
  {
   "cell_type": "markdown",
   "metadata": {},
   "source": [
    "## **`2` - Edit/Review individual segmentations *(optional)***"
   ]
  },
  {
   "cell_type": "markdown",
   "metadata": {},
   "source": [
    "#### &#x1F6D1; &#x270D; **User Input:**"
   ]
  },
  {
   "cell_type": "code",
   "execution_count": 7,
   "metadata": {},
   "outputs": [],
   "source": [
    "#### USER INPUT REQUIRED ###\n",
    "# Indicate which segmentations need editing by typing True. If the segmentations are good and do not need editing, indicate False.\n",
    "edit_cell = False\n",
    "edit_nuc = False\n",
    "edit_LD = False \n",
    "edit_ER = False\n",
    "edit_golgi = False\n",
    "edit_lyso = False\n",
    "edit_mito = False\n",
    "edit_perox = False"
   ]
  },
  {
   "cell_type": "markdown",
   "metadata": {},
   "source": [
    "### &#x1F3C3; **Run code; no user input required** \n",
    "### &#x1F440; **See code block output for instructions**"
   ]
  },
  {
   "cell_type": "code",
   "execution_count": 8,
   "metadata": {},
   "outputs": [
    {
     "name": "stdout",
     "output_type": "stream",
     "text": [
      "Continue - run the next block of code\n"
     ]
    }
   ],
   "source": [
    "if edit_cell is True:\n",
    "    viewer.layers.clear()\n",
    "    viewer.add_image(raw_img_data)\n",
    "    viewer.add_labels(mask_seg[1])\n",
    "    print(\"Head to the Napari window!\")\n",
    "    print(\"You can edit your segmentation as needed there.\")\n",
    "    print(\"Be sure to save the new segmentation using File > Save in the Napari window. You should save it to the folder you listed as 'location_tosave_edited_segmentations'\")\n",
    "elif edit_cell is False:\n",
    "    print(\"Continue - run the next block of code\")\n",
    "else:\n",
    "    print(\"There is an error somewhere!\")"
   ]
  },
  {
   "cell_type": "code",
   "execution_count": 9,
   "metadata": {},
   "outputs": [
    {
     "name": "stdout",
     "output_type": "stream",
     "text": [
      "Continue - run the next block of code\n"
     ]
    }
   ],
   "source": [
    "if edit_nuc is True:\n",
    "    viewer.layers.clear()\n",
    "    viewer.add_image(raw_img_data)\n",
    "    viewer.add_labels(mask_seg[2])\n",
    "    print(\"Head to the Napari window!\")\n",
    "    print(\"You can edit your segmentation as needed there.\")\n",
    "    print(\"Be sure to save the new segmentation using File > Save in the Napari window. You should save it to the folder you listed as 'location_tosave_edited_segmentations'\")\n",
    "elif edit_nuc is False:\n",
    "    print(\"Continue - run the next block of code\")\n",
    "else:\n",
    "    print(\"There is an error somewhere!\")"
   ]
  },
  {
   "cell_type": "code",
   "execution_count": 10,
   "metadata": {},
   "outputs": [
    {
     "name": "stdout",
     "output_type": "stream",
     "text": [
      "Continue - run the next block of code\n"
     ]
    }
   ],
   "source": [
    "if edit_LD is True:\n",
    "    viewer.layers.clear()\n",
    "    viewer.add_image(raw_img_data)\n",
    "    viewer.add_labels(LD_seg)\n",
    "    print(\"Head to the Napari window!\")\n",
    "    print(\"You can edit your segmentation as needed there.\")\n",
    "    print(\"Be sure to save the new segmentation using File > Save in the Napari window. You should save it to the folder you listed as 'location_tosave_edited_segmentations'\")\n",
    "elif edit_LD is False:\n",
    "    print(\"Continue - run the next block of code\")\n",
    "else:\n",
    "    print(\"There is an error somewhere!\")"
   ]
  },
  {
   "cell_type": "code",
   "execution_count": 11,
   "metadata": {},
   "outputs": [
    {
     "name": "stdout",
     "output_type": "stream",
     "text": [
      "Continue - run the next block of code\n"
     ]
    }
   ],
   "source": [
    "if edit_ER is True:\n",
    "    viewer.layers.clear()\n",
    "    viewer.add_image(raw_img_data)\n",
    "    viewer.add_labels(ER_seg)\n",
    "    print(\"Head to the Napari window!\")\n",
    "    print(\"You can edit your segmentation as needed there.\")\n",
    "    print(\"Be sure to save the new segmentation using File > Save in the Napari window. You should save it to the folder you listed as 'location_tosave_edited_segmentations'\")\n",
    "elif edit_ER is False:\n",
    "    print(\"Continue - run the next block of code\")\n",
    "else:\n",
    "    print(\"There is an error somewhere!\")"
   ]
  },
  {
   "cell_type": "code",
   "execution_count": 12,
   "metadata": {},
   "outputs": [
    {
     "name": "stdout",
     "output_type": "stream",
     "text": [
      "Continue - run the next block of code\n"
     ]
    }
   ],
   "source": [
    "if edit_golgi is True:\n",
    "    viewer.layers.clear()\n",
    "    viewer.add_image(raw_img_data)\n",
    "    viewer.add_labels(golgi_seg)\n",
    "    print(\"Head to the Napari window!\")\n",
    "    print(\"You can edit your segmentation as needed there.\")\n",
    "    print(\"Be sure to save the new segmentation using File > Save in the Napari window. You should save it to the folder you listed as 'location_tosave_edited_segmentations'\")\n",
    "elif edit_golgi is False:\n",
    "    print(\"Continue - run the next block of code\")\n",
    "else:\n",
    "    print(\"There is an error somewhere!\")"
   ]
  },
  {
   "cell_type": "code",
   "execution_count": 13,
   "metadata": {},
   "outputs": [
    {
     "name": "stdout",
     "output_type": "stream",
     "text": [
      "Continue - run the next block of code\n"
     ]
    }
   ],
   "source": [
    "if edit_lyso is True:\n",
    "    viewer.layers.clear()\n",
    "    viewer.add_image(raw_img_data)\n",
    "    viewer.add_labels(lyso_seg)\n",
    "    print(\"Head to the Napari window!\")\n",
    "    print(\"You can edit your segmentation as needed there.\")\n",
    "    print(\"Be sure to save the new segmentation using File > Save in the Napari window. You should save it to the folder you listed as 'location_tosave_edited_segmentations'\")\n",
    "elif edit_lyso is False:\n",
    "    print(\"Continue - run the next block of code\")\n",
    "else:\n",
    "    print(\"There is an error somewhere!\")"
   ]
  },
  {
   "cell_type": "code",
   "execution_count": 14,
   "metadata": {},
   "outputs": [
    {
     "name": "stdout",
     "output_type": "stream",
     "text": [
      "Continue - run the next block of code\n"
     ]
    }
   ],
   "source": [
    "if edit_mito is True:\n",
    "    viewer.layers.clear()\n",
    "    viewer.add_image(raw_img_data)\n",
    "    viewer.add_labels(mito_seg)\n",
    "    print(\"Head to the Napari window!\")\n",
    "    print(\"You can edit your segmentation as needed there.\")\n",
    "    print(\"Be sure to save the new segmentation using File > Save in the Napari window. You should save it to the folder you listed as 'location_tosave_edited_segmentations'\")\n",
    "elif edit_mito is False:\n",
    "    print(\"Continue - run the next block of code\")\n",
    "else:\n",
    "    print(\"There is an error somewhere!\")"
   ]
  },
  {
   "cell_type": "code",
   "execution_count": 15,
   "metadata": {},
   "outputs": [
    {
     "name": "stdout",
     "output_type": "stream",
     "text": [
      "Continue - run the next block of code\n"
     ]
    }
   ],
   "source": [
    "if edit_perox is True:\n",
    "    viewer.layers.clear()\n",
    "    viewer.add_image(raw_img_data)\n",
    "    viewer.add_labels(perox_seg)\n",
    "    print(\"Head to the Napari window!\")\n",
    "    print(\"You can edit your segmentation as needed there.\")\n",
    "    print(\"Be sure to save the new segmentation using File > Save in the Napari window. You should save it to the folder you listed as 'location_tosave_edited_segmentations'\")\n",
    "elif edit_perox is False:\n",
    "    print(\"Continue - run the next block of code\")\n",
    "else:\n",
    "    print(\"There is an error somewhere!\")"
   ]
  },
  {
   "cell_type": "markdown",
   "metadata": {},
   "source": [
    "__________________\n",
    "# ***SAVE ALL CORRECT SEGMENTATIONS** - into one folder for quantification*"
   ]
  },
  {
   "cell_type": "markdown",
   "metadata": {},
   "source": [
    "## **`3` - Save organelle and region segmentations into specified folder**"
   ]
  },
  {
   "cell_type": "code",
   "execution_count": 16,
   "metadata": {},
   "outputs": [
    {
     "name": "stdout",
     "output_type": "stream",
     "text": [
      "saved file: 20230727_C2-121_conditioned_well 4_cell 3_untreated_Linear unmixing_0_cmle.ome-cell\n"
     ]
    }
   ],
   "source": [
    "if edit_cell is True:\n",
    "    cell_seg = import_inferred_organelle(\"cell\", raw_meta_dict, location_tosave_edited_segmentations, seg_file_type)\n",
    "    out_file_n = export_inferred_organelle(cell_seg, \"cell\", raw_meta_dict, Path(location_tosave_fullset_gooddata))\n",
    "elif edit_cell is False:\n",
    "    cell_seg = mask_seg[1]\n",
    "    out_file_n = export_inferred_organelle(cell_seg, \"cell\", raw_meta_dict, Path(location_tosave_fullset_gooddata))\n",
    "else:\n",
    "    print(\"There is an error somewhere!\")"
   ]
  },
  {
   "cell_type": "code",
   "execution_count": 17,
   "metadata": {},
   "outputs": [
    {
     "name": "stdout",
     "output_type": "stream",
     "text": [
      "saved file: 20230727_C2-121_conditioned_well 4_cell 3_untreated_Linear unmixing_0_cmle.ome-nuc\n"
     ]
    }
   ],
   "source": [
    "if edit_nuc is True:\n",
    "    nuc_seg = import_inferred_organelle(\"nuc\", raw_meta_dict, location_tosave_edited_segmentations, seg_file_type)\n",
    "    out_file_n = export_inferred_organelle(cell_seg, \"nuc\", raw_meta_dict, Path(location_tosave_fullset_gooddata))\n",
    "elif edit_cell is False:\n",
    "    nuc_seg = mask_seg[2]\n",
    "    out_file_n = export_inferred_organelle(cell_seg, \"nuc\", raw_meta_dict, Path(location_tosave_fullset_gooddata))\n",
    "else:\n",
    "    print(\"There is an error somewhere!\")"
   ]
  },
  {
   "cell_type": "code",
   "execution_count": 18,
   "metadata": {},
   "outputs": [
    {
     "name": "stdout",
     "output_type": "stream",
     "text": [
      "saved file: 20230727_C2-121_conditioned_well 4_cell 3_untreated_Linear unmixing_0_cmle.ome-LD\n"
     ]
    }
   ],
   "source": [
    "if edit_LD is True:\n",
    "    LD_seg = import_inferred_organelle(\"LD\", raw_meta_dict, location_tosave_edited_segmentations, seg_file_type)\n",
    "    out_file_n = export_inferred_organelle(LD_seg, \"LD\", raw_meta_dict, Path(location_tosave_fullset_gooddata))\n",
    "elif edit_LD is False:\n",
    "    out_file_n = export_inferred_organelle(LD_seg, \"LD\", raw_meta_dict, Path(location_tosave_fullset_gooddata))\n",
    "else:\n",
    "    print(\"There is an error somewhere!\")"
   ]
  },
  {
   "cell_type": "code",
   "execution_count": 19,
   "metadata": {},
   "outputs": [
    {
     "name": "stdout",
     "output_type": "stream",
     "text": [
      "saved file: 20230727_C2-121_conditioned_well 4_cell 3_untreated_Linear unmixing_0_cmle.ome-ER\n"
     ]
    }
   ],
   "source": [
    "if edit_ER is True:\n",
    "    ER_seg = import_inferred_organelle(\"ER\", raw_meta_dict, location_tosave_edited_segmentations, seg_file_type)\n",
    "    out_file_n = export_inferred_organelle(ER_seg, \"ER\", raw_meta_dict, Path(location_tosave_fullset_gooddata))\n",
    "elif edit_ER is False:\n",
    "    out_file_n = export_inferred_organelle(ER_seg, \"ER\", raw_meta_dict, Path(location_tosave_fullset_gooddata))\n",
    "else:\n",
    "    print(\"There is an error somewhere!\")"
   ]
  },
  {
   "cell_type": "code",
   "execution_count": 20,
   "metadata": {},
   "outputs": [
    {
     "name": "stdout",
     "output_type": "stream",
     "text": [
      "saved file: 20230727_C2-121_conditioned_well 4_cell 3_untreated_Linear unmixing_0_cmle.ome-golgi\n"
     ]
    }
   ],
   "source": [
    "if edit_golgi is True:\n",
    "    golgi_seg = import_inferred_organelle(\"golgi\", raw_meta_dict, location_tosave_edited_segmentations, seg_file_type)\n",
    "    out_file_n = export_inferred_organelle(golgi_seg, \"golgi\", raw_meta_dict, Path(location_tosave_fullset_gooddata))\n",
    "elif edit_golgi is False:\n",
    "    out_file_n = export_inferred_organelle(golgi_seg, \"golgi\", raw_meta_dict, Path(location_tosave_fullset_gooddata))\n",
    "else:\n",
    "    print(\"There is an error somewhere!\")"
   ]
  },
  {
   "cell_type": "code",
   "execution_count": 21,
   "metadata": {},
   "outputs": [
    {
     "name": "stdout",
     "output_type": "stream",
     "text": [
      "saved file: 20230727_C2-121_conditioned_well 4_cell 3_untreated_Linear unmixing_0_cmle.ome-lyso\n"
     ]
    }
   ],
   "source": [
    "if edit_lyso is True:\n",
    "    lyso_seg = import_inferred_organelle(\"lyso\", raw_meta_dict, location_tosave_edited_segmentations, seg_file_type)\n",
    "    out_file_n = export_inferred_organelle(lyso_seg, \"lyso\", raw_meta_dict, Path(location_tosave_fullset_gooddata))\n",
    "elif edit_lyso is False:\n",
    "    out_file_n = export_inferred_organelle(lyso_seg, \"lyso\", raw_meta_dict, Path(location_tosave_fullset_gooddata))\n",
    "else:\n",
    "    print(\"There is an error somewhere!\")"
   ]
  },
  {
   "cell_type": "code",
   "execution_count": 22,
   "metadata": {},
   "outputs": [
    {
     "name": "stdout",
     "output_type": "stream",
     "text": [
      "saved file: 20230727_C2-121_conditioned_well 4_cell 3_untreated_Linear unmixing_0_cmle.ome-mito\n"
     ]
    }
   ],
   "source": [
    "if edit_mito is True:\n",
    "    mito_seg = import_inferred_organelle(\"mito\", raw_meta_dict, location_tosave_edited_segmentations, seg_file_type)\n",
    "    out_file_n = export_inferred_organelle(mito_seg, \"mito\", raw_meta_dict, Path(location_tosave_fullset_gooddata))\n",
    "elif edit_mito is False:\n",
    "    out_file_n = export_inferred_organelle(mito_seg, \"mito\", raw_meta_dict, Path(location_tosave_fullset_gooddata))\n",
    "else:\n",
    "    print(\"There is an error somewhere!\")"
   ]
  },
  {
   "cell_type": "code",
   "execution_count": 23,
   "metadata": {},
   "outputs": [
    {
     "name": "stdout",
     "output_type": "stream",
     "text": [
      "saved file: 20230727_C2-121_conditioned_well 4_cell 3_untreated_Linear unmixing_0_cmle.ome-perox\n"
     ]
    }
   ],
   "source": [
    "if edit_perox is True:\n",
    "    perox_seg = import_inferred_organelle(\"perox\", raw_meta_dict, location_tosave_edited_segmentations, seg_file_type)\n",
    "    out_file_n = export_inferred_organelle(perox_seg, \"perox\", raw_meta_dict, Path(location_tosave_fullset_gooddata))\n",
    "elif edit_perox is False:\n",
    "    out_file_n = export_inferred_organelle(perox_seg, \"perox\", raw_meta_dict, Path(location_tosave_fullset_gooddata))\n",
    "else:\n",
    "    print(\"There is an error somewhere!\")"
   ]
  },
  {
   "cell_type": "markdown",
   "metadata": {},
   "source": [
    "__________________________\n",
    "## **QUANTIFICATION**\n",
    "\n",
    "#### **Batch process quantification:**\n",
    "After all segmentations for all organelles and masks are correctly assembled into one folder per experiment, you can begin quantification. The output will include ***`per object`*** measurements. Use the function below to input the correct folder paths to your data and settings you'd like to use for analysis.\n",
    "\n",
    "> ***Note:** The logic to the following two notebooks is for `batch_process_quantification()` to be run on each experimental replicate (i.e., group of images collected on the same data from the same sample preparation) individually. Then, `batch_summary_stats()` summarizes all of the data together in a \"per cell\" fashion. The first column in the output folders will specify the experimental replicate for each image.*"
   ]
  },
  {
   "cell_type": "markdown",
   "metadata": {},
   "source": [
    "#### &#x1F6D1; &#x270D; **User Input:**\n",
    "\n",
    "**Function Parameters:**\n",
    "- *out_file_name*: str;\n",
    "    the prefix to use when naming the output datatables\n",
    "- *seg_path*: Union[Path,str];\n",
    "    Path or str to the folder that contains the segmentation files\n",
    "- *out_path*: Union[Path, str];\n",
    "    Path or str to the folder that the output datatables will be saved to\n",
    "- *raw_path*: Union[Path,str];\n",
    "    Path or str to the folder that contains the raw image files that were used to creat the segmentations\n",
    "- *raw_file_type*: str;\n",
    "    the file type of the raw data; ex - \".tiff\", \".czi\"\n",
    "- *organelle_names*: List[str];\n",
    "    a list of all organelle names that will be analyzed; the names should be the same as the suffix used to name each of the tiff segmentation files\n",
    "    Note: the intensity measurements collect per region (from get_region_morphology_3D function) will only be from channels associated to these organelles \n",
    "- *organelle_channels*: List[int];\n",
    "    a list of channel indices associated to respective organelle staining in the raw image; the indices should listed in same order in which the respective segmentation name is listed in organelle_names\n",
    "- *region_names*: List[str];\n",
    "    a list of regions, or masks, to measure; the order should correlate to the order of the channels in the \"masks\" output segmentation file\n",
    "- *masks_file_name*: List[str];\n",
    "    the suffix of the \"masks\" segmentation file; ex- [\"cell\", \"nuc\"] or [\"cell\"]\n",
    "- *mask*: str;\n",
    "    the name of the region to use as the mask when measuring the organelles; this should be one of the names listed in regions list; usually this will be the \"cell\" mask\n",
    "- *dist_centering_obj*: str;\n",
    "    the name of the region or object to use as the centering object in the get_XY_distribution function\n",
    "- *dist_num_bins*: int;\n",
    "    the number of bins for the get_XY_distribution function\n",
    "- *dist_center_on*: bool=False;\n",
    "    for get_XY_distribution:\n",
    "    True = distribute the bins from the center of the centering object\n",
    "    False = distribute the bins from the edge of the centering object\n",
    "- *dist_keep_center_as_bin*: bool=True;\n",
    "    for get_XY_distribution:\n",
    "    True = include the centering object area when creating the bins\n",
    "    False = do not include the centering object area when creating the bins\n",
    "- *dist_zernike_degrees*: Union[int, None]=None;\n",
    "    for get_XY_distribution:\n",
    "    the number of zernike degrees to include for the zernike shape descriptors; if None, the zernike measurements will not \n",
    "    be included in the output\n",
    "- *include_contact_dist*:bool=True;\n",
    "    whether to include the distribution of contact sites in get_contact_metrics_3d(); True = include contact distribution\n",
    "- *scale*:bool=True;\n",
    "    True indicates you will use \"real-world\" scaling units (e.g., um, nm, etc. based on the image metadata)\n",
    "- *seg_suffix*:Union[str, None]=None;\n",
    "    any additional text that is included in the segmentation tiff files between the file stem and the segmentation suffix"
   ]
  },
  {
   "cell_type": "code",
   "execution_count": null,
   "metadata": {},
   "outputs": [],
   "source": [
    "seg=batch_process_quantification(out_file_name= \"example_output\",\n",
    "                                  seg_path=location_tosave_fullset_gooddata,\n",
    "                                  out_path = Path(os.getcwd()).parents[1] / \"sample_data\" /  \"batch_example\" / \"quant\", \n",
    "                                  raw_path=raw_data,\n",
    "                                  raw_file_type = raw_file_type,\n",
    "                                  organelle_names = ['LD', 'ER', 'golgi', 'lyso', 'mito', 'perox'],\n",
    "                                  organelle_channels= [0,1,2,3,4,5],\n",
    "                                  region_names= ['nuc', 'cell'],\n",
    "                                  masks_file_name= ['nuc', 'cell'],\n",
    "                                  mask= 'cell',\n",
    "                                  dist_centering_obj='nuc', \n",
    "                                  dist_num_bins=5,\n",
    "                                  dist_center_on=False,\n",
    "                                  dist_keep_center_as_bin=True,\n",
    "                                  dist_zernike_degrees=None,\n",
    "                                  include_contact_dist= True,\n",
    "                                  scale=True,\n",
    "                                  seg_suffix=\"-\")"
   ]
  },
  {
   "cell_type": "markdown",
   "metadata": {},
   "source": [
    "#### **Summarize data per cell:**\n",
    "The function below takes in the quantification results output from `batch_process_quantification()` from one or more experimental replicates. The results will be aggregated and summarized per cell.\n",
    "\n",
    "**Function Parameters:**\n",
    "- *csv_path_list*: List[str];\n",
    "    A list of path strings where .csv files output from batch_process_quantification() function are located.\n",
    "- *out_path*: str;\n",
    "    A path string where the summary data files will be saved.\n",
    "- *out_preffix*: str;\n",
    "    The prefix used to name the output file."
   ]
  },
  {
   "cell_type": "markdown",
   "metadata": {},
   "source": [
    "#### &#x1F6D1; &#x270D; **User Input Required:**"
   ]
  },
  {
   "cell_type": "code",
   "execution_count": null,
   "metadata": {},
   "outputs": [],
   "source": [
    "# All of the following options are correctly set to work with the sample data;\n",
    "# If you are not using the sample data, please edit the below as necessary.\n",
    "\n",
    "csv_path_list=[Path(os.getcwd()).parents[1] / \"sample_data\" /  \"batch_example\" / \"quant\", \"\"]\n",
    "out_path = Path(os.getcwd()).parents[1] / \"sample_data\" /  \"batch_example\" / \"quant\",\n",
    "out_preffix = \"example_final_\""
   ]
  },
  {
   "cell_type": "markdown",
   "metadata": {},
   "source": [
    "#### &#x1F3C3; **Run code; no user input required**"
   ]
  },
  {
   "cell_type": "code",
   "execution_count": null,
   "metadata": {},
   "outputs": [],
   "source": [
    "out=batch_summary_stats(csv_path_list=csv_path_list,\n",
    "                         out_path= out_path,\n",
    "                         out_preffix=out_preffix)"
   ]
  },
  {
   "cell_type": "markdown",
   "metadata": {},
   "source": [
    "# Congratulations!! 🎉\n",
    "### You've made it through `infer-subc`. The next step is to analyze your data as you see fit. The definitions for each metric are included [here](./batch_summary_stats_output_definitions.xlsx). Happy analyzing!!"
   ]
  }
 ],
 "metadata": {
  "kernelspec": {
   "display_name": "infer-subc-sample",
   "language": "python",
   "name": "python3"
  },
  "language_info": {
   "codemirror_mode": {
    "name": "ipython",
    "version": 3
   },
   "file_extension": ".py",
   "mimetype": "text/x-python",
   "name": "python",
   "nbconvert_exporter": "python",
   "pygments_lexer": "ipython3",
   "version": "3.10.16"
  }
 },
 "nbformat": 4,
 "nbformat_minor": 2
}
