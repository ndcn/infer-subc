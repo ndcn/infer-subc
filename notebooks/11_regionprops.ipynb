{
 "cells": [
  {
   "attachments": {},
   "cell_type": "markdown",
   "metadata": {},
   "source": [
    "#  `infer_subc` :  a tool/framework for infering segmented organelles from multi-channel florescent 3D images.\n",
    "\n",
    "## ❹. QUANTIFICATION 📏📐🧮\n",
    "\n",
    "SUBCELLULAR COMPONENT METRICS\n",
    "-  extent \n",
    "-  size\n",
    "-  shape\n",
    "-  position\n",
    "\n",
    "\n",
    "\n",
    "This notebook illustrates various \"stats\" routines developed to quantify and gather statistics about the segmentations."
   ]
  },
  {
   "attachments": {},
   "cell_type": "markdown",
   "metadata": {},
   "source": [
    "\n",
    "\n",
    "## IMPORTS"
   ]
  },
  {
   "cell_type": "code",
   "execution_count": 2,
   "metadata": {},
   "outputs": [
    {
     "name": "stdout",
     "output_type": "stream",
     "text": [
      "The autoreload extension is already loaded. To reload it, use:\n",
      "  %reload_ext autoreload\n"
     ]
    }
   ],
   "source": [
    "# top level imports\n",
    "from pathlib import Path\n",
    "import os, sys\n",
    "\n",
    "\n",
    "import napari\n",
    "\n",
    "### import local python functions in ../infer_subc\n",
    "sys.path.append(os.path.abspath((os.path.join(os.getcwd(), '..'))))\n",
    "\n",
    "from infer_subc.core.file_io import (read_czi_image,\n",
    "                                        export_inferred_organelle,\n",
    "                                        import_inferred_organelle,\n",
    "                                        export_tiff,\n",
    "                                        list_image_files)\n",
    "\n",
    "from infer_subc.core.img import *\n",
    "from infer_subc.utils.stats import *\n",
    "from infer_subc.utils.stats import _assert_uint16_labels\n",
    "from infer_subc.utils.stats_helpers import *\n",
    "\n",
    "from infer_subc.organelles import * \n",
    "\n",
    "import time\n",
    "%load_ext autoreload\n",
    "%autoreload 2\n",
    "\n"
   ]
  },
  {
   "cell_type": "code",
   "execution_count": 3,
   "metadata": {},
   "outputs": [],
   "source": [
    "# NOTE:  these \"constants\" are only accurate for the testing MCZ dataset\n",
    "from infer_subc.constants import (TEST_IMG_N,\n",
    "                                    NUC_CH ,\n",
    "                                    LYSO_CH ,\n",
    "                                    MITO_CH ,\n",
    "                                    GOLGI_CH ,\n",
    "                                    PEROX_CH ,\n",
    "                                    ER_CH ,\n",
    "                                    LD_CH ,\n",
    "                                    RESIDUAL_CH )              "
   ]
  },
  {
   "attachments": {},
   "cell_type": "markdown",
   "metadata": {},
   "source": [
    "\n",
    "## SETUP"
   ]
  },
  {
   "cell_type": "code",
   "execution_count": 4,
   "metadata": {},
   "outputs": [],
   "source": [
    "# this will be the example image for testing the pipeline below\n",
    "test_img_n = 1\n",
    "\n",
    "# build the datapath\n",
    "# all the imaging data goes here.\n",
    "data_root_path = Path(\"C:/Users/redre/Documents/CohenLab/MSI-3D-analysis/20230606_test_files_practice_analysis\")\n",
    "\n",
    "# linearly unmixed \".czi\" files are here\n",
    "in_data_path = data_root_path / \"test_files\"\n",
    "im_type = \".czi\"\n",
    "\n",
    "# get the list of all files\n",
    "img_file_list = list_image_files(in_data_path,im_type)\n",
    "test_img_name = img_file_list[test_img_n]\n",
    "\n",
    "# save output \".tiff\" files here\n",
    "out_data_path = data_root_path / \"20230606_out\"\n",
    "\n",
    "if not Path.exists(out_data_path):\n",
    "    Path.mkdir(out_data_path)\n",
    "    print(f\"making {out_data_path}\")"
   ]
  },
  {
   "cell_type": "code",
   "execution_count": 5,
   "metadata": {},
   "outputs": [
    {
     "name": "stderr",
     "output_type": "stream",
     "text": [
      "c:\\Users\\redre\\anaconda3\\envs\\infer-subc-ngudi\\lib\\site-packages\\ome_types\\_convenience.py:112: FutureWarning: The default XML parser will be changing from 'xmlschema' to 'lxml' in version 0.4.0.  To silence this warning, please provide the `parser` argument, specifying either 'lxml' (to opt into the new behavior), or'xmlschema' (to retain the old behavior).\n",
      "  d = to_dict(os.fspath(xml), parser=parser, validate=validate)\n"
     ]
    }
   ],
   "source": [
    "img_data,meta_dict = read_czi_image(test_img_name)\n",
    "\n",
    "# get some top-level info about the RAW data\n",
    "channel_names = meta_dict['name']\n",
    "img = meta_dict['metadata']['aicsimage']\n",
    "scale = meta_dict['scale']\n",
    "channel_axis = meta_dict['channel_axis']\n",
    "\n",
    "source_file = meta_dict['file_name']"
   ]
  },
  {
   "attachments": {},
   "cell_type": "markdown",
   "metadata": {},
   "source": [
    "Now get the single \"optimal\" slice of all our organelle channels...."
   ]
  },
  {
   "cell_type": "code",
   "execution_count": 6,
   "metadata": {},
   "outputs": [
    {
     "data": {
      "text/plain": [
       "<Image layer 'img_data' at 0x2459cc923b0>"
      ]
     },
     "execution_count": 6,
     "metadata": {},
     "output_type": "execute_result"
    }
   ],
   "source": [
    "viewer = napari.Viewer()\n",
    "viewer.add_image(img_data,scale=scale)"
   ]
  },
  {
   "attachments": {},
   "cell_type": "markdown",
   "metadata": {},
   "source": [
    "## get the inferred cellmask, nuclei and cytoplasm objects\n",
    "\n",
    "(takes < 1 sec)"
   ]
  },
  {
   "attachments": {},
   "cell_type": "markdown",
   "metadata": {},
   "source": [
    "Builde the segmentations in order\n",
    "\n",
    "\n"
   ]
  },
  {
   "cell_type": "code",
   "execution_count": 1,
   "metadata": {},
   "outputs": [
    {
     "ename": "NameError",
     "evalue": "name 'get_nuclei' is not defined",
     "output_type": "error",
     "traceback": [
      "\u001b[1;31m---------------------------------------------------------------------------\u001b[0m",
      "\u001b[1;31mNameError\u001b[0m                                 Traceback (most recent call last)",
      "Cell \u001b[1;32mIn[1], line 4\u001b[0m\n\u001b[0;32m      1\u001b[0m \u001b[39m###################\u001b[39;00m\n\u001b[0;32m      2\u001b[0m \u001b[39m# CELLMASK, NUCLEI, CYTOPLASM, NUCLEUS\u001b[39;00m\n\u001b[0;32m      3\u001b[0m \u001b[39m###################\u001b[39;00m\n\u001b[1;32m----> 4\u001b[0m nuclei_obj \u001b[39m=\u001b[39m  get_nuclei(img_data,meta_dict, out_data_path)\n\u001b[0;32m      5\u001b[0m cellmask_obj \u001b[39m=\u001b[39m get_cellmask(img_data, nuclei_obj, meta_dict, out_data_path)\n\u001b[0;32m      6\u001b[0m cyto_mask \u001b[39m=\u001b[39m get_cytoplasm(nuclei_obj , cellmask_obj , meta_dict, out_data_path)\n",
      "\u001b[1;31mNameError\u001b[0m: name 'get_nuclei' is not defined"
     ]
    }
   ],
   "source": [
    "\n",
    "###################\n",
    "# CELLMASK, NUCLEI, CYTOPLASM, NUCLEUS\n",
    "###################\n",
    "nuclei_obj =  get_nuclei(img_data,meta_dict, out_data_path)\n",
    "cellmask_obj = get_cellmask(img_data, nuclei_obj, meta_dict, out_data_path)\n",
    "cyto_mask = get_cytoplasm(nuclei_obj , cellmask_obj , meta_dict, out_data_path)\n",
    "\n"
   ]
  },
  {
   "attachments": {},
   "cell_type": "markdown",
   "metadata": {},
   "source": [
    "-------------------------\n",
    "## regionprops\n",
    "\n",
    "`skimage.measure.regionprops` provides the basic tools nescessary to quantify our segmentations.\n",
    "\n",
    "First lets see what works in 3D.  \n",
    "\n",
    "> Note: the names of the regionprops correspond to the 2D analysis even for those which are well defined in 3D.  i.e. \"area\" is actually \"volume\" in 3D, etc."
   ]
  },
  {
   "attachments": {},
   "cell_type": "markdown",
   "metadata": {},
   "source": [
    "Lets see which possible measures are sensible for 3D or volumetric with regionprops"
   ]
  },
  {
   "cell_type": "code",
   "execution_count": 9,
   "metadata": {},
   "outputs": [],
   "source": [
    "if False:\n",
    "    labels = label(nuclei_obj )\n",
    "    rp = regionprops(labels, intensity_image=img_data[NUC_CH])\n",
    "\n",
    "    supported = [] \n",
    "    unsupported = []\n",
    "\n",
    "    for prop in rp[0]:\n",
    "        try:\n",
    "            rp[0][prop]\n",
    "            supported.append(prop)\n",
    "        except NotImplementedError:\n",
    "            unsupported.append(prop)\n",
    "\n",
    "    print(\"Supported properties:\")\n",
    "    print(\"  \" + \"\\n  \".join(supported))\n",
    "    print()\n",
    "    print(\"Unsupported properties:\")\n",
    "    print(\"  \" + \"\\n  \".join(unsupported))"
   ]
  },
  {
   "attachments": {},
   "cell_type": "markdown",
   "metadata": {},
   "source": [
    "Supported properties:\n",
    "-  area\n",
    "-  bbox\n",
    "-  bbox_area\n",
    "-  centroid\n",
    "-  convex_area\n",
    "-  convex_image\n",
    "-  coords\n",
    "-  equivalent_diameter\n",
    "-  euler_number\n",
    "-  extent\n",
    "-  feret_diameter_max\n",
    "-  filled_area\n",
    "-  filled_image\n",
    "-  image\n",
    "-  inertia_tensor\n",
    "-  inertia_tensor_eigvals\n",
    "-  intensity_image\n",
    "-  label\n",
    "-  local_centroid\n",
    "-  major_axis_length\n",
    "-  max_intensity\n",
    "-  mean_intensity\n",
    "-  min_intensity\n",
    "-  minor_axis_length\n",
    "-  moments\n",
    "-  moments_central\n",
    "-  moments_normalized\n",
    "-  slice\n",
    "-  solidity\n",
    "-  weighted_centroid\n",
    "-  weighted_local_centroid\n",
    "-  weighted_moments\n",
    "-  weighted_moments_central\n",
    "-  weighted_moments_normalized\n",
    "-\n",
    "Unsupported properties:\n",
    "-  eccentricity\n",
    "-  moments_hu\n",
    "-  orientation\n",
    "-  perimeter\n",
    "-  perimeter_crofton\n",
    "-  weighted_moments_hu"
   ]
  },
  {
   "attachments": {},
   "cell_type": "markdown",
   "metadata": {},
   "source": [
    "\n",
    "-----------------\n",
    "## basic stats\n",
    "\n",
    "### per-organelle\n",
    "\n",
    "\n",
    "- regionprops \n",
    "\n",
    "\n",
    "### summary stats"
   ]
  },
  {
   "attachments": {},
   "cell_type": "markdown",
   "metadata": {},
   "source": [
    "Now we want to get a list of our organelle names, segmentations, intensities (florescence)"
   ]
  },
  {
   "cell_type": "code",
   "execution_count": 10,
   "metadata": {},
   "outputs": [
    {
     "name": "stdout",
     "output_type": "stream",
     "text": [
      "loaded  inferred 3D `nuclei`  from C:\\Users\\redre\\Documents\\CohenLab\\MSI-3D-analysis\\20230606_test_files_practice_analysis\\20230606_out \n",
      "loaded  inferred 3D `lyso`  from C:\\Users\\redre\\Documents\\CohenLab\\MSI-3D-analysis\\20230606_test_files_practice_analysis\\20230606_out \n",
      "loaded lyso in (0.02) sec\n",
      "loaded  inferred 3D `mito`  from C:\\Users\\redre\\Documents\\CohenLab\\MSI-3D-analysis\\20230606_test_files_practice_analysis\\20230606_out \n",
      "loaded  inferred 3D `golgi`  from C:\\Users\\redre\\Documents\\CohenLab\\MSI-3D-analysis\\20230606_test_files_practice_analysis\\20230606_out \n",
      "starting segmentation...\n",
      "loaded  inferred 3D `perox`  from C:\\Users\\redre\\Documents\\CohenLab\\MSI-3D-analysis\\20230606_test_files_practice_analysis\\20230606_out \n",
      "loaded peroxisome in (0.02) sec\n",
      "loaded  inferred 3D `ER`  from C:\\Users\\redre\\Documents\\CohenLab\\MSI-3D-analysis\\20230606_test_files_practice_analysis\\20230606_out \n",
      "loaded  inferred 3D `LD`  from C:\\Users\\redre\\Documents\\CohenLab\\MSI-3D-analysis\\20230606_test_files_practice_analysis\\20230606_out \n"
     ]
    }
   ],
   "source": [
    "# names of organelles we have\n",
    "organelle_names = [\"nuc\",\"lyso\", \"mito\",\"golgi\",\"perox\",\"ER\",\"LD\"]\n",
    "\n",
    "get_methods  = [get_nuclei,\n",
    "                get_lyso,\n",
    "                get_mito,\n",
    "                get_golgi,\n",
    "                get_perox,\n",
    "                get_ER,\n",
    "                get_LD]\n",
    "\n",
    "# load all the organelle segmentations\n",
    "organelles = [meth(img_data,meta_dict, out_data_path) for meth in get_methods]\n",
    "\n",
    "# get the intensities\n",
    "organelle_channels = [NUC_CH, LYSO_CH,MITO_CH,GOLGI_CH,PEROX_CH,ER_CH,LD_CH]\n",
    "\n",
    "intensities = [img_data[ch] for ch in organelle_channels]\n"
   ]
  },
  {
   "cell_type": "code",
   "execution_count": 14,
   "metadata": {},
   "outputs": [],
   "source": [
    "#lyso\n",
    "org_img = intensities[1]        \n",
    "org_obj = _assert_uint16_labels(organelles[1])\n",
    "\n",
    "# A_stats_tab, rp = get_simple_stats_3D(A,mask)\n",
    "a_stats_tab, rp = get_summary_stats_3D(org_obj, org_img, cyto_mask)\n",
    "\n"
   ]
  },
  {
   "cell_type": "code",
   "execution_count": 1,
   "metadata": {},
   "outputs": [
    {
     "ename": "NameError",
     "evalue": "name 'get_summary_stats_3D' is not defined",
     "output_type": "error",
     "traceback": [
      "\u001b[1;31m---------------------------------------------------------------------------\u001b[0m",
      "\u001b[1;31mNameError\u001b[0m                                 Traceback (most recent call last)",
      "Cell \u001b[1;32mIn[1], line 1\u001b[0m\n\u001b[1;32m----> 1\u001b[0m get_summary_stats_3D(org_obj, org_img, cyto_mask)\n",
      "\u001b[1;31mNameError\u001b[0m: name 'get_summary_stats_3D' is not defined"
     ]
    }
   ],
   "source": [
    "get_summary_stats_3D(org_obj, org_img, cyto_mask)"
   ]
  },
  {
   "attachments": {},
   "cell_type": "markdown",
   "metadata": {},
   "source": [
    "\n",
    "-----------------\n",
    "## CONTACTS (cross-stats)\n",
    "\n",
    "### organelle cross stats\n",
    "\n",
    "\n",
    "- regionprops \n",
    "\n",
    "\n",
    "\n",
    "- intersect for A vs all other organelles Bi\n",
    "  - regionprops on A ∩ Bi\n",
    "\n",
    "   \n",
    "- contacts?\n",
    "  - dilate then intersect?\n",
    "  - loop through each sub-object for each \n",
    "\n"
   ]
  },
  {
   "cell_type": "code",
   "execution_count": 16,
   "metadata": {},
   "outputs": [],
   "source": [
    "\n",
    "\n",
    "#mito\n",
    "b = _assert_uint16_labels(organelles[2])\n",
    "nmi = organelle_names[2]\n",
    "\n",
    "cross_tab = get_aXb_stats_3D(org_obj, b, cyto_mask) \n",
    "shell_cross_tab = get_aXb_stats_3D(org_obj, b, cyto_mask, use_shell_a=True)\n",
    "\n",
    "merged_tab = pd.concat([cross_tab,shell_cross_tab])\n",
    "merged_tab.insert(loc=0,column='organelle_b',value=nmi )\n"
   ]
  },
  {
   "attachments": {},
   "cell_type": "markdown",
   "metadata": {},
   "source": [
    "\n",
    "-----------------\n",
    "## DISTRIBUTION  \n",
    "\n",
    "\n",
    "### Radial distribution \n",
    "\n",
    "### 2D projection of inferred objects (and masks, florescence image)\n",
    "\n",
    "Segment image in 3D;\n",
    "sum projection of binary image; \n",
    "create 5 concentric rings going from the edge of the nuclie to the edge of the cellmask (ideally these will be morphed to cellmask/nuclei shape as done in CellProfiler); \n",
    "measure intensity per ring (include nuclei as the center area to measure from)/ring area; \n",
    "the normalized measurement will act as a frequency distribution of that organelle starting from the nuclei bin going out to the cell membrane - \n",
    "Measurements needed: mean, median, and standard deviation of the frequency will be calculated\n",
    "\n",
    "- pre-processing\n",
    "  1. Make 2D sum projection of binary segmentation\n",
    "  2. Create 5 (default) bins linearly between edge of the nuclei to the edge of the cellmask - these are somewhat like rings morphed to the shape of the nuclei and cellmask, or more accurately like terrain lines of the normalized radial distance beween teh edge of the nuclei and the edge of the cellmask.\n",
    "  3. Use nucleus + concentric rings to mask the 2D sum project into radial distribution regions: nuclei = bin 1, ... largest/outter most ring = bin 6. See similar concept in CellProfiler: https://cellprofiler-manual.s3.amazonaws.com/CellProfiler-4.2.5/modules/measurement.html?highlight=distribution#module-cellprofiler.modules.measureobjectintensitydistribution\"\t\n",
    "   \n",
    "\n",
    "\n",
    "The logic was borrowed from CellProfiler, but alorithm somewhate simplified by making assumpitions of doing all estimates over a single cellmask (single cell).   Most of the code should be capable of performing the more complicated multi-object versions as CellProfiler does.  Although this functionality is untested the source code was left in this more complex format in case it might be updated for this functionality in the future.\n"
   ]
  },
  {
   "attachments": {},
   "cell_type": "markdown",
   "metadata": {},
   "source": [
    "\n",
    "\n",
    "## Zernicky distributions...\n",
    "- get the magnitude and phase for the zernike \n",
    "- he Zernike features characterize the distribution of intensity across the object. For instance, Zernike 1,1 has a high value if the intensity is low on one side of the object and high on the other. The zernike magnitudes feature records the rotationally invariant degree magnitude of the moment and the zernike phase feature gives the moment’s orientation\n",
    "\n",
    "`zernike_degree` (default = 9) chooses how many moments to calculate.\n",
    "\n",
    "\n",
    "The logic was borrowed from CellProfiler, but alorithm greatly simplified by making assumpitions of doing all estimates over a single cellmask (single cell)"
   ]
  },
  {
   "cell_type": "code",
   "execution_count": 17,
   "metadata": {},
   "outputs": [
    {
     "data": {
      "text/plain": [
       "'24hrs-Ctrl +oleicAcid 50uM_3_Unmixing.czi'"
      ]
     },
     "execution_count": 17,
     "metadata": {},
     "output_type": "execute_result"
    }
   ],
   "source": [
    "# csv_path = out_data_path / f\"{o}_{meta_dict[\"file_name\"].split('/')[-1].split('.')[0]}_stats.csv\"\n",
    "Path(meta_dict['file_name']).name"
   ]
  },
  {
   "cell_type": "code",
   "execution_count": 18,
   "metadata": {},
   "outputs": [
    {
     "data": {
      "text/plain": [
       "((16, 704, 704), 'nuc')"
      ]
     },
     "execution_count": 18,
     "metadata": {},
     "output_type": "execute_result"
    }
   ],
   "source": [
    "organelles[0].shape, organelle_names[0]"
   ]
  },
  {
   "cell_type": "code",
   "execution_count": 25,
   "metadata": {},
   "outputs": [],
   "source": [
    "test_org = 1\n",
    "\n",
    "# args \n",
    "cellmask_obj\n",
    "nuclei_obj\n",
    "organelle_mask = cyto_mask\n",
    "organelle_name = organelle_names[test_org]\n",
    "org_obj = organelles[test_org]\n",
    "org_img = intensities[test_org]\n",
    "\n",
    "n_rad_bins = 5\n",
    "n_zernike = 9\n",
    "\n",
    "target = organelle_name"
   ]
  },
  {
   "cell_type": "code",
   "execution_count": 24,
   "metadata": {},
   "outputs": [],
   "source": [
    "        # now get radial stats\n",
    "rad_stats,z_stats, bin_index = get_radial_stats(        \n",
    "                                cellmask_obj,\n",
    "                                organelle_mask,\n",
    "                                org_obj,\n",
    "                                org_img,\n",
    "                                target,\n",
    "                                nuclei_obj,\n",
    "                                n_rad_bins,\n",
    "                                n_zernike\n",
    "                                )\n"
   ]
  },
  {
   "attachments": {},
   "cell_type": "markdown",
   "metadata": {},
   "source": []
  },
  {
   "cell_type": "code",
   "execution_count": 22,
   "metadata": {},
   "outputs": [],
   "source": [
    "viewer = napari.view_image(bin_index)"
   ]
  },
  {
   "attachments": {},
   "cell_type": "markdown",
   "metadata": {},
   "source": [
    "\n",
    "### depth - summary\n",
    "Segment image in 3D;\n",
    "measure area fraction of each organelle per Z slice;\n",
    "these measurements will act as a frequency distribution of that organelle starting from the bottom of the cellmask (not including neurites) to the top of the cellmask;\n",
    "measurements: mean, median, and standard deviation of the frequency distribution\t\n",
    "\n",
    "- pre-processing\n",
    "  1. subtract nuclei from the cellmask --> cellmask cytoplasm\n",
    "  2. mask organelle channels with cellmask cytoplasm mask\n",
    "\n",
    "- per-object measurements\n",
    "  - For each Z slice in the masked binary image measure:\n",
    "    1. organelle area\n",
    "    2. cellmask cytoplasm area\n",
    "\n",
    "- per-object calculations\n",
    "  - For each Z slice in the masked binary image: organelle area / cellmask cytoplasm area\n",
    "\n",
    "- per cell summary\n",
    "  1. create a frequency table with the z slice number on the x axis and the area fraction on the y axis\n",
    "  2. Measure the frequency distribution's mean, median, and standard deviation for each cell\""
   ]
  },
  {
   "cell_type": "code",
   "execution_count": null,
   "metadata": {},
   "outputs": [
    {
     "data": {
      "text/plain": [
       "<Image layer 'Image' at 0x2bf465db0>"
      ]
     },
     "metadata": {},
     "output_type": "display_data"
    }
   ],
   "source": [
    "viewer.add_image(cellmask_obj>0)"
   ]
  },
  {
   "cell_type": "code",
   "execution_count": 106,
   "metadata": {},
   "outputs": [],
   "source": [
    "\n",
    "d_stats = get_depth_stats(        \n",
    "                cellmask_obj,\n",
    "                organelle_mask,\n",
    "                org_obj,\n",
    "                org_img,\n",
    "                target,\n",
    "                nuclei_obj\n",
    "                )\n",
    "  "
   ]
  },
  {
   "cell_type": "code",
   "execution_count": null,
   "metadata": {},
   "outputs": [],
   "source": []
  },
  {
   "attachments": {},
   "cell_type": "markdown",
   "metadata": {},
   "source": [
    "# putting it all together\n",
    "\n",
    "`make_organelle_stat_tables` prototype"
   ]
  },
  {
   "cell_type": "code",
   "execution_count": 13,
   "metadata": {},
   "outputs": [],
   "source": [
    "\n",
    "from infer_subc.utils.stats import _assert_uint16_labels\n",
    "\n",
    "organelle_to_colname = {\"nuc\":\"NU\", \"lyso\": \"LY\", \"mito\":\"MT\", \"golgi\":\"GL\", \"perox\":\"PR\", \"ER\":\"ER\", \"LD\":\"LD\", \"cell\":\"CM\", \"cyto\":\"CY\", \"nucleus\": \"N1\",\"nuclei\":\"NU\",}\n",
    "\n",
    "def _make_organelle_stat_tables(\n",
    "    organelle_names: List[str],\n",
    "    organelles: List[np.ndarray],\n",
    "    intensities: List[np.ndarray],\n",
    "    nuclei_obj:np.ndarray, \n",
    "    cellmask_obj:np.ndarray,\n",
    "    organelle_mask: np.ndarray, \n",
    "    out_data_path: Path, \n",
    "    source_file: str,\n",
    "    n_rad_bins: Union[int,None] = None,\n",
    "    n_zernike: Union[int,None] = None,\n",
    ") -> int:\n",
    "    \"\"\"\n",
    "    get summary and all cross stats between organelles `a` and `b`\n",
    "    calls `get_summary_stats_3D`\n",
    "    \"\"\"\n",
    "    count = 0\n",
    "    org_stats_tabs = []\n",
    "    for j, target in enumerate(organelle_names):\n",
    "        org_img = intensities[j]        \n",
    "        org_obj = _assert_uint16_labels(organelles[j])\n",
    "\n",
    "        # A_stats_tab, rp = get_simple_stats_3D(A,mask)\n",
    "        a_stats_tab, rp = get_summary_stats_3D(org_obj, org_img, organelle_mask)\n",
    "        a_stats_tab.insert(loc=0,column='organelle',value=target )\n",
    "        a_stats_tab.insert(loc=0,column='ID',value=source_file.stem )\n",
    "\n",
    "        # add the touches for all other organelles\n",
    "        # loop over Bs\n",
    "        merged_tabs = []\n",
    "        for i, nmi in enumerate(organelle_names):\n",
    "            if i != j:\n",
    "                # get overall stats of intersection\n",
    "                # print(f\"  b = {nmi}\")\n",
    "                count += 1\n",
    "                # add the list of touches\n",
    "                b = _assert_uint16_labels(organelles[i])\n",
    "\n",
    "                ov = []\n",
    "                b_labs = []\n",
    "                labs = []\n",
    "                for idx, lab in enumerate(a_stats_tab[\"label\"]):  # loop over A_objects\n",
    "                    xyz = tuple(rp[idx].coords.T)\n",
    "                    cmp_org = b[xyz]\n",
    "                    \n",
    "                    # total number of overlapping pixels\n",
    "                    overlap = sum(cmp_org > 0)\n",
    "                    # overlap?\n",
    "                    labs_b = cmp_org[cmp_org > 0]\n",
    "                    b_js = np.unique(labs_b).tolist()\n",
    "\n",
    "                    # if overlap > 0:\n",
    "                    labs.append(lab)\n",
    "                    ov.append(overlap)\n",
    "                    b_labs.append(b_js)\n",
    "\n",
    "                cname = organelle_to_colname[nmi]\n",
    "                # add organelle B columns to A_stats_tab\n",
    "                a_stats_tab[f\"{cname}_overlap\"] = ov\n",
    "                a_stats_tab[f\"{cname}_labels\"] = b_labs  # might want to make this easier for parsing later\n",
    "\n",
    "                #####  2  ###########\n",
    "                # get cross_stats\n",
    "\n",
    "                cross_tab = get_aXb_stats_3D(org_obj, b, organelle_mask) \n",
    "                shell_cross_tab = get_aXb_stats_3D(org_obj, b, organelle_mask, use_shell_a=True)\n",
    "                            \n",
    "                # cross_tab[\"organelle_b\"]=nmi\n",
    "                # shell_cross_tab[\"organelle_b\"]=nmi\n",
    "                #  Merge cross_tabs and shell_cross_tabs \n",
    "                # merged_tab = pd.merge(cross_tab,shell_cross_tab, on=\"label_\")\n",
    "                merged_tab = pd.concat([cross_tab,shell_cross_tab])\n",
    "                merged_tab.insert(loc=0,column='organelle_b',value=nmi )\n",
    "\n",
    "                merged_tabs.append( merged_tab )\n",
    "\n",
    "\n",
    "        #  Now append the \n",
    "        # csv_path = out_data_path / f\"{source_file.stem}-{target}_shellX{nmi}-stats.csv\"\n",
    "        # e_stats_tab.to_csv(csv_path)\n",
    "        # stack these tables for each organelle\n",
    "        crossed_tab = pd.concat(merged_tabs)\n",
    "        # csv_path = out_data_path / f\"{source_file.stem}-{target}X{nmi}-stats.csv\"\n",
    "        # stats_tab.to_csv(csv_path)\n",
    "        crossed_tab.insert(loc=0,column='organelle',value=target )\n",
    "        crossed_tab.insert(loc=0,column='ID',value=source_file.stem )\n",
    "\n",
    "        # now get radial stats\n",
    "        rad_stats,z_stats, _ = get_radial_stats(        \n",
    "                cellmask_obj,\n",
    "                organelle_mask,\n",
    "                org_obj,\n",
    "                org_img,\n",
    "                target,\n",
    "                nuclei_obj,\n",
    "                n_rad_bins,\n",
    "                n_zernike\n",
    "                )\n",
    "\n",
    "        d_stats = get_depth_stats(        \n",
    "                cellmask_obj,\n",
    "                organelle_mask,\n",
    "                org_obj,\n",
    "                org_img,\n",
    "                target,\n",
    "                nuclei_obj\n",
    "                )\n",
    "      \n",
    "        proj_stats = pd.merge(rad_stats, z_stats,on=[\"organelle\",\"mask\"])\n",
    "        proj_stats = pd.merge(proj_stats, d_stats,on=[\"organelle\",\"mask\"])\n",
    "        proj_stats.insert(loc=0,column='ID',value=source_file.stem )\n",
    "\n",
    "        # write out files... \n",
    "        # org_stats_tabs.append(A_stats_tab)\n",
    "        csv_path = out_data_path / f\"{source_file.stem}-{target}-stats.csv\"\n",
    "        a_stats_tab.to_csv(csv_path)\n",
    "\n",
    "        csv_path = out_data_path / f\"{source_file.stem}-{target}-cross-stats.csv\"\n",
    "        crossed_tab.to_csv(csv_path)\n",
    "\n",
    "        csv_path = out_data_path / f\"{source_file.stem}-{target}-proj-stats.csv\"\n",
    "        proj_stats.to_csv(csv_path)\n",
    "\n",
    "        count += 1\n",
    "\n",
    "    print(f\"dumped {count}x3 organelle stats ({organelle_names}) csvs\")\n",
    "    return count"
   ]
  },
  {
   "cell_type": "code",
   "execution_count": 107,
   "metadata": {},
   "outputs": [],
   "source": [
    "n_rad_bins = 5\n",
    "n_zernike = 9\n",
    "\n",
    "\n",
    "\n",
    "from infer_subc.utils.stats_helpers import make_organelle_stat_tables"
   ]
  },
  {
   "cell_type": "code",
   "execution_count": 108,
   "metadata": {},
   "outputs": [
    {
     "name": "stdout",
     "output_type": "stream",
     "text": [
      "dumped 49x3 organelle stats (['nuc', 'lyso', 'mito', 'golgi', 'perox', 'ER', 'LD']) csvs\n"
     ]
    },
    {
     "name": "stderr",
     "output_type": "stream",
     "text": [
      "/Users/ergonyc/Projects/Imaging/infer-subc/infer_subc/utils/stats.py:668: RuntimeWarning: invalid value encountered in divide\n",
      "  magnitude = np.sqrt(vr * vr + vi * vi) / pixels.sum()\n"
     ]
    }
   ],
   "source": [
    "file_count = make_organelle_stat_tables(organelle_names, \n",
    "                                      organelles,\n",
    "                                      intensities, \n",
    "                                      nuclei_obj,\n",
    "                                      cellmask_obj,\n",
    "                                      cyto_mask, \n",
    "                                      out_data_path, \n",
    "                                      source_file,\n",
    "                                      n_rad_bins=5,\n",
    "                                      n_zernike=9)\n",
    "\n"
   ]
  },
  {
   "cell_type": "code",
   "execution_count": 109,
   "metadata": {},
   "outputs": [
    {
     "data": {
      "text/html": [
       "<div>\n",
       "<style scoped>\n",
       "    .dataframe tbody tr th:only-of-type {\n",
       "        vertical-align: middle;\n",
       "    }\n",
       "\n",
       "    .dataframe tbody tr th {\n",
       "        vertical-align: top;\n",
       "    }\n",
       "\n",
       "    .dataframe thead th {\n",
       "        text-align: right;\n",
       "    }\n",
       "</style>\n",
       "<table border=\"1\" class=\"dataframe\">\n",
       "  <thead>\n",
       "    <tr style=\"text-align: right;\">\n",
       "      <th></th>\n",
       "      <th>Unnamed: 0</th>\n",
       "      <th>ID</th>\n",
       "      <th>organelle</th>\n",
       "      <th>label</th>\n",
       "      <th>max_intensity</th>\n",
       "      <th>mean_intensity</th>\n",
       "      <th>min_intensity</th>\n",
       "      <th>volume</th>\n",
       "      <th>equivalent_diameter</th>\n",
       "      <th>centroid-0</th>\n",
       "      <th>...</th>\n",
       "      <th>MT_overlap</th>\n",
       "      <th>MT_labels</th>\n",
       "      <th>GL_overlap</th>\n",
       "      <th>GL_labels</th>\n",
       "      <th>PR_overlap</th>\n",
       "      <th>PR_labels</th>\n",
       "      <th>ER_overlap</th>\n",
       "      <th>ER_labels</th>\n",
       "      <th>LD_overlap</th>\n",
       "      <th>LD_labels</th>\n",
       "    </tr>\n",
       "  </thead>\n",
       "  <tbody>\n",
       "    <tr>\n",
       "      <th>0</th>\n",
       "      <td>0</td>\n",
       "      <td>ZSTACK_PBTOhNGN2hiPSCs_BR1_N19_Unmixed</td>\n",
       "      <td>lyso</td>\n",
       "      <td>2</td>\n",
       "      <td>65535</td>\n",
       "      <td>16752.953982</td>\n",
       "      <td>0</td>\n",
       "      <td>30836</td>\n",
       "      <td>38.906289</td>\n",
       "      <td>6.450642</td>\n",
       "      <td>...</td>\n",
       "      <td>2346</td>\n",
       "      <td>[1, 2]</td>\n",
       "      <td>2019</td>\n",
       "      <td>[1]</td>\n",
       "      <td>77</td>\n",
       "      <td>[3, 5, 6, 15, 17, 20, 21]</td>\n",
       "      <td>3715</td>\n",
       "      <td>[1]</td>\n",
       "      <td>0</td>\n",
       "      <td>[]</td>\n",
       "    </tr>\n",
       "    <tr>\n",
       "      <th>1</th>\n",
       "      <td>1</td>\n",
       "      <td>ZSTACK_PBTOhNGN2hiPSCs_BR1_N19_Unmixed</td>\n",
       "      <td>lyso</td>\n",
       "      <td>5</td>\n",
       "      <td>21639</td>\n",
       "      <td>10853.279793</td>\n",
       "      <td>2242</td>\n",
       "      <td>1544</td>\n",
       "      <td>14.340013</td>\n",
       "      <td>2.794041</td>\n",
       "      <td>...</td>\n",
       "      <td>0</td>\n",
       "      <td>[]</td>\n",
       "      <td>0</td>\n",
       "      <td>[]</td>\n",
       "      <td>0</td>\n",
       "      <td>[]</td>\n",
       "      <td>136</td>\n",
       "      <td>[1]</td>\n",
       "      <td>0</td>\n",
       "      <td>[]</td>\n",
       "    </tr>\n",
       "    <tr>\n",
       "      <th>2</th>\n",
       "      <td>2</td>\n",
       "      <td>ZSTACK_PBTOhNGN2hiPSCs_BR1_N19_Unmixed</td>\n",
       "      <td>lyso</td>\n",
       "      <td>6</td>\n",
       "      <td>5773</td>\n",
       "      <td>2776.759036</td>\n",
       "      <td>480</td>\n",
       "      <td>83</td>\n",
       "      <td>5.412025</td>\n",
       "      <td>1.445783</td>\n",
       "      <td>...</td>\n",
       "      <td>0</td>\n",
       "      <td>[]</td>\n",
       "      <td>0</td>\n",
       "      <td>[]</td>\n",
       "      <td>0</td>\n",
       "      <td>[]</td>\n",
       "      <td>0</td>\n",
       "      <td>[]</td>\n",
       "      <td>0</td>\n",
       "      <td>[]</td>\n",
       "    </tr>\n",
       "    <tr>\n",
       "      <th>3</th>\n",
       "      <td>3</td>\n",
       "      <td>ZSTACK_PBTOhNGN2hiPSCs_BR1_N19_Unmixed</td>\n",
       "      <td>lyso</td>\n",
       "      <td>8</td>\n",
       "      <td>7080</td>\n",
       "      <td>3002.281250</td>\n",
       "      <td>0</td>\n",
       "      <td>128</td>\n",
       "      <td>6.252741</td>\n",
       "      <td>1.656250</td>\n",
       "      <td>...</td>\n",
       "      <td>0</td>\n",
       "      <td>[]</td>\n",
       "      <td>0</td>\n",
       "      <td>[]</td>\n",
       "      <td>0</td>\n",
       "      <td>[]</td>\n",
       "      <td>0</td>\n",
       "      <td>[]</td>\n",
       "      <td>0</td>\n",
       "      <td>[]</td>\n",
       "    </tr>\n",
       "    <tr>\n",
       "      <th>4</th>\n",
       "      <td>4</td>\n",
       "      <td>ZSTACK_PBTOhNGN2hiPSCs_BR1_N19_Unmixed</td>\n",
       "      <td>lyso</td>\n",
       "      <td>9</td>\n",
       "      <td>3976</td>\n",
       "      <td>2270.150000</td>\n",
       "      <td>863</td>\n",
       "      <td>20</td>\n",
       "      <td>3.367781</td>\n",
       "      <td>1.000000</td>\n",
       "      <td>...</td>\n",
       "      <td>0</td>\n",
       "      <td>[]</td>\n",
       "      <td>0</td>\n",
       "      <td>[]</td>\n",
       "      <td>0</td>\n",
       "      <td>[]</td>\n",
       "      <td>3</td>\n",
       "      <td>[1]</td>\n",
       "      <td>0</td>\n",
       "      <td>[]</td>\n",
       "    </tr>\n",
       "  </tbody>\n",
       "</table>\n",
       "<p>5 rows × 34 columns</p>\n",
       "</div>"
      ],
      "text/plain": [
       "   Unnamed: 0                                      ID organelle  label  \\\n",
       "0           0  ZSTACK_PBTOhNGN2hiPSCs_BR1_N19_Unmixed      lyso      2   \n",
       "1           1  ZSTACK_PBTOhNGN2hiPSCs_BR1_N19_Unmixed      lyso      5   \n",
       "2           2  ZSTACK_PBTOhNGN2hiPSCs_BR1_N19_Unmixed      lyso      6   \n",
       "3           3  ZSTACK_PBTOhNGN2hiPSCs_BR1_N19_Unmixed      lyso      8   \n",
       "4           4  ZSTACK_PBTOhNGN2hiPSCs_BR1_N19_Unmixed      lyso      9   \n",
       "\n",
       "   max_intensity  mean_intensity  min_intensity  volume  equivalent_diameter  \\\n",
       "0          65535    16752.953982              0   30836            38.906289   \n",
       "1          21639    10853.279793           2242    1544            14.340013   \n",
       "2           5773     2776.759036            480      83             5.412025   \n",
       "3           7080     3002.281250              0     128             6.252741   \n",
       "4           3976     2270.150000            863      20             3.367781   \n",
       "\n",
       "   centroid-0  ...  MT_overlap  MT_labels  GL_overlap  GL_labels  PR_overlap  \\\n",
       "0    6.450642  ...        2346     [1, 2]        2019        [1]          77   \n",
       "1    2.794041  ...           0         []           0         []           0   \n",
       "2    1.445783  ...           0         []           0         []           0   \n",
       "3    1.656250  ...           0         []           0         []           0   \n",
       "4    1.000000  ...           0         []           0         []           0   \n",
       "\n",
       "                   PR_labels  ER_overlap  ER_labels  LD_overlap  LD_labels  \n",
       "0  [3, 5, 6, 15, 17, 20, 21]        3715        [1]           0         []  \n",
       "1                         []         136        [1]           0         []  \n",
       "2                         []           0         []           0         []  \n",
       "3                         []           0         []           0         []  \n",
       "4                         []           3        [1]           0         []  \n",
       "\n",
       "[5 rows x 34 columns]"
      ]
     },
     "execution_count": 109,
     "metadata": {},
     "output_type": "execute_result"
    }
   ],
   "source": [
    "target = organelle_names[1]\n",
    "\n",
    "csv_path = out_data_path / f\"{source_file.stem}-{target}-stats.csv\"\n",
    "\n",
    "mito_table = pd.read_csv(csv_path)\n",
    "mito_table.head()"
   ]
  },
  {
   "cell_type": "code",
   "execution_count": 26,
   "metadata": {},
   "outputs": [],
   "source": [
    "### My personal notes to better understand what the radial function does\n",
    "xlabels = (create_masked_Z_projection(cellmask_obj)>0).astype(np.uint16)\n",
    "xcenter_objects = (create_masked_Z_projection(nuclei_obj,cellmask_obj.astype(bool)))>0\n",
    "xnormalized_distance, xgood_mask, xi_center, xj_center = get_normalized_distance_and_mask(xlabels, xcenter_objects, center_on_nuc = False, keep_nuc_bins = False)"
   ]
  },
  {
   "cell_type": "code",
   "execution_count": 28,
   "metadata": {},
   "outputs": [
    {
     "data": {
      "text/plain": [
       "<Image layer 'xgood_mask' at 0x23035e98190>"
      ]
     },
     "execution_count": 28,
     "metadata": {},
     "output_type": "execute_result"
    }
   ],
   "source": [
    "viewer.add_image(xgood_mask)"
   ]
  },
  {
   "cell_type": "code",
   "execution_count": null,
   "metadata": {},
   "outputs": [],
   "source": []
  }
 ],
 "metadata": {
  "kernelspec": {
   "display_name": "cento",
   "language": "python",
   "name": "python3"
  },
  "language_info": {
   "codemirror_mode": {
    "name": "ipython",
    "version": 3
   },
   "file_extension": ".py",
   "mimetype": "text/x-python",
   "name": "python",
   "nbconvert_exporter": "python",
   "pygments_lexer": "ipython3",
   "version": "3.10.11"
  },
  "orig_nbformat": 4,
  "vscode": {
   "interpreter": {
    "hash": "93c02d17d940b07f2fdb039339d8f031bbdf819bb53303e166c2960587ec682b"
   }
  }
 },
 "nbformat": 4,
 "nbformat_minor": 2
}
