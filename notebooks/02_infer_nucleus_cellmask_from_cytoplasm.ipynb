{
 "cells": [
  {
   "attachments": {},
   "cell_type": "markdown",
   "metadata": {},
   "source": [
    "# Infer ***nucleus*** and the ***cell mask*** -  2️⃣, 3️⃣\n",
    "\n",
    "--------------\n",
    "\n",
    "## OBJECTIVE: \n",
    "### ✅ Infer sub-cellular component #2 ***nucleus*** and #3 ***cell mask*** from the inverse of ***cytoplasm*** in order to understand the organelle interactome  \n",
    "\n",
    "Dependencies:\n",
    "1. The ***nucleus*** and ***cell mask*** inference rely on the ***cytoplasm_from_composite*** inference.  Therefore all of the sub-cellular objects rely on the cytoplasm segmentation.\n",
    "2. Only one cell is in the field of view.\n",
    "\n",
    "\n",
    "> CONVENTION:  \"nuclei\" for the segmentation of ALL nuclei in the image.  \"nucleus\" for the ***single*** cellmask-masked version.\n"
   ]
  },
  {
   "attachments": {},
   "cell_type": "markdown",
   "metadata": {},
   "source": [
    "\n",
    "\n",
    "### IMPORTS"
   ]
  },
  {
   "cell_type": "code",
   "execution_count": 1,
   "metadata": {},
   "outputs": [],
   "source": [
    "# top level imports\n",
    "from pathlib import Path\n",
    "import os, sys\n",
    "from collections import defaultdict\n",
    "from typing import Optional\n",
    "\n",
    "import numpy as np\n",
    "\n",
    "from aicssegmentation.core.pre_processing_utils import  intensity_normalization, image_smoothing_gaussian_slice_by_slice \n",
    "from aicssegmentation.core.utils import hole_filling\n",
    "from skimage.measure import label\n",
    "import skimage\n",
    "import tifffile\n",
    "\n",
    "\n",
    "# # package for io \n",
    "from aicsimageio import AICSImage\n",
    "\n",
    "import napari\n",
    "\n",
    "### import local python functions in ../infer_subc_2d\n",
    "sys.path.append(os.path.abspath((os.path.join(os.getcwd(), '..'))))\n",
    "\n",
    "\n",
    "from infer_subc_2d.core.file_io import (read_czi_image,\n",
    "                                        list_image_files, \n",
    "                                        import_inferred_organelle)\n",
    "from infer_subc_2d.core.img import *\n",
    "import infer_subc_2d.organelles\n",
    "       \n",
    "\n",
    "%load_ext autoreload\n",
    "%autoreload 2"
   ]
  },
  {
   "cell_type": "code",
   "execution_count": null,
   "metadata": {},
   "outputs": [],
   "source": [
    "# NOTE:  these \"constants\" are only accurate for the testing MCZ dataset\n",
    "from infer_subc_2d.constants import (TEST_IMG_N,\n",
    "                                                                    NUC_CH ,\n",
    "                                                                    LYSO_CH ,\n",
    "                                                                    MITO_CH ,\n",
    "                                                                    GOLGI_CH ,\n",
    "                                                                    PEROX_CH ,\n",
    "                                                                    ER_CH ,\n",
    "                                                                    LD_CH ,\n",
    "                                                                    RESIDUAL_CH )                       "
   ]
  },
  {
   "attachments": {},
   "cell_type": "markdown",
   "metadata": {},
   "source": [
    "\n",
    "## SETUP\n",
    "\n",
    "\n",
    "CUSTOMIZE WITH: \n",
    "1. updated path to data\n",
    "2. updated folder name for \"raw\" data\n",
    "\n",
    "> NOTE: we are operating on a single \"test\" image in this notebook.  The batch-processing of all the images will be happen at the end of the notebook after we have developed/confirmed the setmentation procedures and parameter settings.\n"
   ]
  },
  {
   "cell_type": "code",
   "execution_count": null,
   "metadata": {},
   "outputs": [],
   "source": [
    "# this will be the example image for testing the pipeline below\n",
    "test_img_n = TEST_IMG_N\n",
    "\n",
    "# build the datapath\n",
    "# all the imaging data goes here.\n",
    "data_root_path = Path(os.path.expanduser(\"~\")) / \"Projects/Imaging/data\"\n",
    "\n",
    "# linearly unmixed \".czi\" files are here\n",
    "in_data_path = data_root_path / \"raw\"\n",
    "im_type = \".czi\"\n",
    "\n",
    "# get the list of all files\n",
    "img_file_list = list_image_files(in_data_path,im_type)\n",
    "test_img_name = img_file_list[test_img_n]\n",
    "\n",
    "# save output \".tiff\" files here\n",
    "out_data_path = data_root_path / \"out\"\n",
    "\n",
    "if not Path.exists(out_data_path):\n",
    "    Path.mkdir(out_data_path)\n",
    "    print(f\"making {out_data_path}\")"
   ]
  },
  {
   "cell_type": "code",
   "execution_count": null,
   "metadata": {},
   "outputs": [],
   "source": [
    "img_data,meta_dict = read_czi_image(test_img_name)\n",
    "\n",
    "# get some top-level info about the RAW data\n",
    "channel_names = meta_dict['name']\n",
    "img = meta_dict['metadata']['aicsimage']\n",
    "scale = meta_dict['scale']\n",
    "channel_axis = meta_dict['channel_axis']\n"
   ]
  },
  {
   "cell_type": "markdown",
   "metadata": {},
   "source": [
    "\n",
    "### Get and load Image for processing - specifically for __pre-processed__ images\n",
    "\n",
    "> #### Preprocessing:\n",
    "> In this instance, we are using [Huygens Essential Software](https://svi.nl/Homepage) to deconvolve 3D fluorescence confocal images. The output is an OME TIFF file which contains the z-slices and channels in axis 0 (channel 0, zslice 1-40, channel 1, etc. etc.).\n",
    "\n",
    "An OME TIFF reads in as a dask array (similar to a numpy array, but has a slightly different format)"
   ]
  },
  {
   "cell_type": "code",
   "execution_count": 2,
   "metadata": {},
   "outputs": [
    {
     "data": {
      "text/plain": [
       "['C:\\\\Users\\\\Shannon\\\\Documents\\\\Python Scripts\\\\Infer-subc-2D\\\\neuron_raw_OME\\\\20221027_C2-107_well_1_cell_1_untreated_Linear_unmixing_decon.ome.tiff']"
      ]
     },
     "execution_count": 2,
     "metadata": {},
     "output_type": "execute_result"
    }
   ],
   "source": [
    "# this will be the example for testing the pipeline below\n",
    "test_img_n = TEST_IMG_N\n",
    "\n",
    "# build the datapath\n",
    "# all the imaging data goes here.\n",
    "data_root_path = Path(os.path.expanduser(\"~\")) / \"Documents\\Python Scripts\\Infer-subc-2D\"\n",
    "\n",
    "# linearly unmixed \".czi\" files are here\n",
    "data_path = data_root_path / \"neuron_raw_OME\"\n",
    "im_type = \".tiff\"\n",
    "\n",
    "# get the list of all files in \"raw\"\n",
    "img_file_list = list_image_files(data_path,im_type)\n",
    "# test_img_name = img_file_list[test_img_n]\n",
    "# test_img_name\n",
    "\n",
    "img_file_list"
   ]
  },
  {
   "cell_type": "code",
   "execution_count": 3,
   "metadata": {},
   "outputs": [
    {
     "name": "stderr",
     "output_type": "stream",
     "text": [
      "c:\\Users\\Shannon\\Anaconda3\\envs\\infer-subc-2D\\lib\\site-packages\\ome_types\\_convenience.py:105: FutureWarning: The default XML parser will be changing from 'xmlschema' to 'lxml' in version 0.4.0.  To silence this warning, please provide the `parser` argument, specifying either 'lxml' (to opt into the new behavior), or'xmlschema' (to retain the old behavior).\n",
      "  d = to_dict(os.fspath(xml), parser=parser, validate=validate)\n"
     ]
    }
   ],
   "source": [
    "#select one image\n",
    "test_img = img_file_list[0]\n",
    "\n",
    "# isolate image as an ndarray and metadata as a dictionary\n",
    "img_data, meta_dict = read_czi_image(test_img)\n",
    "\n",
    "# # get some top-level info about the RAW data\n",
    "channel_names = meta_dict['name']\n",
    "img = meta_dict['metadata']['aicsimage']\n",
    "scale = meta_dict['scale']\n",
    "channel_axis = meta_dict['channel_axis']\n",
    "huygens_meta = meta_dict['metadata']['raw_image_metadata']\n",
    "file_name = meta_dict['file_name'].split('\\\\')[-1][:-9]"
   ]
  },
  {
   "attachments": {},
   "cell_type": "markdown",
   "metadata": {},
   "source": [
    "## infer ***nucleus*** and ***cell mask***\n"
   ]
  },
  {
   "attachments": {},
   "cell_type": "markdown",
   "metadata": {},
   "source": [
    "### INPUT"
   ]
  },
  {
   "cell_type": "code",
   "execution_count": 5,
   "metadata": {},
   "outputs": [],
   "source": [
    "###################\n",
    "# INPUT\n",
    "###################\n",
    "seg_path = data_root_path / \"neuron_raw_OME_segmentation\"\n",
    "cytoplasm_filename = file_name + \"_cytoplasm.tiff\"\n",
    "cytoplasm_filename_path = seg_path / cytoplasm_filename\n",
    "cytoplasm_mask = tifffile.imread(cytoplasm_filename_path)"
   ]
  },
  {
   "attachments": {},
   "cell_type": "markdown",
   "metadata": {},
   "source": [
    "### PRE-PROCESSING\n"
   ]
  },
  {
   "cell_type": "code",
   "execution_count": 8,
   "metadata": {},
   "outputs": [],
   "source": [
    "###################\n",
    "# PRE_PROCESSING\n",
    "###################           \n",
    "cytoplasm_dilated = skimage.morphology.binary_dilation(cytoplasm_mask)"
   ]
  },
  {
   "attachments": {},
   "cell_type": "markdown",
   "metadata": {},
   "source": [
    "### CORE PROCESSING"
   ]
  },
  {
   "cell_type": "code",
   "execution_count": 14,
   "metadata": {},
   "outputs": [],
   "source": [
    "###################\n",
    "# CORE_PROCESSING\n",
    "###################\n",
    "# Cell mask\n",
    "cell_hole_min = 0\n",
    "cell_hole_max = 500\n",
    "cell_small_object_width = 0\n",
    "cell_method = '3D'\n",
    "cell_connectivity = 1\n",
    "cytoplasm_filled = fill_and_filter_linear_size(cytoplasm_dilated, hole_min=cell_hole_min, hole_max=cell_hole_max, min_size=cell_small_object_width, method=cell_method)\n",
    "cytoplasm_eroded = skimage.morphology.binary_erosion(cytoplasm_filled)\n",
    "\n",
    "cell_bw = cytoplasm_eroded\n",
    "\n",
    "# Nucleus\n",
    "nuclei_xor = np.logical_xor(cytoplasm_mask, cell_bw)"
   ]
  },
  {
   "attachments": {},
   "cell_type": "markdown",
   "metadata": {},
   "source": [
    "### POST PROCESSING"
   ]
  },
  {
   "cell_type": "code",
   "execution_count": 17,
   "metadata": {},
   "outputs": [],
   "source": [
    "###################\n",
    "# POST_PROCESSING\n",
    "###################\n",
    "# Nucleus\n",
    "nuc_hole_min = 0\n",
    "nuc_hole_max = 0\n",
    "nuc_small_object_width = 20\n",
    "nuc_method = '3D'\n",
    "nuc_connectivity = 3\n",
    "nuc_cleaned_img = fill_and_filter_linear_size(nuclei_xor, hole_min=nuc_hole_min, hole_max=nuc_hole_max, min_size=nuc_small_object_width, method=nuc_method, connectivity=nuc_connectivity)\n",
    "\n",
    "# Cell mask\n",
    "extra_from_dilate = np.logical_xor(nuc_cleaned_img, nuclei_xor)\n",
    "cell_mask_cleaned_img = np.logical_xor(cell_bw, extra_from_dilate)"
   ]
  },
  {
   "attachments": {},
   "cell_type": "markdown",
   "metadata": {},
   "source": [
    "### Renaming"
   ]
  },
  {
   "cell_type": "code",
   "execution_count": 19,
   "metadata": {},
   "outputs": [],
   "source": [
    "cell_mask = cell_mask_cleaned_img.astype(dtype=int)\n",
    "nucleus_mask = nuc_cleaned_img.astype(dtype=int)"
   ]
  },
  {
   "attachments": {},
   "cell_type": "markdown",
   "metadata": {},
   "source": [
    "## Visualize with `napari` 1\n",
    "Visualize the first-pass segmentation and labeling with `napari`."
   ]
  },
  {
   "cell_type": "code",
   "execution_count": 44,
   "metadata": {},
   "outputs": [
    {
     "name": "stderr",
     "output_type": "stream",
     "text": [
      "WARNING: QWindowsWindow::setGeometry: Unable to set geometry 1090x691+1890-120 (frame: 1106x730+1882-151) on QWidgetWindow/\"_QtMainWindowClassWindow\" on \"\\\\.\\DISPLAY2\". Resulting geometry: 870x587+1889-127 (frame: 886x626+1881-158) margins: 8, 31, 8, 8 minimum size: 612x587 MINMAXINFO maxSize=0,0 maxpos=0,0 mintrack=628,626 maxtrack=0,0)\n",
      "28-Mar-23 12:37:03 - vispy    - WARNING  - QWindowsWindow::setGeometry: Unable to set geometry 1090x691+1890-120 (frame: 1106x730+1882-151) on QWidgetWindow/\"_QtMainWindowClassWindow\" on \"\\\\.\\DISPLAY2\". Resulting geometry: 870x587+1889-127 (frame: 886x626+1881-158) margins: 8, 31, 8, 8 minimum size: 612x587 MINMAXINFO maxSize=0,0 maxpos=0,0 mintrack=628,626 maxtrack=0,0)\n"
     ]
    }
   ],
   "source": [
    "viewer = napari.Viewer()"
   ]
  },
  {
   "cell_type": "code",
   "execution_count": 45,
   "metadata": {},
   "outputs": [
    {
     "data": {
      "text/plain": [
       "<Image layer 'cell_mask' at 0x274d4c04d60>"
      ]
     },
     "execution_count": 45,
     "metadata": {},
     "output_type": "execute_result"
    }
   ],
   "source": [
    "viewer.add_image(img_data, scale=scale)\n",
    "viewer.add_image(cytoplasm_mask, scale=scale, opacity=0.25, colormap='magenta')\n",
    "viewer.add_image(nucleus_mask, scale=scale, opacity=0.25, colormap='blue')\n",
    "viewer.add_image(cell_mask, scale=scale, opacity=0.25, colormap='green')"
   ]
  },
  {
   "attachments": {},
   "cell_type": "markdown",
   "metadata": {},
   "source": [
    "## SAVE inferred nuclei to .tif file"
   ]
  },
  {
   "cell_type": "code",
   "execution_count": null,
   "metadata": {},
   "outputs": [],
   "source": [
    "\n",
    "\n",
    "# out_file_n = export_inferred_organelle(nuclei_object, \"nuclei\", meta_dict, out_data_path)\n"
   ]
  },
  {
   "attachments": {},
   "cell_type": "markdown",
   "metadata": {},
   "source": [
    "## DEFINE `_infer_nuclei_fromlabel` function\n",
    "\n",
    "Based on the _prototyping_ above define the function to infer nuclei.  \n"
   ]
  },
  {
   "cell_type": "code",
   "execution_count": 30,
   "metadata": {},
   "outputs": [],
   "source": [
    "##########################\n",
    "#  _infer_nuclei\n",
    "##########################\n",
    "def _infer_nucleus_cellmask_from_cytoplasm(cytoplasm_mask: np.ndarray,\n",
    "                                            cell_holefill_min: int,\n",
    "                                            cell_holefill_max: int,\n",
    "                                            cell_small_object_width: int,\n",
    "                                            cell_method: str,\n",
    "                                            cell_connectivity: int,\n",
    "                                            nuc_holefill_min: int,\n",
    "                                            nuc_holefill_max: int,\n",
    "                                            nuc_small_object_width: int,\n",
    "                                            nuc_method: str,\n",
    "                                            nuc_connectivity: int\n",
    "                                                            ) -> np.ndarray:\n",
    "    \"\"\"\n",
    "    Procedure to infer the nucleus and cell masks from the cytoplasm mask (cell area without nuclei). \n",
    "    This could be used in the case where the nuclei are not stained and other organelle markers fill the cytoplasm, but not the nuclear space.\n",
    "\n",
    "    Parameters\n",
    "    ------------\n",
    "    cytoplasm_mask: np.ndarray\n",
    "        3D (XYZ) binary mask of cytoplasm (whole cell area without the nucleus)\n",
    "    cell_holefill_min: int\n",
    "        minimum size of holes to fill (in 1D length) for cell mask\n",
    "    cell_holefill_max: int\n",
    "        maximum size of holes to fill (in 1D length) for cell mask\n",
    "    cell_small_object_width: int\n",
    "        maximum size of small object to remove (in 1D length) for cell mask\n",
    "    cell_method: str\n",
    "        '3D' or 'slice-by-slice' for size filtering and hole filling for cell mask\n",
    "    cell_connectivity: int\n",
    "        connectivity to use when computing size filter for cell mask\n",
    "    nuc_holefill_min: int\n",
    "        minimum size of holes to fill (in 1D length) for nucleus mask\n",
    "    nuc_holefill_max: int\n",
    "        maximum size of holes to fill (in 1D length) for nucleus mask\n",
    "    nuc_small_object_width: int\n",
    "        maximum size of small object to remove (in 1D length) for nucleus mask\n",
    "    nuc_method: str\n",
    "        '3D' or 'slice-by-slice' for size filtering and hole filling for cell mask\n",
    "    nuc_connectivity: int\n",
    "        connectivity to use when computing size filter for nucleus mask\n",
    "\n",
    "\n",
    "    Returns\n",
    "    -------------\n",
    "    cell_mask\n",
    "        mask defining extent of the entire cell\n",
    "    nucleus_mask\n",
    "        mask defining extent of the nucleus\n",
    "\n",
    "    \n",
    "    \"\"\"\n",
    "\n",
    "    ###################\n",
    "    # PRE_PROCESSING\n",
    "    ###################                \n",
    "    cytoplasm_dilated = skimage.morphology.binary_dilation(cytoplasm_mask)\n",
    "\n",
    "\n",
    "    ###################\n",
    "    # CORE_PROCESSING\n",
    "    ###################\n",
    "    # Cell mask\n",
    "    cytoplasm_filled = fill_and_filter_linear_size(cytoplasm_dilated, hole_min=cell_holefill_min, hole_max=cell_holefill_max, min_size=cell_small_object_width, method=cell_method, connectivity=cell_connectivity)\n",
    "    cytoplasm_eroded = skimage.morphology.binary_erosion(cytoplasm_filled)\n",
    "\n",
    "    cell_bw = cytoplasm_eroded\n",
    "\n",
    "    # Nucleus\n",
    "    nuclei_xor = np.logical_xor(cytoplasm_mask, cell_bw)\n",
    "\n",
    "\n",
    "    ###################\n",
    "    # POST_PROCESSING\n",
    "    ###################\n",
    "    # Nucleus\n",
    "    nuc_cleaned_img = fill_and_filter_linear_size(nuclei_xor, hole_min=nuc_holefill_min, hole_max=nuc_holefill_max, min_size=nuc_small_object_width, method=nuc_method, connectivity=nuc_connectivity)\n",
    "\n",
    "    # Cell mask\n",
    "    extra_from_dilate = np.logical_xor(nuc_cleaned_img, nuclei_xor)\n",
    "    cell_mask_cleaned_img = np.logical_xor(cell_bw, extra_from_dilate)\n",
    "\n",
    "\n",
    "    ###################\n",
    "    # RENAMING\n",
    "    ###################\n",
    "    cell_mask = cell_mask_cleaned_img.astype(dtype=int)\n",
    "    nucleus_mask = nuc_cleaned_img.astype(dtype=int)\n",
    "\n",
    "    return cell_mask, nucleus_mask\n"
   ]
  },
  {
   "attachments": {},
   "cell_type": "markdown",
   "metadata": {},
   "source": [
    "## DEFINE `_fixed_infer_nuclei` function\n"
   ]
  },
  {
   "cell_type": "code",
   "execution_count": 34,
   "metadata": {},
   "outputs": [],
   "source": [
    "##########################\n",
    "#  fixed_infer_nucleus_cellmask_from_cytoplasm\n",
    "##########################\n",
    "def _fixed_infer_nucleus_cellmask_from_cytoplasm(in_img: np.ndarray) -> np.ndarray:\n",
    "    \"\"\"\n",
    "    Procedure to infer cellmask from linearly unmixed input, with a *fixed* set of parameters for each step in the procedure.  i.e. \"hard coded\"\n",
    "\n",
    "    Parameters\n",
    "    ------------\n",
    "    in_img: np.ndarray\n",
    "        a 3d image containing all the channels\n",
    " \n",
    "    Returns\n",
    "    -------------\n",
    "    nuclei_object\n",
    "        inferred nuclei\n",
    "    \n",
    "    \"\"\"\n",
    "    cell_holefill_min = 0\n",
    "    cell_holefill_max = 500\n",
    "    cell_small_object_width = 0\n",
    "    cell_method = '3D'\n",
    "    cell_connectivity = 3\n",
    "    nuc_holefill_min = 0\n",
    "    nuc_holefill_max = 0\n",
    "    nuc_small_object_width = 20\n",
    "    nuc_method = '3D'\n",
    "    nuc_connectivity = 3\n",
    "\n",
    "    return _infer_nucleus_cellmask_from_cytoplasm(cytoplasm_mask,\n",
    "                                    cell_holefill_min,\n",
    "                                    cell_holefill_max,\n",
    "                                    cell_small_object_width,\n",
    "                                    cell_method,\n",
    "                                    cell_connectivity,\n",
    "                                    nuc_holefill_min,\n",
    "                                    nuc_holefill_max,\n",
    "                                    nuc_small_object_width,\n",
    "                                    nuc_method,\n",
    "                                    nuc_connectivity)\n"
   ]
  },
  {
   "attachments": {},
   "cell_type": "markdown",
   "metadata": {},
   "source": [
    "---------------------\n",
    "## TEST `_infer_nuclei`  function defined above\n"
   ]
  },
  {
   "cell_type": "code",
   "execution_count": 35,
   "metadata": {},
   "outputs": [],
   "source": [
    "\n",
    "_cell_mask, _nucleus_mask =  _fixed_infer_nucleus_cellmask_from_cytoplasm(cytoplasm_mask) \n"
   ]
  },
  {
   "cell_type": "markdown",
   "metadata": {},
   "source": [
    "---------------------\n",
    "# TEST `infer_nuclei_fromlabel` exported functions\n",
    "\n",
    "> the prototype `_infer_nuclei` was copied to the [`.organelles.nuclei`](../infer_subc_2d/organelles/nuclei.py) sub-module \n",
    "##\n",
    "`infer_nuclei_fromlabel` procedure\n",
    "\n",
    "Use the `infer_nuclei_fromlabel` function to infer the Nucleus and export it as an _ome.tif_ for easy reference."
   ]
  },
  {
   "cell_type": "code",
   "execution_count": 42,
   "metadata": {},
   "outputs": [],
   "source": [
    "from infer_subc_2d.organelles.nuclei import infer_nucleus_cellmask_from_cytoplasm, fixed_infer_nucleus_cellmask_from_cytoplasm\n",
    "\n",
    "cell_mask_2, nucleus_mask_2 =  fixed_infer_nucleus_cellmask_from_cytoplasm(cytoplasm_mask) "
   ]
  },
  {
   "attachments": {},
   "cell_type": "markdown",
   "metadata": {},
   "source": [
    "## Visualize  2\n"
   ]
  },
  {
   "cell_type": "code",
   "execution_count": 46,
   "metadata": {},
   "outputs": [
    {
     "data": {
      "text/plain": [
       "<Image layer 'cell_mask_2' at 0x274d4aa7d00>"
      ]
     },
     "execution_count": 46,
     "metadata": {},
     "output_type": "execute_result"
    }
   ],
   "source": [
    "viewer.add_image(_nucleus_mask, scale=scale, opacity=0.25, colormap='blue')\n",
    "viewer.add_image(_cell_mask, scale=scale, opacity=0.25, colormap='green')\n",
    "viewer.add_image(nucleus_mask_2, scale=scale, opacity=0.25, colormap='blue')\n",
    "viewer.add_image(cell_mask_2, scale=scale, opacity=0.25, colormap='green')"
   ]
  },
  {
   "cell_type": "code",
   "execution_count": 47,
   "metadata": {},
   "outputs": [
    {
     "data": {
      "image/png": "[encoded data removed]",
      "text/html": [
       "<img src=\"data:image/png;base64,iVBORw0KGgoAAAANSUhEUgAABl4AAANvCAYAAAC8qae4AABXr0lEQVR42u3923LbWJYu4A4cSB3tdGbWca2o1dH9Hjsa/UK7nqX2CxX6VXpdVK3Mcmbali2KJIh9IU8YpCiJkiCJh++LUJAEQRAcAJ0k/xxzZhHRBgAAAAAAAE+WKwEAAAAAAMAwBC8AAAAAAAADEbwAAAAAAAAMRPACAAAAAAAwEMELAAAAAADAQAQvAAAAAAAAAxG8AAAAAAAADETwAgAAAAAAMBDBCwAAAAAAwEAELwAAAAAAAAMRvAAAAAAAAAxE8AIAAAAAADAQwQsAAAAAAMBABC8AAAAAAAADEbwAAAAAAAAMRPACAAAAAAAwEMELAAAAAADAQAQvAAAAAAAAAxG8AAAAAAAADETwAgAAAAAAMBDBCwAAAAAAwEAELwAAAAAAAAMRvAAAAAAAAAxE8AIAAAAAADAQwQsAAAAAAMBABC8AAAAAAAADEbwAAAAAAAAMRPACAAAAAAAwEMELAAAAAADAQAQvAAAAAAAAAxG8AAAAAAAADETwAgAAAAAAMBDBCwAAAAAAwEAELwAAAAAAAAMRvAAAAAAAAAxE8AIAAAAAADAQwQsAAAAAAMBABC8AAAAAAAADEbwAAAAAAAAMRPACAAAAAAAwEMELAAAAAADAQAQvAAAAAAAAAxG8AAD3yrIssixTCAAAAIB7CF4AgHu1basIAAAAABvIIsIvKQAAAAAAAAPQ8QIAAAAAADAQwQsAAAAAAMBABC8AAAAAAAADEbwAAAAAAAAMRPACAAAAAAAwEMELAAAAAADAQAQvAAAAAAAAAxG8AAAAAAAADETwAgAAAAAAMBDBCwAAAAAAwEAELwAAAAAAAAMplQAAGFz17Wr231m0basmAAAAwEHQ8QIAPJssyyKqiOy/MsUAAAAADoLgBQAYXn1zUZYJXwAAAID9J3gBAJ7N0hBj1XX4IoABAAAA9lkWEQZdBwCeR/X1A0eWRVEU0bZtLBaLaP/u4wcAAACwn3S8AAAvom3bbx0wlXoAAAAA+0nHCwDwvKqvHzrWDTFWrwxHBgAAALDjBC8AwPOreh8+vgYwWZZdhy719XIBDAAAALAPDDUGADy/evlmlmWRZVnkuY8iAAAAwH7xawcA8LoqJQAAAAD2R6kEAMBLS8OKGV4MAAAA2Dc6XgCAFyV0AQAAAPZZFhF+9QAAXkZ1x3218gAAAAC7T8cLAAAAAADAQMzxAgC8nLp3vVIOAAAAYP8YagwAAAAAAGAghhoDAAAAAAAYiOAFAAAAAABgIIIXAAAAAACAgQheAAAAAAAABiJ4AQAAAAAAGIjgBQAAAAAAYCCCFwAAAAAAgIEIXgAAAAAAAAYieAEAAAAAABiI4AUAAAAAAGAgghcAAHZXpQQAAABsF8ELAAC7rVICAAAAtofgBQAAAAAAYCCCFwAAdl+lBAAAAGwHwQsAALurVgIAAAC2i+AFAAAAAABgIIIXAAB2W60EAAAAbI8sIlplAAAAAAAAeDodLwAAAAAAAAMRvAAAAAAAAAxE8AIAAAAAADAQwQsAAAAAAMBABC8AAAAAAAADEbwAAAAAAAAMRPACAAAAAAAwEMELAHDwsixTBAAAAGAQghcA4KAJXQAAAIAhCV4AgIPWtq0iAAAAAIPJIsKvDQAAAAAAAAPQ8QIAAAAAADAQwQsAAAAAAMBABC8AAAAAAAADEbwAAAAAAAAMRPACAAAAAAAwEMELAAAAAADAQAQvAAAAAAAAAxG8AAAAAAAADETwAgAAAAAAMJBSCQAA2GlVRJZl0bZtRK0cAAAAvC4dLwAA7K7qOnSJ+HYJAAAAr0nwAgDAzloKW2r1AAAA4PUJXgAA2F1173qlHAAAALw+wQsAADurbdvl65WaAAAA8LpKJQAAYJf1wxcAAAB4bTpeAADYbbUSAAAAsD0ELwAA7L565RIAAABeSRYRxmYAAAAAAAAYgI4XAAAAAACAgQheAAAAAAAABiJ4AQAAAAAAGIjgBQAAAAAAYCCCFwAAAAAAgIEIXgAAAAAAAAYieAEAAAAAABiI4AUAAAAAAGAgghcAAPZOlmWKAAAAwKsQvAAAsFdS6CJ8AQAA4DUIXgAAAAAAAAYieAEAYK+0bbt0CQAAAC8piwjfSAEAAAAAAAag4wUAAAAAAGAgghcAAAAAAICBCF4AAAAAAAAGIngBAAAAAAAYiOAFAAAAAABgIIIXAAAAAACAgQheAAAAAAAABiJ4AQAAAAAAGIjgBQAAAAAAYCCCFwAAAAAAgIEIXgAAAAAAAAYieAEA4PBUSgAAAMDzELwAAAAAAAAMRPACAMBhqpQAAACA4QleAAA4PLUSAAAA8DwELwAAHK5KCQAAABiW4AUAAAAAAGAgghcAAA5bpQQAAAAMR/ACAAAAAAAwEMELAACHqe5dr5QDAACAYQheAAAAAAAABiJ4AQCAWgkAAAAYhuAFAAAAAABgIIIXAAAAAACAgQheAAAAAAAABiJ4AQAAAAAAGIjgBQCAw1UrAQAAAMMSvAAAwL6pvv4BAADw4gQvAAActloJAAAAGI7gBQAA9lGtBAAAAK9B8AIAcGiqMAwVAAAAPBPBCwDAoaqUAAAAAIYmeAEAgH1TKwEAAMBrEbwAAByaune9Uo69UzmuAAAAr0nwAgAAAAAAMBDBCwDAAcr+O4ssu/4DAAAAhiN4AQA4UCl0yf5L+LI3KiUAAAB4bYIXAIBDVYeOl31SLR9bAAAAXofgBQDgALVt2/1FhE4JAAAAGIjgBQDgQKXQpQtf2F2VEgAAAGwLwQsAwAETuuyhWgkAAABek+AFAOCQ1UoAAAAAQxK8AAAculoJHEsAAACGkkWE8SUAAGBXVV8va6UAAADYBjpeAAAAAAAABiJ4AQCAXVcrAQAAwLYQvAAAAPC6KiUAAGB/CF4AAAB4PZUSAACwXwQvAACwqyolAAAA2DZZRLTKAAAAwIurvl7WSgEAwP7Q8QIAAAAAADAQwQsAAN9UYfgqAAAAeALBCwAA16pbrgM85785tVIAALBfBC8AAAAAAAADEbwAAADwsiolAABgfwleAABgV1XbsRtZlnV/AAAAh07wAgAAu6hauXwlWZbFeDyON2/eRFEUjgubn7sR5ncBAGAvCV4AAGAX1duzK03TxHQ6jcVi4biwk+cwAAAMqVQCAADgsdq2jaZpomkaxQAAAAjBCwAAt6nC/5HORtq2VQQ2598VAAD2nKHGAAAAAAAABiJ4AQAAAAAAGIjgBQCAa7US7JRKCdjBc9Z5CwDAARC8AADALquVgB1TKQEAAPtN8AIAwDd1fPshv1aOrT9WsCsqJQAA4HAIXgAAuKlWAgAAAHiMLCJaZQAAAOBZVCu3ayUBAGC/6XgBAAAAAAAYSKkEAAAAPLtaCQAAOAw6XgAAAHhetRIAAHA4zPECAAAAAAAwEB0vAAAAPI9KCQAAODzmeAEAAGBYlRIAAHC4dLwAAAAwnKp3vVYOAAAOj+AFAACAYVRKAAAAghcAAAAAAICBCF4AAAB4ukoJAAAgQvACAADAU1VKAAAAieAFAACA4dVKAADAYRK8AAAA8HjVmmW1sgAAcLhKJQAAAOBRqpXbtZIAAICOFwAAAB6uWrldKwkAAEQIXgAAAHioauV2rSQAAJAIXgAAAAAAAAYieAEAAGBz1crtWkkAAKBP8AIAAMBmKiUAAID7CF4AAAB4nFoJAABgVakEAAAA3KvqXa+VAwAAbqPjBQAAgM3VSgAAAHcRvAAAALCZWgkAAOA+ghcAANhVVZjsnJc712plAACATQheAAAAuFutBAAAsCnBCwAAAAAAwEAELwAAsKtqJQAAANg2ghcAAAAAAICBZBHRKgMAAAAAAMDT6XgBAAAAAAAYiOAFAAAAAABgIIIXAACeT/X1DwAAAA6E4AUAgOdXKQEAAACHoVQCAABeRNW7XisHAAAA+0nHCwAAz6e+ZXmlNAAAAOynLCJaZQAA4NlVtyyvlQYAAID9IXgBAODlVSu3ayUBePK/qf4tBQDYCuZ4AQDg5dVfLyulAHg0/4YCAGwlwQsAAK+nVgKAB6uUAABgm+VKAAAAADuuVgIAgG2h4wUAAAB2QXXL8lppAAC2iY4XAAAA2HbVLctrpQEA2DaCFwAAANhm1S3La6UBANhGghcAAADYNbUSAABsK3O8AAAAwLaqVm7XSgIAsO10vAAAAMAuqJUAAGAXCF4AAABg29VKAACwK7KIaJUBAAAAAADg6XS8AAAAAAAADETwAgAAAAAAMBDBCwAAAAAAwEAELwAAAAAAAAMRvAAAAOyr6usfAADwYgQvAAAA+6j6elkrBQAAvCTBCwAAwL6plAAAAF6L4AUAAAAAAGAgghcAAIB9VSsBAAC8NMELAADAPqqVAAAAXkMWEa0yAAAAAAAAPJ2OFwAAAAAAgIEIXgAAAHZQlmWRZVkURRFZlikIAABsCcELAADAjklBS1EUkee+1gEAwDbxCR0AAGAHpfClbU3bCQAA20TwAgAAXKuUYJe0/9lG+59tNP+fRjHAv4sAwBYRvAAAAN9USrAL2v+87nJZLBbXt3W9AADA1iiVAAAA6Muy7NsP+dXXhbW6bI2vx0TYAi/zXgMAeCgdLwAAwJL2P9vrHxyr3sJKXbZGfc9ttp/3k+MFAOw1wQsAAOCHRXhJtRL4NxEA2GeCFwAA4H61EmyNynGBF3uPeZ8BAI8geAEAAO5WK4HjAgAAbErwAgAAh666475aeYAD/vfQv4EAwCMIXgAAAAAAAAYieAEAgENXx/r/q7tWmq1TOTbwov82AgA8QqkEAABARFz/yFj1rgMc4r+DAABPpOMFAABYViuB4wMAADyW4AUAAPimVoKtVSkBPPt7zPsMABiAocYAAAB2Qa0E4H0GAOyCLCJaZQAAAAAAAHg6Q40BAAAAAAAMRPACAAAAAAAwEHO8AAAAbKksy7rrbWuUaAAA2AU6XgAAAAAAAAYieAEAAAAAABhIFhH61QEAAAAAAAag4wUAAAAAAGAgghcAAAAAAICBCF4AAAAAAAAGIngBAAAAAAAYiOAFAAAAAABgIIIXAAAAAACAgQheAAAAAAAABiJ4AQAAAAAAGIjgBQAAAAAAYCCCFwAAAAAAgIEIXgAAAAAAAAYieAEAAAAAABiI4AUAAAAAAGAgghcAAAAAAICBCF4AAAAAAAAGIngBAAAAAAAYiOAFAAAAAABgIIIXAAAAAACAgQheAAAAnlulBAAAcCgELwAAAM+pUgIAADgkghcAAAAAAICBCF4AAACeS/X1slYKAAA4FIIXAACA51ApAQAAHKJSCQAAAAZUrdyulQQAAA6J4AUAAOCpqjXLamUBAIBDZKgxAACAp6jWLKuVBQAADpXgBQAAAAAAYCCCFwAAAAAAgIEIXgAAAB6rUgKcJwAALBO8AAAADKlWApwTAACHrFQCAACAR6jWLKuVhTXnh/MCAOCgCF4AAACGUCsBcTOQc14AABwcQ40BAAA8VKUEbHBe1EoCAHCIBC8AAAAPUa1ZViuL88I5AQDANcELAADAI2RZpghcq1Zu10oCAHDIzPECAACwqer6QuhC/3xYUisLAMChE7wAAABsovp2tW3bbzdqpQEAAL4RvAAAANylUgKcFwAAbE7wAgAA0FdtsE6tTM4R5wUAAOsJXgAAAJLq9ruyLLseYqxWJufIGs6L1zsGag8AbJlcCQAAAOLeThehC7dyXgAA0JNFRKsMAADAwavuub9WItja96n3JwCwRXS8AAAAVPfcXysRbO371PsTANgyghcAAAAAAICBlEoAAABwh1oJwHsTAGBzOl4AAIDDVt1xX608sJXvU+9NAGCLCV4AAADWqZUAtkmWZYoAAOzG55aIaJUBAAA4aNXK7VpJwPsTAOBxdLwAAAD01UoAW6Py/gQAdo/gBQAAANg+lRIAALupVAIAAODg1UoA3qMAAMMQvAAAAADbqVYCAGD3ZBHRKgMAAAAAAMDTmeMFAAAAAABgIIIXAAAAAACAgQheAAAAAAAABiJ4AQAAAAAAGIjgBQAAAAAAYCCCFwAAAAAAgIEIXgAAAAAAAAYieAEAAAAAABiI4AUAAAAAAGAgghcAAAAAAICBCF4AAAAAAAAGIngBAAAAAAAYiOAFAAAAAABgIIIXAAAAYK0syyLLMoUAAHgAwQsAAAAAAMBAsoholQEAAAAAAODpdLwAAAAAAAAMRPACAAAAAAAwEMELAAAAAADAQAQvAAAAAAAAAxG8AAAAAAAADETwAgAAAAAAMBDBCwAAAAAAwEAELwAAAAAAAAMRvAAAAAAAAAxE8AIAAAAAADAQwQsAAAAAAMBABC8AAAAAAAADEbwAAAAAAAAMpFQCAAA4MFXveq0cAAAAQxK8AADAoahWbtdKAgAAMDRDjQEAwCGoNlwGAADAk2QR0SoDAADsqeqB69dKBgAA8BSCFwAA2DfVEx9fKyEAAMBjCV4AAGCfVANuq1ZOAACAhxK8AADAvqg2+AKQZd31tt3wq0CttAAAAJsSvAAAwD6oNvwC0AteIpbDl3tDmVqZAQAA7pMrAQAA7Lhqs9VSsJLneZRlGVmW3Qhi0u119w06jBkAAMCeKpUAAAB2VPXwh2RZFnmeR57nsVgsbnS2FEURERFN02w+FBkAAADfvneFocYAAGD3VI/48P81dCnL6///ajabRdu2XcCSZVmMx+OIiJjP50vBTOp+6cKY2iEAAABY+90rBC8AALA7qqc9PHW7RFx3tUTEjXDlxpeGr4FNur5YLK5Dmb/7KgEAAHDjO1QIXgAAYLtVA34B6M3hkgKX/pBiq+FLnucxGo3i+Pg4FotFzGazmM/nMZ/Pvz22dogAAAC671UheAEAgO1VPcOXgJVwZTV4Kcsyjo6OuttnZ2fx5s2b+PjxY3z48CHm83nXLbP0+Nrhgp36QaAXwAIAMJxSCQAAgH4nzMnJSfzud7+LiOt5YI6Pj6MoisjzfGlOmP5j27a9DolqtQQAAA6b4AUAAA7Muv/DvW3bLnxZLBYREVEURUyn0/j06VO0bdsNL7bOUvgSIYCBHf23AACApzPUGAAAbLPqhb8gZFkURRHj8TjKsoymaWKxWHShzHQ6XRpmbNXaH3JrhxEAADgcghcAANhW1St9SViZA6a/fJP/Q/7OdWqHFQAA2G+GGgMAAJY8Zfihex9bfb2s1RkAANhPOl4AAGAbVY/8gP+1W+W55264rSvmUc9bO9wAAMD+ELwAAMA2qu75IL8mYFkNQ15q4uxNhyC7V+2ws0fvXeczAMDBErwAAMC2qTb4IH9LZ8u6TpSXCmCeTf089c3+O+tut23rh3Ie/76sb7nfOQUAcJAELwAAsG2qJ3zAv2UIsIg9CGCG+hL0tUb9Tp2uNrX6MPB70zkFAHB43zlC8AIAANulesIH/F7wstoV87jg5a+3LP/b7n35+VqPPM+7603T3KxN7RRk4PeqcwoA4KAIXgAAYJtUA3zI7wUMERGLxaK7b/Pw5a8PeMa/3fGY7QhosiyL8Xgco9EoFotFNE0T8/k8FouFbhde5n3r/AIAOBiCFwAA2CbVAB/yn9z18tcXftHPG85kWRZFUcQf//jHOD8/j48fP8aHDx9iMplE27bra1I7FXmG97LzCgDgIORKAAAA+6UfJPSDhe0MXdJzPu/zFkUR4/E4iqKIsixv1Ca5a44ceJA6bgYtlbIAAByCUgkAAGD/pEBhtftlffjy1y3Z67Qfz9MB0zRNLBaLODo66oZh60u1yrIs2qrVncAw+udRpRwAAIdAxwsAALBlhg+C5vN5XFxcxK+//hr/+te/4urq6tZ1u3CqciQYWK0EAACHQPACAADbolKCb4YLX9q2jcViEZ8/f45ff/01Pn36FPP5fO16Sx1BtaMAAAA8nOAFAADYUsN2vkyn05jNZrFYLJQWAAB4NoIXAADYE1mWLf2tWj+/y7YbJnxZ99p3sx4AAMC2K5UAAAB227qQJS0XLnzzoFrU6gUAADyOjhcAANgG1frFt4UqtymKIoqiePDjtttfnR8AAMDOELwAAMBrq26/6yFdGnmeR1mWdwYv9w1Htr2ELwAAwG4QvAAAwGuqHv6Qu8KTxWIRTdOsnUA+rZ/neeR5/6vA33akWC8UvtROSwAA4PEELwAAsMVWA5a7ulQWi0XMZrNomiYi1nfLpNDlZnCz2+HLfg2tBgAA7DLBCwAAvJbq7rv7HSrp9jpt2679WyfNAXOz62WX/PVVjwsAAMBdBC8AALDFiqKIsiwHC0mKoojRaLQ0F8zudb1ErIYvD5kLBwAA4DllEeEbCgAAvIbqng/rvY6XNHxY30PDhizLYjwed4HLYrGI6XQai8Xijm1t+6T2zxQW1U5PAADgcUolAACAV1B9u5pl2drgIy27a86Wh5rP57FYLLoOmvu3mYKNvzpmAAAAGzDUGAAAvKI0zNfykF/f3Ddny13bXd1e27axWCyiaZrub3X93ZukXiAEAABs2fe8MNQYAAC8vOpb6JLneWRZthSEPLW7pR+g9LfVf87+3DGpE2axWNzz/NsadAw85FjtFAUAAB7HUGMAAPDK8jyP0WgUTdN0Achtw489Vdu2XWdLURQxHo+7+1Lw85zP/xr6XUX917Qvrw8AANiy73hKAAAAr2s0GsXvf//7+P3vfx9HR0dP3t5dw4WthhBN08RisYiiKGI0GnXdN7dv5287U9f+8GnHx8fx7t27ODk5iaIobry+3RtiDQAA2FaCFwAAeM0P5HkeJycn8ac//Sn+8Ic/xPHx8bM/ZwoZ0nwvERFlWXbBS/rrr7vd/nbra8yyLEajUfz444/x7//+7/HDDz/E8fHxUviytruncm4CAACP/J6nBAAA8PouLi7ip59+islk8qTtpCAhBSd3rRdxPdzWfD7vOl8iIoqiuCd82e6ul37okud5HB0dxbt37+Lt27dRlmWUZdm9RgAAgMG/k0SEgY0BAOAlVb0P5FkWZVnG0dFRzGazaJqm60J56Bwk/aG1IqILUvrbSfeVZbkUrKQhxtIcM23bRtu23TbW++uWzZPyt6XXmF7XyclJ/PGPf4yjo6P4+eef48uXLzGbzbrXemeta6crAADwMKUSAADA65rP5zGfz7t5ViKuJ7pf7TQZMuRI4UoKJ9J8L03T3Ahqbn/ev0XE/3dr65qCo8lkEj/99FPkeR7z+bwLuO4NXQAAAB5Bbz0AALyi1FkScR1yvHnzJsbj8dpulE3mW1ntVFkNFdLtxWLR/TVNsxRGpFAmPf9dsuz/t5U17V+fz+fx5cuX+Pz5c0wmk+61rqvPDZVzFAAAeBhDjQEAwEurvn4YXxNqFEWx1GWy2pGyGqjcFozcFShsEuA8xPVz/XULCvu3jV7vozpcaqctAACwGR0vAADwCm4LP5qmWZp7pL9+/zH926v3vdTQWf1undtCj5fzt3v3c3l/AQAAnofgBQAAXkE/AMjzPIqiuHF/GvIrhTCr60R8C102HYrsId0uuxNUvEDoUzlnAQCAzQheAABgC6zOS5Iu+/OtRCwHJ3mex2g0WpoPZnWdu57vrmBl3fKiKKIsyzu2+hpdL3c/59DDqgEAANxH8AIAAK9kdaL729ZJ87ukCeEjrkOXsiy74GWTrpd1961bti7oGY/H8f3338cf//jHODk56Z7zpseGL3978mNWu38e0gm0kco5CwAA3E/wAgAAr2jTobz6HSopTEidLrdt767w4SGBRFmWcX5+Hj/88EP8x3/8R/zv//2/4+TkJIqiuGU7zx2+/G1p3f4+FEXR7Ve/I0j4AgAAvBTBCwAAvJJNwo8sy24MC9bvlJnNZtE0TdcVk+7vDzv20NBhNbBJ4cXnz59jPB7HX/7yl/jxxx/j/Pw8xuPxLVtZDkeWl2+yLO7YbtwIlLIsi/F4HEdHRzEej7uwJXUGDapy7gIAALcrlQAAALbXbR0xaWiyNA/M6vr9zph+QLEuwIlYDjL6Q5+lrpqmaWIymcQvv/wS33//fXz33XdRFEX8+uuvS8Og3dzfv0XEXx/xym8PY/pBUpZlURRF5HkeJycnMRqNYjKZLNVgPB7HfD5fGqoNAADguQheAADglaSQYtOOlP76/Q6X/n2rFotFFEURo9EoxuNxFEURTdPEbDbrwojFYhFZlsXx8XGUZdkFL6mTJoUxbdvGP/7xj5jP51GWZYzH4xiNRlGW5Y0AaNnf7rkd8S2cubv7pd/hUhRFHB0dxdHRUYxGozg+Po62bePz589dbVIodPu+AQAADMtQYwAA8Mrum+el36WyyfqrUkgxHo/j/Py86wwpy3Jp/pMU0hwfH8fx8XGMRqMYjUZRFMX1l4c8j6Ojo1gsFjGZTOLi4iIuLy8fvD/r/e3Br6csyzg5OYmzs7PutUTEUiCVAqShdCFZ5bwFAADWE7wAAMAWWB3+a90wYOvWX72+TupOSYFL/3GpUyUFFKmzpW3byPO8m6w+XT86OuqGHPv48WNMp9OuMybt6+Pd3+2S9uH4+DhOT0/j+Pg4iqKILMuiaZq4uLhYClr6w6A91Y15cyrnLQAAsOY7mBIAAMB2WA1Q0jBfSRpi7Lb1120vDROWbqehxvrDjKX75vN5XF1dxXw+j6Io1g7PdXV1FZPJJCaTydq5Zfr688psYvX1rcrzPE5PT+P09DRGo1GcnJzEfD6P2WwWo9Eovnz5ciN4GaYb5w5VRNTOXQAA4BvBCwAA7JD7wonVdSMi5vN5XFxcxGw2i8ViEdPpNGaz2Y25T9J9aViyFNKkOWAWi0VcXV1F27ZdF810Ou2GG0vbWu162WSfV7t61q2f53mcnZ3F2dnZ9ZeZsuyGRpvNZvHhw4eYzWbd4+/b3kPrfqsqhC8AAEBH8AIAAFssBQhpLpZ+h8pd+sNiLRaLmM/nERFxcXGxNDxYf46X/lwyqQNmsVhEnufd5PVv376NPM/j8vIyZrPZUtCxTpp3JQ1hdtu+pqHM0pBn68KatH9p/dPT0zg5OYmIiH/+858xm81uzIezSa3uk0Kh1dfykBAMAAA4HIIXAADYAWli+9ls1gUiEXcP8ZU6QvohS0QsdaakOVPyPI/pdBpXV1exWCy6QCXP8yjLMk5PT+O7776LH374Idq2jX/84x8xmUxiOp3eG6qk/Vkduqz/mPQ86XnXWSwW8fnz5yiKIr7//vs4Pz+PiOvhz9a5KxTZZBi0fpfL8fFxHB8fx3w+j+l02g3V1qlC10t1y/La+xcAgMMieAEAgJdWx4MnZh+NRvHdd9/FdDrtulbSEGD98CCFBSmoGY/H3bBi/aHDIiKKoojT09P485//HGVZxs8//xzv37/v1klhyHg8jvPz8zg/P483b97Ex48f4/LystuH9Hzr5oRJnSFlWcbR0VE3XNl8Pl/a9xQK3aVt2/jy5Us0TbMUesxms7i4uHhw98ldYVGS53nked69/svLy67j57bOnINUbXBfrUwAABwGwQsAALyyu7ovUlfK2dlZ/PnPf47xeBz/+te/4p///GcXQqzOP5KGBnvz5k18//338fHjx/j48WM3EX0KLVKwcnZ2FicnJ/Hly5f45ZdfuuG60nbevn0b7969i4iIy8vLiIg4PT3thiy7a/6TxWIRi8UixuNxfPfddzGfz6Nt264Lpz8PTb+TZ11d0jwyl5eXcXV1FR8/fow3b95ElmXx6dOnOztvVt3VKRRxHXS9e/cuTk5O4urqqguNUniVhm7jq7p3vbplneqexwEAwJ4QvAAAwCu6c9L2r1Jnyng8jtPT0/jLX/7SDQvW7/xI85Dked51qXz//feRZVlMJpOuiyUFFCnE+Oc//xlv3rzp1ukHHU3TxOXlZVxeXsbp6Wn89ttvXShTFEVExNpOl1Wz2Sz+9a9/dXO4rAYfq9voD4u2bg6axWIRk8kkmqaJPM/vHKJsUykIyrIsjo+P409/+lOMx+P45z//GRER0+l0aXi1ft11vfTUa5ZVygIAwOEQvAAAwCvrhy/rfsAviiJOTk7i5OSkC1W+++67eP/+fdclkrpX+tuZTCbx22+/RdM0MRqNuo6XfpAxm83i119/jYuLixuBSD/cmM/n8ec//zk+f/4c79+/j+l02nXPbNJp0rZtTKfTpYnq1wU26fX1hyVbHVqsX6fpdPosx6Moim5OmfT8KYBaDXmELk9Qha4XAAD2juAFAABeSZr75OzsLBaLRTd02G3DYJ2fn3dDd6XhwSaTSbed4+PjLuCYz+fx6dOnmE6nUZZlF5Cshh1pkvg0QX3//rZtu2AndZs0TbM0rNdDQ4eiKKIoim7IsfT4FMacnJzEu3fv4u3btxER8enTp/j48WN8/vy5e0x//55DCqR+/vnnrq5peLPZbCZoeYz662W15r5qzXoAALDDBC8AAPBK8jyPd+/exX/8x3/ExcVF/M///E9cXFzcWG82m3UhytHR0dLQY2lIruPj43jz5k20bRsfP36MyWQSl5eXN+Yl6QcdKfjoz7WyLlRYLBYxnU7jw4cPS/uehivbJIhInS5FUXT7nZ4zXS/LMn744Yf4t3/7t8iyLKbTaZydnUVZlrFYLOLTp08bD+u1yRBuff3h1SKi62w5OzuLLMvi4uLiRvDDI9RfL6tb7q9C+AIAwO5/11MCAAB4eanD4/T0tOtGKcuyC1L6FotFXFxcxD/+8Y9u2fn5eZycnMRoNIqyLGM0GkVRFPHmzZs4Pj6OLMuiaZpuLpjUBbO6D3cNc5buT2FHmk/l6OgoTk5O4vj4uJvnJa3ffdH4OgdMURRdsJKWjUajbhvp7/T0NM7OzuLt27fx7t27KMsy5vN5lGUZ3333XZyenna1uS1U6e/vU6RAaTabxcXFRbx///7GfDo3alY7px/krnpVYU4YAAB2muAFAABeSRoW7OLiYqPJ4T9+/Bg//fRTRFyHMWkulNFotDQp/Hg87raf5nVJ4c7q86dAJF329YOMFGakzpTRaLTUuZIen/5SwNIPXlaDmLR/KRRKwdPl5WW3bycnJ/Hjjz/G999/HycnJ91re4ljk4YcS6HL6jBnul+eqL7n/kqJAADYTYYaAwCAV5A6SH755ZeYz+eRZVlMJpO1E863bRtXV1fx888/x08//dR1naQgI+J6kvkUZFxdXS2FG/1QJHXCLBaLyLIsRqNRnJycRFEUMZ1Ou8nkU9dHf2ivLMu6gChNPp/2d7XTJIUu8/m8C3SOjo4iy7K4vLzsAqG07aIo4u3bt3F8fBwR18OrpcDou+++i//zf/5PjEaj+Ne//hU///zzo4b9uqu7575jdddt3S5PkGpX3XJ/pcYAAOwewQsAALyS1PHy66+/RpZlt4YuERGTyWQpOLi6uuo6QLIsi6urq/jy5UtcXl7eCFxSZ0xRFF04kwKRN2/exNnZWTecWZoXZnXOk3Q9hTJ3BS/pOdNrapqmu69pmpjNZl1w0rZt1yHT39bV1VV8+vQpPn36FJPJJM7PzyMi1tboLv0unKOjo8jzPKbTacxms6X9v+34PHXYMjZUx90dLlUIXwAA2BmCFwAAeA11RFTfwoxkXSfGumX9DpeIWBpOrN+lMhqN4vz8PL7//vsYjUYxn8+78GQ0GsXbt29jOp3G+/fvlzpubpvEvh++RET3fOm+PM+Xul1S8JJCln7AlIYfOzo6iuPj4yjLsnvexWLRdcX89ttvked5fPnyJa6urjbuVumHTkdHR/HDDz/E0dFR/Pzzz/Hhw4e4urpaCpnucls9hAEDvyci7u9+cQwAANhyghcAAHhlmwYJ/fXSsF8ptElhRj/ESUOLnZ6exu9///t4+/ZtvH//Pj5//hyj0aibzD5NHv+QUCOFKLcFEinE6Q8nluZxSQFLCmlS183x8XG3/Pvvv4+yLOPy8rKbZ2U0GkVZlks1uPPLTlnG0dFR95xnZ2dxdHQUv/zyy9rH3ra9NK9NCpF4ZvXXy2rD9as1jwUAgFckeAEAgB3U7zi5b72maWI8HnfhQ5qnpT8MVwppNpHCkdVhyNLj0/b7nS3pMsuyGI/HcXp6GmVZRtM0S/PMpGHJ0u3xeBz/+te/4v379zEajW7sZ5rnJg0blp4zDS02Ho9jOp3GfD6Py8vLuLy8XJrHpr9/aXtp39P9eZ5HWZZdt1Cndh4+qzo2D1+SasNtOXYAADwjwQsAAOyw++YhaZomJpNJ/Pbbb936KeAoyzLyPI+zs7N48+ZNN/fKXRPXp9ClP7xY/zIFGv05X/qdMekvDTF2dXXVPWea/yWt//nz57i6uoqLi4v4/PlzFEXRDbGWhil78+ZNvHv3Li4vL+PDhw/d3C1p3pjxeNxt/5dffonpdBqXl5cxnU5vDa1uq+dD55dhi1T33E7qO9arlREAgM0IXgAAYAetBh/rpLlSPn/+HP/zP/8T79+/j9PT025uk4iIk5OTODo6irdv30bbtjGZTLquk/52Vp/3tudLlymgSfpDoc1ms5hMJjEej7uOlfl8HkdHRzGbzeL9+/cREfHp06e4urqK2WzWBSr94ObNmzfxv/7X/4rf/e53cXFxERERFxcX3ZBmx8fHXfhSFEXX8ZLmnlln3VBiTdPcGdSwR6p77quVCACA+wleAABgh6wGH6mTZF0gkoKXyWQSs9ksvnz50g0RlrpHxuNx/O53v4vT09OYzWZdF8pqJ8vqdlfv7y+7bf20n/P5PCaTSXe7LMuYTCZxfn7ezQszmUzi4uJiKXDpDyN2dnYW//7v/x5/+ctf4uLiItq2jR9//DEiIqbTaTcfTAp6ptNpN+TYugClP+zY6uvIsqwLZDadA4eB1Cu3q1fen+qW/QIAgB7BCwAAvJY6HvRDcgpX+kN93deFsVgsoiiKGI1GMRqNYjKZxHw+j4iIq6urLuD44YcfurlXUlDRDz3627vrufqdOP15VPqhSdM0cXl5GV++fFkaNuzTp0/dHCurw4H1hyuLuO7USUHL58+fYzabRdu2MR6Pu86Wtm27IcxW56O5zW1B043jxva8h1ZVA29v3XarlfevcwIAgB7BCwAAbKl13Rdp7pKiKLpOjH4Y0u8u6XdxjEajODs7W1o/bT8N5ZU6RU5OTmKxWNzY9l37ue56P7Tpz/myGub0l2VZttTh0n9cen0R16HR+/fvoyiKODs7i0+fPsVPP/0U8/m8627pP89gnSq183Jr1BssrwY8nvUty6oQwAAAsETwAgAAW6g/MX1/KLE8z6Msyzg6OorxeBwR0XV19Oci6QcNZVlGWV5/9O8HHKPRKMbjceR5Hr/99lt8/Pix6xTpByZ5nt87Ef26gGTd3DC3DUmWOmTS9f5zp7li+nPPTKfT+Omnn+L4+DgiIn766af4+PFj9xqFLjhmAAC8FsELAAAMrfp2Nfvv9ZPUP0Q/dEnBy3g8jnfv3sXR0VFcXFzE5eVlzGazLrxYLBZdYJFl2Y1J6lPHzGKxiF9++SXm83lcXV3FfD6/M2hZ3a/Vbpf02BTurL7mx9Sgvz9pWLLFYhGfPn2K//t//280TRMfPnyI2Wy29nnW7Qc7qt6R937tUAEAHDLBCwAADKn6djXLsqUfYjcNAPphRn/Z6vLU2ZECljzPYzQaLS2LiK4bpt8JkmVZF9SszsXSD2/6k9qv7k9RFEuhSP85V1/rQ4KP1cem/Y6Ibpi1PM9jMpnEdDqNpmm6OV423SYMpu6992vlAABA8AIAAE9XbbhO/fgAIA3RtVgsYj6fx3w+j8lk0s3RkozH466zpT9EWQpR+gHLdDrtth0RXSfJunliVqXuln74stqZ0n+t/X256zX2L9Pj+9tMmqaJ+Xx+636m/UvbS/PFPDp8qZ3mOEcAANhMFhH+ty8AAHjsB+r/+jZ3ya3r9OZpaf++Zr1qed279Od4OTo6WpqMPs/zmM/n8eXLly6MWQ0f+s/Tv68flKzOEdO/rx+KpNBlVQo5+p0qaRv9jpt+KHTba+3PIZO6edJ8MLd14/T3rz+k2mrQ9CC1cx0AANiMjhcAAHiEpWHE4u5OlodM8n5bZ0g/FGmappuPZXWd+Xy+NOzWXXOt3BbyrOseWbdOCj/69/efN92XwqIsy7ohz1K3TOrYScOb3WU8HkfTNDGdTu8MXfr7MRqNYjQaxXw+74ZVAwAAeE6CFwAAeID7OlLWqje4v7rjQ/vXDpfZbNbNaZIChHWhx7r97U96379vPB4vLU9dIX13DdOVQpXRaBQREV++fFnqwCmKIo6OjuLs7CyKoojLy8vuNUVETCaTO+eS6e/DZDK50WFzW+dM6pa5LSACAAB4LoIXAADY0NIP99UGD6gfsPH62zZXw5HVfeiHDWn9u0KL/nBd/U6UNBTY6tws66zrghmNRnF+fh6np6fdMGDz+Tyurq66fUzDfaXwpr8P9+336vOlECU9ph/69Oe1ifgWFs1msxvz2wAAADwnwQsAADzB0pwt1dfLetjnSJPIR3wbOiuFJauTzN/Yv3uGFOsPvZU6Q+6TApXz8/P4wx/+EMfHx9G2bUyn025Yr/5wYnmex9XVVUR860pJz9ufM+a2fb+tayfP8zg6Ouq6dvp16r+e9FyPHmasdp4DAACbE7wAAMCGlkKJv69ZoX7iE6THV8vPmeZG6Q/dleY7SXOeTCaTG3O+rN3v+BZyrAteVjtQ+uv2l41Go3j79m388Y9/jMViEZ8/f17bvdKf16Xf5ZI6YdIQZesem9ZN88T0u33S/jRNE5PJpOtsWa3b6nZ1vQAAAM9N8AIAADskhS2p4+Tk5CQuLi7ip59+6oYO61ud7H5V27ZdYHNb+LEadvSXp2Xz+TwuLy9v3UbbtlEUxVKnS1mWcXJy0gUnq/I87/7Sa1/d7nQ6vREg9V/zY6wLmwAAADYleAEAgG1Tx9o5ZFJIMp1Oo2maOD09jR9//DFGo1F8+PAhrq6u1gYvtwUI/UDltrlWUqdJRHRdK4vFImazWfz8888xnU6jLMuYTCZLnSdpvTTEWL9jJQ0ZNp1Ol8KYvqIo4vj4OI6PjyPLsphMJt22+lbDpqeGJbcNywYAALApwQsAAGyjOm6ELylEmc1mcXFxEUVRRER0HSupM2QTKQBJIUjE+o6XNI9KRMR0Ou3mUWmaJr58+dKFJ/3wJu3naqAzn8+jLMtu+LH5fN6FKf1h0rIsi/F4HL/73e/izZs38enTpy5USsHI6mV6XgAAgNcmeAEAgG1VR0T1bVivpGmauLy8jPl8HhcXF11nyX2Tx/eHBkvBSwpvUjfKuuG80pwsaRL7FKak7aX9K8uyW7/faZMu0/IU9vSDmtX9THPALBaLmM/nSwHOalfK6jBoT7F2O1U8ff4eAADgYGQR4X8LAwCAbVat+SC/ZkisdQFEf73V60VRRJ7nXRdLxM15VPoT2+d5Hk3TxGg0iqOjoyiKonvOpmm6eVsuLy+7uVdWhzpLXTnrhkRL+5e6bI6Ojrrh1ZqmicViEXmed10zaTv9Tpxn63qpnYYAAMBmdLwAAMC2q2PtsGN960KX1M3S73Lpr7fambJuO6vzu5RluTT3Sp7nMZvNuuAlddHc1oWy+nzr1knP2Z8vJr2esixjNBp120lBTpZlMZ1OB+1+AQAAeAzBCwAA7IF+uNK/TMN1rRvWqz9MWJLneTdcWJoDJimKIs7OzuLk5CTKsuzub5pmKYTpD0XWf8607dV9XtUPe/q3U+hTFEXM5/OYzWYxn88jy7I4OTmJpmnuHW7tPqv7HBG6XQAAgAcRvAAAwJ5KHS79wOO2ob/Sfelx/eXp+mg0ivPz8zg9PV0aaizLspjNZt2QXyn8WA2B+t0ot3XD9IOPfvCTwpW3b9/GaDSKjx8/dp02q/v7lHr1r+ucAQAAHkPwAgAAu6COtXO9rErhRQpYUghy2/wnq2FHCjz624i47jY5OzuLN2/exPHxcYzH44i47kopy7KbiyV1qfTnclnd/m3SemmfR6NRF6oURRE//PBD/PGPf4yI62HILi4uum6efuDzFClISvstfAEAAB4qVwIAANgR9WarpbAgTUifLu+aT6X/2P4QZFmWRVEUMRqNuuDl/Pw8IiI+f/4ck8lkaXixfpdKf6iwh4QY/YAmz/MoyzLG43Gcn5/H+fl5jMfjpeHIUvDSf+3rXufq37o6pNBp9X4AAIBN6XgBAIA90w8NUviR9AOV/vr9wKIfooxGozg5OYnRaBSj0ShOT0+jKIr49OlTfPjwIdq2jaurq4iIODs7i8ViEZeXl93j0/ZWu13WBTH9oc6apon5fN5106T1UwiUZVnXYbP6Gh9Sp3X78NCgCAAAoE/wAgAAu6SOO4cc26RTY12XS1q+GjgURRHHx8cxGo1isVjEly9fYjabxfv37+Pi4qIbzizP8zg+Po7FYhFXV1fdsqQ/DNh9gUYKP+bzeRfqLBaL+O233+K7776Lpmni8+fPS502Q1ksFkv7nWVZtCGAAQAANpdF+BYBAAA7p1r5YP81TBmNRjEej7sApB9MZFkWo9Eo8jzvhiDrhy5t2y6tn+d5jMfjbk6X0WgURVFE27YxmUxiOp1GxHU4UxRF5HkeFxcX3fP2hwNLz7M6p8ytX1S+zu1SlmW3z2VZRpZlMZvNYjKZxHw+v7VrZt321lldf20oVTvdAACAzel4AQCAPZLnebx79y6Kooj379/H5eVlF4IURRFlWUae5928LxHL87r0pUnmm6aJ6XQa8/m8C2jm83nMZrPuOdPyyWRy5yT3dw1xtm7d1W3PZrOlwGjddp8yRJjhxQAAgCd/L1MCAADYQfX6xSkkOTo6ijdv3sTR0VHXjVIURbdeCmH6w4vd1j2SApp+50q6P3WfXF5exuXl5Z2hy2OkwCi9ttXumdV9Bdg1q/NuAQC7T8cLAADsgTSEV9M08enTpyiKIk5PT2OxWHRzsRRF0XWLpCBmNczoS90uRVF0XTNN03Q/Eqa5UG7rmBlC2s8sy2I6nd4IXTYdugxgG/X/PV3XzQcA7CbBCwAA7Ko6luZ6ST/YXV1dxYcPH7phukajUbdOClpSqNIfcmydxWIRs9ms6zzpr5sCm8eGLvc9JnXUpB8m+8+3ut594Ut/HYBtMhqNoizL+PLli2IAwJ4QvAAAwJ5p2zam02l8+PChC0vatu3Cln6AcVfokraVwpfFYtHN89IPQvpSF8xd2900pEnPl7psHrPN+8KWe7tlaucT8DxWuwcBgD3673xE6GMFAIBdVq18yP8aJuR5Hnmer+0QuS9wWae/rf68MP0fDYuiiLZtYz6fr93GQzpjbgtNNt3GXaFL2v912126r3Z6Ac8nhS+3hdkAwI7+Nz4ELwAAsPuqlQ/6t4QOq4FDP2x4rDQHS8T1kDmp42ZduPOYHxXX7dsm20mP67/mNPza6rZu3dfaqQUAADzwO0wIXgAAYH9UvQ/7G4Qpm8x9si7k6D8mzf+SOl/yPL8xvNlt23nSl5l7Apl195dl2YVDi8Wi+z/N+3PHzOfz6/3/u69KAK/x3y+hNwC7zkCiAACwT+qHrb5JOLNJMNO2bTRN0wU5o9EoRqPRUiDzXDYdkqwoiijLMoqi6K6n4dPKsoyzs7M4OTl5UvcPAAP896tSDgB2W6kEAACwnzbpZtlUfzv97pB0X+pqSRNFp66Xoihune9lqNd3VydNfyi1LMu64GWxWHR/TdN08yvM53NzLAC8lloJANgPghcAANg3dXT/t/Bd4ct9wczqHCm3BRL95Sm8SJ0kKdx4CfcFJv15XlKHznw+7zp1+mGM8AUAAHgswQsAAOyjOh4cvvSvp86VdevfZbFYxGw267aTQpfnDjLum4emryiKpfln+sOkAQAAPJU5XgAAYF/V366mUKEsyxiPx0urretmeewQZf1AI4UZzxlo3Lb9tP/98CgFLKv7BwAAMCTBCwAA7LN6+ebR0VGcnJxEURQbhysp3Ng0pOiv/xrBRprPZTwex9HRUZRl2QUws9ksJpNJXF1d3RgC7SWHRQMAAPaXocYAAOCAXF1dxdXV1Z3dHo8dZmwbpNBlNBrFyclJjEajrsNlOp3GfD6P+XweEbE0D82uvD4AAGD76XgBAIB9V3+7miaUv0t/SK7VMGKbw4nUwdMPXYqiiPF4HMfHx12XT1EUMRqNuuAFAABgSDpeAADgAGT/fR1KtNV10HBb4NC2bWRZ1g0TljpfNh2CK4UfLxVorA6XloKVo6Oj7r4UIPX3Kc/zrjtm9XUDAAA8hY4XAAA4JPXDQpH+vCcPedym88c8ZHvrQpY8z6Msy+6vKIpuX8uyjOPj426elzTM2OowaymEeY79BgAADo+OFwAAOCBt234beqx6wGMe8zzPse9fpSCmLMsYjUbd32Qy6cKiNMxY6txJ87n0h1pLQUue5zeHVqtiaZg2AACATQheAADgADwkCHlKaPJcQ3Xdtd08z+P4+DjKsoy2bePq6iomk0k0TdN1vER8Gy5tsVhE0zTddtPwZBHXc+C89HBpAADAfskiwrcJAAA4ZNWOfpn52vWS5nQpyzKyLIvZbBZXV1cRcR3KHB0dxcnJSfz6668xm826x6bLPM+XOl5uzAlTO0UAAIDN6XgBAAC2Q73hetX1RQpG0twtRVFElmVLoUnTNNE0TUwmk6UhxtL9/eAlybJsqSMGAADgIXS8AAAAN1XPsM365fY9dbQk/aAlIro5X9L1FMAURRF5nkfTNDGdTr/N+1I7JQAAgM0IXgAAgNtVD1y/3u597wcsbdtG0zTRtm3X9TIajbr7ptNpzGYzwQsAAPAgghcAAGB/VStfgL7OCzMajSLi21Bk/UBmPB7HeDyO2WwWnz9/vu56+buvTQAAwGZyJQAAAPZWHUvdKmn+lxS29DtcFotF1wFzdHQUZ2dnMR6Prx9YKSUAALAZwQsAALD/6uWbKWBJHTAR30KZ2WwW8/k8Tk5O4rvvvhO+AAAADyJ4AQAADkN9fdG218OGzWazuLq6iqZprr8c5XlkWdZ1vpyfn8fvfve7ODo66sIZAACA+wheAABgx6QuDWHAI9TXF6m7ZbFYdEFMut62bUyn0/jy5UtkWRZFUagbAACw+Xe2iDBLJAAA7MoH+P/qhS319UUKDniAak1tvwZZKWw5Pz+Pt2/fxq+//hqfPn36Vuda+QAAgDu+t4XgBQAAtl/19QP8mi6X9u/ttyChVqqH1vTGl6RejVO3S78bRp0BAIC7CF4AAGDbVb0P8CvBy9pul1rJHlvfpS9LX2tdFMWNYcnUGQAAuI05XgAAYJtVyzdT10W/++LGnC+Vsj1VP+Dqhy1LwZc6AwAAawheAACAw1bffXfqdMnz669PwhcAAOAughcAANhBN7pceFZL87usqtQHAAD4RvACAAA7RtjyDOrb70qBy63BCwAAQI/gBQAAIGIpfFkNW9bNrbOkUj4AAOCa4AUAAHbIum6XfhigG+aJ6uW6AgAAPJTgBQAAtlW1fDOFKkVRRFEUt4Yw6x7LA9TDHC8AAOAwCV4AAGAHZFkWWZZ1oUs/eEn36dAYUK0EAADA4wheAABgy2VZFnmex2g0ivF4HHme37rekkrtXpyaAwDAwRO8AADANqpWPrjneYzH4xiPxzEajSLi27BiKZRJXTBLAUyllI9Wb7aaeXUAAICl729KAAAAuyHLshiPx/HmzZs4OTnphhw7OzuLP/zhD/Hu3buuG0YY8HLH5Ea9K3UBAIBDJngBAIAdsFgsommaODs7iz/96U9xfn7edcF8//338Ze//CX+7d/+LY6OjhRrSLUSAAAADyN4AQCAbVMt32zbNhaLRUyn03jz5k2Mx+OYz+cRETEej+P8/DyOjo7iu+++i7dv30ZZlmr4Ala7inS9AAAAEYIXAADYGW3bxmw2i//3//5ffPz4MRaLRWRZFkVRxOfPn+OXX34xxNhzqG8/HquELwAAgOAFAAC2SXVzUfoxvyiKGI1GMZ1Oo2maKIoizs/P4+TkJL58+RK//PJLfPr0Kebz+bdQoFbSQdxSx1TnPM+jLMvI81z4BQAAB07wAgAAO+Ti4iKurq4i4jqQmc/n8fPPP8dPP/0Uv/76a0wmk28r1+o1qDvqmWVZ5HkeRVFElmXfwpdK2QAA4NAY/BkAALZFtX5x27aRZVk0TRPv37+P+Xwei8UiIiIuLy+7MKZpmlgsFmuHwGIgdaydg6dpmi58yfM8mqZRKwAAOFA6XgAAYBtUsdwpsUbTNDGdTpeGEptOpzGZTGI2mwldXkq9fvFisegCsdVjCwAAHA7BCwAAvLYq7p0XJAUq/R/2+0FMf52IMMzYc1tTX8EXAAAQIXgBAIDXVcWDJmNPwUt6TLrtB//XlervOAAAAIIXAADYhg/meb5RAJPneZRlGXl+/VHeD/2vqL65aLFYrJ/fpVIuAAA4mO93SgAAAK+kWu5cuStESfO/HB0dxWg0itFo1N239nGV8r60tm2X/hwTAAA4TIIXAAB4DdX6IcbuCl/atu3mdZnNZvcHNf+VqfNzq5UAAABYJngBAICXVq1ffF/oEhFxdXUV0+k05vN5N7/Lqn6g85D5Y3ikWgkAAIBvBC8AAPAK1gUim4QkTdNE0zRd6LIa1qRt5HkeRVEo9LYd60o9AABg3wleAADgJVW9D+Nfw5H7OlTS/C4RsTR/yLrQJc/zKMvy23YrJd8G/WMIAADsN8ELAAC8lGr5ZgpI8jy/Eb7cN//LutAly7I4OjqK4+PjGI/Hkec+7u/CeQAAAOwX38QAAOCFpc6U9HdbJ8S6Lpc7P9zneYzH4y7MWRfq8Ezq2+9ae+wqJQMAgH1VKgEAALyAavlm27Yxn88jImKxWCwNH7ba/XLbPC7rftDP83zjoIaXs3pcAQCA/aXjBQAAnlu1fDMFI/P5PObzeRe89MOS1BWTrq+zujxts2maaNu2u2Q73DgWlZoAAMA+yiLCNzEAAHgO1eMeloYIa9t2bSjTfZhf6YbJsqwbaqwf7LR/95F/q495rWwAALBPdLwAAMAzSpPeP3T9TR63Gsa0bRvT6TSurq5iOp12Q5nprNhyjg8AAOwVc7wAAMAzyP7rOjRJnSsRsfGwX3med90sq5ebWCwWD3o+AAAAhqPjBQAAhlZdX4zH4zg9PY2iKDZ62GqHy2rXyyadM2lYMvOJvJJaCQAA4NAJXgAAYEjVdUCS53mMx+OIuLvzZN2QYk3TdHO7pHXY//MGAADYD4IXAAAYSvXtatu2MZlM4vLyMpqmuXfYr9Vwpb9+GnqMwzl/AACA3WWOFwAAeKpq+WYKTdLk9neFLuu6WvI8jzy//n+k+p0v7Ig6hCgAAHDAsojwLQ4AAB6qWvlg3QtO7hoibJPOl7IsoyzLWCwWMZ/PY7FYbPz4W9UO2WufI44VAAAcBh0vAADwUNX9q6TQJcuyB4UlbdvGfD6Ptm2jbdsudNH1AgAAsBvM8QIAAAPLsiyKoojxeByj0agLYR4SnjRNI3TZdfUjH1cpHQAA7DIdLwAA8BDV+sX9cKQoijg5OYnxeBxXV1ddB8umBg9aaocNAADgpeh4AQCATVWbr9o0TVxdXcXV1VUsFgtdKzzbuQYAAGyXLCJ8AwQAgPtUD/iQnWVLc7sshS71w7f3JLVDtyvnjeMHAAD7QfACAAC3qaKbnyXiYUOA9YOXjX88rx65n/Utj68dwm04h57McQQAgJ0ieAEAgFXV1w/LWRZ5nkdRFNG2bczn84jYMICph92XF3kunu1cevAXtX5w5xgDAMBOKZUAAICDV11fpO6WoigiImI0GsW7d+/i/Pw8Li8v4+eff47pdHr/9uoB962O+3+8r8IP83vGnEAAALC7BC8AABy26lvgUpZlHB0dxdHRUTRNExERTdPEhw8fYjKZdMteXL1+vzms8/TWcwEAANgqhhoDAODwVL0PxFkWRVHEeDyO4+PjOD09jbOzs/j8+XN8+PAhptNptG0bi8Uimqa5vxOhfoXXUjuku3CuDcoxBwCArSV4AQBgd1VfL+sN11v9MJxlkWVZnJ+fxw8//NB1tOR5Hh8+fIjPnz9387okdwYvtUPC5uffIJxzAACwdQQvAABsr+qZPgR/HVos4no+l3fv3sUPP/wQk8kkZrNZXF5exuXlZTefy9Z1ueBcdv4BAMDWErwAAPB6qmf8oNsLVyK+hSery4uiiLOzsxiPxzGbzaJpmphMJl2ny43QpXbYeNlz/bZz+QbnJgAAbAXBCwAAr6N6xg+5X3+ozvM8IiIWi0VEXP9gnYYXS7eLoog8z6Nt2+5vsVj4cZutOOezLIs8z7tzdCvnGQIAAJbkSgAAwGtJIcjq31O3uXo7BTDpvizLlgKX2WwW8/k8mqYRuvB86se9P8qyjKIounP2qe8RAADgmb/rho4XAABe8gNolt34P//7ocu9HSebbP+r/o/UTdMsrbfaDRNhWDFeSPWwc7ksyyjLsjtf5/P57e8R5ywAALz+994QvAAA8FIfPvv/p361vDwFIU8NXlafqz+s2F2W7q8dK15Atdl5nGVZjEajiLgOXtKf4AUAALZTqQQAALy2FLak60NtM3XQrFvev92pHQteUDrfqrvP44iI2WzWnc9DvUcAAIDnoeMFAICX+/C5bm6K6uaiF/1huXZceGXV1/Ow2vy9c+d7xDkNAACv+903BC8AALzkB9DVob+qO1auY+P5MB6ldjzYQpVzGgAAdvp7bwheAADYddWaZXXcH+rArp3X93FeAwDAqxO8AAAAbKvqgevXSgYAAK8tVwIAAIAtVT9w/UrJAADgtQleAAAAtlmtBAAAsEsELwAAAAAAAAMRvAAAAGy7+gHrVsoFAACvSfACAACwC2olAACAXSB4AQAAAAAAGEgWEa0yAAAA7IjqAevWygUAAC9NxwsAAAAAAMBABC8AAAC7pA6dLAAAsMUELwAAAPuqUgIAAHhpghcAAIBdVCsBAABsI8ELAAAAAADAQAQvAAAAu6pWAgAA2DaCFwAAAAAAgIEIXgAAAAAAAAYieAEAAAAAABiI4AUAAGCX1UoAAADbRPACAACw62olAACAbSF4AQAAAAAAGIjgBQAAYB/UtyyvlAYAAF6S4AUAAGBf1EoAAACvTfACAACwT2olAACA1yR4AQAA2Gd1GG4MAABekOAFAADgEFRKAAAAL0HwAgAAcCgqJQAAgOeWRUSrDAAAAHumuuf+Wol45nOuvmUZAMCeE7wAAADso2qDdWpl4gXPt+c89yrnOACwPQQvAAAA+6raYJ1amXjhc27o8855DgBsGcELAADAvqq+fvHLsm5R2658BayViec9/26oX/C5Xur5AQB6SiUAAADYXyl0yfO8C11uhC/wHOotfa7qFfYPADgoghcAAIA9VxRFjMfjaJomptPptztqteEAOe8BgGeWKwEAAMB+a9s2mqaJxWKhGAAA8MzM8QIAAPum+npZKwXX50N/jpeIlaHGnCcAADAoQ40BAMCeSD+ut+n/raq+3lGrzaEzpwsAALwcQ40BAMCOy7LsOnSpvt1eUqkRAADASxG8AADAPqiWb94IXwAAAHgRghcAANhx/WGk+oFL1wkDd6mUAAAAhiR4AQCAXVd9u9r+5/JcHub24KHnEAAA8DSCFwAA2APrApalZZUaHaxaCQAA4CUJXgAAYNfV1xcpaGnb9mYQUysTAADASxC8AADAPqi/XTWvC3edH6ucLwAAMCzBCwAA7ItaCXj4+WEeIAAAGJbgBQAA9sjaYcYizPECAADwQgQvAAAAAAAAAxG8AAAAHIr6jvsq5QEAgCEIXgAAYJ/UNxdlWRbZf5tAHQAA4CUIXgAAYN/U6xdnmfAFAADguQleAABgz7Vtu3TJgavvuK9SHgAAeCrBCwAA7KN6+abQBQAA4GUIXgAAYF/VK5cAAAA8O8ELAADss1oJeKBKCQAA4CkELwAAAAAAAAMRvAAAABya+p77KyUCAIDHErwAAAAAAAAMRPACAAAAAAAwEMELAADAIarvub9SIgAAeAzBCwAAAAAAwEAELwAAAKxXKQEAADyU4AUAAOBQ1UoAAABDE7wAAAAAAAAMRPACAADA7SolAACAhxC8AAAAAAAADETwAgAAAAAAMBDBCwAAwCGrN1inUiYAANiU4AUAAID7VUoAAACbELwAAACwmUoJAADgPoIXAAAAAACAgQheAAAADl39gHUr5QIAgLsIXgAAAAAAAAYieAEAAAAAABiI4AUAAICHDTcGAADcSvACAADA5nO31EoFAAB3EbwAAACwmVoJAADgPqUSAAAAcKdaCQAAYFM6XgAAALhdrQQAAPAQOl4AAAC4qVYCAAB4DB0vAAAAAAAAAxG8AAAAsKxWAgAAeCzBCwAAwKGrlAAAAIYieAEAAOCbWgkAAOApBC8AAACHrlYCAAAYiuAFAADg0FVKAAAAQxG8AAAAAAAADETwAgAAAAAAMBDBCwAAAAAAwEAELwAAAFyrlQAAAJ5K8AIAAAAAADAQwQsAAMAhq75e1koBAABDELwAAAAcqkoJAABgaIIXAAAAhDAAADAQwQsAAAAAAMBABC8AAAAAAAADEbwAAAAAAAAMRPACAABwiKqILMu+3a6VBAAAhiB4AQAAODTVSugCAAAMRvACAABwSColAACA5yR4AQAAODCp2yXLsuvrtZoAAMBQBC8AAAAHqCzLGI1GCgEAAAMTvAAAAByg0WgUJycn1x0vlXoAAMBQBC8AAAAHarFYKAIAAAxM8AIAAHCAmqaJiG/zvQAAAMMQvAAAABywtm0VAQAABiR4AQAAOEBFUSgCAAA8A8ELAADAAWrbNpqmue54qdUDAACGUioBAADA4ZnNZuZ3AQCAZyB4AQAAOEBN0ygCAAA8A0ONAQAAHJi2ba+HGPt6HQAAGI7gBQAA4EAJXQAAYHiCFwAAgENSKwEAADwnwQsAAMAhq5UAAACGJHgBAAAAAAAYiOAFAAAAAABgIIIXAAAAAACAgQheAAAADlWtBAAAMDTBCwAAAAAAwEAELwAAAIeoVgIAAHgOghcAAIBDUikBAAA8J8ELAADAoaiUAAAAnlupBAAAAHuuUgIAAHgpOl4AAAAAAAAGIngBAADYZ9WaZbWyAADAcxG8AAAAAAAADETwAgAAsK8qJQAAgJcmeAEAANhH1S3La6UBAIDnJHgBAAAAAAAYiOAFAADgUNRKAAAAz03wAgAAAAAAMBDBCwAAwL6p1iyrlQUAAF6C4AUAAAAAAGAgghcAAIB9UikBAAC8JsELAADAvqiUAAAAXpvgBQAAYB9USgAAANtA8AIAALAPaiUAAIBtIHgBAAAAAAAYiOAFAAAAAABgIIIXAAAAAACAgQheAAAAAAAABiJ4AQAAAAAAGIjgBQAAYN/VSgAAAC9F8AIAAAAAADAQwQsAAMA+qJQAAAC2geAFAABgn9VKAAAAL0nwAgAAsA9qJQAAgG0geAEAAAAAABiI4AUAAAAAAGAgghcAAAAAAICBCF4AAAD2Ra0EAADw2gQvAAAA+6pWAgAAeGmCFwAAAAAAgIEIXgAAAPZRrQQAAPAaBC8AAAD7plYCAAB4LVlEtMoAAAAAAADwdDpeAAAAAAAABiJ4AQAAAAAAGIjgBQAAAAAAYCCCFwAAAAAAgIEIXgAAAAAAAAYieAEAAAAAABiI4AUAAAAAAGAgghcAAAAAAICBCF4AAAAAAAAGIngBAADYddXXPwAA4NUJXgAAAHZZpQQAALBNBC8AAAC7qlICAADYNoIXAACAXVRtuAwAAHhRghcAAAAAAICBCF4AAAAAAAAGIngBAAAiIiLLMkUAAAB46neriGiVAQAAYIdUtyyvlQYAAF6bjhcAAAAAAICBCF4AAADYbpUSAACwOww1BgAAsMuqr5e1UgAAwDYQvAAAAAAAAAzEUGMAAAAAAAADEbwAAAAAAAAMRPACAAAAAAAwEMELAAAAAADAQAQvAAAAAAAAAxG8AAAAAAAADETwAgAAAAAAMBDBCwAAAAAAwEAELwAAAAAAAAMRvAAAAAAAAAxE8AIAAAAAADAQwQsAAAAAAMBABC8AAAAAAAADEbwAAAAAAAAMRPACAAAAAAAwEMELAAAAAADAQAQvAAAAAAAAAxG8AAAAAAAADETwAgAAAAAAMBDBCwAAAAAAwEAELwAAAAAAAAMRvAAAAAAAAAykVAIAAABgEFXveq0cAMBh0vECAAAADK+K5SAGAOBACF4AAAAAAAAGIngBAAAAnk+lBADAYTHHCwAAAPuhWrldKwkAAC9PxwsAAAAwjFoJAACyiGiVAQAAgL1QrdyulQQAgJel4wUAAAAAAGAgghcAAAAAAICBCF4AAADYH7USAADwugQvAAAAAAAAAxG8AAAAsF9qJQAA4PUIXgAAANhflRIAAPCyBC8AAAAAAAADEbwAAACwf+re9Uo5AAB4OYIXAAAAAACAgQheAAAA2H+VEgAA8DKyiGiVAQAAgL1UrVlWKwsAAM9HxwsAAAAAAMBABC8AAADsr/qe2wAAMDDBCwAAAAAAwEAELwAAAByOSgkAAHheghcAAAD2W60EAAC8HMELAAAAh6VSAgAAno/gBQAAAAAAYCCCFwAAAAAAgIEIXgAAANh/tRIAAPAyBC8AAAAcnkoJAAB4HoIXAAAADkO9crtSEgAAhid4AQAA4HDUYdgxAACeleAFAAAAAABgIIIXAAAAAACAgQheAAAAODz118tKKQAAGJbgBQAAgMNUf72slAIAgOEIXgAAAAAAAAYieAEAAIBKCQAAGIbgBQAAgMNVKwEAAMMSvAAAAAAAAAxE8AIAAMBhq5UAAIDhZBHRKgMAAAAAAMDT6XgBAAAAAAAYiOAFAAAAAABgIIIXAAAAAACAgQheAAAAAAAABiJ4AQAAgL5KCQAAeDzBCwAAAAAAwEAELwAAALCqUgIAAB5H8AIAAAAAADAQwQsAAACsUykBAAAPJ3gBAACAvloJAAB4PMELAAAAAADAQLKIaJUBAAAAAADg6XS8AAAAAAAADETwAgAAAAAAMBDBCwAAAAAAwEAELwAAAMBuqr7+AQBskSwiWmUAAAAAdkq1ZlmtLADA69PxAgAAAOyeWgkAgO0keAEAAAB2U60EAMD2EbwAAAAAu6tWAgBguwheAAAAAAAABiJ4AQAAgPtUsX4yd7ZDrQQAwPYQvAAAAAC7rw7hGACwFUolAAAAgHvUSgAAwGayiGiVAQAAAAAA4OkMNQYAAAAPUSkBAAC3E7wAAADApiolAADgboIXAAAAYL9UISQDAF6N4AUAAAAeqlKCrVb3jpNjBQC8MMELAAAAsN8qJQAAXo7gBQAAANg/tRIAAK9D8AIAAADsp7p3vVIOAOBlCF4AAABgE9UDb7MdaiUAAF5WFhGtMgAAAMA9qkc+rla6rTp2jgcA8MxKJQAAAICB1UoAAHCodLwAAADAJqpbltdKs3PHzzEDAJ6ROV4AAADgKSolAADgGx0vAAAAAAAAA9HxAgAAAAAAMBDBCwAAAAAAwEAELwAAAAAAAAMRvAAAAAAAAAxE8AIAAAAAADAQwQsAAAAAAMBABC8AAAAAAAADEbwAAAAAAAAMRPACAAAAAAAwEMELAAAAAADAQAQvAAAAAAAAAxG8AAAAAAAADETwAgAAAAAAMBDBCwAAAAAAwEAELwAAAAAAAAMRvAAAAAAAAAxE8AIAAAAAADAQwQsAAAAAAMBABC8AAAAAAAADEbwAAAAAAAAMRPACAAAAAAAwEMELAAAAAADAQAQvAAAAAAAAAxG8AAAAAAAADETwAgAAAAAAMBDBCwAAAAAAwEAELwAAAAAAAAMRvAAAAAAAAAxE8AIAAAAAADAQwQsAAAAAAMBABC8AAAAAAAADEbwAAAAAAAAMRPACAAAAAAAwEMELAAAAAADAQAQvAAAAAAAAAxG8AAAAAAAADETwAgAAAAAAMBDBCwAAAAAAwEAELwAAAAAAAAMRvAAAAAAAAAxE8AIAAAAAADAQwQsAAAAAAMBA/v96xBXEvQXYUgAAAABJRU5ErkJggg==\"></img>"
      ],
      "text/plain": [
       "<napari.utils.notebook_display.NotebookScreenshot at 0x274d6a1a910>"
      ]
     },
     "execution_count": 47,
     "metadata": {},
     "output_type": "execute_result"
    }
   ],
   "source": [
    "from napari.utils.notebook_display import nbscreenshot\n",
    "\n",
    "# viewer.dims.ndisplay = 3\n",
    "# viewer.camera.angles = (-30, 25, 120)\n",
    "nbscreenshot(viewer, canvas_only=True)\n"
   ]
  },
  {
   "cell_type": "code",
   "execution_count": 48,
   "metadata": {},
   "outputs": [],
   "source": [
    "viewer.close()"
   ]
  },
  {
   "attachments": {},
   "cell_type": "markdown",
   "metadata": {},
   "source": [
    "-------------\n",
    "## SUMMARY\n",
    "\n",
    "The above outlines how the cell and nucleus masks are generated from the cytoplasm mask\n",
    "\n",
    "### NEXT: INFER LYSOSOMES\n",
    "\n",
    "proceed to [04_infer_lysosome.ipynb](./04_infer_lysosome.ipynb)\n"
   ]
  },
  {
   "cell_type": "markdown",
   "metadata": {},
   "source": []
  }
 ],
 "metadata": {
  "kernelspec": {
   "display_name": "Python 3 (ipykernel)",
   "language": "python",
   "name": "python3"
  },
  "language_info": {
   "codemirror_mode": {
    "name": "ipython",
    "version": 3
   },
   "file_extension": ".py",
   "mimetype": "text/x-python",
   "name": "python",
   "nbconvert_exporter": "python",
   "pygments_lexer": "ipython3",
   "version": "3.9.15"
  },
  "vscode": {
   "interpreter": {
    "hash": "d6148ef1fb015fb20f0b6da2ea61c87c6b848bdf3dabb03087e5d5cd0c4607e9"
   }
  }
 },
 "nbformat": 4,
 "nbformat_minor": 2
}
