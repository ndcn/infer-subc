{
 "cells": [
  {
   "attachments": {},
   "cell_type": "markdown",
   "metadata": {},
   "source": [
    "# Infer ***nuclei*** - 1️⃣ \n",
    "\n",
    "--------------\n",
    "\n",
    "## OVERVIEW\n",
    "We will start by segmenting the different cell regions - the nucleus, cell, and cytoplasm - since they will be necessary for determining which organelle are in which cell. This is integral to our single cell analysis approach.\n",
    "\n",
    "This notebook goes through the workflow steps to segment the ***nucleus*** from a fluorescent nuclei marker.\n",
    "\n",
    "\n",
    "## OBJECTIVE: \n",
    "### ✅ Infer sub-cellular component #1: ***nuclei***\n",
    "Segment the ***nuclei*** from a single channel (nuclei marker). This will be necessary to determine the other subcellular compartment - like the ***cytoplasm***. Nuclei will also be used to seed the instance segmentation of the ***cell*** area.\n",
    "\n",
    "> ***Convention:***  \"nuclei\" for the segmentation of ALL nuclei in the image.  \"nucleus\" for the ***single*** nucleus associated to the single cell being analyzed (determined in [02_infer_cellmask_from-composite](./02_infer_cellmask_from-composite.ipynb))."
   ]
  },
  {
   "attachments": {},
   "cell_type": "markdown",
   "metadata": {},
   "source": [
    "## IMPORTS"
   ]
  },
  {
   "cell_type": "code",
   "execution_count": null,
   "metadata": {},
   "outputs": [],
   "source": [
    "# top level imports\n",
    "from pathlib import Path\n",
    "import os, sys\n",
    "from collections import defaultdict\n",
    "from typing import Optional, Union\n",
    "\n",
    "import numpy as np\n",
    "\n",
    "from aicssegmentation.core.pre_processing_utils import  image_smoothing_gaussian_slice_by_slice \n",
    "from skimage.measure import label\n",
    "\n",
    "# # package for io \n",
    "from aicsimageio import AICSImage\n",
    "\n",
    "import napari\n",
    "\n",
    "### import local python functions in ../infer_subc\n",
    "sys.path.append(os.path.abspath((os.path.join(os.getcwd(), '..'))))\n",
    "\n",
    "from infer_subc.core.file_io import (read_czi_image,\n",
    "                                                                    export_inferred_organelle,\n",
    "                                                                    list_image_files)\n",
    "\n",
    "from infer_subc.core.img import *\n",
    "from infer_subc.constants import (TEST_IMG_N,\n",
    "                                  NUC_CH ,\n",
    "                                  LYSO_CH ,\n",
    "                                  MITO_CH ,\n",
    "                                  GOLGI_CH ,\n",
    "                                  PEROX_CH ,\n",
    "                                  ER_CH ,\n",
    "                                  LD_CH ,\n",
    "                                  RESIDUAL_CH ) \n",
    "\n",
    "LD_CH = 0\n",
    "NUC_CH = 1\n",
    "LYSO_CH = 2\n",
    "MITO_CH = 3\n",
    "GOLGI_CH = 4\n",
    "PEROX_CH = 5\n",
    "ER_CH = 6\n",
    "PM_CH = 7\n",
    "RESIDUAL_CH = 8\n",
    "TEST_IMG_N = 0\n",
    "\n",
    "%load_ext autoreload\n",
    "%autoreload 2"
   ]
  },
  {
   "cell_type": "code",
   "execution_count": null,
   "metadata": {},
   "outputs": [],
   "source": [
    "viewer = napari.Viewer()"
   ]
  },
  {
   "attachments": {},
   "cell_type": "markdown",
   "metadata": {},
   "source": [
    "## Get and load Image for processing"
   ]
  },
  {
   "cell_type": "code",
   "execution_count": null,
   "metadata": {},
   "outputs": [],
   "source": [
    "test_img_n = TEST_IMG_N\n",
    "\n",
    "data_root_path = Path(os.path.expanduser(\"~\")) / \"Documents/Python Scripts/Infer-subc-2D\"\n",
    "\n",
    "in_data_path = data_root_path / \"raw\"\n",
    "im_type = \".tiff\"\n",
    "\n",
    "img_file_list = list_image_files(in_data_path,im_type)\n",
    "test_img_name = img_file_list[test_img_n]\n",
    "\n",
    "out_data_path = data_root_path / \"out\"\n",
    "if not Path.exists(out_data_path):\n",
    "    Path.mkdir(out_data_path)\n",
    "    print(f\"making {out_data_path}\")\n",
    "\n",
    "print(test_img_name)"
   ]
  },
  {
   "cell_type": "code",
   "execution_count": null,
   "metadata": {},
   "outputs": [],
   "source": [
    "img_data,meta_dict = read_czi_image(test_img_name)\n",
    "\n",
    "channel_names = meta_dict['name']\n",
    "img = meta_dict['metadata']['aicsimage']\n",
    "scale = meta_dict['scale']\n",
    "channel_axis = meta_dict['channel_axis']"
   ]
  },
  {
   "attachments": {},
   "cell_type": "markdown",
   "metadata": {},
   "source": [
    "----------\n",
    "## infer ***nuclei***\n",
    " \n",
    "\n",
    "### summary of steps\n",
    "\n",
    "➡️ INPUT (extract)\n",
    "- select single channel containing the nuclei marker (channel number = user input)\n",
    "\n",
    "PRE-PROCESSING\n",
    "- rescale image intensities: \n",
    "    - min=0, max=1\n",
    "- smooth image:\n",
    "    - median filter (media size = user input)\n",
    "    - gaussian filter (sigma = user input)\n",
    "\n",
    "CORE PROCESSING\n",
    "  - calculate threshold value:\n",
    "      - log transform image\n",
    "      - calculate Li's minimum cross entropy threshold value\n",
    "      - inverse log transform threshold value\n",
    "  - Apply threshold to image:\n",
    "      - multiple threshold value by threshold factor (user input)\n",
    "      - compare threshold min and max values (user input) to adjusted threshold value \n",
    "      - apply threshold to image\n",
    "\n",
    "POST-PROCESSING\n",
    "  - fill holes (hole size = user input)\n",
    "  - remove small objects (object size = user input)\n",
    "\n",
    "\n",
    "OUTPUT ➡️ \n",
    "  - label unique nuclei objects based on connectivity\n",
    "  - save labeled ***nuclei*** (nuclei, NU) as unsigned integer 16-bit tif files"
   ]
  },
  {
   "attachments": {},
   "cell_type": "markdown",
   "metadata": {},
   "source": [
    "## EXTRACT prototype"
   ]
  },
  {
   "cell_type": "code",
   "execution_count": null,
   "metadata": {},
   "outputs": [],
   "source": [
    "###################\n",
    "# INPUT\n",
    "###################\n",
    "raw_nuclei = select_channel_from_raw(img_data, NUC_CH)"
   ]
  },
  {
   "cell_type": "code",
   "execution_count": null,
   "metadata": {},
   "outputs": [],
   "source": [
    "viewer.add_image(img_data)"
   ]
  },
  {
   "attachments": {},
   "cell_type": "markdown",
   "metadata": {},
   "source": [
    "## PRE-PROCESSING prototype\n"
   ]
  },
  {
   "cell_type": "code",
   "execution_count": null,
   "metadata": {},
   "outputs": [],
   "source": [
    "###################\n",
    "# PRE_PROCESSING\n",
    "###################           \n",
    "\n",
    "med_filter_size = 4\n",
    "gaussian_smoothing_sigma = 1.34\n",
    "\n",
    "nuclei =  scale_and_smooth(raw_nuclei,\n",
    "                           median_size = med_filter_size, \n",
    "                           gauss_sigma = gaussian_smoothing_sigma)"
   ]
  },
  {
   "attachments": {},
   "cell_type": "markdown",
   "metadata": {},
   "source": [
    "## CORE PROCESSING prototype"
   ]
  },
  {
   "attachments": {},
   "cell_type": "markdown",
   "metadata": {},
   "source": [
    "\n",
    "> #### ASIDE: Thresholding\n",
    "> [Thresholding](https://en.wikipedia.org/wiki/Thresholding_%28image_processing%29) is used to create binary images. A threshold value determines the intensity value separating foreground pixels from background pixels. Foregound pixels are pixels brighter than the threshold value, background pixels are darker. In many cases, images can be adequately segmented by thresholding followed by labelling of *connected components*, which is a fancy way of saying \"groups of pixels that touch each other\".\n",
    "> \n",
    "> Different thresholding algorithms produce different results. [Otsu's method](https://en.wikipedia.org/wiki/Otsu%27s_method) and [Li's minimum cross entropy threshold](https://scikit-image.org/docs/dev/auto_examples/developers/plot_threshold_li.html) are two common algorithms. Below, we use Li. You can use `skimage.filters.threshold_<TAB>` to find different thresholding methods.\n"
   ]
  },
  {
   "cell_type": "code",
   "execution_count": null,
   "metadata": {},
   "outputs": [],
   "source": [
    "###################\n",
    "# CORE_PROCESSING\n",
    "###################\n",
    "# log transform the image, calculate the threshold value using Li minimum cross entropy method, inverse log transform the value\n",
    "# apply the threshold value taking into account the user determined min, max, and adjustment values\n",
    "threshold_factor = 10\n",
    "thresh_min = 0.11\n",
    "thresh_max = 1\n",
    "\n",
    "li_thresholded = apply_log_li_threshold(nuclei, \n",
    "                                        thresh_factor=threshold_factor, \n",
    "                                        thresh_min=thresh_min, \n",
    "                                        thresh_max=thresh_max)"
   ]
  },
  {
   "attachments": {},
   "cell_type": "markdown",
   "metadata": {},
   "source": [
    "## POST PROCESSING prototype\n",
    "\n",
    "> NOTE: the size parameters are by convention defined as one dimensional \"width\", so the inputs to the functions are _squared_ i.e. raised to the power of 2: `**2` for 2D analysis. For volumetric (3D) analysis this would be _cubed_: `**3`."
   ]
  },
  {
   "cell_type": "code",
   "execution_count": null,
   "metadata": {},
   "outputs": [],
   "source": [
    "###################\n",
    "# POST_PROCESSING\n",
    "###################\n",
    "# fill small holes then exclude small objects\n",
    "hole_min_width = 0\n",
    "hole_max_width = 25  \n",
    "\n",
    "small_object_width = 15\n",
    "\n",
    "removed_holes = hole_filling_linear_size(li_thresholded, \n",
    "                                         hole_min=hole_min_width, \n",
    "                                         hole_max=hole_max_width)\n",
    "\n",
    "cleaned_img = size_filter_linear_size(removed_holes,\n",
    "                                      min_size=small_object_width,\n",
    "                                      method=\"3D\")\n",
    "\n",
    "# combine the above functions into one for downstream use in plugin\n",
    "cleaned_img2 = fill_and_filter_linear_size(li_thresholded, \n",
    "                                           hole_min=hole_min_width, \n",
    "                                           hole_max=hole_max_width, \n",
    "                                           min_size= small_object_width,\n",
    "                                           method=\"3D\")"
   ]
  },
  {
   "cell_type": "code",
   "execution_count": null,
   "metadata": {},
   "outputs": [],
   "source": [
    "# make sure it works..\n",
    "np.all(cleaned_img==cleaned_img2)"
   ]
  },
  {
   "attachments": {},
   "cell_type": "markdown",
   "metadata": {},
   "source": [
    "## LABELING prototype"
   ]
  },
  {
   "cell_type": "code",
   "execution_count": null,
   "metadata": {},
   "outputs": [],
   "source": [
    "###################\n",
    "# LABELING\n",
    "###################\n",
    "# create instance segmentation based on connectivity\n",
    "nuclei_labels = label_uint16(cleaned_img2)"
   ]
  },
  {
   "cell_type": "code",
   "execution_count": null,
   "metadata": {},
   "outputs": [],
   "source": [
    "nuclei_labels.dtype"
   ]
  },
  {
   "attachments": {},
   "cell_type": "markdown",
   "metadata": {},
   "source": [
    "## Visualize with `napari` 1\n",
    "Visualize the first-pass segmentation and labeling with `napari`."
   ]
  },
  {
   "cell_type": "code",
   "execution_count": null,
   "metadata": {},
   "outputs": [],
   "source": [
    "viewer.add_labels(\n",
    "    nuclei_labels,\n",
    "    opacity=0.3)"
   ]
  },
  {
   "cell_type": "code",
   "execution_count": null,
   "metadata": {},
   "outputs": [],
   "source": [
    "viewer.add_image(\n",
    "    nuclei)\n",
    "\n",
    "viewer.add_image(\n",
    "    li_thresholded,\n",
    "    opacity=0.3,)\n",
    "\n",
    "viewer.add_labels(\n",
    "    nuclei_labels,\n",
    "    opacity=0.3)"
   ]
  },
  {
   "attachments": {},
   "cell_type": "markdown",
   "metadata": {},
   "source": [
    "## SAVE inferred nuclei to .tif file\n"
   ]
  },
  {
   "cell_type": "code",
   "execution_count": null,
   "metadata": {},
   "outputs": [
    {
     "ename": "",
     "evalue": "",
     "output_type": "error",
     "traceback": [
      "\u001b[1;31mThe Kernel crashed while executing code in the the current cell or a previous cell. Please review the code in the cell(s) to identify a possible cause of the failure. Click <a href='https://aka.ms/vscodeJupyterKernelCrash'>here</a> for more info. View Jupyter <a href='command:jupyter.viewOutput'>log</a> for further details."
     ]
    }
   ],
   "source": [
    "out_file_n = export_inferred_organelle(nuclei_labels, \"nuclei\", meta_dict, out_data_path)"
   ]
  },
  {
   "attachments": {},
   "cell_type": "markdown",
   "metadata": {},
   "source": [
    "----------\n",
    "## DEFINE `infer_nuclei_fromlabel` function\n",
    "\n",
    "Based on the _prototyping_ above define the function to infer nuclei. \n",
    "\n",
    "> NOTE: these functions mainly serve for downstream prototyping in the notebooks. Each step above has an independent function that is implemented in the plugin for easy of use."
   ]
  },
  {
   "cell_type": "code",
   "execution_count": null,
   "metadata": {},
   "outputs": [],
   "source": [
    "##########################\n",
    "#  _infer_nuclei\n",
    "##########################\n",
    "def _infer_nuclei_fromlabel(in_img: np.ndarray, \n",
    "                            nuc_ch: Union[int,None],\n",
    "                            median_sz: int, \n",
    "                            gauss_sig: float,\n",
    "                            thresh_factor: float,\n",
    "                            thresh_min: float,\n",
    "                            thresh_max: float,\n",
    "                            min_hole_w: int,\n",
    "                            max_hole_w: int,\n",
    "                            small_obj_w: int,\n",
    "                            fill_filter_method: str\n",
    "                            ) -> np.ndarray:\n",
    "    \"\"\"\n",
    "    Procedure to infer nuclei from linear unmixed input.\n",
    "\n",
    "    Parameters\n",
    "    ------------\n",
    "    in_img: np.ndarray\n",
    "        a 3d image containing all the channels\n",
    "    median_sz: int\n",
    "        width of median filter for signal\n",
    "    gauss_sig: float\n",
    "        sigma for gaussian smoothing of  signal\n",
    "    thresh_factor: float\n",
    "        adjustment factor for log Li threholding\n",
    "    thresh_min: float\n",
    "        abs min threhold for log Li threholding\n",
    "    thresh_max: float\n",
    "        abs max threhold for log Li threholding\n",
    "    max_hole_w: int\n",
    "        hole filling cutoff for nuclei post-processing\n",
    "    small_obj_w: int\n",
    "        minimu object size cutoff for nuclei post-processing\n",
    "\n",
    "    Returns\n",
    "    -------------\n",
    "    nuclei_object\n",
    "        mask defined extent of NU\n",
    "    \n",
    "    \"\"\"\n",
    "    ###################\n",
    "    # EXTRACT\n",
    "    ###################                \n",
    "    nuclei = select_channel_from_raw(in_img, nuc_ch)\n",
    "\n",
    "    ###################\n",
    "    # PRE_PROCESSING\n",
    "    ###################                \n",
    "    nuclei =  scale_and_smooth(nuclei,\n",
    "                        median_size = median_sz, \n",
    "                        gauss_sigma = gauss_sig)\n",
    "\n",
    "    ###################\n",
    "    # CORE_PROCESSING\n",
    "    ###################\n",
    "    nuclei_object = apply_log_li_threshold(nuclei, \n",
    "                                           thresh_factor=thresh_factor, \n",
    "                                           thresh_min=thresh_min, \n",
    "                                           thresh_max=thresh_max)\n",
    "\n",
    "    ###################\n",
    "    # POST_PROCESSING\n",
    "    ###################\n",
    "    nuclei_object = fill_and_filter_linear_size(nuclei_object, \n",
    "                                                hole_min=min_hole_w, \n",
    "                                                hole_max=max_hole_w, \n",
    "                                                min_size=small_obj_w,\n",
    "                                                method=fill_filter_method)\n",
    "\n",
    "    nuclei_labels = label_uint16(nuclei_object)\n",
    "\n",
    "    return nuclei_labels"
   ]
  },
  {
   "attachments": {},
   "cell_type": "markdown",
   "metadata": {},
   "source": [
    "## DEFINE `_fixed_infer_nuclei` function\n",
    "\n",
    "Based on the _prototyping_ above define the function to infer cellmask. with a *fixed* set of parameters for each step in the procedure.  That is they are all \"hard coded\""
   ]
  },
  {
   "cell_type": "code",
   "execution_count": null,
   "metadata": {},
   "outputs": [],
   "source": [
    "##########################\n",
    "#  fixed_infer_nuclei\n",
    "##########################\n",
    "def _fixed_infer_nuclei_fromlabel(in_img: np.ndarray) -> np.ndarray:\n",
    "    \"\"\"\n",
    "    Procedure to infer cellmask from linearly unmixed input, with a *fixed* set of parameters for each step in the procedure.  i.e. \"hard coded\"\n",
    "\n",
    "    Parameters\n",
    "    ------------\n",
    "    in_img: np.ndarray\n",
    "        a 3d image containing all the channels\n",
    " \n",
    "    Returns\n",
    "    -------------\n",
    "    nuclei_object\n",
    "        inferred nuclei\n",
    "    \n",
    "    \"\"\"\n",
    "    nuc_ch = NUC_CH\n",
    "    median_sz = 4   \n",
    "    gauss_sig = 1.34\n",
    "    threshold_factor = 0.9\n",
    "    thresh_min = 0.1\n",
    "    thresh_max = 1.0\n",
    "    min_hole_w = 0\n",
    "    max_hole_w = 25\n",
    "    small_obj_w = 15\n",
    "    fill_filter_method = \"3D\"\n",
    "\n",
    "    return _infer_nuclei_fromlabel( in_img,\n",
    "                                    nuc_ch,\n",
    "                                    median_sz,\n",
    "                                    gauss_sig,\n",
    "                                    threshold_factor,\n",
    "                                    thresh_min,\n",
    "                                    thresh_max,\n",
    "                                    min_hole_w,\n",
    "                                    max_hole_w,\n",
    "                                    small_obj_w,\n",
    "                                    fill_filter_method)\n"
   ]
  },
  {
   "attachments": {},
   "cell_type": "markdown",
   "metadata": {},
   "source": [
    "## TEST `_infer_nuclei_fromlabel`  function defined above"
   ]
  },
  {
   "cell_type": "code",
   "execution_count": null,
   "metadata": {},
   "outputs": [],
   "source": [
    "\n",
    "_NU_object =  _fixed_infer_nuclei_fromlabel(img_data) \n",
    "\n",
    "_NU_object.dtype"
   ]
  },
  {
   "cell_type": "code",
   "execution_count": null,
   "metadata": {},
   "outputs": [],
   "source": [
    "np.all(nuclei_labels == _NU_object)"
   ]
  },
  {
   "cell_type": "code",
   "execution_count": null,
   "metadata": {},
   "outputs": [],
   "source": [
    "viewer.add_image(_NU_object)"
   ]
  },
  {
   "attachments": {},
   "cell_type": "markdown",
   "metadata": {},
   "source": [
    "---------------------\n",
    "# TEST `infer_nuclei_fromlabel` exported functions\n",
    "\n",
    "The prototype `_infer_nuclei_fromlabel` was copied to the [`.organelles.nuclei`](../infer_subc/organelles/nuclei.py) sub-module."
   ]
  },
  {
   "cell_type": "code",
   "execution_count": null,
   "metadata": {},
   "outputs": [],
   "source": [
    "from infer_subc.organelles.nuclei import infer_nuclei_fromlabel, fixed_infer_nuclei_fromlabel\n",
    "nuclei_object =  fixed_infer_nuclei_fromlabel(img_data) \n",
    "\n",
    "nuclei_object.dtype"
   ]
  },
  {
   "cell_type": "code",
   "execution_count": null,
   "metadata": {},
   "outputs": [],
   "source": [
    "np.all(_NU_object == nuclei_object)"
   ]
  },
  {
   "attachments": {},
   "cell_type": "markdown",
   "metadata": {},
   "source": [
    "## Visualize  2\n"
   ]
  },
  {
   "cell_type": "code",
   "execution_count": null,
   "metadata": {},
   "outputs": [],
   "source": [
    "viewer.add_image(\n",
    "    nuclei_object,\n",
    "    opacity=0.3)\n",
    "\n",
    "viewer.add_image(\n",
    "    label(nuclei_object),\n",
    "    opacity=0.3)"
   ]
  },
  {
   "cell_type": "code",
   "execution_count": null,
   "metadata": {},
   "outputs": [],
   "source": [
    "from napari.utils.notebook_display import nbscreenshot\n",
    "\n",
    "nbscreenshot(viewer, canvas_only=True)"
   ]
  },
  {
   "cell_type": "code",
   "execution_count": null,
   "metadata": {},
   "outputs": [],
   "source": [
    "viewer.close()"
   ]
  },
  {
   "attachments": {},
   "cell_type": "markdown",
   "metadata": {},
   "source": [
    "-------------\n",
    "## SUMMARY\n",
    "\n",
    "The above explains the general procedure for segmenting all the nuclei in an image based on a fluorescent nuclei marker (single channel). \n",
    "\n",
    "### NEXT: INFER CELLMASK\n",
    "\n",
    "proceed to [02_infer_cellmask.ipynb](./02_infer_cellmask.ipynb)\n"
   ]
  }
 ],
 "metadata": {
  "kernelspec": {
   "display_name": "Python 3 (ipykernel)",
   "language": "python",
   "name": "python3"
  },
  "language_info": {
   "codemirror_mode": {
    "name": "ipython",
    "version": 3
   },
   "file_extension": ".py",
   "mimetype": "text/x-python",
   "name": "python",
   "nbconvert_exporter": "python",
   "pygments_lexer": "ipython3",
   "version": "3.10.13"
  },
  "vscode": {
   "interpreter": {
    "hash": "d6148ef1fb015fb20f0b6da2ea61c87c6b848bdf3dabb03087e5d5cd0c4607e9"
   }
  }
 },
 "nbformat": 4,
 "nbformat_minor": 2
}
