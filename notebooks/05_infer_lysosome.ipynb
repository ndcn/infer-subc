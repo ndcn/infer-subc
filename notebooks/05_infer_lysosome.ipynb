{
 "cells": [
  {
   "attachments": {},
   "cell_type": "markdown",
   "metadata": {},
   "source": [
    "# Infer ***lysosome*** -  4️⃣\n",
    "\n",
    "--------------\n",
    "\n",
    "## OVERVIEW\n",
    "In notesbooks 4-9, we will go how each organelle is segmented. These segmentation workflows are completely independent of each other and can be run in any order. Additionally, the entire image will be processed in this notebook, irrespective of the single cells identified in notebooks 1-3. The cell mask will be applied to the organelle segmentation outputs before quantification (as outlined in [10_regionprops](./10_regionprops.ipynb)). \n",
    "\n",
    "This notebook goes through the workflow steps to segment the ***lysosomes*** -- one of the six organelles of interest.\n",
    "\n",
    "## OBJECTIVE: \n",
    "### ✅ Infer sub-cellular component ***lysosome***\n",
    "Segment the ***lysosomes*** from a single channel (lysosomal membrane marker). This workflow was optimized for images of fluorescently tagged Lamp1, a membrane protein. When lysosomes are larger in size, this causes a hollow sphere structure that requires different segmentation compared to smaller lysosomes that appear filled in."
   ]
  },
  {
   "attachments": {},
   "cell_type": "markdown",
   "metadata": {},
   "source": [
    "\n",
    "## IMPORTS"
   ]
  },
  {
   "cell_type": "code",
   "execution_count": null,
   "metadata": {},
   "outputs": [],
   "source": [
    "# top level imports\n",
    "from pathlib import Path\n",
    "import os, sys\n",
    "from typing import Optional\n",
    "\n",
    "import numpy as np\n",
    "\n",
    "from aicssegmentation.core.seg_dot import dot_2d_slice_by_slice_wrapper\n",
    "from aicssegmentation.core.vessel import filament_2d_wrapper\n",
    "from skimage.measure import label\n",
    "\n",
    "import napari\n",
    "\n",
    "### import local python functions in ../infer_subc\n",
    "sys.path.append(os.path.abspath((os.path.join(os.getcwd(), '..'))))\n",
    "\n",
    "\n",
    "from infer_subc.core.file_io import (read_czi_image,\n",
    "                                                                    read_ome_image,\n",
    "                                                                    export_inferred_organelle,\n",
    "                                                                    import_inferred_organelle,\n",
    "                                                                    list_image_files)\n",
    "from infer_subc.core.img import * #dot_filter_3, filament_filter_3\n",
    "from infer_subc.organelles import fixed_infer_cellmask_fromcomposite, fixed_infer_nuclei_fromlabel, get_cytoplasm, get_nuclei, get_cellmask\n",
    "# NOTE:  these \"constants\" are only accurate for the testing MCZ dataset\n",
    "from infer_subc.constants import (TEST_IMG_N,\n",
    "                                                                    NUC_CH ,\n",
    "                                                                    LYSO_CH ,\n",
    "                                                                    MITO_CH ,\n",
    "                                                                    GOLGI_CH ,\n",
    "                                                                    PEROX_CH ,\n",
    "                                                                    ER_CH ,\n",
    "                                                                    LD_CH ,\n",
    "                                                                    RESIDUAL_CH )      \n",
    "\n",
    "LD_CH = 0\n",
    "NUC_CH = 1\n",
    "LYSO_CH = 2\n",
    "MITO_CH = 3\n",
    "GOLGI_CH = 4\n",
    "PEROX_CH = 5\n",
    "ER_CH = 6\n",
    "PM_CH = 7\n",
    "RESIDUAL_CH = 8\n",
    "TEST_IMG_N = 0\n",
    "\n",
    "\n",
    "%load_ext autoreload\n",
    "%autoreload 2\n"
   ]
  },
  {
   "attachments": {},
   "cell_type": "markdown",
   "metadata": {},
   "source": [
    "## Get and load Image for processing"
   ]
  },
  {
   "cell_type": "code",
   "execution_count": null,
   "metadata": {},
   "outputs": [],
   "source": [
    "test_img_n = TEST_IMG_N\n",
    "\n",
    "data_root_path = Path(os.path.expanduser(\"~\")) /  \"Documents/Python Scripts/Infer-subc-2D\"\n",
    "\n",
    "in_data_path = data_root_path / \"raw\"\n",
    "im_type = \".tiff\"\n",
    "\n",
    "img_file_list = list_image_files(in_data_path,im_type)\n",
    "test_img_name = img_file_list[test_img_n]\n",
    "\n",
    "out_data_path = data_root_path / \"out\"\n",
    "if not Path.exists(out_data_path):\n",
    "    Path.mkdir(out_data_path)\n",
    "    print(f\"making {out_data_path}\")"
   ]
  },
  {
   "cell_type": "code",
   "execution_count": null,
   "metadata": {},
   "outputs": [],
   "source": [
    "img_data,meta_dict = read_czi_image(test_img_name)\n",
    "\n",
    "channel_names = meta_dict['name']\n",
    "img = meta_dict['metadata']['aicsimage']\n",
    "scale = meta_dict['scale']\n",
    "channel_axis = meta_dict['channel_axis']"
   ]
  },
  {
   "attachments": {},
   "cell_type": "markdown",
   "metadata": {},
   "source": [
    "---------------------\n",
    "\n",
    "## infer ***lysosomes***\n",
    "\n",
    "## summary of steps\n",
    "\n",
    "➡️ INPUT\n",
    "- select single channel containing the lysosome marker (channel number = user input)\n",
    "\n",
    "PRE-PROCESSING\n",
    "- rescale image intensities: \n",
    "    - min=0, max=1\n",
    "- smooth image:\n",
    "    - median filter (media size = user input)\n",
    "    - gaussian filter (sigma = user input)\n",
    "\n",
    "CORE PROCESSING\n",
    "- apply \"dot\" thresholding method (for small round objects) from the Allen Cell [aicssegmentation](https://github.com/AllenCell/aics-segmentation) package (size scale and threshold cutoff = user input)\n",
    "- apply \"filament\"/\"vessel\" thresholding method (for tubular objects) from the Allen Cell [aicssegmentation](https://github.com/AllenCell/aics-segmentation) package (size scale and threshold cutoff = user input)\n",
    "- combine the two segmentations with logical *OR*\n",
    "\n",
    "POST-PROCESSING\n",
    "  - fill holes (hole size = user input)\n",
    "  - remove small objects (object size = user input)\n",
    "\n",
    "OUTPUT ➡️\n",
    "- label unique lysosome objects based on connectivity\n",
    "- save labeled ***lysosomes*** (lyso, LS) as unsigned integer 16-bit tif files\n",
    "\n",
    "\n",
    "> Generally, we followed the Allen Cell Segmenter procedure for lysosome segmentation from the [Lamp1](https://www.allencell.org/cell-observations/category/lamp1) marker. Sourced from: this notebook [example](https://github.com/AllenCell/aics-segmentation/blob/main/lookup_table_demo/playground_lamp1.ipynb)\n",
    "\n"
   ]
  },
  {
   "attachments": {},
   "cell_type": "markdown",
   "metadata": {},
   "source": [
    "## EXTRACT prototype"
   ]
  },
  {
   "cell_type": "code",
   "execution_count": null,
   "metadata": {},
   "outputs": [],
   "source": [
    "###################\n",
    "# INPUT\n",
    "###################\n",
    "raw_lyso = select_channel_from_raw(img_data, LYSO_CH)"
   ]
  },
  {
   "attachments": {},
   "cell_type": "markdown",
   "metadata": {},
   "source": [
    "## PRE-PROCESSING prototype\n"
   ]
  },
  {
   "cell_type": "code",
   "execution_count": null,
   "metadata": {},
   "outputs": [],
   "source": [
    "###################\n",
    "# PRE_PROCESSING\n",
    "###################\n",
    "med_filter_size = 3   \n",
    "gaussian_smoothing_sigma = 1.34\n",
    "\n",
    "struct_img =  scale_and_smooth(raw_lyso,\n",
    "                               median_size = med_filter_size, \n",
    "                               gauss_sigma = gaussian_smoothing_sigma)"
   ]
  },
  {
   "attachments": {},
   "cell_type": "markdown",
   "metadata": {},
   "source": [
    "## CORE PROCESSING prototype"
   ]
  },
  {
   "cell_type": "code",
   "execution_count": null,
   "metadata": {},
   "outputs": [],
   "source": [
    "###################\n",
    "# CORE_PROCESSING\n",
    "###################\n",
    "## PARAMETERS for this step ##\n",
    "# s_param = [[5,0.09], [2.5,0.07], [1,0.01]]\n",
    "dot_method = \"3D\"\n",
    "\n",
    "# apply the 2D or 3D versions of the AICSsegmentation dot filter with multiple scales\n",
    "bw_dot_test = dot_filter_3(struct_img, 5, 0.09, 2.5, 0.07, 1, 0.01, dot_method)\n",
    "\n",
    "\n",
    "################################\n",
    "## PARAMETERS for this step ##\n",
    "# f_param = [[1, 0.15]]\n",
    "fil_method = \"3D\"\n",
    "\n",
    "# apply the 2D or 3D versions of the AICSsegmentation filament filter with multiple scales\n",
    "bw_filament_test = filament_filter_3(struct_img, 1, 0.15, 0,0,0,0, fil_method)\n",
    "\n",
    "\n",
    "# combine the two segmentations together\n",
    "bw_test = np.logical_or(bw_dot_test, bw_filament_test)\n"
   ]
  },
  {
   "attachments": {},
   "cell_type": "markdown",
   "metadata": {},
   "source": [
    "## POST-PROCESSING"
   ]
  },
  {
   "cell_type": "code",
   "execution_count": null,
   "metadata": {},
   "outputs": [],
   "source": [
    "###################\n",
    "# POST_PROCESSING\n",
    "###################\n",
    "hole_min_width = 0\n",
    "hole_max_width = 25\n",
    "\n",
    "small_object_width = 0\n",
    "\n",
    "fill_filter_method = \"3D\"\n",
    "\n",
    "cleaned_img2 = fill_and_filter_linear_size(bw_test, \n",
    "                                           hole_min=hole_min_width, \n",
    "                                           hole_max=hole_max_width, \n",
    "                                           min_size=small_object_width,\n",
    "                                           method=fill_filter_method)\n"
   ]
  },
  {
   "attachments": {},
   "cell_type": "markdown",
   "metadata": {},
   "source": [
    "## LABELING prototype"
   ]
  },
  {
   "cell_type": "code",
   "execution_count": null,
   "metadata": {},
   "outputs": [],
   "source": [
    "lysosome_labels = label_uint16(cleaned_img2)"
   ]
  },
  {
   "cell_type": "code",
   "execution_count": null,
   "metadata": {},
   "outputs": [],
   "source": [
    "lysosome_labels.dtype"
   ]
  },
  {
   "attachments": {},
   "cell_type": "markdown",
   "metadata": {},
   "source": [
    "## Visualize with `napari` 1\n",
    "Visualize the first-pass segmentation and labeling with `napari`."
   ]
  },
  {
   "cell_type": "code",
   "execution_count": null,
   "metadata": {},
   "outputs": [],
   "source": [
    "viewer = napari.Viewer()"
   ]
  },
  {
   "cell_type": "code",
   "execution_count": null,
   "metadata": {},
   "outputs": [],
   "source": [
    "viewer.add_image(\n",
    "    struct_img)    \n",
    "\n",
    "viewer.add_image(\n",
    "    cleaned_img2,\n",
    "    opacity=0.3,)\n",
    "\n",
    "viewer.add_labels(\n",
    "    lysosome_labels,\n",
    "    opacity=0.3)"
   ]
  },
  {
   "attachments": {},
   "cell_type": "markdown",
   "metadata": {},
   "source": [
    "## SAVE inferred lysosomes to .tif file"
   ]
  },
  {
   "cell_type": "code",
   "execution_count": null,
   "metadata": {},
   "outputs": [
    {
     "ename": "",
     "evalue": "",
     "output_type": "error",
     "traceback": [
      "\u001b[1;31mThe Kernel crashed while executing code in the the current cell or a previous cell. Please review the code in the cell(s) to identify a possible cause of the failure. Click <a href='https://aka.ms/vscodeJupyterKernelCrash'>here</a> for more info. View Jupyter <a href='command:jupyter.viewOutput'>log</a> for further details."
     ]
    }
   ],
   "source": [
    "out_file_n = export_inferred_organelle(lysosome_labels, \"lyso\", meta_dict, out_data_path)"
   ]
  },
  {
   "attachments": {},
   "cell_type": "markdown",
   "metadata": {},
   "source": [
    "----------\n",
    "## DEFINE `_infer_lysosomes` function\n",
    "\n",
    "Based on the _prototyping_ above define the function to infer nuclei. \n",
    "\n",
    "> NOTE: these functions mainly serve for downstream prototyping in the notebooks. Each step above has an independent function that is implemented in the plugin for easy of use."
   ]
  },
  {
   "cell_type": "code",
   "execution_count": null,
   "metadata": {},
   "outputs": [],
   "source": [
    "##########################\n",
    "#  infer_LYSOSOMES\n",
    "##########################\n",
    "def _infer_lyso(\n",
    "                                in_img: np.ndarray,\n",
    "                                lyso_ch: int,\n",
    "                                median_sz: int,\n",
    "                                gauss_sig: float,\n",
    "                                dot_scale_1: float,\n",
    "                                dot_cut_1: float,\n",
    "                                dot_scale_2: float,\n",
    "                                dot_cut_2: float,\n",
    "                                dot_scale_3: float,\n",
    "                                dot_cut_3: float,\n",
    "                                dot_method: str,\n",
    "                                fil_scale_1: float,\n",
    "                                fil_cut_1: float,\n",
    "                                fil_scale_2: float, \n",
    "                                fil_cut_2: float, \n",
    "                                fil_scale_3: float, \n",
    "                                fil_cut_3: float,\n",
    "                                fil_method: str,\n",
    "                                min_hole_w: int,\n",
    "                                max_hole_w: int,\n",
    "                                small_obj_w: int,\n",
    "                                fill_filter_method: str\n",
    "                            ) -> np.ndarray:\n",
    "    \"\"\"\n",
    "    Procedure to infer lysosome from linearly unmixed input,\n",
    "    \n",
    "    Parameters\n",
    "    ------------\n",
    "    in_img: \n",
    "        a 3d image containing all the channels\n",
    "    median_sz: \n",
    "        width of median filter for signal\n",
    "    gauss_sig: \n",
    "        sigma for gaussian smoothing of  signal\n",
    "    dot_scale: \n",
    "        scales (log_sigma) for dot filter (1,2, and 3)\n",
    "    dot_cut: \n",
    "        threshold for dot filter thresholds (1,2,and 3)\n",
    "    fil_scale: \n",
    "        scale (log_sigma) for filament filter\n",
    "    fil_cut: \n",
    "        threshold for filament fitered threshold\n",
    "    min_hole_w: \n",
    "        hole filling min for nuclei post-processing\n",
    "    max_hole_w: \n",
    "        hole filling cutoff for nuclei post-processing\n",
    "    small_obj_w: \n",
    "        minimu object size cutoff for nuclei post-processing\n",
    "    fill_filter_method:\n",
    "        to fill snall holes and remove small objects in \"3D\" or \"slice-by-slice\"\n",
    "\n",
    "    Returns\n",
    "    -------------\n",
    "    lyso_object\n",
    "        mask defined extent of lysosome object\n",
    "\n",
    "    \"\"\"\n",
    "    ###################\n",
    "    # EXTRACT\n",
    "    ###################    \n",
    "    lyso = select_channel_from_raw(in_img, lyso_ch)\n",
    "\n",
    "     ###################\n",
    "    # PRE_PROCESSING\n",
    "    ###################    \n",
    "    lyso1 =  scale_and_smooth(lyso,\n",
    "                             median_size = median_sz, \n",
    "                             gauss_sigma = gauss_sig)\n",
    "   ###################\n",
    "    # CORE_PROCESSING\n",
    "    ###################\n",
    "    bw_dot = dot_filter_3(lyso1, dot_scale_1, dot_cut_1, dot_scale_2, dot_cut_2, dot_scale_3, dot_cut_3, dot_method)\n",
    "\n",
    "    bw_filament = filament_filter_3(lyso1, fil_scale_1, fil_cut_1, fil_scale_2, fil_cut_2, fil_scale_3, fil_cut_3, fil_method)\n",
    "\n",
    "    bw = np.logical_or(bw_dot, bw_filament)\n",
    "\n",
    "    ###################\n",
    "    # POST_PROCESSING\n",
    "    ###################\n",
    "    struct_obj = fill_and_filter_linear_size(bw, hole_min=min_hole_w, hole_max=max_hole_w, min_size=small_obj_w, method=fill_filter_method)\n",
    "\n",
    "    ###################\n",
    "    # LABELING\n",
    "    ###################\n",
    "    struct_obj1 = label_uint16(struct_obj)\n",
    "\n",
    "    return struct_obj1\n"
   ]
  },
  {
   "attachments": {},
   "cell_type": "markdown",
   "metadata": {},
   "source": [
    "## DEFINE `_fixed_infer_lyso` function\n"
   ]
  },
  {
   "cell_type": "code",
   "execution_count": null,
   "metadata": {},
   "outputs": [],
   "source": [
    "##########################\n",
    "#  fixed_infer_nuclei\n",
    "##########################\n",
    "def _fixed_infer_lyso(in_img: np.ndarray) -> np.ndarray:\n",
    "    \"\"\"\n",
    "    Procedure to infer lysosome from linearly unmixed input with *fixed parameters*\n",
    "    Parameters\n",
    "    ------------\n",
    "    in_img: \n",
    "        a 3d image containing all the channels\n",
    "\n",
    "    Returns\n",
    "    -------------\n",
    "    lyso_object\n",
    "        mask defined extent of NU\n",
    "    \"\"\"\n",
    "    lyso_ch = 1\n",
    "    median_sz = 3\n",
    "    gauss_sig = 1.34\n",
    "    dot_scale_1 = 5\n",
    "    dot_cut_1 = 0.09\n",
    "    dot_scale_2 = 2.5\n",
    "    dot_cut_2 = 0.07\n",
    "    dot_scale_3 = 1\n",
    "    dot_cut_3 = 0.01\n",
    "    dot_method = \"3D\"\n",
    "    fil_scale_1 = 1\n",
    "    fil_cut_1 = 0.15\n",
    "    fil_scale_2 = 0\n",
    "    fil_cut_2 = 0\n",
    "    fil_scale_3 = 0\n",
    "    fil_cut_3 = 0\n",
    "    fil_method = \"3D\"\n",
    "    min_hole_w = 0\n",
    "    max_hole_w = 25\n",
    "    small_obj_w = 0\n",
    "    method = \"3D\"\n",
    "\n",
    "    return _infer_lyso(  \n",
    "        in_img,\n",
    "        lyso_ch,\n",
    "        median_sz,\n",
    "        gauss_sig,\n",
    "        dot_scale_1,\n",
    "        dot_cut_1,\n",
    "        dot_scale_2,\n",
    "        dot_cut_2,\n",
    "        dot_scale_3,\n",
    "        dot_cut_3,\n",
    "        dot_method,\n",
    "        fil_scale_1,\n",
    "        fil_cut_1,\n",
    "        fil_scale_2,\n",
    "        fil_cut_2,\n",
    "        fil_scale_3,\n",
    "        fil_cut_3,\n",
    "        fil_method,\n",
    "        min_hole_w,\n",
    "        max_hole_w,\n",
    "        small_obj_w,\n",
    "        method)"
   ]
  },
  {
   "attachments": {},
   "cell_type": "markdown",
   "metadata": {},
   "source": [
    "# TEST `_infer_lyso` function defined above"
   ]
  },
  {
   "cell_type": "code",
   "execution_count": null,
   "metadata": {},
   "outputs": [],
   "source": [
    "_lyso_object =  _fixed_infer_lyso(img_data) \n",
    "\n",
    "_lyso_object.dtype"
   ]
  },
  {
   "cell_type": "code",
   "execution_count": null,
   "metadata": {},
   "outputs": [],
   "source": [
    "np.all(lysosome_labels == _lyso_object)"
   ]
  },
  {
   "attachments": {},
   "cell_type": "markdown",
   "metadata": {},
   "source": [
    "---------------------\n",
    "# TEST `infer_lyso` exported functions\n",
    "\n",
    "The prototype `_infer_lyso` was copied to the [`.organelles.lysosome`](../infer_subc/organelles/lysosome.py) sub-module."
   ]
  },
  {
   "cell_type": "code",
   "execution_count": null,
   "metadata": {},
   "outputs": [],
   "source": [
    "from infer_subc.organelles.lysosome import fixed_infer_lyso\n",
    "\n",
    "lyso_object =  fixed_infer_lyso(img_data)"
   ]
  },
  {
   "cell_type": "code",
   "execution_count": null,
   "metadata": {},
   "outputs": [],
   "source": [
    "np.all(_lyso_object == lyso_object)"
   ]
  },
  {
   "attachments": {},
   "cell_type": "markdown",
   "metadata": {},
   "source": [
    "## Visualize  2\n"
   ]
  },
  {
   "cell_type": "code",
   "execution_count": null,
   "metadata": {},
   "outputs": [],
   "source": [
    "viewer.add_image(\n",
    "    _lyso_object,\n",
    "    opacity=0.3)\n",
    "\n",
    "viewer.add_labels(\n",
    "    lyso_object,\n",
    "    opacity=0.3)"
   ]
  },
  {
   "cell_type": "code",
   "execution_count": null,
   "metadata": {},
   "outputs": [],
   "source": [
    "from napari.utils.notebook_display import nbscreenshot\n",
    "\n",
    "nbscreenshot(viewer, canvas_only=True)"
   ]
  },
  {
   "cell_type": "code",
   "execution_count": null,
   "metadata": {},
   "outputs": [],
   "source": [
    "viewer.close()"
   ]
  },
  {
   "attachments": {},
   "cell_type": "markdown",
   "metadata": {},
   "source": [
    "-------------\n",
    "## SUMMARY\n",
    "\n",
    "The above details how the lysosome object is inferred.  \n",
    "\n",
    "### NEXT: INFER MITOCHONDRIA\n",
    "\n",
    "proceed to [05_infer_mito.ipynb](./05_infer_mito.ipynb)\n"
   ]
  }
 ],
 "metadata": {
  "kernelspec": {
   "display_name": "Python 3.9.13 ('napariNEW')",
   "language": "python",
   "name": "python3"
  },
  "language_info": {
   "codemirror_mode": {
    "name": "ipython",
    "version": 3
   },
   "file_extension": ".py",
   "mimetype": "text/x-python",
   "name": "python",
   "nbconvert_exporter": "python",
   "pygments_lexer": "ipython3",
   "version": "3.10.13"
  },
  "orig_nbformat": 4,
  "vscode": {
   "interpreter": {
    "hash": "d6148ef1fb015fb20f0b6da2ea61c87c6b848bdf3dabb03087e5d5cd0c4607e9"
   }
  }
 },
 "nbformat": 4,
 "nbformat_minor": 2
}
