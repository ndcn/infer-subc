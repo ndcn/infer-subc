{
 "cells": [
  {
   "attachments": {},
   "cell_type": "markdown",
   "metadata": {},
   "source": [
    "# Infer ***cellmask*** from a composite image -  2️⃣ \n",
    "\n",
    "--------------\n",
    "\n",
    "## OVERVIEW\n",
    "In this notebook, we will continue segmenting the different cell regions - the nucleus, cell, and cytoplasm - since they will be necessary for determining which organelle are in which cell. This is integral to our single cell analysis approach.\n",
    "\n",
    "This notebook goes through the workflow steps to segment the ***cell*** from a composite image made from a combination of fluorescent organelle marker.\n",
    "\n",
    "> WARNING: 🚨🚨🚨🚨\n",
    ">> Because we do NOT have a direct cell membrane or cell-fill signal, this segmentation is difficult and potentially problematic. The cell mask will be used to determine the area of each single in our single cell analysis.\n",
    "\n",
    "\n",
    "\n",
    "## OBJECTIVE: \n",
    "### ✅ Infer sub-cellular component #2: ***cellmask***\n",
    "Segment the cell area -- the ***cellmask*** -- from a composite image of multiple organelle markers combined. This method is used in the case where there is no cell fill/membrane marker.\n",
    "\n",
    "In this example, there are multiple cells per field of view, but some of the cells do not contain all of the fluorescent markers (due to the transfection protocol used). Therefore, we will use a single cell selection process to identify the cell with the highest total fluorescence after all markers are combined. This assumption could lead to the selection of the \"wrong\" cell, but in pratice it has worked reasonably well. *In the future, more sophisticated quality control methods could be implemented to select cells with all of the labels.*\n",
    "\n",
    "The cellmask will be necessary for determining the area of individual cells in our single cell analysis approach.\n",
    "\n",
    "> ***Biological relevance:*** \n",
    "> The combination of organelle markers used to create the composite image for the cellmask segmentation depends on the organelle labeles used and the cell type. In this example, the current selection includes the lysosomes, ER, and Golgi (e.g., Ch = 1, 3, 5) which have some intracellular background fluorescence - likely from off target marker localization. The lipid droplet channel (e.g., `ch = 6`) could also be included to produce a more unbiased selection of the entire cellmask as it binds to all cellular membranes to a small extent. However, the drawback of this is that it is present in every cell which makes downstream cell selection of a single cell more challenging. \n",
    ">\n",
    "> *It is important to consider specifics of your system as the cell type and labeling method may differ from the example above.*"
   ]
  },
  {
   "attachments": {},
   "cell_type": "markdown",
   "metadata": {},
   "source": [
    "\n",
    "\n",
    "## IMPORTS"
   ]
  },
  {
   "cell_type": "code",
   "execution_count": 24,
   "metadata": {},
   "outputs": [
    {
     "name": "stdout",
     "output_type": "stream",
     "text": [
      "The autoreload extension is already loaded. To reload it, use:\n",
      "  %reload_ext autoreload\n"
     ]
    }
   ],
   "source": [
    "# top level imports\n",
    "from pathlib import Path\n",
    "import os, sys\n",
    "from collections import defaultdict\n",
    "from typing import Union, Tuple, List\n",
    "\n",
    "import numpy as np\n",
    "\n",
    "from scipy import ndimage as ndi\n",
    "from aicssegmentation.core.pre_processing_utils import ( intensity_normalization, \n",
    "                                                         image_smoothing_gaussian_slice_by_slice )\n",
    "from aicssegmentation.core.MO_threshold import MO\n",
    "from aicssegmentation.core.utils import hole_filling\n",
    "\n",
    "from skimage import filters\n",
    "from skimage.segmentation import watershed, clear_border\n",
    "from skimage.morphology import remove_small_holes   # function for post-processing (size filter)\n",
    "from skimage.measure import label\n",
    "\n",
    "# # package for io \n",
    "from aicsimageio import AICSImage\n",
    "\n",
    "import napari\n",
    "\n",
    "### import local python functions in ../infer_subc\n",
    "sys.path.append(os.path.abspath((os.path.join(os.getcwd(), '..'))))\n",
    "\n",
    "\n",
    "from infer_subc.core.file_io import (read_czi_image,\n",
    "                                     read_ome_image,\n",
    "                                     import_inferred_organelle,\n",
    "                                     export_inferred_organelle,\n",
    "                                     list_image_files)\n",
    "\n",
    "                                             \n",
    "from infer_subc.core.img import *\n",
    "from infer_subc.organelles import (get_nuclei, \n",
    "                                   non_linear_cellmask_transform,\n",
    "                                   choose_max_label_cellmask_union_nucleus)\n",
    "from infer_subc.constants import (TEST_IMG_N,\n",
    "                                  NUC_CH ,\n",
    "                                  LYSO_CH ,\n",
    "                                  MITO_CH ,\n",
    "                                  GOLGI_CH ,\n",
    "                                  PEROX_CH ,\n",
    "                                  ER_CH ,\n",
    "                                  LD_CH ,\n",
    "                                  RESIDUAL_CH) \n",
    "\n",
    "LD_CH = 0\n",
    "NUC_CH = 1\n",
    "LYSO_CH = 2\n",
    "MITO_CH = 3\n",
    "GOLGI_CH = 4\n",
    "PEROX_CH = 5\n",
    "ER_CH = 6\n",
    "PM_CH = 7\n",
    "RESIDUAL_CH = 8\n",
    "\n",
    "\n",
    "%load_ext autoreload\n",
    "%autoreload 2\n"
   ]
  },
  {
   "attachments": {},
   "cell_type": "markdown",
   "metadata": {},
   "source": [
    "## Get and load Image for processing"
   ]
  },
  {
   "cell_type": "code",
   "execution_count": 25,
   "metadata": {},
   "outputs": [],
   "source": [
    "test_img_n = TEST_IMG_N\n",
    "\n",
    "data_root_path = Path(os.path.expanduser(\"~\")) / \"Documents/Python Scripts/Infer-subc-2D\"\n",
    "\n",
    "in_data_path = data_root_path / \"raw\"\n",
    "im_type = \".czi\"\n",
    "\n",
    "img_file_list = list_image_files(in_data_path,im_type)\n",
    "test_img_name = img_file_list[test_img_n]\n",
    "\n",
    "out_data_path = data_root_path / \"out\"\n",
    "if not Path.exists(out_data_path):\n",
    "    Path.mkdir(out_data_path)\n",
    "    print(f\"making {out_data_path}\")"
   ]
  },
  {
   "cell_type": "code",
   "execution_count": 26,
   "metadata": {},
   "outputs": [],
   "source": [
    "img_data,meta_dict = read_czi_image(test_img_name)\n",
    "\n",
    "channel_names = meta_dict['name']\n",
    "img = meta_dict['metadata']['aicsimage']\n",
    "scale = meta_dict['scale']\n",
    "channel_axis = meta_dict['channel_axis']"
   ]
  },
  {
   "attachments": {},
   "cell_type": "markdown",
   "metadata": {},
   "source": [
    "----------\n",
    "##  infer ***cellmask***\n",
    "\n",
    "### summary of steps\n",
    "\n",
    "➡️ INPUT (extract)\n",
    "- segmented nuclei object (from [01_infer_nuclei](./02_infer_cellmask_from-composite.ipynb))\n",
    "- create composite image from multiple organelle channels\n",
    "\n",
    "PRE-PROCESSING\n",
    "- rescale image intensities: \n",
    "    - min=0, max=1\n",
    "- smooth image:\n",
    "    - median filter (media size = user input)\n",
    "    - gaussian filter (sigma = user input)\n",
    "- log transform image\n",
    "- apply scharr edge detection filter \n",
    "- combine log imge + scharr edge filtered intensity\n",
    "\n",
    "CORE PROCESSING\n",
    "- apply MO thresholding method from the Allen Cell [aicssegmentation](https://github.com/AllenCell/aics-segmentation) package (threshold options = user input)\n",
    "\n",
    "POST-PROCESSING\n",
    "  - fill holes (hole size = user input)\n",
    "  - remove small objects (object size = user input)\n",
    "\n",
    "OUTPUT ➡️ \n",
    "  - label unique cell objects based on watershed seeded from the nuclei objects\n",
    "  - select the single cell with the highest combined fluorescence \n",
    "  - save single ***cellmask*** (cell, CM) at unsigned integer 8-bit tif files\n",
    "\n",
    "\n",
    "> ***Note:*** this pipeline will eventually include a selection step to identify the cellmask that are properly labeled with all fluorescent markers. This could be one single cell per image, or more if applicable data is available.\n"
   ]
  },
  {
   "attachments": {},
   "cell_type": "markdown",
   "metadata": {},
   "source": [
    "## GET nuclei segmentation output"
   ]
  },
  {
   "cell_type": "code",
   "execution_count": 27,
   "metadata": {},
   "outputs": [
    {
     "name": "stdout",
     "output_type": "stream",
     "text": [
      "loaded  inferred 3D `nuclei`  from C:\\Users\\zscoman\\Documents\\Python Scripts\\Infer-subc-2D\\out \n"
     ]
    }
   ],
   "source": [
    "# Import nuclei segmentation from output folder, or \n",
    "# run nuclei segmentation with hard coded segmentation settings (not ideal for most scenarios)\n",
    "nuclei_labels = get_nuclei(img_data, meta_dict, out_data_path)"
   ]
  },
  {
   "cell_type": "code",
   "execution_count": 28,
   "metadata": {},
   "outputs": [
    {
     "data": {
      "text/plain": [
       "dtype('uint16')"
      ]
     },
     "execution_count": 28,
     "metadata": {},
     "output_type": "execute_result"
    }
   ],
   "source": [
    "# check the the image was correctly saved as uint16\n",
    "nuclei_labels.dtype"
   ]
  },
  {
   "attachments": {},
   "cell_type": "markdown",
   "metadata": {},
   "source": [
    "## EXTRACTION prototype"
   ]
  },
  {
   "cell_type": "code",
   "execution_count": 29,
   "metadata": {},
   "outputs": [],
   "source": [
    "###################\n",
    "# INPUT\n",
    "###################\n",
    "# add channels together with different weights\n",
    "struct_img_raw = (3. * img_data[GOLGI_CH].copy().astype(np.double) +\n",
    "                  3. * img_data[PEROX_CH].copy().astype(np.double) + \n",
    "                  2. * img_data[ER_CH].copy().astype(np.double))"
   ]
  },
  {
   "cell_type": "code",
   "execution_count": 30,
   "metadata": {},
   "outputs": [
    {
     "data": {
      "text/plain": [
       "(array([906., 307., 688.,  27., 871., 141., 351., 447., 314., 385.]),\n",
       " array([906., 307., 688.,  27., 871., 141., 351., 447., 314., 385.]),\n",
       " array([906., 307., 688.,  27., 871., 141., 351., 447., 314., 385.]))"
      ]
     },
     "execution_count": 30,
     "metadata": {},
     "output_type": "execute_result"
    }
   ],
   "source": [
    "# Creating a function to create composite image:\n",
    "weights =  [0,0,0,0,3,3,2,0]\n",
    "struct_img_raw2 = weighted_aggregate(img_data, *weights)\n",
    "\n",
    "# use splat so we can also break out the arguments for our napari widget later\n",
    "struct_img_raw3 = weighted_aggregate(img_data, 0,0,0,0,3,3,2,0)\n",
    "\n",
    "\n",
    "# Comfirming the results are the same:\n",
    "struct_img_raw[0,0:10,0], struct_img_raw2[0,0:10,0], struct_img_raw3[0,0:10,0]"
   ]
  },
  {
   "attachments": {},
   "cell_type": "markdown",
   "metadata": {},
   "source": [
    "## PRE-PROCESSING prototype\n"
   ]
  },
  {
   "cell_type": "code",
   "execution_count": 31,
   "metadata": {},
   "outputs": [],
   "source": [
    "###################\n",
    "# PRE_PROCESSING\n",
    "###################\n",
    "med_filter_size = 10\n",
    "gaussian_smoothing_sigma = 1.34\n",
    "\n",
    "structure_img_smooth = scale_and_smooth(struct_img_raw2,\n",
    "                                        median_size = med_filter_size, \n",
    "                                        gauss_sigma = gaussian_smoothing_sigma)"
   ]
  },
  {
   "cell_type": "code",
   "execution_count": 32,
   "metadata": {},
   "outputs": [],
   "source": [
    "# log scale the image, apply the scharr edge detection filter to logged image, add the two images together\n",
    "composite_cellmask = non_linear_cellmask_transform(structure_img_smooth)"
   ]
  },
  {
   "attachments": {},
   "cell_type": "markdown",
   "metadata": {},
   "source": [
    "## CORE PROCESSING prototype"
   ]
  },
  {
   "cell_type": "code",
   "execution_count": 33,
   "metadata": {},
   "outputs": [],
   "source": [
    "###################\n",
    "# CORE_PROCESSING\n",
    "###################\n",
    "# threshold the composite image after log/edge detection using the MO filter function from aicssegmentation - this applies a global threshold, then a local threshold to produce a semantic segmentation\n",
    "thresh_method = 'med'\n",
    "cutoff_size =  150\n",
    "thresh_adj = 0.3\n",
    "\n",
    "bw = masked_object_thresh(composite_cellmask, \n",
    "                          global_method=thresh_method, \n",
    "                          cutoff_size=cutoff_size, \n",
    "                          local_adjust=thresh_adj)"
   ]
  },
  {
   "attachments": {},
   "cell_type": "markdown",
   "metadata": {},
   "source": [
    "## POST-PROCESSING prototype"
   ]
  },
  {
   "cell_type": "code",
   "execution_count": 34,
   "metadata": {},
   "outputs": [],
   "source": [
    "###################\n",
    "# POST_PROCESSING\n",
    "###################\n",
    "hole_min_width = 0\n",
    "hole_max_width = 50\n",
    "\n",
    "small_object_width = 45\n",
    "\n",
    "# removed_holes = hole_filling_linear_size(li_thresholded, \n",
    "#                                          hole_min=hole_min_width, \n",
    "#                                          hole_max=hole_max_width)\n",
    "# \n",
    "# cleaned_img = size_filter_linear_size(removed_holes,\n",
    "#                                       min_size=small_object_width)\n",
    "\n",
    "cleaned_img2 = fill_and_filter_linear_size(bw, \n",
    "                                           hole_min=hole_min_width, \n",
    "                                           hole_max=hole_max_width, \n",
    "                                           min_size= small_object_width)"
   ]
  },
  {
   "attachments": {},
   "cell_type": "markdown",
   "metadata": {},
   "source": [
    "## POST POST-PROCESSING prototype"
   ]
  },
  {
   "cell_type": "code",
   "execution_count": 35,
   "metadata": {},
   "outputs": [],
   "source": [
    "###################\n",
    "# POST- POST_PROCESSING\n",
    "###################\n",
    "# apply a watershed to the inverted image using the nuclei as a seed for each cell\n",
    "watershed_method = '3D'\n",
    "cellmask_labels = masked_inverted_watershed(structure_img_smooth, \n",
    "                                            nuclei_labels, \n",
    "                                            cleaned_img2,\n",
    "                                            method=watershed_method)\n",
    "\n",
    "# find the cell with the highest total fluorescence after combining all channels together\n",
    "keep_label = get_max_label(composite_cellmask, \n",
    "                           cellmask_labels)\n",
    "\n",
    "\n",
    "# combine the above and find the nucleus associated to the highest fluorescence cell\n",
    "cellmask_out = choose_max_label_cellmask_union_nucleus(structure_img_smooth,\n",
    "                                                       cleaned_img2, \n",
    "                                                       nuclei_labels,\n",
    "                                                       watershed_method=watershed_method)\n",
    "\n",
    "cellmask = label_bool_as_uint16(cellmask_out)"
   ]
  },
  {
   "cell_type": "code",
   "execution_count": 25,
   "metadata": {},
   "outputs": [
    {
     "data": {
      "text/plain": [
       "dtype('uint16')"
      ]
     },
     "execution_count": 25,
     "metadata": {},
     "output_type": "execute_result"
    }
   ],
   "source": [
    "cellmask.dtype"
   ]
  },
  {
   "attachments": {},
   "cell_type": "markdown",
   "metadata": {},
   "source": [
    "## LABELING prototype\n",
    "\n",
    "No labeling steps needed for this workflow."
   ]
  },
  {
   "attachments": {},
   "cell_type": "markdown",
   "metadata": {},
   "source": [
    "## Visualize with `napari` 1\n",
    "Visualize the first-pass segmentation and labeling with `napari`."
   ]
  },
  {
   "cell_type": "code",
   "execution_count": 36,
   "metadata": {},
   "outputs": [
    {
     "name": "stderr",
     "output_type": "stream",
     "text": [
      "WARNING: QWindowsWindow::setGeometry: Unable to set geometry 1920x1208+12+46 (frame: 1942x1264+1+1) on QWidgetWindow/\"_QtMainWindowClassWindow\" on \"\\\\.\\DISPLAY1\". Resulting geometry: 1920x1050+12+46 (frame: 1942x1106+1+1) margins: 11, 45, 11, 11 minimum size: 385x491 MINMAXINFO maxSize=0,0 maxpos=0,0 mintrack=792,1038 maxtrack=0,0)\n",
      "12-Jan-24 09:31:37 - vispy    - WARNING  - QWindowsWindow::setGeometry: Unable to set geometry 1920x1208+12+46 (frame: 1942x1264+1+1) on QWidgetWindow/\"_QtMainWindowClassWindow\" on \"\\\\.\\DISPLAY1\". Resulting geometry: 1920x1050+12+46 (frame: 1942x1106+1+1) margins: 11, 45, 11, 11 minimum size: 385x491 MINMAXINFO maxSize=0,0 maxpos=0,0 mintrack=792,1038 maxtrack=0,0)\n"
     ]
    }
   ],
   "source": [
    "viewer = napari.view_image(cleaned_img2, \n",
    "                           scale=scale)"
   ]
  },
  {
   "cell_type": "code",
   "execution_count": 37,
   "metadata": {},
   "outputs": [
    {
     "name": "stderr",
     "output_type": "stream",
     "text": [
      "WARNING: QWindowsWindow::setGeometry: Unable to set geometry 1920x1208+0+34 (frame: 1942x1264-11-11) on QWidgetWindow/\"_QtMainWindowClassWindow\" on \"\\\\.\\DISPLAY1\". Resulting geometry: 1920x986+0+34 (frame: 1942x1042-11-11) margins: 11, 45, 11, 11 minimum size: 538x604 MINMAXINFO maxSize=0,0 maxpos=0,0 mintrack=1098,1264 maxtrack=0,0)\n",
      "12-Jan-24 09:31:38 - vispy    - WARNING  - QWindowsWindow::setGeometry: Unable to set geometry 1920x1208+0+34 (frame: 1942x1264-11-11) on QWidgetWindow/\"_QtMainWindowClassWindow\" on \"\\\\.\\DISPLAY1\". Resulting geometry: 1920x986+0+34 (frame: 1942x1042-11-11) margins: 11, 45, 11, 11 minimum size: 538x604 MINMAXINFO maxSize=0,0 maxpos=0,0 mintrack=1098,1264 maxtrack=0,0)\n"
     ]
    },
    {
     "data": {
      "text/plain": [
       "<Labels layer 'cellmask' at 0x1e7a81d0700>"
      ]
     },
     "execution_count": 37,
     "metadata": {},
     "output_type": "execute_result"
    }
   ],
   "source": [
    "viewer.add_labels(\n",
    "    cellmask, \n",
    "    scale=scale)"
   ]
  },
  {
   "attachments": {},
   "cell_type": "markdown",
   "metadata": {},
   "source": [
    "## SAVE inferred nuclei to .tif file\n",
    "\n",
    "Based on the _prototyping_ above define the function to infer nuclei.  \n"
   ]
  },
  {
   "cell_type": "code",
   "execution_count": 38,
   "metadata": {},
   "outputs": [
    {
     "name": "stdout",
     "output_type": "stream",
     "text": [
      "saved file: 11252023_MSi08L_iPSCs_undiff_BR1_N20_Unmixing-cell\n"
     ]
    }
   ],
   "source": [
    "out_file_n = export_inferred_organelle(cellmask, \"cell\", meta_dict, out_data_path)"
   ]
  },
  {
   "attachments": {},
   "cell_type": "markdown",
   "metadata": {},
   "source": [
    "----------\n",
    "## DEFINE `infer_cellmask_fromcomposite` function\n",
    "\n",
    "Based on the _prototyping_ above define the function to infer nuclei. \n",
    "\n",
    "> NOTE: these functions mainly serve for downstream prototyping in the notebooks. Each step above has an independent function that is implemented in the plugin for easy of use."
   ]
  },
  {
   "cell_type": "code",
   "execution_count": 39,
   "metadata": {},
   "outputs": [],
   "source": [
    "##########################\n",
    "# 1. infer_cellmask_fromaggr\n",
    "##########################\n",
    "def _infer_cellmask_fromcomposite(in_img: np.ndarray,\n",
    "                                  weights: list[int],\n",
    "                                  nuclei_labels: np.ndarray,\n",
    "                                  median_sz: int,\n",
    "                                  gauss_sig: float,\n",
    "                                  mo_method: str,\n",
    "                                  mo_adjust: float,\n",
    "                                  mo_cutoff_size: int,\n",
    "                                  min_hole_w: int,\n",
    "                                  max_hole_w: int,\n",
    "                                  small_obj_w: int,\n",
    "                                  watershed_method: str\n",
    "                                  ) -> np.ndarray:\n",
    "    \"\"\"\n",
    "    Procedure to infer cellmask from linear unmixed input.\n",
    "\n",
    "    Parameters\n",
    "    ------------\n",
    "    in_img: \n",
    "        a 3d image containing all the channels\n",
    "    weights:\n",
    "        a list of int that corresond to the weights for each channel in the composite; use 0 if a channel should not be included in the composite image\n",
    "    nuclei_labels: \n",
    "        a 3d image containing the inferred nuclei labels\n",
    "    median_sz: \n",
    "        width of median filter for _cellmask_ signal\n",
    "    gauss_sig: \n",
    "        sigma for gaussian smoothing of _cellmask_ signal\n",
    "    mo_method: \n",
    "         which method to use for calculating global threshold. Options include:\n",
    "         \"triangle\" (or \"tri\"), \"median\" (or \"med\"), and \"ave_tri_med\" (or \"ave\").\n",
    "         \"ave\" refers the average of \"triangle\" threshold and \"mean\" threshold.\n",
    "    mo_adjust: \n",
    "        Masked Object threshold `local_adjust`\n",
    "    mo_cutoff_size: \n",
    "        Masked Object threshold `size_min`\n",
    "    max_hole_w: \n",
    "        hole filling cutoff for cellmask signal post-processing\n",
    "    small_obj_w: \n",
    "        minimu object size cutoff for cellmask signal post-processing\n",
    "    watershed_method:\n",
    "        determines if the watershed should be run 'sice-by-slice' or in '3D' \n",
    "\n",
    "    Returns\n",
    "    -------------\n",
    "    cellmask_mask:\n",
    "        a logical/labels object defining boundaries of cellmask\n",
    "\n",
    "    \"\"\"\n",
    "    ###################\n",
    "    # EXTRACT\n",
    "    ###################\n",
    "    struct_img = weighted_aggregate(in_img, *weights)\n",
    "\n",
    "    ###################\n",
    "    # PRE_PROCESSING\n",
    "    ###################                         \n",
    "    struct_img = scale_and_smooth(struct_img,\n",
    "                                   median_size = median_sz, \n",
    "                                   gauss_sigma = gauss_sig)\n",
    "    \n",
    "\n",
    "    struct_img_non_lin = non_linear_cellmask_transform(struct_img)\n",
    "\n",
    "    ###################\n",
    "    # CORE_PROCESSING\n",
    "    ###################\n",
    "    struct_obj = masked_object_thresh(struct_img_non_lin, \n",
    "                                      global_method=mo_method, \n",
    "                                      cutoff_size=mo_cutoff_size, \n",
    "                                      local_adjust=mo_adjust)               \n",
    "\n",
    "    ###################\n",
    "    # POST_PROCESSING\n",
    "    ###################\n",
    "    struct_obj = fill_and_filter_linear_size(struct_obj, \n",
    "                                             hole_min=min_hole_w, \n",
    "                                             hole_max=max_hole_w, \n",
    "                                             min_size= small_obj_w)\n",
    "\n",
    "    ###################\n",
    "    # POST- POST_PROCESSING\n",
    "    ###################\n",
    "    cellmask_out = choose_max_label_cellmask_union_nucleus(struct_img, \n",
    "                                                           struct_obj, \n",
    "                                                           nuclei_labels, \n",
    "                                                           watershed_method=watershed_method) \n",
    "\n",
    "    return label_bool_as_uint16(cellmask_out)"
   ]
  },
  {
   "attachments": {},
   "cell_type": "markdown",
   "metadata": {},
   "source": [
    "## DEFINE `_fixed_infer_cellmask_fromcomposite` function\n",
    "\n",
    "Based on the _prototyping_ above define the function to infer cellmask. with a *fixed* set of parameters for each step in the procedure.  That is they are all \"hard coded\""
   ]
  },
  {
   "cell_type": "code",
   "execution_count": 40,
   "metadata": {},
   "outputs": [],
   "source": [
    "##########################\n",
    "# 1. fixed_infer_cellmask_fromaggr\n",
    "##########################\n",
    "def _fixed_infer_cellmask_fromcomposite(in_img: np.ndarray, nuclei_labels: np.ndarray) -> np.ndarray:\n",
    "    \"\"\"\n",
    "    Procedure to infer cellmask from linearly unmixed input, with a *fixed* set of parameters for each step in the procedure.  i.e. \"hard coded\"\n",
    "\n",
    "    Parameters\n",
    "    ------------\n",
    "    in_img: \n",
    "        a 3d image containing all the channels\n",
    "    nuclei_labels: \n",
    "        a 3d image containing the inferred nuclei\n",
    "\n",
    "    Returns\n",
    "    -------------\n",
    "    cellmask_mask:\n",
    "        a logical/labels object defining boundaries of cellmask\n",
    "    \"\"\"\n",
    "    \n",
    "\n",
    "    ###################\n",
    "    # PARAMETERS\n",
    "    ###################   \n",
    "    weights = [0,0,0,3,3,2]\n",
    "    median_sz = 10\n",
    "    gauss_sig = 1.34\n",
    "    mo_method = \"med\"\n",
    "    mo_adjust = 0.3\n",
    "    mo_cutoff_size = 150\n",
    "    hole_min_width = 0\n",
    "    hole_max_width = 50\n",
    "    small_obj_w = 45\n",
    "    watershed_method = '3D'\n",
    "\n",
    "    cellmask_out = _infer_cellmask_fromcomposite(in_img,\n",
    "                                                weights,\n",
    "                                                nuclei_labels,\n",
    "                                                median_sz,\n",
    "                                                gauss_sig,\n",
    "                                                mo_method,\n",
    "                                                mo_adjust,\n",
    "                                                mo_cutoff_size,\n",
    "                                                hole_min_width,\n",
    "                                                hole_max_width,\n",
    "                                                small_obj_w,\n",
    "                                                watershed_method) \n",
    "\n",
    "    return cellmask_out"
   ]
  },
  {
   "attachments": {},
   "cell_type": "markdown",
   "metadata": {},
   "source": [
    "## TEST `_infer_cellmask_fromcomposite`  function defined above"
   ]
  },
  {
   "cell_type": "code",
   "execution_count": 41,
   "metadata": {},
   "outputs": [
    {
     "data": {
      "text/plain": [
       "dtype('uint16')"
      ]
     },
     "execution_count": 41,
     "metadata": {},
     "output_type": "execute_result"
    }
   ],
   "source": [
    "_CM_object =  _fixed_infer_cellmask_fromcomposite(img_data, nuclei_labels) \n",
    "\n",
    "_CM_object.dtype"
   ]
  },
  {
   "cell_type": "code",
   "execution_count": 19,
   "metadata": {},
   "outputs": [
    {
     "data": {
      "text/plain": [
       "False"
      ]
     },
     "execution_count": 19,
     "metadata": {},
     "output_type": "execute_result"
    }
   ],
   "source": [
    "np.all(cellmask == _CM_object)"
   ]
  },
  {
   "attachments": {},
   "cell_type": "markdown",
   "metadata": {},
   "source": [
    "--------------------------\n",
    "\n",
    "# TEST `infer_cellmask_fromcomposite` exported functions\n"
   ]
  },
  {
   "cell_type": "code",
   "execution_count": 42,
   "metadata": {},
   "outputs": [],
   "source": [
    "from infer_subc.organelles import fixed_infer_cellmask_fromcomposite\n",
    "\n",
    "cellmask_mask =  fixed_infer_cellmask_fromcomposite(img_data, nuclei_labels) "
   ]
  },
  {
   "cell_type": "code",
   "execution_count": 21,
   "metadata": {},
   "outputs": [
    {
     "data": {
      "text/plain": [
       "False"
      ]
     },
     "execution_count": 21,
     "metadata": {},
     "output_type": "execute_result"
    }
   ],
   "source": [
    "np.all(cellmask_out == cellmask_mask)"
   ]
  },
  {
   "attachments": {},
   "cell_type": "markdown",
   "metadata": {},
   "source": [
    "## Visualize  2\n"
   ]
  },
  {
   "cell_type": "code",
   "execution_count": 43,
   "metadata": {},
   "outputs": [
    {
     "data": {
      "text/plain": [
       "<Labels layer 'cellmask_mask' at 0x1e7468d1300>"
      ]
     },
     "execution_count": 43,
     "metadata": {},
     "output_type": "execute_result"
    }
   ],
   "source": [
    "viewer.add_labels(\n",
    "    cellmask_mask,\n",
    "    scale=scale)"
   ]
  },
  {
   "cell_type": "code",
   "execution_count": 37,
   "metadata": {},
   "outputs": [
    {
     "data": {
      "image/png": "[encoded data removed]",
      "text/html": [
       "<img src=\"data:image/png;base64,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\" alt=\"\"></img>"
      ],
      "text/plain": [
       "<napari.utils.notebook_display.NotebookScreenshot at 0x23d0a2e90f0>"
      ]
     },
     "execution_count": 37,
     "metadata": {},
     "output_type": "execute_result"
    },
    {
     "name": "stderr",
     "output_type": "stream",
     "text": [
      "WARNING: QWindowsWindow::setGeometry: Unable to set geometry 1920x1212+0+34 (frame: 1942x1268-11-11) on QWidgetWindow/\"_QtMainWindowClassWindow\" on \"\\\\.\\DISPLAY1\". Resulting geometry: 1920x986+0+34 (frame: 1942x1042-11-11) margins: 11, 45, 11, 11 minimum size: 499x606 MINMAXINFO maxSize=0,0 maxpos=0,0 mintrack=1020,1268 maxtrack=0,0)\n",
      "11-Jan-24 16:44:08 - vispy    - WARNING  - QWindowsWindow::setGeometry: Unable to set geometry 1920x1212+0+34 (frame: 1942x1268-11-11) on QWidgetWindow/\"_QtMainWindowClassWindow\" on \"\\\\.\\DISPLAY1\". Resulting geometry: 1920x986+0+34 (frame: 1942x1042-11-11) margins: 11, 45, 11, 11 minimum size: 499x606 MINMAXINFO maxSize=0,0 maxpos=0,0 mintrack=1020,1268 maxtrack=0,0)\n"
     ]
    }
   ],
   "source": [
    "from napari.utils.notebook_display import nbscreenshot\n",
    "\n",
    "nbscreenshot(viewer, canvas_only=True)"
   ]
  },
  {
   "cell_type": "code",
   "execution_count": 25,
   "metadata": {},
   "outputs": [],
   "source": [
    "viewer.close()"
   ]
  },
  {
   "attachments": {},
   "cell_type": "markdown",
   "metadata": {},
   "source": [
    "-------------\n",
    "## SUMMARY\n",
    "\n",
    "The above details how the nuclei object is inferred.  \n",
    "\n",
    "### NEXT: INFER CYTOPLASM\n",
    "\n",
    "proceed to [03_infer_cytoplasm.ipynb](./03_infer_cytoplasm.ipynb)\n"
   ]
  }
 ],
 "metadata": {
  "kernelspec": {
   "display_name": "Python 3.9.13 ('napariNEW')",
   "language": "python",
   "name": "python3"
  },
  "language_info": {
   "codemirror_mode": {
    "name": "ipython",
    "version": 3
   },
   "file_extension": ".py",
   "mimetype": "text/x-python",
   "name": "python",
   "nbconvert_exporter": "python",
   "pygments_lexer": "ipython3",
   "version": "3.10.13"
  },
  "orig_nbformat": 4,
  "vscode": {
   "interpreter": {
    "hash": "d6148ef1fb015fb20f0b6da2ea61c87c6b848bdf3dabb03087e5d5cd0c4607e9"
   }
  }
 },
 "nbformat": 4,
 "nbformat_minor": 2
}
