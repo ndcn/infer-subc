{
 "cells": [
  {
   "attachments": {},
   "cell_type": "markdown",
   "metadata": {},
   "source": [
    "Setting up the imports"
   ]
  },
  {
   "cell_type": "code",
   "execution_count": 1,
   "metadata": {},
   "outputs": [],
   "source": [
    "### These is the same import code that all of the other notebooks have\n",
    "# top level imports\n",
    "from pathlib import Path\n",
    "import os, sys\n",
    "from typing import Optional, Union, Dict, List\n",
    "\n",
    "import numpy as np\n",
    "import pandas as pd\n",
    "\n",
    "import napari\n",
    "\n",
    "### import local python functions in ../infer_subc\n",
    "sys.path.append(os.path.abspath((os.path.join(os.getcwd(), '..'))))\n",
    "\n",
    "from infer_subc.core.file_io import (read_czi_image,\n",
    "                                        export_inferred_organelle,\n",
    "                                        import_inferred_organelle,\n",
    "                                        export_tiff,\n",
    "                                        list_image_files)\n",
    "\n",
    "\n",
    "\n",
    "from infer_subc.constants import *\n",
    "from infer_subc.utils.stats import *\n",
    "from infer_subc.utils.stats_helpers import *\n",
    "\n",
    "\n",
    "\n",
    "import time\n",
    "%load_ext autoreload\n",
    "%autoreload 2\n",
    "\n"
   ]
  },
  {
   "cell_type": "code",
   "execution_count": 2,
   "metadata": {},
   "outputs": [],
   "source": [
    "data_root_path = Path(\"C:/Users/redre/Documents/CohenLab/MSI-3D-analysis/20230606_test_files_practice_analysis\")\n",
    "out_data_path = data_root_path / \"20230606_out\""
   ]
  },
  {
   "cell_type": "code",
   "execution_count": 3,
   "metadata": {},
   "outputs": [],
   "source": [
    "test = load_summary_stats_csv(out_data_path)\n",
    "test_proj = load_summary_proj_stats_csv(out_data_path)\n",
    "test_cross = load_summary_cross_stats_csv(out_data_path)"
   ]
  },
  {
   "attachments": {},
   "cell_type": "markdown",
   "metadata": {},
   "source": [
    "The Method ``.iloc`` lets you access the rows"
   ]
  },
  {
   "cell_type": "code",
   "execution_count": 28,
   "metadata": {},
   "outputs": [
    {
     "name": "stdout",
     "output_type": "stream",
     "text": [
      "ID.1                     24hrs-Ctrl +oleicAcid 50uM_3_Unmixing\n",
      "organelle                                                 lyso\n",
      "mean_intensity_sum                               126790.094944\n",
      "mean_intensity_mean                                1785.775985\n",
      "mean_intensity_median                                  1527.15\n",
      "                                         ...                  \n",
      "NU_overlap_mean                                            0.0\n",
      "NU_overlap_median                                          0.0\n",
      "NU_overlap_count                                          71.0\n",
      "NU_overlap_frac                                            0.0\n",
      "NU_labels_sum                                               []\n",
      "Name: 24hrs-Ctrl +oleicAcid 50uM_3_Unmixing, Length: 100, dtype: object\n",
      "this is now a <class 'pandas.core.series.Series'>\n"
     ]
    }
   ],
   "source": [
    "print(test.iloc[1][::])\n",
    "print(f'this is now a {type(test.iloc[1])}')"
   ]
  },
  {
   "attachments": {},
   "cell_type": "markdown",
   "metadata": {},
   "source": [
    "``.loc`` is also useful for looking for specific data"
   ]
  },
  {
   "cell_type": "code",
   "execution_count": 30,
   "metadata": {},
   "outputs": [
    {
     "ename": "KeyError",
     "evalue": "'False: boolean label can not be used without a boolean index'",
     "output_type": "error",
     "traceback": [
      "\u001b[1;31m---------------------------------------------------------------------------\u001b[0m",
      "\u001b[1;31mKeyError\u001b[0m                                  Traceback (most recent call last)",
      "Cell \u001b[1;32mIn[30], line 1\u001b[0m\n\u001b[1;32m----> 1\u001b[0m test\u001b[39m.\u001b[39;49mloc[\u001b[39m\"\u001b[39;49m\u001b[39morganelle\u001b[39;49m\u001b[39m\"\u001b[39;49m \u001b[39m==\u001b[39;49m \u001b[39m\"\u001b[39;49m\u001b[39mlyso\u001b[39;49m\u001b[39m\"\u001b[39;49m]\n",
      "File \u001b[1;32mc:\\Users\\redre\\anaconda3\\envs\\infer-subc-ngudi\\lib\\site-packages\\pandas\\core\\indexing.py:1103\u001b[0m, in \u001b[0;36m_LocationIndexer.__getitem__\u001b[1;34m(self, key)\u001b[0m\n\u001b[0;32m   1100\u001b[0m axis \u001b[39m=\u001b[39m \u001b[39mself\u001b[39m\u001b[39m.\u001b[39maxis \u001b[39mor\u001b[39;00m \u001b[39m0\u001b[39m\n\u001b[0;32m   1102\u001b[0m maybe_callable \u001b[39m=\u001b[39m com\u001b[39m.\u001b[39mapply_if_callable(key, \u001b[39mself\u001b[39m\u001b[39m.\u001b[39mobj)\n\u001b[1;32m-> 1103\u001b[0m \u001b[39mreturn\u001b[39;00m \u001b[39mself\u001b[39;49m\u001b[39m.\u001b[39;49m_getitem_axis(maybe_callable, axis\u001b[39m=\u001b[39;49maxis)\n",
      "File \u001b[1;32mc:\\Users\\redre\\anaconda3\\envs\\infer-subc-ngudi\\lib\\site-packages\\pandas\\core\\indexing.py:1342\u001b[0m, in \u001b[0;36m_LocIndexer._getitem_axis\u001b[1;34m(self, key, axis)\u001b[0m\n\u001b[0;32m   1339\u001b[0m         \u001b[39mreturn\u001b[39;00m \u001b[39mself\u001b[39m\u001b[39m.\u001b[39mobj\u001b[39m.\u001b[39miloc[\u001b[39mtuple\u001b[39m(indexer)]\n\u001b[0;32m   1341\u001b[0m \u001b[39m# fall thru to straight lookup\u001b[39;00m\n\u001b[1;32m-> 1342\u001b[0m \u001b[39mself\u001b[39;49m\u001b[39m.\u001b[39;49m_validate_key(key, axis)\n\u001b[0;32m   1343\u001b[0m \u001b[39mreturn\u001b[39;00m \u001b[39mself\u001b[39m\u001b[39m.\u001b[39m_get_label(key, axis\u001b[39m=\u001b[39maxis)\n",
      "File \u001b[1;32mc:\\Users\\redre\\anaconda3\\envs\\infer-subc-ngudi\\lib\\site-packages\\pandas\\core\\indexing.py:1151\u001b[0m, in \u001b[0;36m_LocIndexer._validate_key\u001b[1;34m(self, key, axis)\u001b[0m\n\u001b[0;32m   1144\u001b[0m ax \u001b[39m=\u001b[39m \u001b[39mself\u001b[39m\u001b[39m.\u001b[39mobj\u001b[39m.\u001b[39m_get_axis(axis)\n\u001b[0;32m   1145\u001b[0m \u001b[39mif\u001b[39;00m \u001b[39misinstance\u001b[39m(key, \u001b[39mbool\u001b[39m) \u001b[39mand\u001b[39;00m \u001b[39mnot\u001b[39;00m (\n\u001b[0;32m   1146\u001b[0m     is_bool_dtype(ax)\n\u001b[0;32m   1147\u001b[0m     \u001b[39mor\u001b[39;00m ax\u001b[39m.\u001b[39mdtype\u001b[39m.\u001b[39mname \u001b[39m==\u001b[39m \u001b[39m\"\u001b[39m\u001b[39mboolean\u001b[39m\u001b[39m\"\u001b[39m\n\u001b[0;32m   1148\u001b[0m     \u001b[39mor\u001b[39;00m \u001b[39misinstance\u001b[39m(ax, MultiIndex)\n\u001b[0;32m   1149\u001b[0m     \u001b[39mand\u001b[39;00m is_bool_dtype(ax\u001b[39m.\u001b[39mget_level_values(\u001b[39m0\u001b[39m))\n\u001b[0;32m   1150\u001b[0m ):\n\u001b[1;32m-> 1151\u001b[0m     \u001b[39mraise\u001b[39;00m \u001b[39mKeyError\u001b[39;00m(\n\u001b[0;32m   1152\u001b[0m         \u001b[39mf\u001b[39m\u001b[39m\"\u001b[39m\u001b[39m{\u001b[39;00mkey\u001b[39m}\u001b[39;00m\u001b[39m: boolean label can not be used without a boolean index\u001b[39m\u001b[39m\"\u001b[39m\n\u001b[0;32m   1153\u001b[0m     )\n\u001b[0;32m   1155\u001b[0m \u001b[39mif\u001b[39;00m \u001b[39misinstance\u001b[39m(key, \u001b[39mslice\u001b[39m) \u001b[39mand\u001b[39;00m (\n\u001b[0;32m   1156\u001b[0m     \u001b[39misinstance\u001b[39m(key\u001b[39m.\u001b[39mstart, \u001b[39mbool\u001b[39m) \u001b[39mor\u001b[39;00m \u001b[39misinstance\u001b[39m(key\u001b[39m.\u001b[39mstop, \u001b[39mbool\u001b[39m)\n\u001b[0;32m   1157\u001b[0m ):\n\u001b[0;32m   1158\u001b[0m     \u001b[39mraise\u001b[39;00m \u001b[39mTypeError\u001b[39;00m(\u001b[39mf\u001b[39m\u001b[39m\"\u001b[39m\u001b[39m{\u001b[39;00mkey\u001b[39m}\u001b[39;00m\u001b[39m: boolean values can not be used in a slice\u001b[39m\u001b[39m\"\u001b[39m)\n",
      "\u001b[1;31mKeyError\u001b[0m: 'False: boolean label can not be used without a boolean index'"
     ]
    }
   ],
   "source": [
    "test.loc[\"organelle\" == \"lyso\"]"
   ]
  },
  {
   "cell_type": "code",
   "execution_count": 31,
   "metadata": {},
   "outputs": [
    {
     "data": {
      "text/plain": [
       "ID\n",
       "24hrs-Ctrl +oleicAcid 50uM_2_Unmixing      lyso\n",
       "24hrs-Ctrl +oleicAcid 50uM_3_Unmixing      lyso\n",
       "a24hrs-Ctrl +oleicAcid 50uM_10_Unmixing    lyso\n",
       "a24hrs-Ctrl +oleicAcid 50uM_4_Unmixing     lyso\n",
       "a24hrs-Ctrl_10_Unmixing                    lyso\n",
       "                                           ... \n",
       "a48hrs-Ctrl + oleic acid_07_Unmixing         LD\n",
       "a48hrs-Ctrl_10_Unmixing                      LD\n",
       "a48hrs-Ctrl_7_Unmixing                       LD\n",
       "a48hrs-Ctrl_8_Unmixing                       LD\n",
       "a48hrs-Ctrl_9_Unmixing                       LD\n",
       "Name: organelle, Length: 78, dtype: object"
      ]
     },
     "execution_count": 31,
     "metadata": {},
     "output_type": "execute_result"
    }
   ],
   "source": [
    "test[\"organelle\"]"
   ]
  },
  {
   "cell_type": "code",
   "execution_count": null,
   "metadata": {},
   "outputs": [],
   "source": []
  }
 ],
 "metadata": {
  "kernelspec": {
   "display_name": "infer-subc-ngudi",
   "language": "python",
   "name": "python3"
  },
  "language_info": {
   "codemirror_mode": {
    "name": "ipython",
    "version": 3
   },
   "file_extension": ".py",
   "mimetype": "text/x-python",
   "name": "python",
   "nbconvert_exporter": "python",
   "pygments_lexer": "ipython3",
   "version": "3.10.11"
  },
  "orig_nbformat": 4
 },
 "nbformat": 4,
 "nbformat_minor": 2
}
